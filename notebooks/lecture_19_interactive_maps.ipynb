{
 "cells": [
  {
   "cell_type": "markdown",
   "id": "b40ef5a4",
   "metadata": {
    "slideshow": {
     "slide_type": "slide"
    }
   },
   "source": [
    "# CYPLAN255\n",
    "### Urban Informatics and Visualization"
   ]
  },
  {
   "cell_type": "markdown",
   "id": "2adc2c5d",
   "metadata": {
    "slideshow": {
     "slide_type": "slide"
    }
   },
   "source": [
    "HIT RECORD and TRANSCRIBE"
   ]
  },
  {
   "cell_type": "markdown",
   "id": "0ceea7a8",
   "metadata": {
    "slideshow": {
     "slide_type": "slide"
    }
   },
   "source": [
    "# Lecture 19 -- Making interactive maps\n",
    "******\n",
    "April 6, 2022\n",
    "\n",
    "<img src=\"https://i.redd.it/wz61kqeg9ze81.jpg\" width=600 align='right' title='The wreck of the Arden Craig. Francis James Mortimer, c. 1911'>"
   ]
  },
  {
   "cell_type": "markdown",
   "id": "75f7d376",
   "metadata": {
    "slideshow": {
     "slide_type": "slide"
    }
   },
   "source": [
    "# Agenda\n",
    "1. Announcements\n",
    "2. Interactive Maps\n",
    "3. For next time\n",
    "4. Questions\n"
   ]
  },
  {
   "cell_type": "markdown",
   "id": "cec1cb2e",
   "metadata": {
    "slideshow": {
     "slide_type": "slide"
    }
   },
   "source": [
    "# 1. Announcements"
   ]
  },
  {
   "cell_type": "markdown",
   "id": "8e5d336f",
   "metadata": {
    "slideshow": {
     "slide_type": "fragment"
    }
   },
   "source": [
    "- Updated Guest Speaker Schedule:\n",
    "  - NEXT WEDNESDAY, APR 13: Kuan Butts (Mapbox)"
   ]
  },
  {
   "cell_type": "markdown",
   "id": "3b4c02ba",
   "metadata": {
    "slideshow": {
     "slide_type": "fragment"
    }
   },
   "source": [
    "- Project groups\n",
    "   - three of you: thank you!\n",
    "   - rest of you: get to it"
   ]
  },
  {
   "cell_type": "markdown",
   "id": "fdea7bce",
   "metadata": {
    "slideshow": {
     "slide_type": "slide"
    }
   },
   "source": [
    "# 2. Interactive Mapping"
   ]
  },
  {
   "cell_type": "markdown",
   "id": "f0d1e79b",
   "metadata": {
    "slideshow": {
     "slide_type": "slide"
    }
   },
   "source": [
    "## 2.1. Interactive Mapping?"
   ]
  },
  {
   "cell_type": "markdown",
   "id": "ef466452",
   "metadata": {
    "slideshow": {
     "slide_type": "fragment"
    }
   },
   "source": [
    "Thoughts on when and where to use interactivity:\n",
    " - https://www.axismaps.com/guide/should-a-map-be-interactive\n",
    " - https://mapbrief.com/2017/04/06/few-interact-with-our-interactive-maps-what-can-we-do-about-it/"
   ]
  },
  {
   "cell_type": "markdown",
   "id": "43194c24",
   "metadata": {
    "slideshow": {
     "slide_type": "slide"
    }
   },
   "source": [
    "## 2.2. Folium"
   ]
  },
  {
   "cell_type": "markdown",
   "id": "390c20e3",
   "metadata": {
    "slideshow": {
     "slide_type": "fragment"
    }
   },
   "source": [
    "Folium is a Python wrapper around leaflet.js, one of the most popular javascript libraries for rendering interactive maps on the web.\n",
    "\n",
    "Check out the Folium docs [here](https://python-visualization.github.io/folium/index.html)."
   ]
  },
  {
   "cell_type": "code",
   "execution_count": null,
   "id": "e8ae3dd9",
   "metadata": {
    "slideshow": {
     "slide_type": "fragment"
    }
   },
   "outputs": [],
   "source": [
    "import folium"
   ]
  },
  {
   "cell_type": "markdown",
   "id": "144cd50c",
   "metadata": {
    "slideshow": {
     "slide_type": "slide"
    }
   },
   "source": [
    "With a single line of code, Folium makes it easy to pull up an interactive map. Isn't it nice to pan and zoom?"
   ]
  },
  {
   "cell_type": "code",
   "execution_count": null,
   "id": "ee852183",
   "metadata": {
    "scrolled": false,
    "slideshow": {
     "slide_type": "fragment"
    }
   },
   "outputs": [],
   "source": [
    "folium.Map(location=[37.870818, -122.254883])  # wurster hall"
   ]
  },
  {
   "cell_type": "markdown",
   "id": "c20746ae",
   "metadata": {
    "slideshow": {
     "slide_type": "fragment"
    }
   },
   "source": [
    "And in another single line, you can save the .html to render it in the browser, or embed it in your final project site!"
   ]
  },
  {
   "cell_type": "code",
   "execution_count": null,
   "id": "1dba5e0f",
   "metadata": {
    "slideshow": {
     "slide_type": "fragment"
    }
   },
   "outputs": [],
   "source": [
    "m = folium.Map(location=[37.870818, -122.254883])  # wurster hall\n",
    "m.save(\"my_map.html\")"
   ]
  },
  {
   "cell_type": "markdown",
   "id": "833fe78a",
   "metadata": {
    "slideshow": {
     "slide_type": "slide"
    }
   },
   "source": [
    "Just like `contextily`, Folium let's you pick the map tile provider you want to use. Folium has the following tile provider options built in:\n",
    "  - OpenStreetMap\n",
    "  - Stamen Terrain\n",
    "  - Stamen Toner\n",
    "  - Stamen Watercolor\n",
    "  - CartoDB positron\n",
    "  - CartoDB dark_matter\n",
    "  \n",
    "Try a few out in the next cell:"
   ]
  },
  {
   "cell_type": "code",
   "execution_count": null,
   "id": "ea0a838c",
   "metadata": {
    "slideshow": {
     "slide_type": "fragment"
    }
   },
   "outputs": [],
   "source": [
    "folium.Map(location=[37.870818, -122.254883],tiles='Stamen Watercolor')  # wurster hall"
   ]
  },
  {
   "cell_type": "markdown",
   "id": "13c1a8bb",
   "metadata": {
    "slideshow": {
     "slide_type": "slide"
    }
   },
   "source": [
    "See [here](http://leaflet-extras.github.io/leaflet-providers/preview/) or the full list of all available leaflet tile providers. You can access like through folium like so:"
   ]
  },
  {
   "cell_type": "code",
   "execution_count": null,
   "id": "f75c4bdb",
   "metadata": {
    "slideshow": {
     "slide_type": "fragment"
    }
   },
   "outputs": [],
   "source": [
    "folium.Map(\n",
    "    location=[37.870818, -122.254883],\n",
    "    tiles='https://server.arcgisonline.com/ArcGIS/rest/services/World_Imagery/MapServer/tile/{z}/{y}/{x}', \n",
    "    attr='Tiles &copy; Esri &mdash; Source: Esri, i-cubed, USDA, USGS, AEX, GeoEye, Getmapping, Aerogrid, IGN, IGP, UPR-EGP, and the GIS User Community')  # wurster hall"
   ]
  },
  {
   "cell_type": "markdown",
   "id": "7d05adcf",
   "metadata": {
    "slideshow": {
     "slide_type": "slide"
    }
   },
   "source": [
    "Let's load our favorite storefront data again:"
   ]
  },
  {
   "cell_type": "code",
   "execution_count": null,
   "id": "897cb625",
   "metadata": {
    "slideshow": {
     "slide_type": "fragment"
    }
   },
   "outputs": [],
   "source": [
    "import geopandas as gpd\n",
    "storefronts = gpd.read_file('https://github.com/dillonma/storefrontindex/raw/master/all56_nACSxMSA__41860.0.geojson')"
   ]
  },
  {
   "cell_type": "markdown",
   "id": "981fddec",
   "metadata": {
    "slideshow": {
     "slide_type": "slide"
    }
   },
   "source": [
    "It's simple enough to add a single marker to the map:"
   ]
  },
  {
   "cell_type": "code",
   "execution_count": null,
   "id": "5fa513de",
   "metadata": {
    "slideshow": {
     "slide_type": "fragment"
    }
   },
   "outputs": [],
   "source": [
    "storefront = storefronts.sample(1)\n",
    "coords = storefront.geometry.values[0].coords[0][::-1]\n",
    "m = folium.Map(location=coords, zoom_start=10)\n",
    "marker = folium.Marker(\n",
    "    location=coords,\n",
    "    popup=\"Coordinates: \" + str([round(x, 6) for x in coords]) + '<br>' + \"City: \" + str(storefront['CITY'].values[0])\n",
    ")\n",
    "m.add_child(marker)\n",
    "m"
   ]
  },
  {
   "cell_type": "markdown",
   "id": "ce18bdfe",
   "metadata": {
    "slideshow": {
     "slide_type": "slide"
    }
   },
   "source": [
    "But plotting lots of markers is requires looping through all the points, or at least list comprehension:"
   ]
  },
  {
   "cell_type": "code",
   "execution_count": null,
   "id": "9a99a33a",
   "metadata": {
    "slideshow": {
     "slide_type": "fragment"
    }
   },
   "outputs": [],
   "source": [
    "m = folium.Map(location=[37.870818, -122.254883], zoom_start=10)\n",
    "for i, storefront in storefronts.iterrows():\n",
    "    coords = storefront.geometry.coords[0][::-1]\n",
    "    marker = folium.Marker(\n",
    "        location=coords,\n",
    "        popup=\"Coordinates: \" + str([round(x, 6) for x in coords]) + '<br>' + \"City: \" + str(storefront['CITY'])\n",
    "    )\n",
    "    m.add_child(marker)\n",
    "    if i > 100:\n",
    "        break\n",
    "m"
   ]
  },
  {
   "cell_type": "markdown",
   "id": "b31a9217",
   "metadata": {
    "slideshow": {
     "slide_type": "slide"
    }
   },
   "source": [
    "With that many points, you probably don't want to render them all as markers anyways. It's too hard to click on the ones that are right on top of each other. Instead, try some of the following plugins for plotting tons of point data:"
   ]
  },
  {
   "cell_type": "code",
   "execution_count": null,
   "id": "0a74de7e",
   "metadata": {
    "slideshow": {
     "slide_type": "fragment"
    }
   },
   "outputs": [],
   "source": [
    "from folium import plugins\n",
    "m = folium.Map(location=[37.870818, -122.254883], tiles='Cartodb dark_matter', zoom_start=8)\n",
    "heat_data = [[point.xy[1][0], point.xy[0][0]] for point in storefronts.geometry]\n",
    "\n",
    "plugins.MarkerCluster(heat_data).add_to(m)\n",
    "# plugins.HeatMap(heat_data).add_to(m)\n",
    "\n",
    "m"
   ]
  },
  {
   "cell_type": "markdown",
   "id": "0b74d119",
   "metadata": {
    "slideshow": {
     "slide_type": "slide"
    }
   },
   "source": [
    "For more on Folium, read the docs!\n",
    "  - choropleths: https://python-visualization.github.io/folium/quickstart.html#Choropleth-maps\n",
    "  - styling: https://python-visualization.github.io/folium/quickstart.html#Styling-function\n",
    "  - GeoPandas polgyons: https://geopandas.org/en/stable/gallery/polygon_plotting_with_folium.html#Add-polygons-to-map"
   ]
  },
  {
   "cell_type": "markdown",
   "id": "ee6599c6",
   "metadata": {
    "slideshow": {
     "slide_type": "slide"
    }
   },
   "source": [
    "## 2.3. Interactive maps in plotly"
   ]
  },
  {
   "cell_type": "markdown",
   "id": "dc96f607",
   "metadata": {
    "slideshow": {
     "slide_type": "fragment"
    }
   },
   "source": [
    "Adapted Sam Maurer, who adapted this from https://plot.ly/python/mapbox-county-choropleth/\n",
    "\n",
    "Plotly can create two different kinds of interactive map widgets: \n",
    "1. Interactive versions of GeoPandas/GeoPlot maps\n",
    "2. Map data overlaid on top of Mapbox tiles\n",
    "\n",
    "Here are the best places to start:\n",
    "\n",
    "https://plot.ly/python/plotly-express/#maps (examples)  \n",
    "https://plot.ly/python-api-reference/plotly.express.html (API referece)\n",
    "\n",
    "The names of the Plotly Express map types are:  \n",
    "`scatter_geo`  \n",
    "`scatter_mapbox`  \n",
    "`line_geo`  \n",
    "`line_mapbox`  \n",
    "`choropleth`  \n",
    "`choropleth_mapbox`\n",
    "\n",
    "As an example, we'll make a choropleth map that's overlaid on top of Mapbox tiles!"
   ]
  },
  {
   "cell_type": "markdown",
   "id": "92315f70",
   "metadata": {
    "slideshow": {
     "slide_type": "slide"
    }
   },
   "source": [
    "### 2.3.1. Load data\n",
    "\n",
    "In this case, we need the geometry in GeoJSON format. GeoJSON is a web-native format, so it's easy to overlay on top of map tiles.\n",
    "\n",
    "We'll then load the feature attributes from a separate table."
   ]
  },
  {
   "cell_type": "code",
   "execution_count": null,
   "id": "d5837e13",
   "metadata": {
    "slideshow": {
     "slide_type": "fragment"
    }
   },
   "outputs": [],
   "source": [
    "import requests\n",
    "res = requests.get(\"https://raw.githubusercontent.com/plotly/datasets/master/geojson-counties-fips.json\")\n",
    "counties = res.json()"
   ]
  },
  {
   "cell_type": "code",
   "execution_count": null,
   "id": "53eafcde",
   "metadata": {
    "slideshow": {
     "slide_type": "fragment"
    }
   },
   "outputs": [],
   "source": [
    "import pandas as pd\n",
    "df = pd.read_csv(\"https://raw.githubusercontent.com/plotly/datasets/master/fips-unemp-16.csv\",\n",
    "                   dtype={\"fips\": str})"
   ]
  },
  {
   "cell_type": "markdown",
   "id": "dc12a1be",
   "metadata": {
    "slideshow": {
     "slide_type": "slide"
    }
   },
   "source": [
    "### 2.3.2. Make the map"
   ]
  },
  {
   "cell_type": "code",
   "execution_count": null,
   "id": "99c27af0",
   "metadata": {
    "slideshow": {
     "slide_type": "fragment"
    }
   },
   "outputs": [],
   "source": [
    "import plotly\n",
    "import plotly.express as px"
   ]
  },
  {
   "cell_type": "code",
   "execution_count": null,
   "id": "f41612ec",
   "metadata": {
    "slideshow": {
     "slide_type": "fragment"
    }
   },
   "outputs": [],
   "source": [
    "fig = px.choropleth_mapbox(\n",
    "    df, \n",
    "    geojson=counties, \n",
    "    locations='fips', \n",
    "    color='unemp',\n",
    "    color_continuous_scale=\"Viridis\",\n",
    "    range_color=(0, 12),\n",
    "    mapbox_style=\"carto-positron\",\n",
    "    zoom=3, \n",
    "    center = {\"lat\": 37.0902, \"lon\": -95.7129},\n",
    "    opacity=0.5,\n",
    "    labels={'unemp':'unemployment rate'})\n",
    "\n",
    "fig.show()"
   ]
  },
  {
   "cell_type": "markdown",
   "id": "8d05c8ad",
   "metadata": {
    "slideshow": {
     "slide_type": "slide"
    }
   },
   "source": [
    "And of course we can easily generate .html to render elsewhere:"
   ]
  },
  {
   "cell_type": "code",
   "execution_count": null,
   "id": "9793a8cf",
   "metadata": {
    "slideshow": {
     "slide_type": "fragment"
    }
   },
   "outputs": [],
   "source": [
    "with open('choro.html', 'w+') as f:\n",
    "    f.write(plotly.offline.plot(fig, include_plotlyjs='cdn', output_type='div'))"
   ]
  },
  {
   "cell_type": "markdown",
   "id": "b815c815",
   "metadata": {
    "slideshow": {
     "slide_type": "slide"
    }
   },
   "source": [
    "## 2.4. MapboxGL"
   ]
  },
  {
   "cell_type": "markdown",
   "id": "d5708cad",
   "metadata": {
    "slideshow": {
     "slide_type": "fragment"
    }
   },
   "source": [
    "A lot of new data viz libraries have the letters \"GL\" at the end of their name. This stands for \"Graphics Library\". This means its going to try to tap into the graphics processing unit on your computer to make it possible to render vast amounts of data/complex geometries in the browser.\n",
    "\n",
    "You'll be using your Mapbox API token for this part of the demo."
   ]
  },
  {
   "cell_type": "code",
   "execution_count": null,
   "id": "b0b47415",
   "metadata": {
    "slideshow": {
     "slide_type": "fragment"
    }
   },
   "outputs": [],
   "source": [
    "import os\n",
    "from mapboxgl.utils import *\n",
    "from mapboxgl.viz import *\n",
    "import warnings; warnings.simplefilter('ignore')"
   ]
  },
  {
   "cell_type": "code",
   "execution_count": null,
   "id": "76b000d1",
   "metadata": {
    "slideshow": {
     "slide_type": "fragment"
    }
   },
   "outputs": [],
   "source": [
    "with open('data/mapbox_api_key.json', 'r') as f:\n",
    "    token = json.load(f)['key']"
   ]
  },
  {
   "cell_type": "markdown",
   "id": "cb3f55d6",
   "metadata": {
    "slideshow": {
     "slide_type": "slide"
    }
   },
   "source": [
    "### 2.4.1 Visualizing Point Data"
   ]
  },
  {
   "cell_type": "code",
   "execution_count": null,
   "id": "abd944ee",
   "metadata": {
    "slideshow": {
     "slide_type": "fragment"
    }
   },
   "outputs": [],
   "source": [
    "data_url = 'https://raw.githubusercontent.com/mapbox/mapboxgl-jupyter/master/examples/data/points.csv'\n",
    "df = pd.read_csv(data_url).round(3)\n",
    "df.head(2)"
   ]
  },
  {
   "cell_type": "code",
   "execution_count": null,
   "id": "6e2f2b8a",
   "metadata": {
    "slideshow": {
     "slide_type": "fragment"
    }
   },
   "outputs": [],
   "source": [
    "geodata = df_to_geojson(\n",
    "    df, \n",
    "    properties=['Avg Medicare Payments', 'Avg Covered Charges', 'date'], \n",
    "    lat='lat', \n",
    "    lon='lon', \n",
    "    precision=3)"
   ]
  },
  {
   "cell_type": "markdown",
   "id": "c368733b",
   "metadata": {
    "slideshow": {
     "slide_type": "slide"
    }
   },
   "source": [
    "#### 2.4.1.1. Simple point plot"
   ]
  },
  {
   "cell_type": "code",
   "execution_count": null,
   "id": "18662717",
   "metadata": {
    "slideshow": {
     "slide_type": "fragment"
    }
   },
   "outputs": [],
   "source": [
    "viz = CircleViz(geodata, \n",
    "                access_token=token, \n",
    "                radius=2, \n",
    "                center=(-95, 40), \n",
    "                zoom=3)\n",
    "viz.show()"
   ]
  },
  {
   "cell_type": "markdown",
   "id": "62bdd101",
   "metadata": {
    "slideshow": {
     "slide_type": "slide"
    }
   },
   "source": [
    "#### 2.4.1.2. Thematic color scheme"
   ]
  },
  {
   "cell_type": "code",
   "execution_count": null,
   "id": "332e2a81",
   "metadata": {
    "scrolled": false,
    "slideshow": {
     "slide_type": "fragment"
    }
   },
   "outputs": [],
   "source": [
    "# Generate data breaks using numpy quantiles and color stops from colorBrewer\n",
    "measure = 'Avg Medicare Payments'\n",
    "color_breaks = [round(df[measure].quantile(q=x*0.1), 2) for x in range(1, 9)]\n",
    "color_stops = create_color_stops(color_breaks, colors='YlGnBu')\n",
    "\n",
    "# Create the viz from the dataframe\n",
    "viz = CircleViz(geodata,\n",
    "                access_token=token, \n",
    "                color_property=\"Avg Medicare Payments\",\n",
    "                color_stops=color_stops,\n",
    "                radius=2.5,\n",
    "                stroke_color='black',\n",
    "                stroke_width=0.2,\n",
    "                center=(-95, 40),\n",
    "                zoom=3,\n",
    "                below_layer='waterway-label')\n",
    "viz.show()"
   ]
  },
  {
   "cell_type": "markdown",
   "id": "1e1443de",
   "metadata": {
    "slideshow": {
     "slide_type": "slide"
    }
   },
   "source": [
    "#### 2.4.1.3. Add a scale bar and labels"
   ]
  },
  {
   "cell_type": "code",
   "execution_count": null,
   "id": "9b07075d",
   "metadata": {
    "slideshow": {
     "slide_type": "fragment"
    }
   },
   "outputs": [],
   "source": [
    "viz.scale = True\n",
    "viz.scale_unit_system = 'imperial'\n",
    "viz.label_property = \"Avg Medicare Payments\"\n",
    "viz.stroke_width = 0\n",
    "viz.label_size = 8\n",
    "viz.legend_text_numeric_precision = 2\n",
    "viz.show()"
   ]
  },
  {
   "cell_type": "markdown",
   "id": "16fe6710",
   "metadata": {
    "slideshow": {
     "slide_type": "slide"
    }
   },
   "source": [
    "#### 2.4.1.4 More options for customization"
   ]
  },
  {
   "cell_type": "code",
   "execution_count": null,
   "id": "c423e7ca",
   "metadata": {
    "scrolled": false,
    "slideshow": {
     "slide_type": "fragment"
    }
   },
   "outputs": [],
   "source": [
    "# Map settings\n",
    "viz.style = 'mapbox://styles/mapbox/dark-v9?optimize=true'\n",
    "viz.label_color = 'hsl(0, 0%, 70%)'\n",
    "viz.label_halo_color = 'hsla(0, 0%, 10%, 0.75)'\n",
    "\n",
    "# Legend settings\n",
    "viz.legend_gradient = False\n",
    "viz.legend_fill = '#343332'\n",
    "viz.legend_header_fill = '#343332'\n",
    "viz.legend_text_color = 'hsl(0, 0%, 70%)'\n",
    "viz.legend_key_borders_on = False\n",
    "viz.legend_title_halo_color = 'hsla(0, 0%, 10%, 0.75)'\n",
    "\n",
    "# Scale bar settings\n",
    "viz.scale = True\n",
    "viz.scale_border_color = 'hsla(0, 0%, 10%, 0.75)'\n",
    "viz.scale_position = 'bottom-left'\n",
    "viz.scale_background_color = '#343332'\n",
    "viz.scale_text_color = 'hsl(0, 0%, 70%)'\n",
    "\n",
    "# Render map\n",
    "viz.show()"
   ]
  },
  {
   "cell_type": "markdown",
   "id": "4c44d60e",
   "metadata": {
    "collapsed": true,
    "slideshow": {
     "slide_type": "slide"
    }
   },
   "source": [
    "#### 2.4.1.5 Create a bubble map"
   ]
  },
  {
   "cell_type": "code",
   "execution_count": null,
   "id": "001237d8",
   "metadata": {
    "slideshow": {
     "slide_type": "fragment"
    }
   },
   "outputs": [],
   "source": [
    "# Generate data breaks and color stops from colorBrewer\n",
    "measure_color = 'Avg Covered Charges'\n",
    "color_breaks = [round(df[measure_color].quantile(q=x*0.1), 2) for x in range(2, 10)]\n",
    "color_stops = create_color_stops(color_breaks, colors='Blues')\n",
    "\n",
    "# Generate radius breaks from data domain and circle-radius range\n",
    "measure_radius = 'Avg Medicare Payments'\n",
    "radius_breaks = [round(df[measure_radius].quantile(q=x*0.1), 2) for x in range(2, 10)]\n",
    "radius_stops = create_radius_stops(radius_breaks, 0.5, 10)\n",
    "\n",
    "# Create the viz\n",
    "viz2 = GraduatedCircleViz(geodata, \n",
    "                          access_token=token,\n",
    "                          color_property=\"Avg Covered Charges\",\n",
    "                          color_stops=color_stops,\n",
    "                          radius_property=\"Avg Medicare Payments\",\n",
    "                          radius_stops=radius_stops,\n",
    "                          stroke_color='black',\n",
    "                          stroke_width=0.5,\n",
    "                          center=(-95, 40),\n",
    "                          zoom=3,\n",
    "                          opacity=0.75,\n",
    "                          below_layer='waterway-label')\n",
    "viz2.show()"
   ]
  },
  {
   "cell_type": "markdown",
   "id": "a6128c4f",
   "metadata": {
    "slideshow": {
     "slide_type": "slide"
    }
   },
   "source": [
    "#### 2.4.1.6. Create a heatmap"
   ]
  },
  {
   "cell_type": "code",
   "execution_count": null,
   "id": "ecb8b555",
   "metadata": {
    "slideshow": {
     "slide_type": "fragment"
    }
   },
   "outputs": [],
   "source": [
    "measure = 'Avg Medicare Payments'\n",
    "heatmap_color_stops = create_color_stops([0.01, 0.25, 0.5, 0.75, 1], colors='RdPu')\n",
    "heatmap_radius_stops = [[0, 3], [14, 100]] # increase radius with zoom\n",
    "\n",
    "color_breaks = [round(df[measure].quantile(q=x*0.1), 2) for x in range(2, 10)]\n",
    "color_stops = create_color_stops(color_breaks, colors='Spectral')\n",
    "\n",
    "heatmap_weight_stops = create_weight_stops(color_breaks)\n",
    "\n",
    "# Create the heatmap \n",
    "viz3 = HeatmapViz(geodata, \n",
    "                  access_token=token,\n",
    "                  weight_property=\"Avg Medicare Payments\",\n",
    "                  weight_stops=heatmap_weight_stops,\n",
    "                  color_stops=heatmap_color_stops,\n",
    "                  radius_stops=heatmap_radius_stops,\n",
    "                  opacity=0.8,\n",
    "                  center=(-95, 40),\n",
    "                  zoom=3,\n",
    "                  below_layer='waterway-label')\n",
    "viz3.show()"
   ]
  },
  {
   "cell_type": "markdown",
   "id": "6c66ae32",
   "metadata": {
    "slideshow": {
     "slide_type": "slide"
    }
   },
   "source": [
    "#### 2.4.1.7. Marker clusters"
   ]
  },
  {
   "cell_type": "code",
   "execution_count": null,
   "id": "f2f70c83",
   "metadata": {
    "slideshow": {
     "slide_type": "fragment"
    }
   },
   "outputs": [],
   "source": [
    "# Create a clustered circle map\n",
    "color_stops = create_color_stops([1, 10, 25, 50, 75, 100], colors='YlOrBr')\n",
    "\n",
    "viz4 = ClusteredCircleViz(geodata, \n",
    "                          access_token=token,\n",
    "                          color_stops=color_stops,\n",
    "                          stroke_color='black',\n",
    "                          radius_stops=[[1, 5], [10, 10], [50, 15], [100, 20]],\n",
    "                          radius_default=2,\n",
    "                          cluster_maxzoom=10,\n",
    "                          cluster_radius=30,\n",
    "                          label_size=12,\n",
    "                          opacity=0.9,\n",
    "                          center=(-95, 40),\n",
    "                          zoom=3)\n",
    "viz4.show()"
   ]
  },
  {
   "cell_type": "markdown",
   "id": "9991a840",
   "metadata": {
    "slideshow": {
     "slide_type": "slide"
    }
   },
   "source": [
    "#### 2.4.1.8. Save to HTML file for distribution"
   ]
  },
  {
   "cell_type": "code",
   "execution_count": null,
   "id": "881bfa21",
   "metadata": {
    "slideshow": {
     "slide_type": "fragment"
    }
   },
   "outputs": [],
   "source": [
    "with open('viz4.html', 'w') as f:\n",
    "    f.write(viz4.create_html())"
   ]
  },
  {
   "cell_type": "markdown",
   "id": "f14b1558",
   "metadata": {
    "slideshow": {
     "slide_type": "slide"
    }
   },
   "source": [
    "### 2.4.2. Choropleths, again"
   ]
  },
  {
   "cell_type": "markdown",
   "id": "32ab3e3b",
   "metadata": {
    "slideshow": {
     "slide_type": "slide"
    }
   },
   "source": [
    "#### 2.4.2.1. Basic Choropleth"
   ]
  },
  {
   "cell_type": "code",
   "execution_count": null,
   "id": "321cc070",
   "metadata": {
    "scrolled": false,
    "slideshow": {
     "slide_type": "fragment"
    }
   },
   "outputs": [],
   "source": [
    "# create choropleth from polygon features stored as GeoJSON\n",
    "viz = ChoroplethViz('https://raw.githubusercontent.com/mapbox/mapboxgl-jupyter/master/examples/data/us-states.geojson', \n",
    "                    access_token=token,\n",
    "                    color_property='density',\n",
    "                    color_stops=create_color_stops([0, 50, 100, 500, 1500], colors='YlOrRd'),\n",
    "                    color_function_type='interpolate',\n",
    "                    line_stroke='--',\n",
    "                    line_color='rgb(128,0,38)',\n",
    "                    line_width=1,\n",
    "                    line_opacity=0.9,\n",
    "                    opacity=0.8,\n",
    "                    center=(-96, 37.8),\n",
    "                    zoom=3,\n",
    "                    below_layer='waterway-label',\n",
    "                    legend_layout='horizontal',\n",
    "                    legend_key_shape='bar',\n",
    "                    legend_key_borders_on=False)\n",
    "viz.show()"
   ]
  },
  {
   "cell_type": "markdown",
   "id": "0443ba8d",
   "metadata": {
    "slideshow": {
     "slide_type": "slide"
    }
   },
   "source": [
    "#### 2.4.2.2. Choropleths with match-type color scheme from GeoJSON source"
   ]
  },
  {
   "cell_type": "code",
   "execution_count": null,
   "id": "8a4e8716",
   "metadata": {
    "slideshow": {
     "slide_type": "fragment"
    }
   },
   "outputs": [],
   "source": [
    "match_color_stops = [['Massachusetts', 'rgb(46,204,113)'],\n",
    "                     ['Utah', 'rgb(231,76,60)'],\n",
    "                     ['California', 'rgb(142,68,173)']]\n",
    "\n",
    "viz = ChoroplethViz('https://raw.githubusercontent.com/mapbox/mapboxgl-jupyter/master/examples/data/us-states.geojson', \n",
    "                    access_token=token,\n",
    "                    color_property='name', \n",
    "                    color_stops=match_color_stops, \n",
    "                    color_function_type='match', \n",
    "                    color_default='rgba(52,73,94,0.5)', \n",
    "                    opacity=0.8, \n",
    "                    center=(-96, 37.8), \n",
    "                    zoom=3, \n",
    "                    below_layer='waterway-label')\n",
    "viz.show()"
   ]
  },
  {
   "cell_type": "markdown",
   "id": "ca5ecb22",
   "metadata": {
    "slideshow": {
     "slide_type": "slide"
    }
   },
   "source": [
    "#### 2.4.2.3. Add 3-D Extrusion"
   ]
  },
  {
   "cell_type": "code",
   "execution_count": null,
   "id": "4daa251a",
   "metadata": {
    "slideshow": {
     "slide_type": "fragment"
    }
   },
   "outputs": [],
   "source": [
    "# adjust view angle\n",
    "viz.bearing = -15\n",
    "viz.pitch = 45\n",
    "\n",
    "# add extrusion to viz using interpolation keyed on density in GeoJSON features\n",
    "viz.height_property = 'density'\n",
    "viz.height_stops = create_numeric_stops([0, 50, 100, 500, 1500, 5000], 0, 500000)\n",
    "viz.height_function_type = 'interpolate'\n",
    "\n",
    "# render again\n",
    "viz.show()"
   ]
  },
  {
   "cell_type": "markdown",
   "id": "66ea6899",
   "metadata": {
    "slideshow": {
     "slide_type": "slide"
    }
   },
   "source": [
    "The data and geometries do not need to come from the same place! Here we supply our own data from `pandas`, and point the `ChoroplethViz()` method to a mapbox URL which has geometries for US States"
   ]
  },
  {
   "cell_type": "code",
   "execution_count": null,
   "id": "cdafe1b4",
   "metadata": {
    "slideshow": {
     "slide_type": "fragment"
    }
   },
   "outputs": [],
   "source": [
    "data_url = 'https://raw.githubusercontent.com/mapbox/mapboxgl-jupyter/master/examples/data/2010_us_population_by_postcode.csv'\n",
    "df = pd.read_csv(data_url).round(3)\n",
    "df.head(2)"
   ]
  },
  {
   "cell_type": "code",
   "execution_count": null,
   "id": "afce8fa7",
   "metadata": {
    "slideshow": {
     "slide_type": "fragment"
    }
   },
   "outputs": [],
   "source": [
    "measure = '2010 Census Population'\n",
    "dimension = 'Zip Code ZCTA'\n",
    "data = df[[dimension, measure]].groupby(dimension, as_index=False).mean()\n",
    "color_breaks = [round(data[measure].quantile(q=x*0.1), 2) for x in range(2,11)]\n",
    "color_stops = create_color_stops(color_breaks, colors='PuRd')\n",
    "data = json.loads(data.to_json(orient='records'))"
   ]
  },
  {
   "cell_type": "code",
   "execution_count": null,
   "id": "8f1a5352",
   "metadata": {
    "slideshow": {
     "slide_type": "slide"
    }
   },
   "outputs": [],
   "source": [
    "viz = ChoroplethViz(data, \n",
    "                    access_token=token,\n",
    "                    vector_url='mapbox://rsbaumann.bv2k1pl2',\n",
    "                    vector_layer_name='2016_us_census_postcode',\n",
    "                    vector_join_property='postcode',\n",
    "                    data_join_property=dimension,\n",
    "                    color_property=measure,\n",
    "                    color_stops=color_stops,\n",
    "                    line_color = 'rgba(0,0,0,0.05)',\n",
    "                    line_width = 0.5,\n",
    "                    opacity=0.7,\n",
    "                    center=(-95, 45),\n",
    "                    zoom=2,\n",
    "                    below_layer='waterway-label',\n",
    "                    legend_key_shape='contiguous-bar')\n",
    "viz.show()"
   ]
  },
  {
   "cell_type": "markdown",
   "id": "d1316903",
   "metadata": {
    "slideshow": {
     "slide_type": "slide"
    }
   },
   "source": [
    "# 3. Questions?"
   ]
  },
  {
   "cell_type": "markdown",
   "id": "1c6fa8f0",
   "metadata": {
    "slideshow": {
     "slide_type": "slide"
    }
   },
   "source": [
    "# 4. For next time"
   ]
  }
 ],
 "metadata": {
  "kernelspec": {
   "display_name": "Python [conda env:cp255] *",
   "language": "python",
   "name": "conda-env-cp255-py"
  },
  "language_info": {
   "codemirror_mode": {
    "name": "ipython",
    "version": 3
   },
   "file_extension": ".py",
   "mimetype": "text/x-python",
   "name": "python",
   "nbconvert_exporter": "python",
   "pygments_lexer": "ipython3",
   "version": "3.9.10"
  },
  "toc": {
   "base_numbering": 1,
   "nav_menu": {},
   "number_sections": false,
   "sideBar": false,
   "skip_h1_title": false,
   "title_cell": "Table of Contents",
   "title_sidebar": "Contents",
   "toc_cell": false,
   "toc_position": {},
   "toc_section_display": true,
   "toc_window_display": false
  }
 },
 "nbformat": 4,
 "nbformat_minor": 5
}
