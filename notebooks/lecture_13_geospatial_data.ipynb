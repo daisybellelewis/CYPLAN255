{
 "cells": [
  {
   "cell_type": "markdown",
   "id": "b40ef5a4",
   "metadata": {
    "slideshow": {
     "slide_type": "slide"
    }
   },
   "source": [
    "# CYPLAN255\n",
    "### Urban Informatics and Visualization"
   ]
  },
  {
   "cell_type": "markdown",
   "id": "2adc2c5d",
   "metadata": {
    "slideshow": {
     "slide_type": "slide"
    }
   },
   "source": [
    "HIT RECORD and TRANSCRIBE"
   ]
  },
  {
   "cell_type": "markdown",
   "id": "0ceea7a8",
   "metadata": {
    "slideshow": {
     "slide_type": "slide"
    }
   },
   "source": [
    "# Lecture 13 -- Working with Geospatial Data\n",
    "******\n",
    "March 9, 2022\n",
    "\n",
    "<img src=\"https://i.imgur.com/6spi1.jpeg\" width=700 align='right' title='source: unknown'>"
   ]
  },
  {
   "cell_type": "markdown",
   "id": "75f7d376",
   "metadata": {
    "slideshow": {
     "slide_type": "slide"
    }
   },
   "source": [
    "# Agenda\n",
    "1. Announcements\n",
    "2. Concepts in Geospatial Data\n",
    "3. Intro to Geospatial Data Analysis in Python\n",
    "4. Summary\n",
    "5. For next time\n",
    "6. Questions\n"
   ]
  },
  {
   "cell_type": "markdown",
   "id": "4f1c0cef",
   "metadata": {
    "slideshow": {
     "slide_type": "slide"
    }
   },
   "source": [
    "# 1. Announcements"
   ]
  },
  {
   "cell_type": "markdown",
   "id": "8e5d336f",
   "metadata": {
    "slideshow": {
     "slide_type": "fragment"
    }
   },
   "source": [
    "- Assignment 4 (project proposal + initial analysis) due March 13\n",
    "- Office hours"
   ]
  },
  {
   "cell_type": "markdown",
   "id": "cb3261cc",
   "metadata": {
    "slideshow": {
     "slide_type": "slide"
    }
   },
   "source": [
    "# 2. Concepts in Geospatial Data"
   ]
  },
  {
   "cell_type": "markdown",
   "id": "272ef369",
   "metadata": {
    "slideshow": {
     "slide_type": "fragment"
    }
   },
   "source": [
    "- Coordinate reference systems and map projections\n",
    "- Spatial data types and file formats\n",
    "- Spatial data operations and indexing"
   ]
  },
  {
   "cell_type": "markdown",
   "id": "f0049557",
   "metadata": {
    "slideshow": {
     "slide_type": "slide"
    }
   },
   "source": [
    "## 2.1. Geospatial Informatics and Data Visualization"
   ]
  },
  {
   "cell_type": "markdown",
   "id": "3e897840",
   "metadata": {
    "slideshow": {
     "slide_type": "fragment"
    }
   },
   "source": [
    "- Combines theory, tools, and techniques from:\n",
    "    - **Geography**: study of place\n",
    "    - **Cartography**: study of maps and mapmaking\n",
    "    - **Geodesy**: study of Earth measurement\n",
    "    - **Geometry**: study of objects in (mathematical) space\n",
    "- Not all spatial data is _geo_-spatial\n",
    "- Consists of geographic identifiers (coordinates or names) along with non-spatial attributes"
   ]
  },
  {
   "cell_type": "markdown",
   "id": "ae3b15f4",
   "metadata": {
    "slideshow": {
     "slide_type": "slide"
    }
   },
   "source": [
    "## 2.2. Spatial Data Types"
   ]
  },
  {
   "cell_type": "markdown",
   "id": "c43b525c",
   "metadata": {
    "slideshow": {
     "slide_type": "fragment"
    }
   },
   "source": [
    "Two broad categories:\n",
    "\n",
    "1. Raster\n",
    "2. Vector  <img src=\"https://4.bp.blogspot.com/-RG_1QxvImFE/W4QtyeTQRAI/AAAAAAAAAKc/Gi-ZYw7vticQpwZ4yn71N08uVKSnyzajQCLcBGAs/s1600/GIS%2BData%2BModel.jpg\" width=300 align=\"right\" style=\"margin:0px 200px\">\n",
    "\n",
    "\n"
   ]
  },
  {
   "cell_type": "markdown",
   "id": "4c4e7592",
   "metadata": {
    "slideshow": {
     "slide_type": "fragment"
    }
   },
   "source": [
    "Different ways of representing spatially referenced data."
   ]
  },
  {
   "cell_type": "markdown",
   "id": "f0f2ad14",
   "metadata": {
    "slideshow": {
     "slide_type": "slide"
    }
   },
   "source": [
    "### 2.2.1 Raster Data"
   ]
  },
  {
   "cell_type": "markdown",
   "id": "db454ee0",
   "metadata": {
    "slideshow": {
     "slide_type": "fragment"
    }
   },
   "source": [
    "- Organized as cells in a grid\n",
    "- Raster data is best suited for data which is continuously sampled at equal intervals in space.\n",
    "  - e.g. photos, satellite imagery, lidar, elevation data \n",
    "\n",
    "<center><img src=\"https://mapschool.io/img/raster.png\" width=400></center>\n",
    "\n",
    "- A photo is just a grid of pixels, where each pixel has a centerpoint, a size, and three values for R, G, and B.\n",
    "- Raster data can associate any number of values in a given grid cell.\n",
    "- Fixed resolution"
   ]
  },
  {
   "cell_type": "markdown",
   "id": "7ad1b1e4",
   "metadata": {
    "slideshow": {
     "slide_type": "slide"
    }
   },
   "source": [
    "### 2.2.2 Vector Data"
   ]
  },
  {
   "cell_type": "markdown",
   "id": "055a430d",
   "metadata": {
    "slideshow": {
     "slide_type": "fragment"
    }
   },
   "source": [
    "- Vector data works best for representing discontinuous **features**\n",
    "   - lat/lon coordinates, road network, bicycle lane, administrative boundaries\n",
    "- Three basic vector types or **features**, all based on sequences of coordinates:\n",
    "   - Point\n",
    "   - Line\n",
    "   - Polygon\n",
    "- More complex features are derived from the above:\n",
    "<img src=\"http://www.vdsgeo.com/doc/actualmap/shapetypes.gif\" width=400>\n",
    "- Vector data is nice for visualization because it does not have a fixed resolution, which makes the features infinitely scalable (no pixels).\n",
    "   - .svg vs. .jpeg"
   ]
  },
  {
   "cell_type": "markdown",
   "id": "7e407ac4",
   "metadata": {
    "slideshow": {
     "slide_type": "slide"
    }
   },
   "source": [
    "## 2.3. A brief primer on geodesy"
   ]
  },
  {
   "cell_type": "markdown",
   "id": "3849f631",
   "metadata": {
    "slideshow": {
     "slide_type": "fragment"
    }
   },
   "source": [
    "- From [NOAA](https://oceanservice.noaa.gov/facts/geodesy.html):\n",
    "   > Geodesy is the science of accurately measuring and understanding three fundamental properties of the Earth: its geometric shape, its orientation in space, and its gravity field\n",
    "- Why do we do it?\n",
    "    1. The Earth is not perfectly spherical\n",
    "    2. All 2D representations of the surface of a globe distort the geometry of its features\n",
    "    3. 1° Lat != 1° Lon\n",
    "- Two basic geodetic concepts allow us to navigate the surface of the earth\n",
    "  1. datum - allows us to know where we are (relative to some well-defined reference)\n",
    "  2. projection - allows us to draw our position on a map (relative to other positions)"
   ]
  },
  {
   "cell_type": "markdown",
   "id": "8d859b76",
   "metadata": {
    "slideshow": {
     "slide_type": "slide"
    }
   },
   "source": [
    "### 2.3.1. Datums"
   ]
  },
  {
   "cell_type": "markdown",
   "id": "e0996542",
   "metadata": {
    "slideshow": {
     "slide_type": "fragment"
    }
   },
   "source": [
    "- **Geoid**: average sea-level due to gravity, rotation, etc.\n",
    "  <img src=\"https://www.researchgate.net/profile/Ales-Bezdek/publication/256938953/figure/fig1/AS:614122672640022@1523429663891/Geoid-height-computed-from-the-gravity-field-model-EGM2008-Pavlis-et-al-2012_W640.jpg\" width=300>\n",
    "- **Ellipsoid**: the oblate spheroid of best fit\n",
    "<img src=\"http://www.geo.hunter.cuny.edu/~jochen/gtech201/lectures/lec6concepts/Datums/Basics%20of%20datums_files/image001.gif\">"
   ]
  },
  {
   "cell_type": "markdown",
   "id": "1cc1242e",
   "metadata": {
    "slideshow": {
     "slide_type": "slide"
    }
   },
   "source": [
    "- But multiple ellipsoids are possible depending on whether you want global or local accuracy:\n",
    "<img src=\"https://www.e-education.psu.edu/geog486/sites/www.e-education.psu.edu.geog486/files/Lesson_05/Images/5.2.1.PNG\" width=700>"
   ]
  },
  {
   "cell_type": "markdown",
   "id": "01c8e314",
   "metadata": {
    "slideshow": {
     "slide_type": "fragment"
    }
   },
   "source": [
    "- A **datum** defines an ellipsoid and its orientation relative to the geoid:\n",
    "\n",
    "<center><img src=\"https://www.e-education.psu.edu/geog862/sites/www.e-education.psu.edu.geog862/files/images/Lesson05/European%20Datum.png\" width=400></center>"
   ]
  },
  {
   "cell_type": "markdown",
   "id": "c6285ea3",
   "metadata": {
    "slideshow": {
     "slide_type": "slide"
    }
   },
   "source": [
    "### 2.3.2. Projections\n",
    "\n",
    "Now that we can know where we are on a 3D representation of Earth, we can use **projections** to translate these coordinates to positions in two dimensional space (e.g. a map). There are literally hundreds of different projections to pick from, and it's important to choose wisely. Why? Let's let the Organization of Cartographers for Social Equality explain:"
   ]
  },
  {
   "cell_type": "code",
   "execution_count": null,
   "id": "b6b7d9b6",
   "metadata": {
    "hide_input": true,
    "slideshow": {
     "slide_type": "fragment"
    }
   },
   "outputs": [],
   "source": [
    "%%html\n",
    "<iframe width=900 height=600 src=\"https://www.youtube.com/embed/vVX-PrBRtTY\" title=\"YouTube video player\" frameborder=\"0\" allow=\"accelerometer; autoplay; clipboard-write; encrypted-media; gyroscope; picture-in-picture\" allowfullscreen></iframe>"
   ]
  },
  {
   "cell_type": "markdown",
   "id": "7722c5b1",
   "metadata": {
    "slideshow": {
     "slide_type": "slide"
    }
   },
   "source": [
    "All projections introduce visual distortion, and so all projections compromise certain kinds of accuracy in exchange for others:\n",
    "- Equal area projections preserve...area (e.g. Albers)\n",
    "- Conformal projections preserve shape\n",
    "- Equidistant projections preserve distance\n",
    "- Misc. others are optimized for local navigation, data collection, visual appearance, etc."
   ]
  },
  {
   "cell_type": "markdown",
   "id": "a4b7d475",
   "metadata": {
    "slideshow": {
     "slide_type": "slide"
    }
   },
   "source": [
    "**Mercator (conformal)**\n",
    "\n",
    "<center><img src=\"https://upload.wikimedia.org/wikipedia/commons/8/87/Tissot_mercator.png\"></center>"
   ]
  },
  {
   "cell_type": "markdown",
   "id": "9f2874e3",
   "metadata": {},
   "source": [
    "**Sinusoidal (Equal Area, Equidistant)**\n",
    "<img src=\"https://upload.wikimedia.org/wikipedia/commons/0/07/Sinusoidal_with_Tissot%27s_Indicatrices_of_Distortion.svg\" width=900>\n"
   ]
  },
  {
   "cell_type": "markdown",
   "id": "7ef9aca5",
   "metadata": {
    "slideshow": {
     "slide_type": "slide"
    }
   },
   "source": [
    "**Dymaxion (compromise)**\n",
    "\n",
    "\n",
    "<img src=\"https://upload.wikimedia.org/wikipedia/commons/b/b0/Dymaxion_with_Tissot%27s_Indicatrices_of_Distortion.svg\" width=900>"
   ]
  },
  {
   "cell_type": "markdown",
   "id": "39db6344",
   "metadata": {
    "slideshow": {
     "slide_type": "slide"
    }
   },
   "source": [
    "### 2.3.3. Coordinate Reference Systems"
   ]
  },
  {
   "cell_type": "markdown",
   "id": "78203222",
   "metadata": {
    "slideshow": {
     "slide_type": "fragment"
    }
   },
   "source": [
    "- Geographic coordinates are only useful if we know the **coordinate reference system (CRS)** they use. If a CRS is not explicitly defined, you'll have to guess! \n",
    "- A CRS is comprised of:\n",
    "  1. a datum\n",
    "  2. a unit of measure\n",
    "  3. a prime meridian\n",
    "  4. a projection (sometimes)\n",
    "- Different efforts to standardize CRS catalogue, including **SRID** and **EPSG**\n",
    "- Most common CRS is **WGS84**, a.k.a. **EPSG:4236**"
   ]
  },
  {
   "cell_type": "markdown",
   "id": "adaf781e",
   "metadata": {
    "slideshow": {
     "slide_type": "slide"
    }
   },
   "source": [
    "**Geographic vs. Projected Coordinate Systems**\n",
    "  - **GCS** uses _radial_ coordinates (lat/lon)\n",
    "    - No projection required, coordinates measured directly on the ellipsoid\n",
    "    - Must use **[Haversine formula](https://en.wikipedia.org/wiki/Haversine_formula)** to compute **great circle** distance from degrees (assumes spherical earth)\n",
    "       - or [Vincenty formulae](https://en.wikipedia.org/wiki/Vincenty%27s_formulae) if you need to be precise\n",
    "  - **PCS** is defined using _cartesian_ coordinates\n",
    "    - Requires projection to translate measurements to points on the ellipsoid.\n",
    "    - Allows for use of standard planar measurements (e.g. feet, meters)"
   ]
  },
  {
   "cell_type": "markdown",
   "id": "77935df1",
   "metadata": {
    "slideshow": {
     "slide_type": "slide"
    }
   },
   "source": [
    "# 3. Working with Spatial Data"
   ]
  },
  {
   "cell_type": "markdown",
   "id": "f7df0f74",
   "metadata": {
    "slideshow": {
     "slide_type": "slide"
    }
   },
   "source": [
    "## 3.1. Common spatial data transformations"
   ]
  },
  {
   "cell_type": "markdown",
   "id": "2564c182",
   "metadata": {
    "slideshow": {
     "slide_type": "fragment"
    }
   },
   "source": [
    "- Spatial joins\n",
    "   - like a merge where the \"on\" key is geographic\n",
    "- Distance calculations\n",
    "   - between points, along a line, nearest-neighbor, one-to-many vs. many-to-one\n",
    "- Set operations\n",
    "   - e.g. intersect, union, difference\n",
    "<center><img src=\"https://geopandas.org/en/stable/_images/overlay_operations.png\" width=700></center>\n",
    "- Geometric manipulations\n",
    "   - buffer, centroid, convex hull, reprojection"
   ]
  },
  {
   "cell_type": "markdown",
   "id": "2db6fa3a",
   "metadata": {
    "slideshow": {
     "slide_type": "slide"
    }
   },
   "source": [
    "## 3.2. Spatial Indexing"
   ]
  },
  {
   "cell_type": "markdown",
   "id": "6b253ab1",
   "metadata": {
    "slideshow": {
     "slide_type": "fragment"
    }
   },
   "source": [
    "e.g. **Quadtree**\n",
    "<center><img src=\"https://upload.wikimedia.org/wikipedia/commons/8/8b/Point_quadtree.svg\"></center>"
   ]
  },
  {
   "cell_type": "markdown",
   "id": "51955c75",
   "metadata": {
    "slideshow": {
     "slide_type": "slide"
    }
   },
   "source": [
    "**R-tree**\n",
    "<img src=\"https://www.researchgate.net/profile/Changxiu-Cheng/publication/314239583/figure/fig1/AS:565486467665925@1511833888867/Example-of-R-tree-indexing-a-labeled-rectangles-in-different-levels-and-a-dash-line_W640.jpg\">"
   ]
  },
  {
   "cell_type": "markdown",
   "id": "52a4211c",
   "metadata": {
    "slideshow": {
     "slide_type": "slide"
    }
   },
   "source": [
    "## 3.3. Common Geospatial File Formats"
   ]
  },
  {
   "cell_type": "markdown",
   "id": "b5d0cd66",
   "metadata": {
    "slideshow": {
     "slide_type": "fragment"
    }
   },
   "source": [
    "- Raster data typically stored as **TIFF** or **GeoTIFF**\n",
    "- We've already seen one file format for storing vector data: **GeoJSON**\n",
    "  - CRS is always **EPSG:4326** ([source](https://www.rfc-editor.org/rfc/rfc7946#section-4))\n",
    "- **Shapefile** is a proprietary format developed by ESRI. Actually includes multiple file types:\n",
    "  - **.shp**, **.dbx**, **.prj**, **.shx**\n",
    "- **.kml** or **.kmz** is format developed by Google and used mainly with Google Earth\n",
    "- Of course, flat files (e.g. **.csv**) are often used for point data -- lat/lon as columns"
   ]
  },
  {
   "cell_type": "markdown",
   "id": "9424aebd",
   "metadata": {
    "slideshow": {
     "slide_type": "slide"
    }
   },
   "source": [
    "# 4. Geospatial Data Analysis in Python"
   ]
  },
  {
   "cell_type": "markdown",
   "id": "42628b30",
   "metadata": {
    "slideshow": {
     "slide_type": "fragment"
    }
   },
   "source": [
    "In this section, you'll familiarize yourself with some of the most popular Python libraries for working with geospatial data:\n",
    "- [Shapely](https://shapely.readthedocs.io/en/latest/manual.html) -- low-level spatial data types and processing algorithms\n",
    "- [Fiona](https://fiona.readthedocs.io/) -- reading spatial data files (other libraries use this behind the scenes)\n",
    "- [pyproj](https://pyproj4.github.io/pyproj/stable/) -- projections and coordinate transformations\n",
    "- [GeoPy](https://geopy.readthedocs.io/) -- distance algorithms and automated geocoding\n",
    "- [GeoPandas](https://geopandas.org) -- Pandas + Shapely (ops) + Fiona (data types, i/o)"
   ]
  },
  {
   "cell_type": "markdown",
   "id": "46f5806f",
   "metadata": {
    "slideshow": {
     "slide_type": "slide"
    }
   },
   "source": [
    "## 4.1. Calculating distances\n",
    "\n",
    "You can perform geospatial analysis in Python even without starting from an existing dataset. Here we'll calculate the great-circle distance between New York and San Francisco.\n",
    "\n",
    "https://geopy.readthedocs.io/en/stable/#module-geopy.distance  \n",
    "https://en.wikipedia.org/wiki/Great-circle_distance\n",
    "\n",
    "I've provided the coordinates below for you, but you could have used a geocoding API to get them yourself!"
   ]
  },
  {
   "cell_type": "code",
   "execution_count": null,
   "id": "244420e7",
   "metadata": {
    "slideshow": {
     "slide_type": "fragment"
    }
   },
   "outputs": [],
   "source": [
    "from geopy.distance import great_circle, distance\n",
    "\n",
    "sf = (37.8, -122.4) \n",
    "nyc = (40.7, -74.0)\n",
    "\n",
    "sf_to_nyc = great_circle(sf, nyc)"
   ]
  },
  {
   "cell_type": "code",
   "execution_count": null,
   "id": "e3b4c6a8",
   "metadata": {
    "slideshow": {
     "slide_type": "fragment"
    }
   },
   "outputs": [],
   "source": [
    "sf_to_nyc.miles  # haversine"
   ]
  },
  {
   "cell_type": "code",
   "execution_count": null,
   "id": "1e8d38c5",
   "metadata": {
    "slideshow": {
     "slide_type": "fragment"
    }
   },
   "outputs": [],
   "source": [
    "distance(sf, nyc).miles  # vincenty"
   ]
  },
  {
   "cell_type": "markdown",
   "id": "e7272cf4",
   "metadata": {
    "slideshow": {
     "slide_type": "slide"
    }
   },
   "source": [
    "#### 4.1.1. Exercise\n",
    "\n",
    "- What's the distance in kilometers between San Francisco and Los Angeles? \n",
    "- What are the units that are being retured by default?"
   ]
  },
  {
   "cell_type": "code",
   "execution_count": null,
   "id": "11405247",
   "metadata": {},
   "outputs": [],
   "source": []
  },
  {
   "cell_type": "markdown",
   "id": "b17c0ad4",
   "metadata": {
    "slideshow": {
     "slide_type": "slide"
    }
   },
   "source": [
    "## 4.2. Reading geospatial data files\n",
    "\n",
    "GeoPandas provides us with access to Fiona, a Python library for reading/writing geospatial file formats like shapefiles, GeoJSON, etc.\n",
    "\n",
    "It looks like this data has become a bit stale, but we're going to load a dataset of Bay Area store fronts compiled by [City Observatory](http://cityobservatory.org/storefront/) and merge it with a dataset of Census tract geometries from the US Census:"
   ]
  },
  {
   "cell_type": "code",
   "execution_count": null,
   "id": "634346a6",
   "metadata": {
    "slideshow": {
     "slide_type": "fragment"
    }
   },
   "outputs": [],
   "source": [
    "import requests\n",
    "import geopandas as gpd\n",
    "\n",
    "storefront_url = \"https://github.com/dillonma/storefrontindex/raw/master/all56_nACSxMSA__41860.0.geojson\"\n",
    "census_url = \"https://www2.census.gov/geo/tiger/TIGER2010/TRACT/2010/tl_2010_06_tract10.zip\"\n",
    "\n",
    "storefronts = gpd.read_file(storefront_url)\n",
    "tracts = gpd.read_file(census_url)"
   ]
  },
  {
   "cell_type": "code",
   "execution_count": null,
   "id": "81ab14a4",
   "metadata": {
    "slideshow": {
     "slide_type": "fragment"
    }
   },
   "outputs": [],
   "source": [
    "print(type(storefronts))\n",
    "print(type(tracts))"
   ]
  },
  {
   "cell_type": "markdown",
   "id": "aa9765a8",
   "metadata": {
    "slideshow": {
     "slide_type": "slide"
    }
   },
   "source": [
    "### 4.2.1. Built-in plotting\n",
    "Like pandas, GeoPandas has built-in plotting functionality which calls Matplotlib behind the scenes:"
   ]
  },
  {
   "cell_type": "code",
   "execution_count": null,
   "id": "7fcbba44",
   "metadata": {
    "slideshow": {
     "slide_type": "fragment"
    }
   },
   "outputs": [],
   "source": [
    "storefronts.plot()"
   ]
  },
  {
   "cell_type": "code",
   "execution_count": null,
   "id": "02f3a8e5",
   "metadata": {
    "slideshow": {
     "slide_type": "fragment"
    }
   },
   "outputs": [],
   "source": [
    "tracts.plot()"
   ]
  },
  {
   "cell_type": "markdown",
   "id": "3b5ba530",
   "metadata": {
    "slideshow": {
     "slide_type": "slide"
    }
   },
   "source": [
    "## 4.3. GeoPandas data types\n",
    "\n",
    "GeoPandas is designed to make it easy for pandas users to work with spatial data. Most of the functionality you expect from pandas is available in GeoPandas as well. See [here](https://geopandas.readthedocs.io/en/v0.3.0/data_structures.html) for more on GeoPandas data structures in particular.\n",
    "\n"
   ]
  },
  {
   "cell_type": "markdown",
   "id": "e7802d6d",
   "metadata": {},
   "source": [
    "### 4.3.1. the `GeoDataFrame`"
   ]
  },
  {
   "cell_type": "code",
   "execution_count": null,
   "id": "a32545ea",
   "metadata": {
    "scrolled": false,
    "slideshow": {
     "slide_type": "fragment"
    }
   },
   "outputs": [],
   "source": [
    "storefronts.head()"
   ]
  },
  {
   "cell_type": "code",
   "execution_count": null,
   "id": "29022ede",
   "metadata": {
    "slideshow": {
     "slide_type": "fragment"
    }
   },
   "outputs": [],
   "source": [
    "len(storefronts)"
   ]
  },
  {
   "cell_type": "markdown",
   "id": "0dff7ba4",
   "metadata": {
    "slideshow": {
     "slide_type": "slide"
    }
   },
   "source": [
    "But you get some geospatial attributes that a `pandas.DataFrame` does not have:"
   ]
  },
  {
   "cell_type": "code",
   "execution_count": null,
   "id": "2b9bc48d",
   "metadata": {
    "slideshow": {
     "slide_type": "fragment"
    }
   },
   "outputs": [],
   "source": [
    "print(storefronts.total_bounds)\n",
    "print(storefronts.crs)\n",
    "print(storefronts.sindex)"
   ]
  },
  {
   "cell_type": "markdown",
   "id": "faf6e47f",
   "metadata": {
    "slideshow": {
     "slide_type": "slide"
    }
   },
   "source": [
    "Most columns in a GeoDataFrame are plain `pandas.Series` objects:"
   ]
  },
  {
   "cell_type": "code",
   "execution_count": null,
   "id": "04cb73c8",
   "metadata": {
    "slideshow": {
     "slide_type": "fragment"
    }
   },
   "outputs": [],
   "source": [
    "col = \"CITY\"\n",
    "print(\"{0} column is a {1}\".format(col, type(storefronts[col])))\n",
    "print(\"{0} column dtype is '{1}'\".format(col, storefronts[col].dtype))\n",
    "print(\"{0} column values are {1}\".format(col, type(storefronts[col][0])))\n",
    "print(\"First value in {0} column is '{1}'\".format(col, storefronts[col][0]))"
   ]
  },
  {
   "cell_type": "markdown",
   "id": "dcde922d",
   "metadata": {
    "slideshow": {
     "slide_type": "slide"
    }
   },
   "source": [
    "But the \"geometry\" column is special:"
   ]
  },
  {
   "cell_type": "code",
   "execution_count": null,
   "id": "baf912cc",
   "metadata": {
    "slideshow": {
     "slide_type": "fragment"
    }
   },
   "outputs": [],
   "source": [
    "col = \n",
    "print(\"{0} column is a {1}\".format(col, type(storefronts[col])))\n",
    "print(\"{0} column dtype is '{1}'\".format(col, storefronts[col].dtype))\n",
    "print(\"{0} column values are {1}\".format(col, type(storefronts[col][0])))\n",
    "print(\"First value in {0} column is '{1}'\".format(col, storefronts[col][0]))"
   ]
  },
  {
   "cell_type": "markdown",
   "id": "cb7e9e63",
   "metadata": {
    "slideshow": {
     "slide_type": "fragment"
    }
   },
   "source": [
    "In fact, the only thing that distinguishs a `GeoDataFrame` from a pandas `DataFrame` is that one column is a `GeoSeries`:"
   ]
  },
  {
   "cell_type": "code",
   "execution_count": null,
   "id": "a69b0ea9",
   "metadata": {
    "slideshow": {
     "slide_type": "fragment"
    }
   },
   "outputs": [],
   "source": [
    "type(storefronts[[col for col in storefronts.columns if col != 'geometry']])"
   ]
  },
  {
   "cell_type": "markdown",
   "id": "74d468c4",
   "metadata": {
    "slideshow": {
     "slide_type": "slide"
    }
   },
   "source": [
    "### 4.3.2 the `GeoSeries`"
   ]
  },
  {
   "cell_type": "markdown",
   "id": "f0805845",
   "metadata": {
    "slideshow": {
     "slide_type": "fragment"
    }
   },
   "source": [
    "All of the special spatial attributes of the `GeoDataFrame` are really just attributes of the `GeoSeries` geometry column"
   ]
  },
  {
   "cell_type": "code",
   "execution_count": null,
   "id": "8f3efc2f",
   "metadata": {
    "slideshow": {
     "slide_type": "fragment"
    }
   },
   "outputs": [],
   "source": [
    "print(storefronts[\"geometry\"].total_bounds)\n",
    "print(storefronts[\"geometry\"].crs)\n",
    "print(storefronts[\"geometry\"].sindex)"
   ]
  },
  {
   "cell_type": "markdown",
   "id": "10489b09",
   "metadata": {
    "slideshow": {
     "slide_type": "slide"
    }
   },
   "source": [
    "## 4.4. Geometric Data Types\n",
    "\n",
    "Shapely is a Python library which defines class objects that correspond to geometric objects types. See the [docs](https://shapely.readthedocs.io/en/latest/manual.html#geometric-objects) for more info."
   ]
  },
  {
   "cell_type": "markdown",
   "id": "08541448",
   "metadata": {
    "slideshow": {
     "slide_type": "fragment"
    }
   },
   "source": [
    "### 4.4.1. `Point` and `LineString` objects\n",
    "\n",
    "In Shapely, these object types (e.g. points, lines, and polygons) have various geometric attributes by default:"
   ]
  },
  {
   "cell_type": "code",
   "execution_count": null,
   "id": "56728aa7",
   "metadata": {
    "slideshow": {
     "slide_type": "fragment"
    }
   },
   "outputs": [],
   "source": [
    "print(storefronts[\"geometry\"][0].x)\n",
    "print(storefronts[\"geometry\"][0].y)"
   ]
  },
  {
   "cell_type": "markdown",
   "id": "eeaf89c4",
   "metadata": {
    "slideshow": {
     "slide_type": "slide"
    }
   },
   "source": [
    "You can, of course, manually create a geometric object from coordinate pairs:"
   ]
  },
  {
   "cell_type": "code",
   "execution_count": null,
   "id": "fa8cb742",
   "metadata": {
    "slideshow": {
     "slide_type": "fragment"
    }
   },
   "outputs": [],
   "source": [
    "from shapely.geometry import Point, LineString\n",
    "point1 = Point(sf[1], sf[0])\n",
    "point2 = Point(nyc[1], nyc[0])\n",
    "line1 = LineString([point1, point2])\n",
    "line2 = LineString([[sf[1], sf[0]], [nyc[1], nyc[0]]])\n",
    "print(point1, point2, line1, line2)"
   ]
  },
  {
   "cell_type": "markdown",
   "id": "ff84a8b8",
   "metadata": {
    "slideshow": {
     "slide_type": "fragment"
    }
   },
   "source": [
    "Two things to notice:\n",
    "  1. Shapely (and therefore GeoPandas) expects coordinates in the form `(x, y)`: ~(lat, lon)~ $\\rightarrow$ (lon, lat)\n",
    "  2. A `LineString` is just a sequence of `Point` objects or coordinates"
   ]
  },
  {
   "cell_type": "markdown",
   "id": "da35a32d",
   "metadata": {
    "slideshow": {
     "slide_type": "slide"
    }
   },
   "source": [
    "### 4.4.2. Polygons\n",
    "\n",
    "Similarly, a `Polygon` is just a `LineString` where the first `Point` is also the last:"
   ]
  },
  {
   "cell_type": "code",
   "execution_count": null,
   "id": "579e0285",
   "metadata": {
    "slideshow": {
     "slide_type": "fragment"
    }
   },
   "outputs": [],
   "source": [
    "col = \"geometry\"\n",
    "print(\"{0} column is a {1}\".format(col, type(tracts[col])))\n",
    "print(\"{0} column dtype is '{1}'\".format(col, tracts[col].dtype))\n",
    "print(\"{0} column values are {1}\".format(col, type(tracts[col][0])))\n",
    "print(\"First value in {0} column is '{1}'\".format(col, tracts[col][0]))"
   ]
  },
  {
   "cell_type": "markdown",
   "id": "ec32aa52",
   "metadata": {
    "slideshow": {
     "slide_type": "slide"
    }
   },
   "source": [
    "## 4.5. Performing a spatial join\n",
    "Because a `GeoDataFrame` must have a geometry column, two GeoDataFrames can always be merged using syntax that should look familiar from `pandas.merge()`:"
   ]
  },
  {
   "cell_type": "code",
   "execution_count": null,
   "id": "5ce1a130",
   "metadata": {
    "slideshow": {
     "slide_type": "fragment"
    }
   },
   "outputs": [],
   "source": [
    "merged = gpd.sjoin(storefronts, tracts, how='inner', op='contains')"
   ]
  },
  {
   "cell_type": "markdown",
   "id": "ebe5ef6e",
   "metadata": {
    "slideshow": {
     "slide_type": "slide"
    }
   },
   "source": [
    "<img src=\"https://i.kym-cdn.com/photos/images/original/001/705/934/3a7.jpg\">"
   ]
  },
  {
   "cell_type": "markdown",
   "id": "ebe82489",
   "metadata": {
    "slideshow": {
     "slide_type": "slide"
    }
   },
   "source": [
    "### 4.5.2. Reprojection"
   ]
  },
  {
   "cell_type": "markdown",
   "id": "32794084",
   "metadata": {
    "slideshow": {
     "slide_type": "fragment"
    }
   },
   "source": [
    "**GeoDataFrames must share a CRS in order to properly perform a spatial join**. Fortunately, its easy enough to convert _from_ any _to_ any CRS using a process called **reprojection**. With GeoPandas, all you need to provide is the name of the new CRS you want (and sometimes the name of the current CRS if it is not explicitly defined)."
   ]
  },
  {
   "cell_type": "code",
   "execution_count": null,
   "id": "09429595",
   "metadata": {
    "slideshow": {
     "slide_type": "fragment"
    }
   },
   "outputs": [],
   "source": [
    "print(storefronts.crs)\n",
    "print(tracts.crs)\n",
    "print(type(tracts.crs))\n",
    "print(tracts.crs.coordinate_system)\n",
    "storefronts_proj = storefronts.to_crs(tracts.crs)"
   ]
  },
  {
   "cell_type": "markdown",
   "id": "36827b9c",
   "metadata": {
    "slideshow": {
     "slide_type": "slide"
    }
   },
   "source": [
    "**NOTE:** if `storefronts.crs` happened to be empty or `None`, you would need to first assume and define a CRS for it before performing a spatial join. If the coordinates look like degrees of lat/lon, then `epsg:4326` (WGS84) is a good bet. To assign a CRS to a GeoDataFrame which has none, you can do:\n",
    "```python\n",
    "storefronts.crs = {'init': 'epsg:4326'}\n",
    "```\n",
    "Or if you think it is the same CRS as another dataset, you can just set them equal without performing a transformation:\n",
    "```python\n",
    "storefronts.crs = tracts.crs\n",
    "```"
   ]
  },
  {
   "cell_type": "markdown",
   "id": "78464483",
   "metadata": {
    "slideshow": {
     "slide_type": "slide"
    }
   },
   "source": [
    "### 4.5.3. A proper spatial join"
   ]
  },
  {
   "cell_type": "code",
   "execution_count": null,
   "id": "4d82bfb4",
   "metadata": {
    "slideshow": {
     "slide_type": "fragment"
    }
   },
   "outputs": [],
   "source": [
    "%%time\n",
    "merged = gpd.sjoin(storefronts_proj[['CITY','ZIP','geometry']],\n",
    "                   tracts[['GEOID10','geometry']], \n",
    "                   how='inner', \n",
    "                   op='intersects')"
   ]
  },
  {
   "cell_type": "markdown",
   "id": "b0764f70",
   "metadata": {
    "slideshow": {
     "slide_type": "fragment"
    }
   },
   "source": [
    "A few things to notice in the previous cell:\n",
    "  1. There is no `on=` argument. `sjoin()` knows to merge on the geometry column only.\n",
    "  2. `op` argument defines the type of spatial operation or \"query\" to perform\n",
    "    - in GeoPandas >= 10.0, ~`op`~ $\\rightarrow$ `predicate`"
   ]
  },
  {
   "cell_type": "markdown",
   "id": "5a98a46c",
   "metadata": {
    "slideshow": {
     "slide_type": "slide"
    }
   },
   "source": [
    "You can get the list of all valid operations/predicates using:"
   ]
  },
  {
   "cell_type": "code",
   "execution_count": null,
   "id": "22ad898f",
   "metadata": {
    "slideshow": {
     "slide_type": "fragment"
    }
   },
   "outputs": [],
   "source": [
    "storefronts_proj.sindex.valid_query_predicates"
   ]
  },
  {
   "cell_type": "markdown",
   "id": "3b2ed77a",
   "metadata": {
    "slideshow": {
     "slide_type": "fragment"
    }
   },
   "source": [
    "These names refer to methods defined in Shapely. You can read about each of them in the Shapely docs [here](https://shapely.readthedocs.io/en/latest/manual.html#binary-predicates). In general, they are what they sound like, and they evaluate to booleans. They work a little bit like left/right joins in that order matters. For example:\n",
    "```\n",
    "left.contains(right) == right.within(left)\n",
    "```"
   ]
  },
  {
   "cell_type": "markdown",
   "id": "99f0a578",
   "metadata": {
    "slideshow": {
     "slide_type": "slide"
    }
   },
   "source": [
    "### 4.5.4. Details of spatial joins\n",
    "Let's take a look at our new merged table:"
   ]
  },
  {
   "cell_type": "code",
   "execution_count": null,
   "id": "a5c78311",
   "metadata": {
    "slideshow": {
     "slide_type": "fragment"
    }
   },
   "outputs": [],
   "source": [
    "merged.head()"
   ]
  },
  {
   "cell_type": "markdown",
   "id": "c691145f",
   "metadata": {
    "slideshow": {
     "slide_type": "slide"
    }
   },
   "source": [
    "It looks like we merged a dataset of `Point` objects with a dataset of `Polygon` types and got a dataset of `Point`s returned. This is because `sjoin()` will **always return a merged `GeoDataFrame` of the same type as the first or \"left\" `GeoDataFrame`** in the merge. If we wanted to preserve the tract geometries, we could have done: "
   ]
  },
  {
   "cell_type": "code",
   "execution_count": null,
   "id": "edf6d844",
   "metadata": {
    "slideshow": {
     "slide_type": "fragment"
    }
   },
   "outputs": [],
   "source": [
    "merged2 = gpd.sjoin(\n",
    "    tracts[['GEOID10','geometry']],\n",
    "    storefronts_proj[['CITY','ZIP','geometry']],\n",
    "    how='inner', \n",
    "    op='intersects')"
   ]
  },
  {
   "cell_type": "code",
   "execution_count": null,
   "id": "2b394ef6",
   "metadata": {
    "slideshow": {
     "slide_type": "fragment"
    }
   },
   "outputs": [],
   "source": [
    "merged2.head()"
   ]
  },
  {
   "cell_type": "markdown",
   "id": "ca82fe66",
   "metadata": {
    "slideshow": {
     "slide_type": "fragment"
    }
   },
   "source": [
    "See the [docs](https://geopandas.org/mergingdata.html#spatial-joins) on `gpd.sjoin()` for more details"
   ]
  },
  {
   "cell_type": "markdown",
   "id": "e6c5194a",
   "metadata": {
    "slideshow": {
     "slide_type": "slide"
    }
   },
   "source": [
    "## 4.6. Analyzing the merged data"
   ]
  },
  {
   "cell_type": "markdown",
   "id": "cdda669a",
   "metadata": {
    "slideshow": {
     "slide_type": "fragment"
    }
   },
   "source": [
    "### 4.6.1. Descriptive Statistics\n",
    "\n",
    "Now that we have a Census Tract ID associated with each of the storefronts, we can analyze that information just like in Pandas.\n",
    "\n",
    "For example, we know that Census Tracts all have a roughly similar residential population. How much do they vary in number of storefronts?"
   ]
  },
  {
   "cell_type": "code",
   "execution_count": null,
   "id": "e83cc7a7",
   "metadata": {
    "slideshow": {
     "slide_type": "fragment"
    }
   },
   "outputs": [],
   "source": [
    "stores_per_tract = merged2.groupby('GEOID10').index_right.count().reset_index()"
   ]
  },
  {
   "cell_type": "markdown",
   "id": "9bd95716",
   "metadata": {
    "slideshow": {
     "slide_type": "slide"
    }
   },
   "source": [
    "### 4.6.2. Built-in plotting\n",
    "\n",
    "And just like pandas, GeoPandas has plotting functionality built-in:"
   ]
  },
  {
   "cell_type": "code",
   "execution_count": null,
   "id": "e5fe5252",
   "metadata": {
    "scrolled": false,
    "slideshow": {
     "slide_type": "slide"
    }
   },
   "outputs": [],
   "source": [
    "fig, ax = plt.subplots(figsize=(10,10))\n",
    "merged2.drop_duplicates('GEOID10').plot(ax=ax, color='none', edgecolor='k', linewidth=.2)\n",
    "storefronts.plot(ax=ax, color='r', markersize=.1, alpha=0.2)"
   ]
  },
  {
   "cell_type": "markdown",
   "id": "81242953",
   "metadata": {
    "slideshow": {
     "slide_type": "slide"
    }
   },
   "source": [
    "Let's convert our tract geometries to a projected coordinate system and compare to the original:"
   ]
  },
  {
   "cell_type": "code",
   "execution_count": null,
   "id": "022ecc73",
   "metadata": {
    "slideshow": {
     "slide_type": "fragment"
    }
   },
   "outputs": [],
   "source": [
    "sf_tract_mask = merged2['GEOID10'].str[:5] == '06075'\n",
    "sf_tracts = merged2[sf_tract_mask].drop_duplicates('GEOID10')\n",
    "sf_tracts_proj = sf_tracts.to_crs('epsg:2768')"
   ]
  },
  {
   "cell_type": "code",
   "execution_count": null,
   "id": "2a0aa129",
   "metadata": {
    "slideshow": {
     "slide_type": "slide"
    }
   },
   "outputs": [],
   "source": [
    "sf_tracts.crs.coordinate_system"
   ]
  },
  {
   "cell_type": "code",
   "execution_count": null,
   "id": "ef8d9e2f",
   "metadata": {
    "slideshow": {
     "slide_type": "fragment"
    }
   },
   "outputs": [],
   "source": [
    "sf_tracts_proj.crs.coordinate_system"
   ]
  },
  {
   "cell_type": "code",
   "execution_count": null,
   "id": "2b30c632",
   "metadata": {
    "slideshow": {
     "slide_type": "slide"
    }
   },
   "outputs": [],
   "source": [
    "fig, ax = plt.subplots(1,2, figsize=(16,10))\n",
    "sf_tracts.plot(ax=ax[0], color='none', edgecolor='k', linewidth=.5)\n",
    "sf_tracts_proj.plot(ax=ax[1], color='none', edgecolor='k', linewidth=.5)\n",
    "\n",
    "ax[0].set_title(sf_tracts.crs.name + \"()\".format(sf_tracts.crs.coordinate_system.name))\n",
    "ax[1].set_title(sf_tracts_proj.crs.name + \"()\".format(sf_tracts_proj.crs.coordinate_system.name))"
   ]
  },
  {
   "cell_type": "code",
   "execution_count": null,
   "id": "6dc27bba",
   "metadata": {},
   "outputs": [],
   "source": [
    "sf_tracts_proj.area"
   ]
  },
  {
   "cell_type": "markdown",
   "id": "04f1efe1",
   "metadata": {
    "slideshow": {
     "slide_type": "slide"
    }
   },
   "source": [
    "## 4.5. Geometric manipulations in practice"
   ]
  },
  {
   "cell_type": "code",
   "execution_count": null,
   "id": "45ff9939",
   "metadata": {
    "slideshow": {
     "slide_type": "fragment"
    }
   },
   "outputs": [],
   "source": [
    "tract = sf_tracts_proj.sample(1)"
   ]
  },
  {
   "cell_type": "code",
   "execution_count": null,
   "id": "83a632fd",
   "metadata": {
    "slideshow": {
     "slide_type": "fragment"
    }
   },
   "outputs": [],
   "source": [
    "fig, ax = plt.subplots(figsize=(10,8))\n",
    "tract.plot(color='none', edgecolor='k', ax=ax)\n",
    "# tract.centroid.plot(color='k', ax=ax, marker='x')\n",
    "# tract.buffer(200).plot(ax=ax, color='none', edgecolor='b')\n",
    "# tract.convex_hull.plot(ax=ax, color='r', alpha=.4)"
   ]
  },
  {
   "cell_type": "markdown",
   "id": "d0df3271",
   "metadata": {
    "slideshow": {
     "slide_type": "slide"
    }
   },
   "source": [
    "## 4.7. Exercises\n",
    "\n",
    "Try loading another spatial dataset into GeoPandas. (If you don't have any handy from your project, you could use the earthquake data from earlier demos.)\n",
    "\n",
    "- What are the data types? Do basic operations like getting descriptive statistics work ok?\n",
    "\n",
    "- Do the coordinates look like lat-lon, or are they other units? What's the coordinate reference system?\n",
    "\n",
    "- Try doing a spatial join. For example, here's some built-in data about countries that you could merge with the earthquakes:\n",
    "\n",
    "  ```python\n",
    "  world = gpd.read_file(gpd.datasets.get_path('naturalearth_lowres'))\n",
    "  ```"
   ]
  },
  {
   "cell_type": "markdown",
   "id": "1ffbf6f6",
   "metadata": {
    "slideshow": {
     "slide_type": "slide"
    }
   },
   "source": [
    "# 5. For next time\n",
    "- ?"
   ]
  },
  {
   "cell_type": "markdown",
   "id": "4ea0b2f7",
   "metadata": {
    "hide_input": false,
    "slideshow": {
     "slide_type": "slide"
    }
   },
   "source": [
    "# 6. Questions?"
   ]
  },
  {
   "cell_type": "markdown",
   "id": "66cd044d",
   "metadata": {},
   "source": [
    "# Sources\n",
    "\n",
    "- This notebook was heavily adapted from previous course material by [Prof. Paul Waddell](https://urbansim.com/people) and [Samuel Maurer](http://samuelmaurer.info/).\n",
    "- A lot of the geodesy material came from [here](http://www.geo.hunter.cuny.edu/~jochen/gtech201/lectures/lec6concepts/Datums/Components%20of%20a%20datum.htm)"
   ]
  }
 ],
 "metadata": {
  "celltoolbar": "Slideshow",
  "kernelspec": {
   "display_name": "Python [conda env:cp255] *",
   "language": "python",
   "name": "conda-env-cp255-py"
  },
  "language_info": {
   "codemirror_mode": {
    "name": "ipython",
    "version": 3
   },
   "file_extension": ".py",
   "mimetype": "text/x-python",
   "name": "python",
   "nbconvert_exporter": "python",
   "pygments_lexer": "ipython3",
   "version": "3.9.10"
  },
  "toc": {
   "base_numbering": 1,
   "nav_menu": {},
   "number_sections": false,
   "sideBar": false,
   "skip_h1_title": false,
   "title_cell": "Table of Contents",
   "title_sidebar": "Contents",
   "toc_cell": false,
   "toc_position": {},
   "toc_section_display": true,
   "toc_window_display": false
  }
 },
 "nbformat": 4,
 "nbformat_minor": 5
}
