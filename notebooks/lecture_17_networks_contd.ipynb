{
 "cells": [
  {
   "cell_type": "markdown",
   "id": "b40ef5a4",
   "metadata": {
    "slideshow": {
     "slide_type": "slide"
    }
   },
   "source": [
    "# CYPLAN255\n",
    "### Urban Informatics and Visualization"
   ]
  },
  {
   "cell_type": "markdown",
   "id": "2adc2c5d",
   "metadata": {
    "slideshow": {
     "slide_type": "slide"
    }
   },
   "source": [
    "HIT RECORD and TRANSCRIBE"
   ]
  },
  {
   "cell_type": "markdown",
   "id": "0ceea7a8",
   "metadata": {
    "slideshow": {
     "slide_type": "slide"
    }
   },
   "source": [
    "# Lecture 17 -- Network Analysis Cont'd\n",
    "******\n",
    "March 28, 2022\n",
    "\n",
    "<img src=\"https://i.redd.it/20h18mpvreg81.jpg\" width=500 align='right' title='A chest X-ray in progress at Dr. Maxime Menard’s radiology department at the Cochin hospital in Paris, France. c 1914.'>"
   ]
  },
  {
   "cell_type": "markdown",
   "id": "75f7d376",
   "metadata": {
    "slideshow": {
     "slide_type": "slide"
    }
   },
   "source": [
    "# Agenda\n",
    "1. Announcements\n",
    "2. Isochrones w/ OSMnx\n",
    "3. UrbanAccess\n",
    "5. For next time\n",
    "6. Questions\n"
   ]
  },
  {
   "cell_type": "markdown",
   "id": "cec1cb2e",
   "metadata": {
    "slideshow": {
     "slide_type": "slide"
    }
   },
   "source": [
    "# 1. Announcements"
   ]
  },
  {
   "cell_type": "markdown",
   "id": "8e5d336f",
   "metadata": {
    "slideshow": {
     "slide_type": "fragment"
    }
   },
   "source": [
    "Solution for Windows users: fresh conda environments!\n",
    "1. `conda create -n <name of env> python conda` \n",
    "2. `conda config --add channels conda-forge`\n",
    "3. `conda config --set channel_priority strict`\n",
    "4. `conda install ipython notebook nb_conda_kernels`\n",
    "5. `conda install <name of package that's giving you trouble>` (e.g. `geopandas` or `osmnx`)\n",
    "6. launch Jupyter Notebook _from your new environment_"
   ]
  },
  {
   "cell_type": "markdown",
   "id": "b60a2cf7",
   "metadata": {
    "slideshow": {
     "slide_type": "slide"
    }
   },
   "source": [
    "# 2. The Isochrone Tutorial from OSMnx "
   ]
  },
  {
   "cell_type": "markdown",
   "id": "41d52cad",
   "metadata": {
    "slideshow": {
     "slide_type": "fragment"
    }
   },
   "source": [
    "99% of the code in this section was copied from [here](https://github.com/gboeing/osmnx-examples/blob/main/notebooks/13-isolines-isochrones.ipynb)"
   ]
  },
  {
   "cell_type": "code",
   "execution_count": null,
   "id": "2ad3f50a",
   "metadata": {
    "slideshow": {
     "slide_type": "fragment"
    }
   },
   "outputs": [],
   "source": [
    "import geopandas as gpd\n",
    "import matplotlib.pyplot as plt\n",
    "import networkx as nx\n",
    "import osmnx as ox\n",
    "from descartes import PolygonPatch\n",
    "from shapely.geometry import LineString\n",
    "from shapely.geometry import Point\n",
    "from shapely.geometry import Polygon\n",
    "\n",
    "%matplotlib inline\n",
    "ox.__version__"
   ]
  },
  {
   "cell_type": "markdown",
   "id": "ce8ba751",
   "metadata": {
    "slideshow": {
     "slide_type": "slide"
    }
   },
   "source": [
    "Configure the place, network type, trip times, and travel speed for analysis"
   ]
  },
  {
   "cell_type": "code",
   "execution_count": null,
   "id": "e5164f09",
   "metadata": {
    "slideshow": {
     "slide_type": "fragment"
    }
   },
   "outputs": [],
   "source": [
    "place = {\"city\": \"Berkeley\", \"state\": \"California\"}\n",
    "network_type = \"walk\"\n",
    "trip_times = [5, 10, 15, 20, 25, 30, 40, 50, 60]  # in minutes\n",
    "travel_speed = 4.5  # walking speed in km/hour"
   ]
  },
  {
   "cell_type": "markdown",
   "id": "cfe82ca6",
   "metadata": {
    "slideshow": {
     "slide_type": "slide"
    }
   },
   "source": [
    "Download the OSM network and place boundary geometries"
   ]
  },
  {
   "cell_type": "code",
   "execution_count": null,
   "id": "e76354ac",
   "metadata": {
    "slideshow": {
     "slide_type": "fragment"
    }
   },
   "outputs": [],
   "source": [
    "G = ox.graph_from_place(place, network_type=network_type)\n",
    "G = ox.project_graph(G)\n",
    "\n",
    "bounds = ox.geocode_to_gdf(place)\n",
    "bounds = ox.project_gdf(bounds)"
   ]
  },
  {
   "cell_type": "markdown",
   "id": "0b8a0739",
   "metadata": {
    "slideshow": {
     "slide_type": "slide"
    }
   },
   "source": [
    "Extract the nodes as a geodataframe to get the center-most node"
   ]
  },
  {
   "cell_type": "code",
   "execution_count": null,
   "id": "aa9dfaf6",
   "metadata": {
    "slideshow": {
     "slide_type": "fragment"
    }
   },
   "outputs": [],
   "source": [
    "gdf_nodes = ox.graph_to_gdfs(G, edges=False)\n",
    "x, y = gdf_nodes[\"geometry\"].unary_union.centroid.xy\n",
    "center_node = ox.distance.nearest_nodes(G, x[0], y[0])"
   ]
  },
  {
   "cell_type": "markdown",
   "id": "90de0929",
   "metadata": {
    "slideshow": {
     "slide_type": "slide"
    }
   },
   "source": [
    "Impute an estimated walk time for each edge"
   ]
  },
  {
   "cell_type": "code",
   "execution_count": null,
   "id": "8a66ffe9",
   "metadata": {
    "slideshow": {
     "slide_type": "fragment"
    }
   },
   "outputs": [],
   "source": [
    "meters_per_minute = travel_speed * 1000 / 60  # km per hour to m per minute\n",
    "for _, _, _, data in G.edges(data=True, keys=True):\n",
    "    data[\"time\"] = data[\"length\"] / meters_per_minute"
   ]
  },
  {
   "cell_type": "markdown",
   "id": "11a5a2de",
   "metadata": {
    "slideshow": {
     "slide_type": "slide"
    }
   },
   "source": [
    "## 2.2. Isochrones by Node"
   ]
  },
  {
   "cell_type": "markdown",
   "id": "01fb6daa",
   "metadata": {
    "slideshow": {
     "slide_type": "fragment"
    }
   },
   "source": [
    "Assign a color to each node"
   ]
  },
  {
   "cell_type": "code",
   "execution_count": null,
   "id": "5953621e",
   "metadata": {
    "slideshow": {
     "slide_type": "fragment"
    }
   },
   "outputs": [],
   "source": [
    "iso_colors = ox.plot.get_colors(n=len(trip_times), cmap=\"plasma\", start=0, return_hex=True)\n",
    "\n",
    "node_colors = {}\n",
    "for trip_time, color in zip(sorted(trip_times, reverse=True), iso_colors):\n",
    "    subgraph = nx.ego_graph(G, center_node, radius=trip_time, distance=\"time\")\n",
    "    for node in subgraph.nodes():\n",
    "        node_colors[node] = color\n",
    "\n",
    "nc = [node_colors[node] if node in node_colors else \"none\" for node in G.nodes()]\n",
    "ns = [15 if node in node_colors else 0 for node in G.nodes()]"
   ]
  },
  {
   "cell_type": "markdown",
   "id": "d7e7dd90",
   "metadata": {
    "slideshow": {
     "slide_type": "fragment"
    }
   },
   "source": [
    "**Question:** why is this loop iterating through travel times in reverse order?"
   ]
  },
  {
   "cell_type": "markdown",
   "id": "2aef5f24",
   "metadata": {
    "slideshow": {
     "slide_type": "slide"
    }
   },
   "source": [
    "Plot the graph"
   ]
  },
  {
   "cell_type": "code",
   "execution_count": null,
   "id": "3eec6674",
   "metadata": {
    "slideshow": {
     "slide_type": "fragment"
    }
   },
   "outputs": [],
   "source": [
    "fig, ax = ox.plot_graph(\n",
    "    G,\n",
    "    bgcolor='none',\n",
    "    node_color=nc,\n",
    "    node_size=ns,\n",
    "    node_alpha=0.8,\n",
    "    edge_linewidth=0.2,\n",
    "    edge_color=\"#999999\",\n",
    ")\n"
   ]
  },
  {
   "cell_type": "markdown",
   "id": "28b28eee",
   "metadata": {
    "slideshow": {
     "slide_type": "slide"
    }
   },
   "source": [
    "## 2.3. Isochrones by Convex Hull"
   ]
  },
  {
   "cell_type": "markdown",
   "id": "c5760bcd",
   "metadata": {
    "slideshow": {
     "slide_type": "fragment"
    }
   },
   "source": [
    "Generate a convex hull for each travel time bin"
   ]
  },
  {
   "cell_type": "code",
   "execution_count": null,
   "id": "c24afa96",
   "metadata": {
    "slideshow": {
     "slide_type": "fragment"
    }
   },
   "outputs": [],
   "source": [
    "isochrone_polys = []\n",
    "for trip_time in sorted(trip_times, reverse=True):\n",
    "    subgraph = nx.ego_graph(G, center_node, radius=trip_time, distance=\"time\")\n",
    "    node_points = [Point((data[\"x\"], data[\"y\"])) for node, data in subgraph.nodes(data=True)]\n",
    "    bounding_poly = gpd.GeoSeries(node_points).unary_union.convex_hull\n",
    "    bounding_poly = gpd.GeoSeries(bounding_poly, crs=bounds.crs).clip(bounds, keep_geom_type=True).values[0]\n",
    "    isochrone_polys.append(bounding_poly)"
   ]
  },
  {
   "cell_type": "markdown",
   "id": "ed8a0e9a",
   "metadata": {
    "slideshow": {
     "slide_type": "slide"
    }
   },
   "source": [
    "Plot the graph and layer the convex hulls on top using matplotlib"
   ]
  },
  {
   "cell_type": "code",
   "execution_count": null,
   "id": "17e5044f",
   "metadata": {
    "slideshow": {
     "slide_type": "fragment"
    }
   },
   "outputs": [],
   "source": [
    "fig, ax = ox.plot_graph(\n",
    "    G, bgcolor='none', show=False, close=False, edge_color=\"#999999\", edge_alpha=0.2, node_size=0\n",
    ")\n",
    "\n",
    "for polygon, fc in zip(isochrone_polys, iso_colors):\n",
    "    patch = PolygonPatch(polygon, fc=fc, ec=\"none\", alpha=0.6, zorder=-1)\n",
    "    ax.add_patch(patch)\n",
    "plt.show()"
   ]
  },
  {
   "cell_type": "markdown",
   "id": "fad3a847",
   "metadata": {},
   "source": [
    "## 2.4. Isochrones with Buffered Network Edges"
   ]
  },
  {
   "cell_type": "code",
   "execution_count": null,
   "id": "c15f801c",
   "metadata": {},
   "outputs": [],
   "source": [
    "def make_iso_polys(G, edge_buff=25, node_buff=50, infill=False):\n",
    "    \n",
    "    isochrone_polys = []\n",
    "    for trip_time in sorted(trip_times, reverse=True):\n",
    "        \n",
    "        subgraph = nx.ego_graph(G, center_node, radius=trip_time, distance=\"time\")\n",
    "\n",
    "        node_points = [Point((data[\"x\"], data[\"y\"])) for node, data in subgraph.nodes(data=True)]\n",
    "        nodes_gdf = gpd.GeoDataFrame({\"id\": list(subgraph.nodes)}, geometry=node_points)\n",
    "        nodes_gdf = nodes_gdf.set_index(\"id\")\n",
    "\n",
    "        edge_lines = []\n",
    "        for n_fr, n_to in subgraph.edges():\n",
    "            f = nodes_gdf.loc[n_fr].geometry\n",
    "            t = nodes_gdf.loc[n_to].geometry\n",
    "            edge_lookup = G.get_edge_data(n_fr, n_to)[0].get(\"geometry\", LineString([f, t]))\n",
    "            edge_lines.append(edge_lookup)\n",
    "\n",
    "        n = nodes_gdf.buffer(node_buff).geometry\n",
    "        e = gpd.GeoSeries(edge_lines).buffer(edge_buff).geometry\n",
    "        all_gs = list(n) + list(e)\n",
    "        new_iso = gpd.GeoSeries(all_gs).unary_union\n",
    "\n",
    "        # try to fill in surrounded areas so shapes will appear solid and\n",
    "        # blocks without white space inside them\n",
    "        if infill:\n",
    "            new_iso = Polygon(new_iso.exterior)\n",
    "        isochrone_polys.append(new_iso)\n",
    "\n",
    "    return isochrone_polys"
   ]
  },
  {
   "cell_type": "code",
   "execution_count": null,
   "id": "13b38e50",
   "metadata": {},
   "outputs": [],
   "source": [
    "isochrone_polys = make_iso_polys(G, edge_buff=25, node_buff=0, infill=True)"
   ]
  },
  {
   "cell_type": "code",
   "execution_count": null,
   "id": "07e0bb0e",
   "metadata": {},
   "outputs": [],
   "source": [
    "fig, ax = plt.subplots(figsize=(15,15))\n",
    "fig, ax = ox.plot_graph(\n",
    "    G, bgcolor='none', show=False, close=False, edge_color=\"#999999\", edge_alpha=0.2, node_size=0,ax=ax\n",
    ")\n",
    "for polygon, fc in zip(isochrone_polys, iso_colors):\n",
    "    patch = PolygonPatch(polygon, fc=fc, ec=\"none\", alpha=0.7, zorder=-1)\n",
    "    ax.add_patch(patch)\n",
    "plt.show()\n"
   ]
  },
  {
   "cell_type": "code",
   "execution_count": null,
   "id": "5bb58536",
   "metadata": {},
   "outputs": [],
   "source": [
    "nodes, edges = ox.graph_to_gdfs(G)"
   ]
  },
  {
   "cell_type": "code",
   "execution_count": null,
   "id": "fe3a5815",
   "metadata": {},
   "outputs": [],
   "source": [
    "edges.head()"
   ]
  },
  {
   "cell_type": "markdown",
   "id": "9b6e1440",
   "metadata": {
    "slideshow": {
     "slide_type": "slide"
    }
   },
   "source": [
    "## Exercise 1: Drive-time Isochrones\n",
    "\n",
    "1. Download a drive-network by specifying `network_type='drive` in `ox.graph_from_place()`\n",
    "2. Use `ox.add_edge_speeds()` to add speed limit attributes to the edges.\n",
    "3. Use `ox.add_edge_travel_times()` to impute the travel time along each edge based on the speed limit\n",
    "4. Plot the isochrones using one of the methods we used earlier. Hint: you might want to update your travel time bins"
   ]
  },
  {
   "cell_type": "markdown",
   "id": "d11dd290",
   "metadata": {
    "slideshow": {
     "slide_type": "slide"
    }
   },
   "source": [
    "## Exercise 2: OSMnx + Pandana\n",
    "\n",
    "1. Extract edge and node GeoDataFrames from your OSMnx graph using `ox.graph_to_gdfs()`\n",
    "2. Create a Pandana `Network()` object using `length` or `travel_time` as the impedance\n",
    "3. Generate some accessibility queries!"
   ]
  },
  {
   "cell_type": "markdown",
   "id": "a1105aee",
   "metadata": {
    "collapsed": true,
    "slideshow": {
     "slide_type": "slide"
    }
   },
   "source": [
    "# 3. UrbanAccess (OSM + GTFS)"
   ]
  },
  {
   "cell_type": "markdown",
   "id": "7687249a",
   "metadata": {
    "slideshow": {
     "slide_type": "fragment"
    }
   },
   "source": [
    "Code in this section taken directly from https://github.com/UDST/urbanaccess/blob/dev/demo/simple_example.ipynb\n",
    "\n",
    "This notebook provides a brief overview of the main functionality of UrbanAccess with examples using AC Transit and BART GTFS data and OpenStreetMap (OSM) pedestrian network data to create an integrated transit and pedestrian network for Oakland, CA for use in Pandana network accessibility queries.\n",
    "\n",
    "**UrbanAccess on UDST:**  https://github.com/UDST/urbanaccess\n",
    "\n",
    "**UrbanAccess documentation:**  https://udst.github.io/urbanaccess/index.html\n",
    "\n",
    "**UrbanAccess citation:**  \n",
    "\n",
    "`Samuel D. Blanchard and Paul Waddell, 2017, \"UrbanAccess: Generalized Methodology for Measuring Regional Accessibility with an Integrated Pedestrian and Transit Network\" Transportation Research Record: Journal of the Transportation Research Board, 2653: 35–44.`"
   ]
  },
  {
   "cell_type": "markdown",
   "id": "bfa573c1",
   "metadata": {},
   "source": [
    "## Outline:"
   ]
  },
  {
   "cell_type": "markdown",
   "id": "6ec8b862",
   "metadata": {},
   "source": [
    "- The settings object\n",
    "- The feeds object and searching for GTFS feeds\n",
    "- Downloading GTFS data\n",
    "- Loading GTFS data into a UrbanAccess transit data object\n",
    "- Creating a transit network\n",
    "- Downloading OSM data\n",
    "- Creating a pedestrian network\n",
    "- Creating an integrated transit and pedestrian network\n",
    "- Saving a network to disk\n",
    "- Loading a network from disk\n",
    "- Visualizing the network\n",
    "- Adding average headways to network travel time\n",
    "- Using an UrbanAccess network with Pandana"
   ]
  },
  {
   "cell_type": "markdown",
   "id": "1c09c458",
   "metadata": {
    "slideshow": {
     "slide_type": "slide"
    }
   },
   "source": [
    "## 3.2 Imports"
   ]
  },
  {
   "cell_type": "code",
   "execution_count": null,
   "id": "eb044aa9",
   "metadata": {
    "slideshow": {
     "slide_type": "fragment"
    }
   },
   "outputs": [],
   "source": [
    "import matplotlib\n",
    "matplotlib.use('agg')  # allows notebook to be tested in Travis\n",
    "\n",
    "import pandas as pd\n",
    "import cartopy.crs as ccrs\n",
    "import cartopy\n",
    "import matplotlib.pyplot as plt\n",
    "import pandana as pdna\n",
    "import time\n",
    "\n",
    "import urbanaccess as ua\n",
    "from urbanaccess.config import settings\n",
    "from urbanaccess.gtfsfeeds import feeds\n",
    "from urbanaccess import gtfsfeeds\n",
    "from urbanaccess.gtfs.gtfsfeeds_dataframe import gtfsfeeds_dfs\n",
    "from urbanaccess.network import ua_network, load_network\n",
    "\n",
    "%matplotlib inline"
   ]
  },
  {
   "cell_type": "markdown",
   "id": "5b673d43",
   "metadata": {
    "slideshow": {
     "slide_type": "slide"
    }
   },
   "source": [
    "## 3.2. GTFS Data"
   ]
  },
  {
   "cell_type": "markdown",
   "id": "7106cf62",
   "metadata": {
    "slideshow": {
     "slide_type": "fragment"
    }
   },
   "source": [
    "### 3.2.1. Search"
   ]
  },
  {
   "cell_type": "markdown",
   "id": "220348e3",
   "metadata": {
    "slideshow": {
     "slide_type": "fragment"
    }
   },
   "source": [
    "You can use the search function to find feeds on the GTFS Data Exchange (Note: the GTFS Data Exchange is no longer being maintained as of Summer 2016 so feeds here may be out of date)"
   ]
  },
  {
   "cell_type": "markdown",
   "id": "2d052e16",
   "metadata": {
    "slideshow": {
     "slide_type": "fragment"
    }
   },
   "source": [
    "Let's search for feeds for transit agencies in the GTFS Data Exchange that we know serve Oakland, CA: 1) Bay Area Rapid Transit District (BART) which runs the metro rail service and 2) AC Transit which runs bus services.\n",
    "\n",
    "Let's start by finding the feed for the Bay Area Rapid Transit District (BART) by using the search term `Bay Area Rapid Transit`:"
   ]
  },
  {
   "cell_type": "code",
   "execution_count": null,
   "id": "3a81842c",
   "metadata": {
    "slideshow": {
     "slide_type": "fragment"
    }
   },
   "outputs": [],
   "source": [
    "gtfsfeeds.search(search_text='Bay Area Rapid Transit',\n",
    "                 search_field=None,\n",
    "                 match='contains')"
   ]
  },
  {
   "cell_type": "markdown",
   "id": "c6f4bc27",
   "metadata": {
    "slideshow": {
     "slide_type": "slide"
    }
   },
   "source": [
    "Now that we see what can be found on the GTFS Data Exchange. Let's run this again but this time let's add the feed from your search to the feed download list"
   ]
  },
  {
   "cell_type": "code",
   "execution_count": null,
   "id": "1aba8dca",
   "metadata": {
    "slideshow": {
     "slide_type": "fragment"
    }
   },
   "outputs": [],
   "source": [
    "gtfsfeeds.search(search_text='Bay Area Rapid Transit',\n",
    "                 search_field=None,\n",
    "                 match='contains',\n",
    "                 add_feed=True)"
   ]
  },
  {
   "cell_type": "markdown",
   "id": "04c6199e",
   "metadata": {
    "slideshow": {
     "slide_type": "slide"
    }
   },
   "source": [
    "### 3.2.2. Bring Your Own Data"
   ]
  },
  {
   "cell_type": "markdown",
   "id": "83408b30",
   "metadata": {
    "slideshow": {
     "slide_type": "fragment"
    }
   },
   "source": [
    "If you know of a GTFS feed located elsewhere or one that is more up to date, you can add additional feeds located at custom URLs by adding a dictionary with the key as the name of the service/agency and the value as the URL."
   ]
  },
  {
   "cell_type": "markdown",
   "id": "b873b395",
   "metadata": {
    "slideshow": {
     "slide_type": "fragment"
    }
   },
   "source": [
    "Let's do this for AC Transit which also operates in Oakland, CA.\n",
    "\n",
    "The link to their feed is here: http://www.actransit.org/planning-focus/data-resource-center/ and let's get the latest version as of June 18, 2017"
   ]
  },
  {
   "cell_type": "code",
   "execution_count": null,
   "id": "ce76f964",
   "metadata": {
    "slideshow": {
     "slide_type": "fragment"
    }
   },
   "outputs": [],
   "source": [
    "feeds.add_feed(add_dict={'ac transit': 'http://www.actransit.org/wp-content/uploads/GTFSJune182017B.zip'})"
   ]
  },
  {
   "cell_type": "markdown",
   "id": "1b0c0f2f",
   "metadata": {
    "slideshow": {
     "slide_type": "fragment"
    }
   },
   "source": [
    "Note the two GTFS feeds now in your feeds object ready to download"
   ]
  },
  {
   "cell_type": "code",
   "execution_count": null,
   "id": "2bbd12f2",
   "metadata": {
    "slideshow": {
     "slide_type": "fragment"
    }
   },
   "outputs": [],
   "source": [
    "feeds.to_dict()"
   ]
  },
  {
   "cell_type": "markdown",
   "id": "067a08e8",
   "metadata": {
    "slideshow": {
     "slide_type": "slide"
    }
   },
   "source": [
    "### 3.2.3. Downloading GTFS data"
   ]
  },
  {
   "cell_type": "markdown",
   "id": "aeec3d5c",
   "metadata": {
    "slideshow": {
     "slide_type": "fragment"
    }
   },
   "source": [
    "Use the download function to download all the feeds in your feeds object at once. If no parameters are specified the existing feeds object will be used to acquire the data.\n",
    "\n",
    "By default, your data will be downloaded into the directory of this notebook in the folder: `data`"
   ]
  },
  {
   "cell_type": "code",
   "execution_count": null,
   "id": "54d6cb0e",
   "metadata": {
    "slideshow": {
     "slide_type": "fragment"
    }
   },
   "outputs": [],
   "source": [
    "gtfsfeeds.download()"
   ]
  },
  {
   "cell_type": "markdown",
   "id": "dd1ebbf7",
   "metadata": {
    "slideshow": {
     "slide_type": "slide"
    }
   },
   "source": [
    "### 3.2.4 Load GTFS data into an UrbanAccess transit data object"
   ]
  },
  {
   "cell_type": "markdown",
   "id": "59805e7f",
   "metadata": {
    "slideshow": {
     "slide_type": "fragment"
    }
   },
   "source": [
    "Now that we have downloaded our data let's load our individual GTFS feeds (currently a series of text files stored on disk) into a combined network of Pandas DataFrames.\n",
    "\n",
    "- You can specify one feed or multiple feeds that are inside a root folder using the `gtfsfeed_path` parameter. If you want to aggregate multiple transit networks together, all the GTFS feeds you want to aggregate must be inside of a single root folder.\n",
    "- Turn on `validation` and set a bounding box with the `remove_stops_outsidebbox` parameter turned on to ensure all your GTFS feed data are within a specified area.\n",
    "\n",
    "Let's specify a bounding box of coordinates for the City of Oakland to subset the GTFS data to. You can generate a bounding box by going to http://boundingbox.klokantech.com/ and selecting the CSV format."
   ]
  },
  {
   "cell_type": "code",
   "execution_count": null,
   "id": "27125fde",
   "metadata": {
    "scrolled": false,
    "slideshow": {
     "slide_type": "fragment"
    }
   },
   "outputs": [],
   "source": [
    "validation = True\n",
    "verbose = True\n",
    "# bbox for City of Oakland\n",
    "bbox = (-122.355881,37.632226,-122.114775,37.884725)\n",
    "remove_stops_outsidebbox = True\n",
    "append_definitions = True\n",
    "\n",
    "loaded_feeds = ua.gtfs.load.gtfsfeed_to_df(gtfsfeed_path=None,\n",
    "                                           validation=validation,\n",
    "                                           verbose=verbose,\n",
    "                                           bbox=bbox,\n",
    "                                           remove_stops_outsidebbox=remove_stops_outsidebbox,\n",
    "                                           append_definitions=append_definitions)"
   ]
  },
  {
   "cell_type": "markdown",
   "id": "7a94297a",
   "metadata": {
    "slideshow": {
     "slide_type": "slide"
    }
   },
   "source": [
    "The output is a global `urbanaccess_gtfs_df` object that can be accessed with the specified variable `loaded_feeds`. This object holds all the individual GTFS feed files aggregated together with each GTFS feed file type in separate Pandas DataFrames to represent all the loaded transit feeds in a metropolitan area. "
   ]
  },
  {
   "cell_type": "code",
   "execution_count": null,
   "id": "b31b1cec",
   "metadata": {
    "slideshow": {
     "slide_type": "fragment"
    }
   },
   "outputs": [],
   "source": [
    "loaded_feeds.stops.head()"
   ]
  },
  {
   "cell_type": "markdown",
   "id": "4155d896",
   "metadata": {
    "slideshow": {
     "slide_type": "fragment"
    }
   },
   "source": [
    "Note the two transit services we have aggregated into one regional table"
   ]
  },
  {
   "cell_type": "code",
   "execution_count": null,
   "id": "a30c848f",
   "metadata": {
    "slideshow": {
     "slide_type": "fragment"
    }
   },
   "outputs": [],
   "source": [
    "loaded_feeds.stops.unique_agency_id.unique()"
   ]
  },
  {
   "cell_type": "markdown",
   "id": "ed53381a",
   "metadata": {
    "slideshow": {
     "slide_type": "fragment"
    }
   },
   "source": [
    "Quickly view the transit stop locations"
   ]
  },
  {
   "cell_type": "code",
   "execution_count": null,
   "id": "88a53fc6",
   "metadata": {
    "slideshow": {
     "slide_type": "fragment"
    }
   },
   "outputs": [],
   "source": [
    "loaded_feeds.stops.plot(kind='scatter', x='stop_lon', y='stop_lat', s=0.1)"
   ]
  },
  {
   "cell_type": "code",
   "execution_count": null,
   "id": "6d9c202c",
   "metadata": {
    "slideshow": {
     "slide_type": "fragment"
    }
   },
   "outputs": [],
   "source": [
    "loaded_feeds.routes.head()"
   ]
  },
  {
   "cell_type": "code",
   "execution_count": null,
   "id": "0de74927",
   "metadata": {
    "slideshow": {
     "slide_type": "fragment"
    }
   },
   "outputs": [],
   "source": [
    "loaded_feeds.stop_times.head()"
   ]
  },
  {
   "cell_type": "code",
   "execution_count": null,
   "id": "c55e7612",
   "metadata": {
    "slideshow": {
     "slide_type": "fragment"
    }
   },
   "outputs": [],
   "source": [
    "loaded_feeds.trips.head()"
   ]
  },
  {
   "cell_type": "code",
   "execution_count": null,
   "id": "71e1bc05",
   "metadata": {
    "slideshow": {
     "slide_type": "fragment"
    }
   },
   "outputs": [],
   "source": [
    "loaded_feeds.calendar.head()"
   ]
  },
  {
   "cell_type": "markdown",
   "id": "8358d4ba",
   "metadata": {
    "slideshow": {
     "slide_type": "slide"
    }
   },
   "source": [
    "## 3.3. Create a transit network"
   ]
  },
  {
   "cell_type": "markdown",
   "id": "16b80c2c",
   "metadata": {
    "slideshow": {
     "slide_type": "fragment"
    }
   },
   "source": [
    "Now that we have loaded and standardized our GTFS data, let's create a travel time weighted graph from the GTFS feeds we have loaded."
   ]
  },
  {
   "cell_type": "markdown",
   "id": "73b6cf1a",
   "metadata": {
    "slideshow": {
     "slide_type": "fragment"
    }
   },
   "source": [
    "Create a network for weekday `monday` service between 7 am and 10 am (`['07:00:00', '10:00:00']`) to represent travel times during the AM Peak period.\n",
    "\n",
    "Assumptions: We are using the service ids in the `calendar` file to subset the day of week, however if your feed uses the `calendar_dates` file and not the `calendar` file then you can use the `calendar_dates_lookup` parameter. This is not required for AC Transit and BART."
   ]
  },
  {
   "cell_type": "code",
   "execution_count": null,
   "id": "f0b89bf8",
   "metadata": {
    "slideshow": {
     "slide_type": "fragment"
    }
   },
   "outputs": [],
   "source": [
    "ua.gtfs.network.create_transit_net(gtfsfeeds_dfs=loaded_feeds,\n",
    "                                   day='monday',\n",
    "                                   timerange=['07:00:00', '10:00:00'],\n",
    "                                   calendar_dates_lookup=None)"
   ]
  },
  {
   "cell_type": "markdown",
   "id": "3fdf10c8",
   "metadata": {
    "slideshow": {
     "slide_type": "slide"
    }
   },
   "source": [
    "**The UrbanAccess network object**"
   ]
  },
  {
   "cell_type": "markdown",
   "id": "e129277b",
   "metadata": {
    "slideshow": {
     "slide_type": "fragment"
    }
   },
   "source": [
    "The output is a global `urbanaccess_network` object. This object holds the resulting graph comprised of nodes and edges for the processed GTFS network data for services operating at the day and time you specified inside of `transit_edges` and `transit_nodes`."
   ]
  },
  {
   "cell_type": "markdown",
   "id": "df40dea3",
   "metadata": {
    "slideshow": {
     "slide_type": "fragment"
    }
   },
   "source": [
    "Let's set the global network object to a variable called `urbanaccess_net` that we can then inspect:"
   ]
  },
  {
   "cell_type": "code",
   "execution_count": null,
   "id": "62792437",
   "metadata": {
    "slideshow": {
     "slide_type": "fragment"
    }
   },
   "outputs": [],
   "source": [
    "urbanaccess_net = ua.network.ua_network"
   ]
  },
  {
   "cell_type": "code",
   "execution_count": null,
   "id": "dc2f987a",
   "metadata": {
    "slideshow": {
     "slide_type": "fragment"
    }
   },
   "outputs": [],
   "source": [
    "urbanaccess_net.transit_edges.head()"
   ]
  },
  {
   "cell_type": "code",
   "execution_count": null,
   "id": "e9577c45",
   "metadata": {
    "slideshow": {
     "slide_type": "fragment"
    }
   },
   "outputs": [],
   "source": [
    "urbanaccess_net.transit_nodes.head()"
   ]
  },
  {
   "cell_type": "code",
   "execution_count": null,
   "id": "c828b0b1",
   "metadata": {
    "slideshow": {
     "slide_type": "fragment"
    }
   },
   "outputs": [],
   "source": [
    "urbanaccess_net.transit_nodes.plot(kind='scatter', x='x', y='y', s=0.1)"
   ]
  },
  {
   "cell_type": "markdown",
   "id": "564c7a62",
   "metadata": {
    "slideshow": {
     "slide_type": "slide"
    }
   },
   "source": [
    "## 3.4. Create a pedestrian network"
   ]
  },
  {
   "cell_type": "markdown",
   "id": "5f19702b",
   "metadata": {
    "slideshow": {
     "slide_type": "fragment"
    }
   },
   "source": [
    "### 3.4.1. OSM Data (the walk network)"
   ]
  },
  {
   "cell_type": "markdown",
   "id": "30b2b1cf",
   "metadata": {
    "collapsed": true,
    "slideshow": {
     "slide_type": "fragment"
    }
   },
   "source": [
    "Now let's download OpenStreetMap (OSM) pedestrian street network data to produce a graph network of nodes and edges for Oakland, CA. We will use the same bounding box as before."
   ]
  },
  {
   "cell_type": "code",
   "execution_count": null,
   "id": "4bdcfd1f",
   "metadata": {
    "slideshow": {
     "slide_type": "fragment"
    }
   },
   "outputs": [],
   "source": [
    "nodes, edges = ua.osm.load.ua_network_from_bbox(bbox=bbox,\n",
    "                                                remove_lcn=True)"
   ]
  },
  {
   "cell_type": "markdown",
   "id": "b9f45299",
   "metadata": {
    "collapsed": true,
    "slideshow": {
     "slide_type": "slide"
    }
   },
   "source": [
    "Now that we have our pedestrian network data let's create a travel time weighted graph from the pedestrian network we have loaded and add it to our existing UrbanAccess network object. We will assume a pedestrian travels on average at 3 mph.\n",
    "\n",
    "The resulting weighted network will be added to your UrbanAccess network object inside `osm_nodes` and `osm_edges`"
   ]
  },
  {
   "cell_type": "code",
   "execution_count": null,
   "id": "481590a1",
   "metadata": {
    "slideshow": {
     "slide_type": "fragment"
    }
   },
   "outputs": [],
   "source": [
    "ua.osm.network.create_osm_net(osm_edges=edges,\n",
    "                              osm_nodes=nodes,\n",
    "                              travel_speed_mph=3)"
   ]
  },
  {
   "cell_type": "markdown",
   "id": "ddbd6ee1",
   "metadata": {
    "slideshow": {
     "slide_type": "slide"
    }
   },
   "source": [
    "Let's inspect the results which we can access inside of the existing `urbanaccess_net` variable:"
   ]
  },
  {
   "cell_type": "code",
   "execution_count": null,
   "id": "7b6f8448",
   "metadata": {
    "slideshow": {
     "slide_type": "fragment"
    }
   },
   "outputs": [],
   "source": [
    "urbanaccess_net.osm_nodes.head()"
   ]
  },
  {
   "cell_type": "code",
   "execution_count": null,
   "id": "3496f20f",
   "metadata": {
    "slideshow": {
     "slide_type": "fragment"
    }
   },
   "outputs": [],
   "source": [
    "urbanaccess_net.osm_edges.head()"
   ]
  },
  {
   "cell_type": "code",
   "execution_count": null,
   "id": "6469eee8",
   "metadata": {
    "slideshow": {
     "slide_type": "fragment"
    }
   },
   "outputs": [],
   "source": [
    "urbanaccess_net.osm_nodes.plot(kind='scatter', x='x', y='y', s=0.1)"
   ]
  },
  {
   "cell_type": "markdown",
   "id": "850de33d",
   "metadata": {
    "slideshow": {
     "slide_type": "slide"
    }
   },
   "source": [
    "## 3.5. Create an integrated transit and pedestrian network"
   ]
  },
  {
   "cell_type": "markdown",
   "id": "b44573b2",
   "metadata": {
    "slideshow": {
     "slide_type": "fragment"
    }
   },
   "source": [
    "Now let's integrate the two networks together. The resulting graph will be added to your existing UrbanAccess network object. After running this step, your network will be ready to be used with Pandana.\n",
    "\n",
    "The resulting integrated network will be added to your UrbanAccess network object inside `net_nodes` and `net_edges`"
   ]
  },
  {
   "cell_type": "code",
   "execution_count": null,
   "id": "1f0fdff4",
   "metadata": {
    "slideshow": {
     "slide_type": "fragment"
    }
   },
   "outputs": [],
   "source": [
    "ua.network.integrate_network(urbanaccess_network=urbanaccess_net,\n",
    "                             headways=False)"
   ]
  },
  {
   "cell_type": "markdown",
   "id": "9225c02e",
   "metadata": {
    "slideshow": {
     "slide_type": "slide"
    }
   },
   "source": [
    "Let's inspect the results which we can access inside of the existing `urbanaccess_net` variable:"
   ]
  },
  {
   "cell_type": "code",
   "execution_count": null,
   "id": "1444c442",
   "metadata": {
    "slideshow": {
     "slide_type": "fragment"
    }
   },
   "outputs": [],
   "source": [
    "urbanaccess_net.net_nodes.head()"
   ]
  },
  {
   "cell_type": "code",
   "execution_count": null,
   "id": "275c3ed2",
   "metadata": {
    "slideshow": {
     "slide_type": "fragment"
    }
   },
   "outputs": [],
   "source": [
    "urbanaccess_net.net_edges.head()"
   ]
  },
  {
   "cell_type": "code",
   "execution_count": null,
   "id": "ab2adc32",
   "metadata": {
    "slideshow": {
     "slide_type": "fragment"
    }
   },
   "outputs": [],
   "source": [
    "urbanaccess_net.net_edges[urbanaccess_net.net_edges['net_type'] == 'transit'].head()"
   ]
  },
  {
   "cell_type": "markdown",
   "id": "1bc1d2ee",
   "metadata": {
    "collapsed": true,
    "slideshow": {
     "slide_type": "slide"
    }
   },
   "source": [
    "## 3.6 Reading/Writing from disk"
   ]
  },
  {
   "cell_type": "markdown",
   "id": "4179b54d",
   "metadata": {
    "slideshow": {
     "slide_type": "fragment"
    }
   },
   "source": [
    "You can save the final processed integrated network `net_nodes` and `net_edges` to disk inside of a HDF5 file. By default the file will be saved to the directory of this notebook in the folder `data`"
   ]
  },
  {
   "cell_type": "code",
   "execution_count": null,
   "id": "8ff8207a",
   "metadata": {
    "slideshow": {
     "slide_type": "fragment"
    }
   },
   "outputs": [],
   "source": [
    "ua.network.save_network(urbanaccess_network=urbanaccess_net,\n",
    "                        filename='final_net.h5',\n",
    "                        overwrite_key = True)"
   ]
  },
  {
   "cell_type": "markdown",
   "id": "b2f594b9",
   "metadata": {
    "slideshow": {
     "slide_type": "fragment"
    }
   },
   "source": [
    "You can load an existing processed integrated network HDF5 file from disk into a UrbanAccess network object."
   ]
  },
  {
   "cell_type": "code",
   "execution_count": null,
   "id": "714127d8",
   "metadata": {
    "slideshow": {
     "slide_type": "fragment"
    }
   },
   "outputs": [],
   "source": [
    "urbanaccess_net = ua.network.load_network(filename='final_net.h5')"
   ]
  },
  {
   "cell_type": "markdown",
   "id": "6d9fb892",
   "metadata": {
    "collapsed": true,
    "slideshow": {
     "slide_type": "slide"
    }
   },
   "source": [
    "## 3.7 Visualize the network"
   ]
  },
  {
   "cell_type": "markdown",
   "id": "32fa9c16",
   "metadata": {
    "slideshow": {
     "slide_type": "fragment"
    }
   },
   "source": [
    "You can visualize the network you just created using basic UrbanAccess plot functions"
   ]
  },
  {
   "cell_type": "markdown",
   "id": "e825d377",
   "metadata": {
    "collapsed": true,
    "slideshow": {
     "slide_type": "slide"
    }
   },
   "source": [
    "### 3.7.1. Integrated network"
   ]
  },
  {
   "cell_type": "code",
   "execution_count": null,
   "id": "1e8ecc4b",
   "metadata": {
    "slideshow": {
     "slide_type": "fragment"
    }
   },
   "outputs": [],
   "source": [
    "ua.plot.plot_net(nodes=urbanaccess_net.net_nodes,\n",
    "                 edges=urbanaccess_net.net_edges,\n",
    "                 bbox=bbox,\n",
    "                 fig_height=30, margin=0.02,\n",
    "                 edge_color='#999999', edge_linewidth=1, edge_alpha=1,\n",
    "                 node_color='black', node_size=1.1, node_alpha=1, node_edgecolor='none', node_zorder=3, nodes_only=False)"
   ]
  },
  {
   "cell_type": "markdown",
   "id": "68441157",
   "metadata": {
    "collapsed": true,
    "slideshow": {
     "slide_type": "slide"
    }
   },
   "source": [
    "### 3.7.2. Integrated network by travel time"
   ]
  },
  {
   "cell_type": "markdown",
   "id": "5169e0d2",
   "metadata": {
    "slideshow": {
     "slide_type": "fragment"
    }
   },
   "source": [
    "Use the `col_colors` function to color edges by travel time. In this case the darker red the higher the travel times."
   ]
  },
  {
   "cell_type": "markdown",
   "id": "7b8ffb8d",
   "metadata": {
    "slideshow": {
     "slide_type": "fragment"
    }
   },
   "source": [
    "Note the ability to see AC Transit's major bus arterial routes (in darker red) and transfer locations and BART rail network (rail stations are visible by the multiple bus connections at certain junctions in the network most visible in downtown Oakland at 19th, 12th Street, and Lake Merritt stations and Fruitvale and Coliseum stations) with the underlying pedestrian network. Downtown Oakland is located near the white cutout in the northeast middle section of the network which represents Lake Merritt."
   ]
  },
  {
   "cell_type": "code",
   "execution_count": null,
   "id": "d44fad87",
   "metadata": {
    "slideshow": {
     "slide_type": "fragment"
    }
   },
   "outputs": [],
   "source": [
    "edgecolor = ua.plot.col_colors(df=urbanaccess_net.net_edges, col='weight', cmap='gist_heat_r', num_bins=5)\n",
    "ua.plot.plot_net(nodes=urbanaccess_net.net_nodes,\n",
    "                 edges=urbanaccess_net.net_edges,\n",
    "                 bbox=bbox,\n",
    "                 fig_height=30, margin=0.02,\n",
    "                 edge_color=edgecolor, edge_linewidth=1, edge_alpha=0.7,\n",
    "                 node_color='black', node_size=0, node_alpha=1, node_edgecolor='none', node_zorder=3, nodes_only=False)"
   ]
  },
  {
   "cell_type": "markdown",
   "id": "9b12972e",
   "metadata": {
    "slideshow": {
     "slide_type": "slide"
    }
   },
   "source": [
    "Let's zoom in closer to downtown Oakland using a new smaller extent bbox. Note the bus routes on the major arterials and the BART routes from station to station."
   ]
  },
  {
   "cell_type": "code",
   "execution_count": null,
   "id": "55b2ff30",
   "metadata": {
    "slideshow": {
     "slide_type": "fragment"
    }
   },
   "outputs": [],
   "source": [
    "edgecolor = ua.plot.col_colors(df=urbanaccess_net.net_edges, col='weight', cmap='gist_heat_r', num_bins=5)\n",
    "ua.plot.plot_net(nodes=urbanaccess_net.net_nodes,\n",
    "                 edges=urbanaccess_net.net_edges,\n",
    "                 bbox=(-122.282295, 37.795, -122.258434, 37.816022),\n",
    "                 fig_height=30, margin=0.02,\n",
    "                 edge_color=edgecolor, edge_linewidth=1, edge_alpha=0.7,\n",
    "                 node_color='black', node_size=0, node_alpha=1, node_edgecolor='none', node_zorder=3, nodes_only=False)"
   ]
  },
  {
   "cell_type": "markdown",
   "id": "06fad6ea",
   "metadata": {
    "collapsed": true,
    "slideshow": {
     "slide_type": "slide"
    }
   },
   "source": [
    "### 3.7.3. Transit network"
   ]
  },
  {
   "cell_type": "markdown",
   "id": "768560f6",
   "metadata": {
    "slideshow": {
     "slide_type": "fragment"
    }
   },
   "source": [
    "You can also slice the network by network type"
   ]
  },
  {
   "cell_type": "code",
   "execution_count": null,
   "id": "ce650683",
   "metadata": {
    "slideshow": {
     "slide_type": "fragment"
    }
   },
   "outputs": [],
   "source": [
    "ua.plot.plot_net(nodes=urbanaccess_net.net_nodes,\n",
    "                 edges=urbanaccess_net.net_edges[urbanaccess_net.net_edges['net_type']=='transit'],\n",
    "                 bbox=None,\n",
    "                 fig_height=30, margin=0.02,\n",
    "                 edge_color='#999999', edge_linewidth=1, edge_alpha=1,\n",
    "                 node_color='black', node_size=0, node_alpha=1, node_edgecolor='none', node_zorder=3, nodes_only=False)"
   ]
  },
  {
   "cell_type": "markdown",
   "id": "fdf29058",
   "metadata": {
    "collapsed": true
   },
   "source": [
    "### 3.7.4. Pedestrian network"
   ]
  },
  {
   "cell_type": "code",
   "execution_count": null,
   "id": "ed1a126d",
   "metadata": {},
   "outputs": [],
   "source": [
    "ua.plot.plot_net(nodes=urbanaccess_net.net_nodes,\n",
    "                 edges=urbanaccess_net.net_edges[urbanaccess_net.net_edges['net_type']=='walk'],\n",
    "                 bbox=None,\n",
    "                 fig_height=30, margin=0.02,\n",
    "                 edge_color='#999999', edge_linewidth=1, edge_alpha=1,\n",
    "                 node_color='black', node_size=0, node_alpha=1, node_edgecolor='none', node_zorder=3, nodes_only=False)"
   ]
  },
  {
   "cell_type": "markdown",
   "id": "39d6556c",
   "metadata": {
    "collapsed": true
   },
   "source": [
    "### 3.7.5. Transit network: AC Transit Route 51A"
   ]
  },
  {
   "cell_type": "markdown",
   "id": "f0085278",
   "metadata": {},
   "source": [
    "You can slice the network using any attribute in edges. In this case let's examine one route for AC Transit route 51A."
   ]
  },
  {
   "cell_type": "markdown",
   "id": "52ba4f09",
   "metadata": {},
   "source": [
    "Looking at what routes are in the network for 51A we see route id: `51A-141_ac_transit`"
   ]
  },
  {
   "cell_type": "code",
   "execution_count": null,
   "id": "42f79b2b",
   "metadata": {},
   "outputs": [],
   "source": [
    "urbanaccess_net.net_edges['unique_route_id'].unique()"
   ]
  },
  {
   "cell_type": "code",
   "execution_count": null,
   "id": "ed6403f6",
   "metadata": {},
   "outputs": [],
   "source": [
    "ua.plot.plot_net(nodes=urbanaccess_net.net_nodes,\n",
    "                 edges=urbanaccess_net.net_edges[urbanaccess_net.net_edges['unique_route_id']=='51A-141_ac_transit'],\n",
    "                 bbox=bbox,\n",
    "                 fig_height=30, margin=0.02,\n",
    "                 edge_color='#999999', edge_linewidth=1, edge_alpha=1,\n",
    "                 node_color='black', node_size=0, node_alpha=1, node_edgecolor='none', node_zorder=3, nodes_only=False)"
   ]
  },
  {
   "cell_type": "markdown",
   "id": "676d57b0",
   "metadata": {
    "collapsed": true
   },
   "source": [
    "### 3.7.6. Transit network: BART network"
   ]
  },
  {
   "cell_type": "markdown",
   "id": "7898107e",
   "metadata": {},
   "source": [
    "We can also slice the data by agency. In this case let's view all BART routes.\n",
    "\n",
    "Looking at what agencies are in the network for BART we see agency id: `bay_area_rapid_transit`"
   ]
  },
  {
   "cell_type": "code",
   "execution_count": null,
   "id": "63005911",
   "metadata": {},
   "outputs": [],
   "source": [
    "urbanaccess_net.net_edges['unique_agency_id'].unique()"
   ]
  },
  {
   "cell_type": "code",
   "execution_count": null,
   "id": "12165ae1",
   "metadata": {},
   "outputs": [],
   "source": [
    "ua.plot.plot_net(nodes=urbanaccess_net.net_nodes,\n",
    "                 edges=urbanaccess_net.net_edges[urbanaccess_net.net_edges['unique_agency_id']=='bay_area_rapid_transit'],\n",
    "                 bbox=bbox,\n",
    "                 fig_height=30, margin=0.02,\n",
    "                 edge_color='#999999', edge_linewidth=1, edge_alpha=1,\n",
    "                 node_color='black', node_size=0, node_alpha=1, node_edgecolor='none', node_zorder=3, nodes_only=False)"
   ]
  },
  {
   "cell_type": "markdown",
   "id": "4959799f",
   "metadata": {
    "collapsed": true
   },
   "source": [
    "## 3.8. Add average headways to network travel time"
   ]
  },
  {
   "cell_type": "markdown",
   "id": "c65cec24",
   "metadata": {
    "collapsed": true
   },
   "source": [
    "### 3.8.1. Calculate route stop level headways"
   ]
  },
  {
   "cell_type": "markdown",
   "id": "23ed99dd",
   "metadata": {},
   "source": [
    "The network we have generated so far only contains pure travel times. UrbanAccess allows for the calculation of and addition of route stop level average headways to the network. This is used as a proxy for passenger wait times at stops and stations. The route stop level average headway are added to the pedestrian to transit connector edges."
   ]
  },
  {
   "cell_type": "markdown",
   "id": "0ac88523",
   "metadata": {
    "collapsed": true
   },
   "source": [
    "Let's calculate headways for the same AM Peak time period. Statistics on route stop level headways will be added to your GTFS transit data object inside of `headways`"
   ]
  },
  {
   "cell_type": "code",
   "execution_count": null,
   "id": "72208f04",
   "metadata": {},
   "outputs": [],
   "source": [
    "ua.gtfs.headways.headways(gtfsfeeds_df=loaded_feeds,\n",
    "                          headway_timerange=['07:00:00','10:00:00'])"
   ]
  },
  {
   "cell_type": "code",
   "execution_count": null,
   "id": "8a918f4f",
   "metadata": {},
   "outputs": [],
   "source": [
    "loaded_feeds.headways.head()"
   ]
  },
  {
   "cell_type": "markdown",
   "id": "c08f9c89",
   "metadata": {
    "collapsed": true
   },
   "source": [
    "### 3.8.2. Add the route stop level average headways to your integrated network"
   ]
  },
  {
   "cell_type": "markdown",
   "id": "af63561f",
   "metadata": {},
   "source": [
    "Now that headways have been calculated and added to your GTFS transit feed object, you can use them to generate a new integrated network that incorporates the headways within the pedestrian to transit connector edge travel times."
   ]
  },
  {
   "cell_type": "code",
   "execution_count": null,
   "id": "d56501a0",
   "metadata": {},
   "outputs": [],
   "source": [
    "ua.network.integrate_network(urbanaccess_network=urbanaccess_net,\n",
    "                             headways=True,\n",
    "                             urbanaccess_gtfsfeeds_df=loaded_feeds,\n",
    "                             headway_statistic='mean')"
   ]
  },
  {
   "cell_type": "markdown",
   "id": "84c49fbe",
   "metadata": {},
   "source": [
    "### 3.8.3. Integrated network by travel time with average headways"
   ]
  },
  {
   "cell_type": "code",
   "execution_count": null,
   "id": "c8d58aa6",
   "metadata": {},
   "outputs": [],
   "source": [
    "edgecolor = ua.plot.col_colors(df=urbanaccess_net.net_edges, col='weight', cmap='gist_heat_r', num_bins=5)\n",
    "ua.plot.plot_net(nodes=urbanaccess_net.net_nodes,\n",
    "                 edges=urbanaccess_net.net_edges,\n",
    "                 bbox=bbox,\n",
    "                 fig_height=30, margin=0.02,\n",
    "                 edge_color=edgecolor, edge_linewidth=1, edge_alpha=0.7,\n",
    "                 node_color='black', node_size=0, node_alpha=1, node_edgecolor='none', node_zorder=3, nodes_only=False)"
   ]
  },
  {
   "cell_type": "markdown",
   "id": "d2799c38",
   "metadata": {
    "collapsed": true
   },
   "source": [
    "## 3.9. Using an UrbanAccess network with Pandana"
   ]
  },
  {
   "cell_type": "markdown",
   "id": "b4971221",
   "metadata": {
    "collapsed": true
   },
   "source": [
    "Pandana (Pandas Network Analysis) is a tool to compute network accessibility metrics.\n",
    "\n",
    "Now that we have an integrated transit and pedestrian network that has been formatted for use with Pandana, we can now use Pandana right away to compute accessibility metrics.\n",
    "\n",
    "There are a couple of things to remember about UrbanAccess and Pandana:\n",
    "- UrbanAccess generates by default a one way network. One way means there is an explicit edge for each direction in the edge table. Where applicable, it is important to set any Pandana `two_way` parameters to `False` (they are `True` by default) to indicate that the network is a one way network.\n",
    "- As of Pandana v0.3.0, `node ids` and `from` and `to` columns in your network must be integer type and not string. UrbanAccess automatically generates both string and integer types so use the `from_int` and `to_int` columns in edges and the index in nodes `id_int`.\n",
    "- UrbanAccess by default will generate edge weights that represent travel time in units of minutes.\n",
    "\n",
    "For more on Pandana see the:\n",
    "\n",
    "**Pandana repo:** https://github.com/UDST/pandana \n",
    "\n",
    "**Pandana documentation:** http://udst.github.io/pandana/"
   ]
  },
  {
   "cell_type": "markdown",
   "id": "7b6d3758",
   "metadata": {
    "collapsed": true
   },
   "source": [
    "### 3.9.1. Load Census block data"
   ]
  },
  {
   "cell_type": "markdown",
   "id": "6c24a22d",
   "metadata": {},
   "source": [
    "Let's load 2010 Census block data for the 9 county Bay Area. Note: These data have been processed from original Census and LEHD data.\n",
    "\n",
    "The data is located in the `demo` folder on the repo with this notebook."
   ]
  },
  {
   "cell_type": "code",
   "execution_count": null,
   "id": "ec3cad10",
   "metadata": {
    "scrolled": true
   },
   "outputs": [],
   "source": [
    "blocks = pd.read_hdf('../data/bay_area_demo_data.h5','blocks')\n",
    "# remove blocks that contain all water\n",
    "blocks = blocks[blocks['square_meters_land'] != 0]\n",
    "print('Total number of blocks: {:,}'.format(len(blocks)))\n",
    "blocks.head()"
   ]
  },
  {
   "cell_type": "markdown",
   "id": "c0444222",
   "metadata": {},
   "source": [
    "Let's subset the Census data to just be the bounding box for Oakland"
   ]
  },
  {
   "cell_type": "code",
   "execution_count": null,
   "id": "8af143ba",
   "metadata": {},
   "outputs": [],
   "source": [
    "lng_max, lat_min, lng_min, lat_max = bbox\n",
    "outside_bbox = blocks.loc[~(((lng_max < blocks[\"x\"]) & (blocks[\"x\"] < lng_min)) & ((lat_min < blocks[\"y\"]) & (blocks[\"y\"] < lat_max)))]\n",
    "blocks_subset = blocks.drop(outside_bbox.index)\n",
    "print('Total number of subset blocks: {:,}'.format(len(blocks_subset)))"
   ]
  },
  {
   "cell_type": "code",
   "execution_count": null,
   "id": "1e3e0c7c",
   "metadata": {
    "scrolled": false
   },
   "outputs": [],
   "source": [
    "blocks_subset.plot(kind='scatter', x='x', y='y', s=0.1)"
   ]
  },
  {
   "cell_type": "markdown",
   "id": "e1edf6da",
   "metadata": {},
   "source": [
    "### 3.9.2. Initialize the Pandana network"
   ]
  },
  {
   "cell_type": "markdown",
   "id": "dafabe15",
   "metadata": {},
   "source": [
    "Let's initialize our Pandana network object using our transit and pedestrian network we created. Note: the `from_int` and `to_int` as well as the `twoway=False` denoting this is a explicit one way network."
   ]
  },
  {
   "cell_type": "code",
   "execution_count": null,
   "id": "ea258aea",
   "metadata": {},
   "outputs": [],
   "source": [
    "s_time = time.time()\n",
    "transit_ped_net = pdna.Network(urbanaccess_net.net_nodes[\"x\"],\n",
    "                               urbanaccess_net.net_nodes[\"y\"],\n",
    "                               urbanaccess_net.net_edges[\"from_int\"],\n",
    "                               urbanaccess_net.net_edges[\"to_int\"],\n",
    "                               urbanaccess_net.net_edges[[\"weight\"]], \n",
    "                               twoway=False)\n",
    "print('Took {:,.2f} seconds'.format(time.time() - s_time))"
   ]
  },
  {
   "cell_type": "markdown",
   "id": "a2d07ac2",
   "metadata": {},
   "source": [
    "Now let's set our blocks on to the network"
   ]
  },
  {
   "cell_type": "code",
   "execution_count": null,
   "id": "4666ac30",
   "metadata": {},
   "outputs": [],
   "source": [
    "blocks_subset['node_id'] = transit_ped_net.get_node_ids(blocks_subset['x'], blocks_subset['y'])"
   ]
  },
  {
   "cell_type": "markdown",
   "id": "f63304e2",
   "metadata": {},
   "source": [
    "### 3.9.3. Calculate cumulative accessibility"
   ]
  },
  {
   "cell_type": "markdown",
   "id": "2b9280a9",
   "metadata": {},
   "source": [
    "Now let's compute an accessibility metric, in this case a cumulative accessibility metric. See Pandana for other metrics that can be calculated. "
   ]
  },
  {
   "cell_type": "markdown",
   "id": "0228600d",
   "metadata": {},
   "source": [
    "Let's set the block variables we want to use as our accessibly metric on the Pandana network. In this case let's use `jobs`"
   ]
  },
  {
   "cell_type": "code",
   "execution_count": null,
   "id": "c054d05b",
   "metadata": {},
   "outputs": [],
   "source": [
    "transit_ped_net.set(blocks_subset.node_id, variable = blocks_subset.jobs, name='jobs')"
   ]
  },
  {
   "cell_type": "markdown",
   "id": "e73d4254",
   "metadata": {},
   "source": [
    "Now let's run an cumulative accessibility query using our network and the jobs variable for three different travel time thresholds: 15, 30, 45 minutes."
   ]
  },
  {
   "cell_type": "markdown",
   "id": "ad65f110",
   "metadata": {},
   "source": [
    "Note: Depending on network size, radius threshold, computer processing power, and whether or not you are using multiple cores the compute process may take some time."
   ]
  },
  {
   "cell_type": "code",
   "execution_count": null,
   "id": "d369b1f2",
   "metadata": {},
   "outputs": [],
   "source": [
    "s_time = time.time()\n",
    "jobs_45 = transit_ped_net.aggregate(45, type='sum', decay='linear', name='jobs')\n",
    "jobs_30 = transit_ped_net.aggregate(30, type='sum', decay='linear', name='jobs')\n",
    "jobs_15 = transit_ped_net.aggregate(15, type='sum', decay='linear', name='jobs')\n",
    "print('Took {:,.2f} seconds'.format(time.time() - s_time))"
   ]
  },
  {
   "cell_type": "markdown",
   "id": "af9261ed",
   "metadata": {},
   "source": [
    "Quickly visualize the accessibility query results. As expected, note that a travel time of 15 minutes results in a lower number of jobs accessible at each network node."
   ]
  },
  {
   "cell_type": "code",
   "execution_count": null,
   "id": "0c08dae6",
   "metadata": {},
   "outputs": [],
   "source": [
    "print(jobs_45.head())\n",
    "print(jobs_30.head())\n",
    "print(jobs_15.head())"
   ]
  },
  {
   "cell_type": "markdown",
   "id": "4c5f324b",
   "metadata": {},
   "source": [
    "### 3.9.4. Jobs accessible within 15 minutes"
   ]
  },
  {
   "cell_type": "markdown",
   "id": "e28c68e4",
   "metadata": {},
   "source": [
    "Note how the radius of the number of jobs accessible expands as the time threshold increases where high accessibility is indicated in dark red. You can easily see downtown Oakland has the highest accessibility due to a convergence of transit routes and because downtown is where the majority of jobs in the area are located. Other high accessibility areas are visible elsewhere directly adjacent to BART metro rail stations of West Oakland, Fruitvale, and Coliseum and AC Transit bus routes on the main arterial road corridors."
   ]
  },
  {
   "cell_type": "code",
   "execution_count": null,
   "id": "218a4d62",
   "metadata": {},
   "outputs": [],
   "source": [
    "s_time = time.time()\n",
    "\n",
    "fig = plt.subplots(figsize=(20,20))\n",
    "\n",
    "data_crs = ccrs.PlateCarree()\n",
    "ax = plt.axes(projection=ccrs.epsg(26943))\n",
    "ax.add_feature(cartopy.feature.GSHHSFeature(scale='full'), edgecolor='grey')\n",
    "\n",
    "plt.scatter(transit_ped_net.nodes_df.x, transit_ped_net.nodes_df.y, \n",
    "            c=jobs_15, s=4, cmap='gist_heat_r', edgecolor='none', transform=data_crs)\n",
    "cb = plt.colorbar()\n",
    "\n",
    "print('Took {:,.2f} seconds'.format(time.time() - s_time))"
   ]
  },
  {
   "cell_type": "markdown",
   "id": "2e855303",
   "metadata": {
    "pycharm": {
     "name": "#%% md\n"
    }
   },
   "source": [
    "### 3.9.5. Jobs accessible within 30 minutes"
   ]
  },
  {
   "cell_type": "code",
   "execution_count": null,
   "id": "266249cc",
   "metadata": {},
   "outputs": [],
   "source": [
    "s_time = time.time()\n",
    "\n",
    "fig = plt.subplots(figsize=(20,20))\n",
    "\n",
    "data_crs = ccrs.PlateCarree()\n",
    "ax = plt.axes(projection=ccrs.epsg(26943))\n",
    "ax.add_feature(cartopy.feature.GSHHSFeature(scale='full'), edgecolor='grey')\n",
    "\n",
    "plt.scatter(transit_ped_net.nodes_df.x, transit_ped_net.nodes_df.y, \n",
    "            c=jobs_30, s=4, cmap='gist_heat_r', edgecolor='none', transform=data_crs)\n",
    "cb = plt.colorbar()\n",
    "\n",
    "print('Took {:,.2f} seconds'.format(time.time() - s_time))"
   ]
  },
  {
   "cell_type": "markdown",
   "id": "6bfc7ae0",
   "metadata": {},
   "source": [
    "### 3.9.6. Jobs accessible within 45 minutes"
   ]
  },
  {
   "cell_type": "code",
   "execution_count": null,
   "id": "557566e3",
   "metadata": {},
   "outputs": [],
   "source": [
    "s_time = time.time()\n",
    "\n",
    "fig = plt.subplots(figsize=(20,20))\n",
    "\n",
    "data_crs = ccrs.PlateCarree()\n",
    "ax = plt.axes(projection=ccrs.epsg(26943))\n",
    "ax.add_feature(cartopy.feature.GSHHSFeature(scale='full'), edgecolor='grey')\n",
    "\n",
    "plt.scatter(transit_ped_net.nodes_df.x, transit_ped_net.nodes_df.y, \n",
    "            c=jobs_45, s=4, cmap='gist_heat_r', edgecolor='none', transform=data_crs)\n",
    "cb = plt.colorbar()\n",
    "\n",
    "print('Took {:,.2f} seconds'.format(time.time() - s_time))"
   ]
  },
  {
   "cell_type": "markdown",
   "id": "d44e0faf",
   "metadata": {},
   "source": [
    "# 4. Questions?"
   ]
  },
  {
   "cell_type": "markdown",
   "id": "7a062394",
   "metadata": {},
   "source": [
    "# 5. For next time "
   ]
  }
 ],
 "metadata": {
  "kernelspec": {
   "display_name": "Python [conda env:cp255] *",
   "language": "python",
   "name": "conda-env-cp255-py"
  },
  "language_info": {
   "codemirror_mode": {
    "name": "ipython",
    "version": 3
   },
   "file_extension": ".py",
   "mimetype": "text/x-python",
   "name": "python",
   "nbconvert_exporter": "python",
   "pygments_lexer": "ipython3",
   "version": "3.9.10"
  },
  "toc": {
   "base_numbering": 1,
   "nav_menu": {},
   "number_sections": false,
   "sideBar": false,
   "skip_h1_title": false,
   "title_cell": "Table of Contents",
   "title_sidebar": "Contents",
   "toc_cell": false,
   "toc_position": {},
   "toc_section_display": true,
   "toc_window_display": true
  }
 },
 "nbformat": 4,
 "nbformat_minor": 5
}
