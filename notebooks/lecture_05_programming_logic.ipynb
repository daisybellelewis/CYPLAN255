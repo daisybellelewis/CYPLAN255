{
 "cells": [
  {
   "cell_type": "markdown",
   "id": "d307746f",
   "metadata": {
    "slideshow": {
     "slide_type": "slide"
    }
   },
   "source": [
    "# CYPLAN255\n",
    "### Urban Informatics and Visualization"
   ]
  },
  {
   "cell_type": "markdown",
   "id": "203d63df",
   "metadata": {
    "slideshow": {
     "slide_type": "slide"
    }
   },
   "source": [
    "HIT RECORD and TRANSCRIBE"
   ]
  },
  {
   "cell_type": "markdown",
   "id": "d8297602",
   "metadata": {
    "slideshow": {
     "slide_type": "slide"
    }
   },
   "source": [
    "# Lecture 05 -- Programming Logic\n",
    "## Flow Control in Python\n",
    "*******\n",
    "February 7, 2022"
   ]
  },
  {
   "cell_type": "markdown",
   "id": "73c1a82f",
   "metadata": {
    "slideshow": {
     "slide_type": "slide"
    }
   },
   "source": [
    "## Agenda\n",
    "1. Announcements\n",
    "2. Programming Logic - Notebook \"demo\"\n",
    "3. For next time\n",
    "4. Questions\n"
   ]
  },
  {
   "cell_type": "markdown",
   "id": "97eabd08",
   "metadata": {
    "slideshow": {
     "slide_type": "slide"
    }
   },
   "source": [
    "# 1. Announcements"
   ]
  },
  {
   "cell_type": "markdown",
   "id": "d224b671",
   "metadata": {
    "slideshow": {
     "slide_type": "fragment"
    }
   },
   "source": [
    "1. Updated GitHub cheat sheet\n",
    "2. Assignment 1: Extra credit or extra time?\n",
    "3. Office hours melee begins today at 3pm in 410b Bauer Wurster"
   ]
  },
  {
   "cell_type": "markdown",
   "id": "16004abe",
   "metadata": {
    "slideshow": {
     "slide_type": "slide"
    }
   },
   "source": [
    "# 2. Programming Logic"
   ]
  },
  {
   "cell_type": "markdown",
   "id": "e44e28be",
   "metadata": {
    "slideshow": {
     "slide_type": "slide"
    }
   },
   "source": [
    "# Programming Logic and Flow Control  in Python\n",
    "\n",
    "So far we have learned about Python data types and some of the methods available to operate on them.  We managed to do a bit of functional programming to reorganize the contents of a string to change it into a different string. But real programming requires more tools.  This session will focus on the following tools:\n",
    "\n",
    "* **Booleans** - test whether a condition is met or not\n",
    "* **Conditionals** - do something based on whether a condition is met or not\n",
    "* **Iterables** - automate\n",
    "\n",
    "With these tools, we can begin to do some real programming."
   ]
  },
  {
   "cell_type": "markdown",
   "id": "5219e731",
   "metadata": {
    "slideshow": {
     "slide_type": "slide"
    }
   },
   "source": [
    "## Booleans"
   ]
  },
  {
   "cell_type": "markdown",
   "id": "466d4694",
   "metadata": {
    "slideshow": {
     "slide_type": "fragment"
    }
   },
   "source": [
    "Python has four \"atomic\" built-in data types (things like lists and dictionaries are not atomic because they are comprised of other Python objects of various types). We've already seen three: `int`, `float`, and `str`. The 4th is `bool`, short for boolean.\n",
    "\n",
    "`bool` objects in Python can only have one of two values: `True` or `False`. These might look like strings, but they are not:"
   ]
  },
  {
   "cell_type": "code",
   "execution_count": null,
   "id": "c16fa6aa",
   "metadata": {
    "slideshow": {
     "slide_type": "fragment"
    }
   },
   "outputs": [],
   "source": [
    "type(True)"
   ]
  },
  {
   "cell_type": "code",
   "execution_count": null,
   "id": "ed312bd5",
   "metadata": {
    "slideshow": {
     "slide_type": "fragment"
    }
   },
   "outputs": [],
   "source": [
    "type(\"True\")"
   ]
  },
  {
   "cell_type": "markdown",
   "id": "2cd5adbe",
   "metadata": {
    "slideshow": {
     "slide_type": "slide"
    }
   },
   "source": [
    "A Boolean **expression** is one that when evaluated returns a `bool`, either `True` or `False`. You can think of it as making an assertion, and having Python tell you if you are right or not in making that assertion. A fact checker, in a sense. \n",
    "\n",
    "It does not pass moral judgments. It will only tell you if your assertion is correct or incorrect. Programming logic is very literal, and Boolean tests are either True or False. No room for ambiguity or grey areas when working with Booleans.    "
   ]
  },
  {
   "cell_type": "markdown",
   "id": "b5501671",
   "metadata": {
    "slideshow": {
     "slide_type": "slide"
    }
   },
   "source": [
    "We often use (in)equality operators to construct Boolean expressions. The `==` operator is an assertion that what is on the left of the operator it is equivalent to what is on its right.  The `>=` operator is greater than or equal to, and `!=` asserts that two objects are not the same. \n",
    "\n",
    "Don't be confused by the similarity of these two operators `=` and `==`: one is an assignment of a value to a variable, and the other is a comparison operator.  \n",
    "\n",
    "Booleans are a pre-requisite for writing a program that can follow conditional logic. All tests of conditional logic are based on a Boolean expression.  Some examples:"
   ]
  },
  {
   "cell_type": "markdown",
   "id": "21573f2d",
   "metadata": {
    "slideshow": {
     "slide_type": "slide"
    }
   },
   "source": [
    "Use `==` to evaluate whether two expression are equivalent"
   ]
  },
  {
   "cell_type": "code",
   "execution_count": null,
   "id": "aeaa9e95",
   "metadata": {
    "slideshow": {
     "slide_type": "fragment"
    }
   },
   "outputs": [],
   "source": [
    "2 + 2 == 4"
   ]
  },
  {
   "cell_type": "markdown",
   "id": "b3a6bc95",
   "metadata": {
    "slideshow": {
     "slide_type": "fragment"
    }
   },
   "source": [
    "Or evaluate whether two _variables_ are equivalent"
   ]
  },
  {
   "cell_type": "code",
   "execution_count": null,
   "id": "8245e570",
   "metadata": {
    "slideshow": {
     "slide_type": "fragment"
    }
   },
   "outputs": [],
   "source": [
    "a = 11\n",
    "b = 1\n",
    "a == b"
   ]
  },
  {
   "cell_type": "markdown",
   "id": "412b990e",
   "metadata": {
    "slideshow": {
     "slide_type": "slide"
    }
   },
   "source": [
    "You can also evaluate inequalities"
   ]
  },
  {
   "cell_type": "code",
   "execution_count": null,
   "id": "6cdddfee",
   "metadata": {
    "slideshow": {
     "slide_type": "fragment"
    }
   },
   "outputs": [],
   "source": [
    "a > 11"
   ]
  },
  {
   "cell_type": "code",
   "execution_count": null,
   "id": "4c8a6254",
   "metadata": {
    "slideshow": {
     "slide_type": "fragment"
    }
   },
   "outputs": [],
   "source": [
    "a >= 11"
   ]
  },
  {
   "cell_type": "code",
   "execution_count": null,
   "id": "fef4b6dd",
   "metadata": {
    "slideshow": {
     "slide_type": "fragment"
    }
   },
   "outputs": [],
   "source": [
    "a != b"
   ]
  },
  {
   "cell_type": "markdown",
   "id": "12903225",
   "metadata": {
    "slideshow": {
     "slide_type": "slide"
    }
   },
   "source": [
    "## Boolean arithmetic"
   ]
  },
  {
   "cell_type": "markdown",
   "id": "9f8b8ade",
   "metadata": {
    "slideshow": {
     "slide_type": "slide"
    }
   },
   "source": [
    "Remember, even though you can read them like strings, Booleans are not string objects. In practice they behave a lot more like integers than strings. In Python, like many (most? all?) programming languages, Booleans also have the following integer representations: "
   ]
  },
  {
   "cell_type": "code",
   "execution_count": null,
   "id": "5aa61019",
   "metadata": {
    "slideshow": {
     "slide_type": "fragment"
    }
   },
   "outputs": [],
   "source": [
    "True == 1"
   ]
  },
  {
   "cell_type": "code",
   "execution_count": null,
   "id": "8e9ac0c7",
   "metadata": {
    "slideshow": {
     "slide_type": "fragment"
    }
   },
   "outputs": [],
   "source": [
    "False == 0"
   ]
  },
  {
   "cell_type": "markdown",
   "id": "abbd2519",
   "metadata": {
    "slideshow": {
     "slide_type": "slide"
    }
   },
   "source": [
    "This means you can use `bool` type objects to perform arithmetic operations"
   ]
  },
  {
   "cell_type": "code",
   "execution_count": null,
   "id": "9892d972",
   "metadata": {
    "slideshow": {
     "slide_type": "fragment"
    }
   },
   "outputs": [],
   "source": [
    "True * 5"
   ]
  },
  {
   "cell_type": "code",
   "execution_count": null,
   "id": "825ddb66",
   "metadata": {
    "slideshow": {
     "slide_type": "fragment"
    }
   },
   "outputs": [],
   "source": [
    "False * 5"
   ]
  },
  {
   "cell_type": "code",
   "execution_count": null,
   "id": "4d14d7c3",
   "metadata": {
    "slideshow": {
     "slide_type": "fragment"
    }
   },
   "outputs": [],
   "source": [
    "True * False"
   ]
  },
  {
   "cell_type": "code",
   "execution_count": null,
   "id": "6ba04712",
   "metadata": {
    "slideshow": {
     "slide_type": "fragment"
    }
   },
   "outputs": [],
   "source": [
    "False * False"
   ]
  },
  {
   "cell_type": "markdown",
   "id": "db119db9",
   "metadata": {
    "slideshow": {
     "slide_type": "slide"
    }
   },
   "source": [
    "## Logical Operators"
   ]
  },
  {
   "cell_type": "markdown",
   "id": "9d1b1fc1",
   "metadata": {
    "slideshow": {
     "slide_type": "fragment"
    }
   },
   "source": [
    "Python also has built-in **logical operators** that are very useful when combined with Booleans. These include:\n",
    "- `and`\n",
    "- `or`\n",
    "- `not`"
   ]
  },
  {
   "cell_type": "markdown",
   "id": "e26d6689",
   "metadata": {
    "slideshow": {
     "slide_type": "slide"
    }
   },
   "source": [
    "The `and` and `or` operators allow you to combine multiple Boolean expressions"
   ]
  },
  {
   "cell_type": "code",
   "execution_count": null,
   "id": "1780b468",
   "metadata": {
    "slideshow": {
     "slide_type": "fragment"
    }
   },
   "outputs": [],
   "source": [
    "c = 5\n",
    "(c > 2) and (c < 5)"
   ]
  },
  {
   "cell_type": "code",
   "execution_count": null,
   "id": "97d2b982",
   "metadata": {
    "slideshow": {
     "slide_type": "fragment"
    }
   },
   "outputs": [],
   "source": [
    "(c > 2) or (c < 5)"
   ]
  },
  {
   "cell_type": "markdown",
   "id": "ada7ce28",
   "metadata": {
    "slideshow": {
     "slide_type": "slide"
    }
   },
   "source": [
    "The `not` operator acts to invert the value of a Boolean such that `True` becomes `False` and vice versa"
   ]
  },
  {
   "cell_type": "code",
   "execution_count": null,
   "id": "84e3555d",
   "metadata": {
    "slideshow": {
     "slide_type": "fragment"
    }
   },
   "outputs": [],
   "source": [
    "c == 5"
   ]
  },
  {
   "cell_type": "code",
   "execution_count": null,
   "id": "79e0d6bd",
   "metadata": {
    "slideshow": {
     "slide_type": "fragment"
    }
   },
   "outputs": [],
   "source": [
    "not (c == 5)"
   ]
  },
  {
   "cell_type": "markdown",
   "id": "cc659d12",
   "metadata": {
    "slideshow": {
     "slide_type": "slide"
    }
   },
   "source": [
    "### Question\n",
    "#### What is happening here?"
   ]
  },
  {
   "cell_type": "code",
   "execution_count": null,
   "id": "0eda0e20",
   "metadata": {
    "slideshow": {
     "slide_type": "fragment"
    }
   },
   "outputs": [],
   "source": [
    "2 and 3"
   ]
  },
  {
   "cell_type": "markdown",
   "id": "55a27f34",
   "metadata": {
    "slideshow": {
     "slide_type": "slide"
    }
   },
   "source": [
    "### A few more operators you'll find in Boolean expressions:\n",
    "- `is`\n",
    "- `in`"
   ]
  },
  {
   "cell_type": "markdown",
   "id": "1b59dd76",
   "metadata": {
    "slideshow": {
     "slide_type": "slide"
    }
   },
   "source": [
    "### `is` vs. `==`"
   ]
  },
  {
   "cell_type": "code",
   "execution_count": null,
   "id": "1201f435",
   "metadata": {
    "slideshow": {
     "slide_type": "fragment"
    }
   },
   "outputs": [],
   "source": [
    "a = [1, 2, 3]"
   ]
  },
  {
   "cell_type": "code",
   "execution_count": null,
   "id": "a13fafcf",
   "metadata": {
    "slideshow": {
     "slide_type": "fragment"
    }
   },
   "outputs": [],
   "source": [
    "b = a"
   ]
  },
  {
   "cell_type": "code",
   "execution_count": null,
   "id": "4afefb65",
   "metadata": {
    "slideshow": {
     "slide_type": "fragment"
    }
   },
   "outputs": [],
   "source": [
    "a == b"
   ]
  },
  {
   "cell_type": "code",
   "execution_count": null,
   "id": "14ce81ee",
   "metadata": {
    "slideshow": {
     "slide_type": "fragment"
    }
   },
   "outputs": [],
   "source": [
    "a is b"
   ]
  },
  {
   "cell_type": "code",
   "execution_count": null,
   "id": "38ac8b51",
   "metadata": {
    "slideshow": {
     "slide_type": "fragment"
    }
   },
   "outputs": [],
   "source": [
    "b = a.copy()"
   ]
  },
  {
   "cell_type": "code",
   "execution_count": null,
   "id": "2ffcd0d1",
   "metadata": {
    "slideshow": {
     "slide_type": "fragment"
    }
   },
   "outputs": [],
   "source": [
    "a is b"
   ]
  },
  {
   "cell_type": "code",
   "execution_count": null,
   "id": "81aff8eb",
   "metadata": {
    "slideshow": {
     "slide_type": "fragment"
    }
   },
   "outputs": [],
   "source": [
    "a == b"
   ]
  },
  {
   "cell_type": "markdown",
   "id": "614030b6",
   "metadata": {
    "slideshow": {
     "slide_type": "slide"
    }
   },
   "source": [
    "### The `in` operator"
   ]
  },
  {
   "cell_type": "markdown",
   "id": "5eba8838",
   "metadata": {
    "slideshow": {
     "slide_type": "fragment"
    }
   },
   "source": [
    "The `in` operator works with a variety of Python types, lists and strings"
   ]
  },
  {
   "cell_type": "code",
   "execution_count": null,
   "id": "b2439eba",
   "metadata": {
    "slideshow": {
     "slide_type": "fragment"
    }
   },
   "outputs": [],
   "source": [
    "1 in a"
   ]
  },
  {
   "cell_type": "code",
   "execution_count": null,
   "id": "1254a1bd",
   "metadata": {
    "scrolled": true,
    "slideshow": {
     "slide_type": "fragment"
    }
   },
   "outputs": [],
   "source": [
    "word = 'This'\n",
    "sentence = 'This is CP255'\n",
    "word in sentence"
   ]
  },
  {
   "cell_type": "markdown",
   "id": "0e8b09db",
   "metadata": {
    "slideshow": {
     "slide_type": "slide"
    }
   },
   "source": [
    "## Conditionals\n",
    "### Controlling the flow of program execution"
   ]
  },
  {
   "cell_type": "markdown",
   "id": "efed153d",
   "metadata": {
    "slideshow": {
     "slide_type": "fragment"
    }
   },
   "source": [
    "Now that we know that we can construct Boolean tests for a wide variety of situations, let's explore how they can help us in constructing conditional execution.  We often need to have program code that 'branches', based on specific conditions. If one condition exists, do some specific things.  If a different condition exists, do some other specific things.  Let's look at how this works.\n",
    "\n",
    "Some of the figures and examples below are drawn from this excellent resource:\n",
    "http://www.openbookproject.net/books/bpp4awd/index.html#"
   ]
  },
  {
   "cell_type": "markdown",
   "id": "698314af",
   "metadata": {
    "slideshow": {
     "slide_type": "slide"
    }
   },
   "source": [
    "### The `if` statement\n",
    "The **if** statement is a conditional statement with the following form:"
   ]
  },
  {
   "cell_type": "markdown",
   "id": "3093b080",
   "metadata": {
    "slideshow": {
     "slide_type": "fragment"
    }
   },
   "source": [
    "```\n",
    "if <BOOL>:\n",
    "    <DO STUFF>\n",
    "```"
   ]
  },
  {
   "cell_type": "markdown",
   "id": "867cea8e",
   "metadata": {
    "slideshow": {
     "slide_type": "fragment"
    }
   },
   "source": [
    "<center><img src='https://www.openbookproject.net/books/bpp4awd/_images/flowchart_if_only.png'></center>"
   ]
  },
  {
   "cell_type": "markdown",
   "id": "da94800a",
   "metadata": {
    "slideshow": {
     "slide_type": "slide"
    }
   },
   "source": [
    "An `if` statement must always terminate with a colon (`:`), followed by an indented chunk of code below it. Many Python interpreters (like IPython) will automatically indent the next line for you when you type an `if` clause followed by a colon and hit `<return>`. But take care that you ALWAYS USE FOUR (4) SPACES FOR INDENTATION IN PYTHON. \n",
    "\n",
    "The indented chunk of code contains statements that will be evaluated if and only if the Boolean expression above it evaluates to `True`. These statements can be any valid Python statements. They might compute some values, print some output, or evaluate more conditional clauses!"
   ]
  },
  {
   "cell_type": "markdown",
   "id": "685d4ea6",
   "metadata": {
    "slideshow": {
     "slide_type": "slide"
    }
   },
   "source": [
    "#### Some examples\n",
    "An `if` statement is used to execute the indented code only if some condition is met:"
   ]
  },
  {
   "cell_type": "code",
   "execution_count": null,
   "id": "8bc2c192",
   "metadata": {
    "slideshow": {
     "slide_type": "fragment"
    }
   },
   "outputs": [],
   "source": [
    "x = 8\n",
    "if x < 10:\n",
    "    print(str(x) + ' is less than 10')"
   ]
  },
  {
   "cell_type": "markdown",
   "id": "837b8475",
   "metadata": {
    "slideshow": {
     "slide_type": "fragment"
    }
   },
   "source": [
    "What happens if you change the value of `x` to 11 in the code above? Not much. The code does not have anything to do if the evaluation of the Boolean expression in the If statement returns a value of False.  We need more logic to handle different input values that may meet different conditions."
   ]
  },
  {
   "cell_type": "markdown",
   "id": "efa398d7",
   "metadata": {
    "slideshow": {
     "slide_type": "slide"
    }
   },
   "source": [
    "#### A more complicated example\n",
    "It is good practice to group Boolean expressions with parentheses to ensure the proper order of operations is followed"
   ]
  },
  {
   "cell_type": "code",
   "execution_count": null,
   "id": "58a748b7",
   "metadata": {
    "scrolled": true,
    "slideshow": {
     "slide_type": "fragment"
    }
   },
   "outputs": [],
   "source": [
    "x = 3.5\n",
    "if (x >= 3) and (x <= 6):\n",
    "    print(x, 'is between 3 and 6')"
   ]
  },
  {
   "cell_type": "markdown",
   "id": "c515674f",
   "metadata": {
    "slideshow": {
     "slide_type": "fragment"
    }
   },
   "source": [
    "By the way, notice that you can print variables and strings together in a print statement..."
   ]
  },
  {
   "cell_type": "markdown",
   "id": "e2bd2fff",
   "metadata": {
    "slideshow": {
     "slide_type": "slide"
    }
   },
   "source": [
    "### The `if else` statement\n",
    "\n",
    "It is frequently the case that you want one thing to happen when a condition it true, and something else to happen when it is false. For that we have the `if else` statement.  Its syntax is:"
   ]
  },
  {
   "cell_type": "markdown",
   "id": "f0204aaa",
   "metadata": {
    "slideshow": {
     "slide_type": "fragment"
    }
   },
   "source": [
    "```\n",
    "if <BOOL>:\n",
    "    <DO THING>\n",
    "else:\n",
    "    <DO OTHER THING>\n",
    "```"
   ]
  },
  {
   "cell_type": "markdown",
   "id": "3bae340c",
   "metadata": {
    "slideshow": {
     "slide_type": "fragment"
    }
   },
   "source": [
    "<center><img src='https://www.openbookproject.net/books/bpp4awd/_images/flowchart_if_else.png'></center>"
   ]
  },
  {
   "cell_type": "markdown",
   "id": "c95c2518",
   "metadata": {
    "slideshow": {
     "slide_type": "slide"
    }
   },
   "source": [
    "#### An example"
   ]
  },
  {
   "cell_type": "code",
   "execution_count": null,
   "id": "168ed407",
   "metadata": {
    "slideshow": {
     "slide_type": "fragment"
    }
   },
   "outputs": [],
   "source": [
    "x = 10\n",
    "if x < 10:\n",
    "    print('x is less than 10')\n",
    "else:\n",
    "    print('x is greater than or equal to 10')"
   ]
  },
  {
   "cell_type": "markdown",
   "id": "0834297b",
   "metadata": {
    "slideshow": {
     "slide_type": "slide"
    }
   },
   "source": [
    "### Chained conditionals\n",
    "\n",
    "Sometimes there are more than two possibilities and we need more than two branches. One way to express a computation like that is a chained conditional, which adds `elif`/`else if` to our syntax:"
   ]
  },
  {
   "cell_type": "markdown",
   "id": "fd806b9c",
   "metadata": {
    "slideshow": {
     "slide_type": "fragment"
    }
   },
   "source": [
    "```\n",
    "if <BOOL>:\n",
    "    <DO FIRST THING>\n",
    "elif <OTHER BOOL>:\n",
    "    <DO SECOND THING>\n",
    "else:\n",
    "    <DO THIRD THING>\n",
    "```"
   ]
  },
  {
   "cell_type": "markdown",
   "id": "2af43b79",
   "metadata": {
    "slideshow": {
     "slide_type": "fragment"
    }
   },
   "source": [
    "<center><img src='https://www.openbookproject.net/books/bpp4awd/_images/flowchart_nested_conditional.png'></center>"
   ]
  },
  {
   "cell_type": "markdown",
   "id": "d318c35e",
   "metadata": {
    "slideshow": {
     "slide_type": "slide"
    }
   },
   "source": [
    "### Example\n",
    "If the first if statement evaluates to false, you can add other Boolean tests using `elif` (short for `else if`).\n",
    "`elif` executes a code block if its condition is true. `else` catches everything else."
   ]
  },
  {
   "cell_type": "code",
   "execution_count": null,
   "id": "f3de4546",
   "metadata": {
    "slideshow": {
     "slide_type": "fragment"
    }
   },
   "outputs": [],
   "source": [
    "x = 11\n",
    "if x < 10:\n",
    "    print('x is less than 10')\n",
    "elif x == 10:\n",
    "    print('x equals 10')\n",
    "else:\n",
    "    print('x is greater than 10')"
   ]
  },
  {
   "cell_type": "markdown",
   "id": "f54331ac",
   "metadata": {
    "slideshow": {
     "slide_type": "fragment"
    }
   },
   "source": [
    "Notice that once a condition is met, the program executes that block of statements indented below it and then exits the if statement block completely."
   ]
  },
  {
   "cell_type": "markdown",
   "id": "b2f3a81d",
   "metadata": {
    "slideshow": {
     "slide_type": "slide"
    }
   },
   "source": [
    "## Your Turn\n",
    "\n",
    "Try out some experiments to make sure you are getting comfortable with the syntax for conditional statements.  Try for example, constructing the following tests in code blocks below:\n",
    "\n",
    "* Test whether a City name is in a list of city names (just type a few into a list)\n",
    "* Test first whether a variable value is less than 1000, and if so, whether it is above 500.  If not, whether it is above 250.  Print a message indicating what range the variable falls in.  Test it with several values of the variable to make sure it works correctly."
   ]
  },
  {
   "cell_type": "markdown",
   "id": "08fdc9fc",
   "metadata": {
    "slideshow": {
     "slide_type": "slide"
    }
   },
   "source": [
    "## Iteration\n",
    "\n",
    "One of the most powerful tools in programming is its capacity to automate repetitive tasks.  Much of this comes from functionality to apply operations iteratively.  We review here some of the ways to use this functionality in Python.\n",
    "\n",
    "A very useful thing to know is that many of the data types we have looked at are **iterable**.  That means that Python already knows how to iterate over its elements.  "
   ]
  },
  {
   "cell_type": "markdown",
   "id": "d63867e4",
   "metadata": {
    "slideshow": {
     "slide_type": "slide"
    }
   },
   "source": [
    "### The `for` loop"
   ]
  },
  {
   "cell_type": "markdown",
   "id": "01e36ef6",
   "metadata": {
    "slideshow": {
     "slide_type": "fragment"
    }
   },
   "source": [
    "The `for` loop is used to iterate over the elements of a sequence. It looks like this:\n"
   ]
  },
  {
   "cell_type": "markdown",
   "id": "a9249146",
   "metadata": {
    "slideshow": {
     "slide_type": "fragment"
    }
   },
   "source": [
    "```\n",
    "for <item> in <sequence>:\n",
    "    <DO STUFF>\n",
    "```"
   ]
  },
  {
   "cell_type": "markdown",
   "id": "bbb5b20a",
   "metadata": {
    "slideshow": {
     "slide_type": "slide"
    }
   },
   "source": [
    "#### An example"
   ]
  },
  {
   "cell_type": "code",
   "execution_count": null,
   "id": "c39ebab4",
   "metadata": {
    "slideshow": {
     "slide_type": "fragment"
    }
   },
   "outputs": [],
   "source": [
    "sentence = 'This is CP255'\n",
    "for character in sentence:\n",
    "    print(character)"
   ]
  },
  {
   "cell_type": "markdown",
   "id": "74e63b8b",
   "metadata": {
    "slideshow": {
     "slide_type": "fragment"
    }
   },
   "source": [
    "The word 'character' in the code above is an arbitrary variable name. It could be anything we want to call it.  It is just a reference we can use to connect to later, within the scope of the iteration, like a print statement in the example above -- we just have to refer to it by the same name.  Its value will change as we iterate through the iterable sequence."
   ]
  },
  {
   "cell_type": "markdown",
   "id": "b6b94675",
   "metadata": {
    "slideshow": {
     "slide_type": "slide"
    }
   },
   "source": [
    "#### More examples"
   ]
  },
  {
   "cell_type": "markdown",
   "id": "ef7fa456",
   "metadata": {
    "slideshow": {
     "slide_type": "fragment"
    }
   },
   "source": [
    "Looping through a list, backwards"
   ]
  },
  {
   "cell_type": "code",
   "execution_count": null,
   "id": "1a88adb9",
   "metadata": {
    "slideshow": {
     "slide_type": "fragment"
    }
   },
   "outputs": [],
   "source": [
    "list_a = [1, 2, 3, 4, 5]\n",
    "for item in reversed(list_a):\n",
    "    print(item)"
   ]
  },
  {
   "cell_type": "markdown",
   "id": "24cbaa8b",
   "metadata": {
    "slideshow": {
     "slide_type": "fragment"
    }
   },
   "source": [
    "iterate through the list, printing each element multiplied by 2"
   ]
  },
  {
   "cell_type": "code",
   "execution_count": null,
   "id": "635d64fd",
   "metadata": {
    "scrolled": true,
    "slideshow": {
     "slide_type": "fragment"
    }
   },
   "outputs": [],
   "source": [
    "numbers = [2, 4, 6, 8, 10]\n",
    "for number in numbers:\n",
    "    print(number * 2)"
   ]
  },
  {
   "cell_type": "markdown",
   "id": "6f2c6f76",
   "metadata": {
    "slideshow": {
     "slide_type": "slide"
    }
   },
   "source": [
    "Now you can begin to see how the methods you learned last week on data types can be combined with booleans and iteration to provide a lot more expressive capacity to your coding."
   ]
  },
  {
   "cell_type": "markdown",
   "id": "151c742d",
   "metadata": {
    "slideshow": {
     "slide_type": "fragment"
    }
   },
   "source": [
    "Below we use extended slice syntax to iterate in reverse. It works by doing [begin:end:step] - by leaving begin and end off and specifying a step of -1, it prints the list elements, multiplied by 2, in reverse."
   ]
  },
  {
   "cell_type": "code",
   "execution_count": null,
   "id": "0be1eefb",
   "metadata": {
    "scrolled": true,
    "slideshow": {
     "slide_type": "fragment"
    }
   },
   "outputs": [],
   "source": [
    "for number in numbers[::-1]:\n",
    "    print(number * 2)"
   ]
  },
  {
   "cell_type": "markdown",
   "id": "1dc38874",
   "metadata": {
    "slideshow": {
     "slide_type": "slide"
    }
   },
   "source": [
    "### The `while` loop\n",
    "\n",
    "Like the branching conditional clauses and the `for` loop, the `while` statement is a compound statement consisting of a header and a body. A `while` loop executes an unlimited number of times, as long at the Boolean expression is true. In general they look like this:"
   ]
  },
  {
   "cell_type": "markdown",
   "id": "b139d6bd",
   "metadata": {
    "slideshow": {
     "slide_type": "fragment"
    }
   },
   "source": [
    "```\n",
    "while <BOOL>:\n",
    "    <DO STUFF>\n",
    "```"
   ]
  },
  {
   "cell_type": "markdown",
   "id": "eced843f",
   "metadata": {
    "slideshow": {
     "slide_type": "slide"
    }
   },
   "source": [
    "#### An example"
   ]
  },
  {
   "cell_type": "code",
   "execution_count": null,
   "id": "b553fed5",
   "metadata": {
    "slideshow": {
     "slide_type": "fragment"
    }
   },
   "outputs": [],
   "source": [
    "number = 0\n",
    "prompt = \"What is the meaning of life, the universe, and everything? \"\n",
    "\n",
    "while number != \"42\":\n",
    "    new_number =  input(prompt)\n",
    "    if new_number != \"42\":\n",
    "        print('You are still searching for the meaning of the universe...')\n",
    "    else:\n",
    "        number = new_number\n",
    "print (\"You have found the meaning of the universe!\")"
   ]
  },
  {
   "cell_type": "markdown",
   "id": "94865a93",
   "metadata": {
    "slideshow": {
     "slide_type": "slide"
    }
   },
   "source": [
    "#### Beware of infite loops\n",
    "The while loop tells the computer to do something as long as the condition is met. It is therefore very important that the indented clause contains some logic to break out of the loop."
   ]
  },
  {
   "cell_type": "code",
   "execution_count": null,
   "id": "e1ab35da",
   "metadata": {
    "slideshow": {
     "slide_type": "fragment"
    }
   },
   "outputs": [],
   "source": [
    "x = 5\n",
    "while x > 0:\n",
    "    print(x, end='...')\n",
    "    x = x -1\n",
    "print('blast off!')"
   ]
  },
  {
   "cell_type": "markdown",
   "id": "1fdc12ea",
   "metadata": {
    "slideshow": {
     "slide_type": "slide"
    }
   },
   "source": [
    "#### More uses of `while` loops:"
   ]
  },
  {
   "cell_type": "markdown",
   "id": "832a52ed",
   "metadata": {
    "slideshow": {
     "slide_type": "fragment"
    }
   },
   "source": [
    "Add the numbers 0 to 10 to a list:"
   ]
  },
  {
   "cell_type": "code",
   "execution_count": null,
   "id": "d07fc31b",
   "metadata": {
    "slideshow": {
     "slide_type": "fragment"
    }
   },
   "outputs": [],
   "source": [
    "my_list = []\n",
    "x = 0\n",
    "while x < 10:\n",
    "    my_list.append(x)\n",
    "    x = x + 1 \n",
    "my_list"
   ]
  },
  {
   "cell_type": "markdown",
   "id": "d15807ae",
   "metadata": {
    "slideshow": {
     "slide_type": "fragment"
    }
   },
   "source": [
    "Create a list of even numbers smaller than 20"
   ]
  },
  {
   "cell_type": "code",
   "execution_count": null,
   "id": "a6f08af0",
   "metadata": {
    "slideshow": {
     "slide_type": "fragment"
    }
   },
   "outputs": [],
   "source": [
    "even_numbers=[]\n",
    "x=2\n",
    "while x < 20:\n",
    "    even_numbers.append(x)\n",
    "    x = x + 2\n",
    "even_numbers"
   ]
  },
  {
   "cell_type": "markdown",
   "id": "c8868d20",
   "metadata": {
    "collapsed": true,
    "slideshow": {
     "slide_type": "slide"
    }
   },
   "source": [
    "### More Ways to Use Loops"
   ]
  },
  {
   "cell_type": "markdown",
   "id": "8b8f59de",
   "metadata": {
    "slideshow": {
     "slide_type": "fragment"
    }
   },
   "source": [
    "#### Loop through items in an `dict`:"
   ]
  },
  {
   "cell_type": "code",
   "execution_count": null,
   "id": "a29af100",
   "metadata": {
    "scrolled": true,
    "slideshow": {
     "slide_type": "fragment"
    }
   },
   "outputs": [],
   "source": [
    "knights = {'gallahad': 'the pure', 'robin': 'the brave'}\n",
    "for k, v in knights.items():\n",
    "    print(k, v)"
   ]
  },
  {
   "cell_type": "markdown",
   "id": "61b5eaf3",
   "metadata": {
    "slideshow": {
     "slide_type": "slide"
    }
   },
   "source": [
    "#### Or two lists at once!"
   ]
  },
  {
   "cell_type": "code",
   "execution_count": null,
   "id": "1cf1fd98",
   "metadata": {
    "scrolled": true,
    "slideshow": {
     "slide_type": "fragment"
    }
   },
   "outputs": [],
   "source": [
    "questions = ['name', 'quest', 'favorite color']\n",
    "answers = ['lancelot', 'the holy grail', 'blue']\n",
    "for q, a in zip(questions, answers):\n",
    "    print('What is your {0}?  It is {1}.'.format(q, a))"
   ]
  },
  {
   "cell_type": "markdown",
   "id": "02d39432",
   "metadata": {
    "slideshow": {
     "slide_type": "fragment"
    }
   },
   "source": [
    "^^ Don't look now but we're doing [string formatting](https://docs.python.org/3/library/stdtypes.html#str.format)!!"
   ]
  },
  {
   "cell_type": "markdown",
   "id": "a876ddea",
   "metadata": {
    "slideshow": {
     "slide_type": "slide"
    }
   },
   "source": [
    "#### Enumeration\n",
    "Enumeration allows us to extract multiple variables from the iterator, where first variable refers to the position in the sequence:"
   ]
  },
  {
   "cell_type": "code",
   "execution_count": null,
   "id": "6dc8d00f",
   "metadata": {
    "scrolled": true,
    "slideshow": {
     "slide_type": "fragment"
    }
   },
   "outputs": [],
   "source": [
    "for i, v in enumerate(['tic', 'tac', 'toe']):\n",
    "    print(i, v)"
   ]
  },
  {
   "cell_type": "markdown",
   "id": "3a0d8cd7",
   "metadata": {
    "slideshow": {
     "slide_type": "slide"
    }
   },
   "source": [
    "### The `break` statement\n",
    "\n",
    "The `break` statement is used inside of a loop to immediately stop execution and exit the loop. The next statement to be executed is the first one after the body.\n",
    "\n",
    "The code below tells the Python interpreter to iterate over a list of integers and print each one until it reaches an odd number, but don't print the odd number, print \"Done\" instead."
   ]
  },
  {
   "cell_type": "code",
   "execution_count": null,
   "id": "28fcf7ff",
   "metadata": {
    "scrolled": true,
    "slideshow": {
     "slide_type": "fragment"
    }
   },
   "outputs": [],
   "source": [
    "for i in [12, 16, 17, 24, 29]:\n",
    "    if i % 2 == 1:  # if the number is odd\n",
    "        break        # immediately exit the loop\n",
    "    print(i)\n",
    "print(\"done\")"
   ]
  },
  {
   "cell_type": "markdown",
   "id": "6e472e7b",
   "metadata": {
    "slideshow": {
     "slide_type": "slide"
    }
   },
   "source": [
    "### The `continue` statement\n",
    "\n",
    "This is a control flow statement that causes the program to immediately skip the processing of the rest of the body of the loop, for the current iteration. But the loop still carries on running for its remaining iterations:"
   ]
  },
  {
   "cell_type": "markdown",
   "id": "aa2549d4",
   "metadata": {
    "slideshow": {
     "slide_type": "fragment"
    }
   },
   "source": [
    "Here the code tells Python to step through the list and print each number but instead of printing the odd numbers just keep going:"
   ]
  },
  {
   "cell_type": "code",
   "execution_count": null,
   "id": "8abbcebc",
   "metadata": {
    "slideshow": {
     "slide_type": "fragment"
    }
   },
   "outputs": [],
   "source": [
    "for i in [12, 16, 17, 24, 29, 30]:\n",
    "    if i % 2 == 1:      # if the number is odd\n",
    "        continue        # don't process it\n",
    "    print(i)\n",
    "print(\"done\")"
   ]
  },
  {
   "cell_type": "markdown",
   "id": "5b34929d",
   "metadata": {
    "slideshow": {
     "slide_type": "slide"
    }
   },
   "source": [
    "### The `range()` function\n",
    "\n",
    "We already saw what `range()` did last time, but maybe now that we know how to work with iterables it makes more sense:"
   ]
  },
  {
   "cell_type": "code",
   "execution_count": null,
   "id": "e906c97e",
   "metadata": {
    "slideshow": {
     "slide_type": "fragment"
    }
   },
   "outputs": [],
   "source": [
    "a = range(10)\n",
    "print(a)\n",
    "print(list(a))"
   ]
  },
  {
   "cell_type": "markdown",
   "id": "65a7cef1",
   "metadata": {
    "slideshow": {
     "slide_type": "fragment"
    }
   },
   "source": [
    "Remember, the first argument of `range()` just tells it how many numbers to return, starting at zero."
   ]
  },
  {
   "cell_type": "code",
   "execution_count": null,
   "id": "20a61953",
   "metadata": {
    "slideshow": {
     "slide_type": "fragment"
    }
   },
   "outputs": [],
   "source": [
    "n = 10\n",
    "list(range(n + 1))"
   ]
  },
  {
   "cell_type": "markdown",
   "id": "16533235",
   "metadata": {
    "slideshow": {
     "slide_type": "slide"
    }
   },
   "source": [
    "But you can pass more than one argument to `range()` to specify a starting number, an ending number, and a step size"
   ]
  },
  {
   "cell_type": "code",
   "execution_count": null,
   "id": "ef0d3fd9",
   "metadata": {
    "slideshow": {
     "slide_type": "fragment"
    }
   },
   "outputs": [],
   "source": [
    "numbers = range(2, 12, 2)\n",
    "print(numbers)\n",
    "list(numbers)"
   ]
  },
  {
   "cell_type": "markdown",
   "id": "67476115",
   "metadata": {
    "slideshow": {
     "slide_type": "fragment"
    }
   },
   "source": [
    "And since a `range` object is iterable, it is designed to work nicely with loops:"
   ]
  },
  {
   "cell_type": "code",
   "execution_count": null,
   "id": "aed851fd",
   "metadata": {
    "slideshow": {
     "slide_type": "fragment"
    }
   },
   "outputs": [],
   "source": [
    "for i in range(10):\n",
    "    print(i, i ** 2)"
   ]
  },
  {
   "cell_type": "markdown",
   "id": "84278199",
   "metadata": {
    "slideshow": {
     "slide_type": "slide"
    }
   },
   "source": [
    "### List Comprehension\n",
    "\n",
    "A list comprehension is a syntactic construct that allows you to loop through iterables in a single line of code:"
   ]
  },
  {
   "cell_type": "markdown",
   "id": "0331f0ce",
   "metadata": {
    "slideshow": {
     "slide_type": "fragment"
    }
   },
   "source": [
    "```\n",
    "[<DO THING TO ITEM> for <ITEM> in <ITERABLE>]\n",
    "```"
   ]
  },
  {
   "cell_type": "markdown",
   "id": "4b137a8a",
   "metadata": {
    "slideshow": {
     "slide_type": "fragment"
    }
   },
   "source": [
    "which is functionally the same as the syntax below, but much more concise:"
   ]
  },
  {
   "cell_type": "markdown",
   "id": "c4cf6b3d",
   "metadata": {
    "slideshow": {
     "slide_type": "fragment"
    }
   },
   "source": [
    "```\n",
    "output_sequence = []\n",
    "for <ITEM> in <ITERABLE>:\n",
    "    new_item = <DO THING TO ITEM>\n",
    "    output_sequence.append(new_item)\n",
    "```"
   ]
  },
  {
   "cell_type": "markdown",
   "id": "d71c5bcc",
   "metadata": {},
   "source": [
    "Work through the rest of the examples on your own until it starts to make sense:"
   ]
  },
  {
   "cell_type": "code",
   "execution_count": null,
   "id": "3079011b",
   "metadata": {},
   "outputs": [],
   "source": [
    "# list comprehension lets you create a list based on some expression\n",
    "new_list = [x for x in range(5)]\n",
    "new_list"
   ]
  },
  {
   "cell_type": "code",
   "execution_count": null,
   "id": "1d77d790",
   "metadata": {},
   "outputs": [],
   "source": [
    "# you can perform operations within a list comprehension\n",
    "[x + 1 for x in range(5)]"
   ]
  },
  {
   "cell_type": "markdown",
   "id": "e2c41fb6",
   "metadata": {},
   "source": [
    "Notice how embedding the list comprehension in square brackets automaticallt produced a list"
   ]
  },
  {
   "cell_type": "code",
   "execution_count": null,
   "id": "43dafdc6",
   "metadata": {},
   "outputs": [],
   "source": [
    "# you can use list comprehension to convert a list of ints to a new list of strings\n",
    "string_list = [str(x * 2) for x in range(2, 12, 2)]\n",
    "string_list"
   ]
  },
  {
   "cell_type": "code",
   "execution_count": null,
   "id": "71a0cbf9",
   "metadata": {},
   "outputs": [],
   "source": [
    "# square a list of numbers\n",
    "numbers = [1, 2, 3, 4]\n",
    "[x ** 2 for x in numbers]"
   ]
  },
  {
   "cell_type": "code",
   "execution_count": null,
   "id": "0de938f0",
   "metadata": {},
   "outputs": [],
   "source": [
    "# conditional execution within a list comprehension\n",
    "[x ** 2 for x in numbers if x**2 > 8]"
   ]
  },
  {
   "cell_type": "code",
   "execution_count": null,
   "id": "1b4aafbf",
   "metadata": {},
   "outputs": [],
   "source": [
    "# multiple calculations embedded in list comprehension\n",
    "[(x, x ** 2, x ** 3) for x in numbers]"
   ]
  },
  {
   "cell_type": "code",
   "execution_count": null,
   "id": "a23b22d4",
   "metadata": {},
   "outputs": [],
   "source": [
    "# An example testing the values of a list based on a substring\n",
    "files = ['bin', 'Data', 'Desktop', '.bashrc', '.ssh', '.vimrc']\n",
    "[name for name in files if name[0] != '.']"
   ]
  }
 ],
 "metadata": {
  "celltoolbar": "Slideshow",
  "kernelspec": {
   "display_name": "Python [conda env:cp255] *",
   "language": "python",
   "name": "conda-env-cp255-py"
  },
  "language_info": {
   "codemirror_mode": {
    "name": "ipython",
    "version": 3
   },
   "file_extension": ".py",
   "mimetype": "text/x-python",
   "name": "python",
   "nbconvert_exporter": "python",
   "pygments_lexer": "ipython3",
   "version": "3.10.2"
  },
  "toc": {
   "base_numbering": 1,
   "nav_menu": {},
   "number_sections": false,
   "sideBar": false,
   "skip_h1_title": true,
   "title_cell": "Table of Contents",
   "title_sidebar": "Contents",
   "toc_cell": true,
   "toc_position": {},
   "toc_section_display": true,
   "toc_window_display": false
  }
 },
 "nbformat": 4,
 "nbformat_minor": 5
}
