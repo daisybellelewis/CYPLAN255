{
 "cells": [
  {
   "cell_type": "code",
   "execution_count": null,
   "id": "445ed822",
   "metadata": {
    "slideshow": {
     "slide_type": "skip"
    }
   },
   "outputs": [],
   "source": [
    "import pandas as pd\n",
    "import seaborn as sns\n",
    "import plotly.express as px\n",
    "import plotly\n",
    "from ipywidgets import interact, interactive, fixed, interact_manual\n",
    "import ipywidgets as widgets\n",
    "import panel as pn\n",
    "from matplotlib import pyplot as plt\n",
    "from bokeh.models import ColumnDataSource, HoverTool\n",
    "from bokeh.plotting import figure\n",
    "from bokeh.sampledata.autompg import autompg_clean as df\n",
    "from bokeh.transform import factor_cmap\n",
    "from bokeh.io import output_notebook, show, output_file"
   ]
  },
  {
   "cell_type": "markdown",
   "id": "b40ef5a4",
   "metadata": {
    "slideshow": {
     "slide_type": "slide"
    }
   },
   "source": [
    "# CYPLAN255\n",
    "### Urban Informatics and Visualization"
   ]
  },
  {
   "cell_type": "markdown",
   "id": "2adc2c5d",
   "metadata": {
    "slideshow": {
     "slide_type": "slide"
    }
   },
   "source": [
    "HIT RECORD and TRANSCRIBE"
   ]
  },
  {
   "cell_type": "markdown",
   "id": "0ceea7a8",
   "metadata": {
    "slideshow": {
     "slide_type": "slide"
    }
   },
   "source": [
    "# Lecture 10 -- Intro to Data Visualization\n",
    "*******\n",
    "February 28, 2022"
   ]
  },
  {
   "cell_type": "markdown",
   "id": "75f7d376",
   "metadata": {
    "slideshow": {
     "slide_type": "slide"
    }
   },
   "source": [
    "# Agenda\n",
    "1. Announcements\n",
    "2. Color theory\n",
    "3. Interactive plotting\n",
    "4. For next time\n",
    "5. Questions\n"
   ]
  },
  {
   "cell_type": "markdown",
   "id": "4f1c0cef",
   "metadata": {
    "slideshow": {
     "slide_type": "slide"
    }
   },
   "source": [
    "# 1. Announcements"
   ]
  },
  {
   "cell_type": "markdown",
   "id": "8e5d336f",
   "metadata": {
    "slideshow": {
     "slide_type": "fragment"
    }
   },
   "source": [
    "- Irene's GitHub Pages tutorial"
   ]
  },
  {
   "cell_type": "markdown",
   "id": "32539338",
   "metadata": {
    "slideshow": {
     "slide_type": "slide"
    }
   },
   "source": [
    "\n",
    "# 2. A bit of color theory"
   ]
  },
  {
   "cell_type": "markdown",
   "id": "6b928d05",
   "metadata": {
    "slideshow": {
     "slide_type": "slide"
    }
   },
   "source": [
    "## 2.1. Why does color matter?"
   ]
  },
  {
   "cell_type": "markdown",
   "id": "a8a0d010",
   "metadata": {
    "slideshow": {
     "slide_type": "fragment"
    }
   },
   "source": [
    "- colorblindness\n",
    "- even people without colorblindness do not perceive all colors are perceived equally/evenly\n",
    "- grayscale reproduction (i.e. photocopy safe)\n",
    "- ?"
   ]
  },
  {
   "cell_type": "markdown",
   "id": "dbb16190",
   "metadata": {
    "slideshow": {
     "slide_type": "slide"
    }
   },
   "source": [
    "<img src=\"https://bids.github.io/colormap/images/screenshots/jet.png\" width=800>"
   ]
  },
  {
   "cell_type": "code",
   "execution_count": 13,
   "id": "ea8ec991",
   "metadata": {
    "hide_input": true,
    "scrolled": false,
    "slideshow": {
     "slide_type": "slide"
    }
   },
   "outputs": [
    {
     "data": {
      "text/html": [
       "<iframe src=\"https://ai.googleblog.com/2019/08/turbo-improved-rainbow-colormap-for.html\" width=100% height=700></iframe>\n"
      ],
      "text/plain": [
       "<IPython.core.display.HTML object>"
      ]
     },
     "metadata": {},
     "output_type": "display_data"
    }
   ],
   "source": [
    "%%html\n",
    "<iframe src=\"https://ai.googleblog.com/2019/08/turbo-improved-rainbow-colormap-for.html\" width=100% height=700></iframe>"
   ]
  },
  {
   "cell_type": "markdown",
   "id": "ca5bffa1",
   "metadata": {
    "hide_input": true,
    "slideshow": {
     "slide_type": "slide"
    }
   },
   "source": [
    "## 2.2. The Three Components of Color"
   ]
  },
  {
   "cell_type": "markdown",
   "id": "d879077b",
   "metadata": {
    "slideshow": {
     "slide_type": "fragment"
    }
   },
   "source": [
    "1. **Hue**"
   ]
  },
  {
   "cell_type": "code",
   "execution_count": null,
   "id": "9eb60e5d",
   "metadata": {
    "slideshow": {
     "slide_type": "fragment"
    }
   },
   "outputs": [],
   "source": [
    "sns.color_palette(\"hls\", 8)"
   ]
  },
  {
   "cell_type": "markdown",
   "id": "e57c247d",
   "metadata": {
    "slideshow": {
     "slide_type": "fragment"
    }
   },
   "source": [
    "2. **Saturation**"
   ]
  },
  {
   "cell_type": "code",
   "execution_count": null,
   "id": "f0477e3a",
   "metadata": {
    "slideshow": {
     "slide_type": "fragment"
    }
   },
   "outputs": [],
   "source": [
    "sns.color_palette(\"blend:grey,b\", 8)"
   ]
  },
  {
   "cell_type": "markdown",
   "id": "9d75ec63",
   "metadata": {
    "slideshow": {
     "slide_type": "fragment"
    }
   },
   "source": [
    "3. **Lightness**"
   ]
  },
  {
   "cell_type": "code",
   "execution_count": null,
   "id": "c0952af9",
   "metadata": {
    "slideshow": {
     "slide_type": "fragment"
    }
   },
   "outputs": [],
   "source": [
    "sns.cubehelix_palette(8, start=.25, rot=-.25, reverse=True)"
   ]
  },
  {
   "cell_type": "markdown",
   "id": "ebe230b7",
   "metadata": {
    "slideshow": {
     "slide_type": "slide"
    }
   },
   "source": [
    "## 2.3. Color Spaces"
   ]
  },
  {
   "cell_type": "markdown",
   "id": "6e06d7b3",
   "metadata": {
    "slideshow": {
     "slide_type": "fragment"
    }
   },
   "source": [
    "You are all likely familiar with the concept of the color wheel. When it comes to digital imagery, we call these **color spaces** because they are typically modeled in multi-dimensional space (e.g. RGB, CMYK).\n",
    "\n",
    "If you've ever used image editing software like Adobe Illustrator or Photoshop, this should sound familiar to you."
   ]
  },
  {
   "cell_type": "markdown",
   "id": "2b15119a",
   "metadata": {
    "slideshow": {
     "slide_type": "slide"
    }
   },
   "source": [
    "### 2.3.1. RGB\n",
    "\n",
    "Almost all computers use the standard RGB color space ([sRGB](https://en.wikipedia.org/wiki/SRGB)) to render digital images on the pixels of your computer screen/monitor. The sRGB color space is often modeled as cube, with each of its three axes positioned orthogonally to the other two:\n",
    "\n",
    "<img src=https://upload.wikimedia.org/wikipedia/commons/d/d6/RGB_color_cube.svg width=75%>\n",
    "\n",
    "This is because the RGB system is _additive_, meaning colors are created by adding together values chosen independently along each axis."
   ]
  },
  {
   "cell_type": "markdown",
   "id": "a7275431",
   "metadata": {
    "slideshow": {
     "slide_type": "slide"
    }
   },
   "source": [
    "### 2.3.2 HSL & HSV\n",
    "\n",
    "Somewhere along the line someone decided it would be more useful to create a color space in which the component axes corresponded to the three components of human perception of color (hue, saturation, and luminosity/lightness). To do this, they went back to the basics, the color wheel, and extended it in a third dimension to create a cylindrical color space.\n",
    "\n",
    "<img src=\"https://www.boronine.com/images/hsl.png\">"
   ]
  },
  {
   "cell_type": "markdown",
   "id": "b04de6dc",
   "metadata": {
    "slideshow": {
     "slide_type": "slide"
    }
   },
   "source": [
    "The most common of these are the HSV and HSL (HLS) color systems:\n",
    "\n",
    "<br><center><img src=\"https://upload.wikimedia.org/wikipedia/commons/a/a0/Hsl-hsv_models.svg\" width=500></center>"
   ]
  },
  {
   "cell_type": "markdown",
   "id": "a504dcf5",
   "metadata": {
    "slideshow": {
     "slide_type": "slide"
    }
   },
   "source": [
    "Both are available in Seaborn. HSV is inherited from matplotlib, and HSL in built-in to Seaborn (they call it HLS):"
   ]
  },
  {
   "cell_type": "code",
   "execution_count": null,
   "id": "30ffff7d",
   "metadata": {
    "slideshow": {
     "slide_type": "fragment"
    }
   },
   "outputs": [],
   "source": [
    "sns.color_palette(\"hsv\", 10)"
   ]
  },
  {
   "cell_type": "code",
   "execution_count": null,
   "id": "2f422046",
   "metadata": {
    "slideshow": {
     "slide_type": "fragment"
    }
   },
   "outputs": [],
   "source": [
    "sns.color_palette(\"hls\", 10) "
   ]
  },
  {
   "cell_type": "markdown",
   "id": "f9e1af37",
   "metadata": {
    "slideshow": {
     "slide_type": "fragment"
    }
   },
   "source": [
    "From the Seaborn [docs](https://seaborn.pydata.org/tutorial/color_palettes.html#using-circular-color-systems):\n",
    "\n",
    "> When you have an arbitrary number of categories, the easiest approach to finding unique hues is to draw evenly-spaced colors in a circular color space (one where the hue changes while keeping the brightness and saturation constant). This is what most seaborn functions default to when they need to use more colors than are currently set in the default color cycle.\n"
   ]
  },
  {
   "cell_type": "markdown",
   "id": "288d5861",
   "metadata": {
    "slideshow": {
     "slide_type": "slide"
    }
   },
   "source": [
    "### 2.3.3 HUSL/HSLuv"
   ]
  },
  {
   "cell_type": "markdown",
   "id": "469f71b3",
   "metadata": {
    "slideshow": {
     "slide_type": "fragment"
    }
   },
   "source": [
    "One of the problems with the standard color wheel, however, is that not all colors are perceived equally well, even if they have the same saturation and brightness. Some stand out more than others:"
   ]
  },
  {
   "cell_type": "code",
   "execution_count": null,
   "id": "134d7270",
   "metadata": {
    "slideshow": {
     "slide_type": "fragment"
    }
   },
   "outputs": [],
   "source": [
    "sns.hls_palette(10, h=0.01, l=0.7, s=0.9)"
   ]
  },
  {
   "cell_type": "markdown",
   "id": "cb8b3041",
   "metadata": {
    "slideshow": {
     "slide_type": "fragment"
    }
   },
   "source": [
    "The [HSLuv](https://www.hsluv.org/) (FKA \"husl\") system solves that issue by introducing perceptual uniformity into a cylindrical color space:"
   ]
  },
  {
   "cell_type": "code",
   "execution_count": null,
   "id": "c003d3ef",
   "metadata": {
    "slideshow": {
     "slide_type": "fragment"
    }
   },
   "outputs": [],
   "source": [
    "sns.husl_palette(10, h=0.01, l=0.7, s=0.9)"
   ]
  },
  {
   "cell_type": "markdown",
   "id": "aff4f5dc",
   "metadata": {
    "slideshow": {
     "slide_type": "slide"
    }
   },
   "source": [
    "## 2.4 Color palettes (A.K.A. color ramps/maps/gradients)\n",
    "We typically talk about three types of color palettes:\n",
    "1. **categorical** (sometimes called **qualitative** or **nominal**)\n",
    "2. **sequential**\n",
    "3. **divergent**"
   ]
  },
  {
   "cell_type": "markdown",
   "id": "4d83a523",
   "metadata": {
    "slideshow": {
     "slide_type": "slide"
    }
   },
   "source": [
    "### 2.4.1 Categorical"
   ]
  },
  {
   "cell_type": "markdown",
   "id": "c4d9e1e2",
   "metadata": {
    "slideshow": {
     "slide_type": "fragment"
    }
   },
   "source": [
    "Seaborn has it's own default qualitative color palette:"
   ]
  },
  {
   "cell_type": "code",
   "execution_count": null,
   "id": "32d40dad",
   "metadata": {
    "slideshow": {
     "slide_type": "fragment"
    }
   },
   "outputs": [],
   "source": [
    "sns.color_palette()"
   ]
  },
  {
   "cell_type": "markdown",
   "id": "110028db",
   "metadata": {
    "slideshow": {
     "slide_type": "fragment"
    }
   },
   "source": [
    "as well as some useful pre-defined variations:\n",
    "<center><img src=\"https://seaborn.pydata.org/_images/color_palettes_22_0.png\" width=400></center>"
   ]
  },
  {
   "cell_type": "markdown",
   "id": "28b50503",
   "metadata": {
    "slideshow": {
     "slide_type": "slide"
    }
   },
   "source": [
    "Seaborn also has access to all of the qualitative color maps from matplotlib:\n",
    "\n",
    "<center><img src=\"https://matplotlib.org/stable/_images/sphx_glr_colormaps_006_2_0x.png\" width=700></center>"
   ]
  },
  {
   "cell_type": "code",
   "execution_count": null,
   "id": "2254e65b",
   "metadata": {
    "slideshow": {
     "slide_type": "fragment"
    }
   },
   "outputs": [],
   "source": [
    "sns.color_palette(\"Set2\", 7)"
   ]
  },
  {
   "cell_type": "markdown",
   "id": "efc59c0f",
   "metadata": {
    "slideshow": {
     "slide_type": "slide"
    }
   },
   "source": [
    "### 2.4.2 Sequential"
   ]
  },
  {
   "cell_type": "markdown",
   "id": "d26b4408",
   "metadata": {
    "slideshow": {
     "slide_type": "fragment"
    }
   },
   "source": [
    "When dealing with numeric data or continuous variables, you'll likely want to use a **sequential** color map. Most of these come from Matplotlib. Note: for each sequential color map there exists a reversed version which you can access using the `_r` suffix.\n",
    "\n",
    "Some interesting examples:"
   ]
  },
  {
   "cell_type": "code",
   "execution_count": null,
   "id": "483f8f95",
   "metadata": {
    "slideshow": {
     "slide_type": "fragment"
    }
   },
   "outputs": [],
   "source": [
    "sns.color_palette(\"hot_r\", 10)"
   ]
  },
  {
   "cell_type": "code",
   "execution_count": null,
   "id": "23f115de",
   "metadata": {
    "slideshow": {
     "slide_type": "fragment"
    }
   },
   "outputs": [],
   "source": [
    "for pal in [\"spring\", \"YlOrBr\", \"cool\", \"Greens\"]:\n",
    "    sns.palplot(sns.color_palette(pal, 10), .5)"
   ]
  },
  {
   "cell_type": "markdown",
   "id": "2bce2c56",
   "metadata": {
    "slideshow": {
     "slide_type": "slide"
    }
   },
   "source": [
    "Seaborn has 4 built-in **perceptually uniform** sequential color maps (`mako`, `rocket`, `crest`, and `flare`) in addition to the 5 defined in matplotlib (`viridis`, `cividis`, `magma`, `plasma`, and `inferno`)."
   ]
  },
  {
   "cell_type": "code",
   "execution_count": null,
   "id": "25a1dbf9",
   "metadata": {
    "slideshow": {
     "slide_type": "fragment"
    }
   },
   "outputs": [],
   "source": [
    "for pal in [\"mako\", \"rocket\", \"crest\", \"flare\", \"viridis\", \"cividis\", \"magma\", \"plasma\", \"inferno\"]:\n",
    "    sns.palplot(sns.color_palette(pal, 10), .5)"
   ]
  },
  {
   "cell_type": "markdown",
   "id": "b063822b",
   "metadata": {
    "slideshow": {
     "slide_type": "slide"
    }
   },
   "source": [
    "**Cubehelix** color maps takes the idea of perceptual uniformity one step further by also guaranteeing that the gradient is uniform when rendered in greyscale. This is great for b+w prints and for colorblindness."
   ]
  },
  {
   "cell_type": "code",
   "execution_count": null,
   "id": "489a14f6",
   "metadata": {
    "slideshow": {
     "slide_type": "fragment"
    }
   },
   "outputs": [],
   "source": [
    "sns.color_palette(\"cubehelix\", 10)"
   ]
  },
  {
   "cell_type": "code",
   "execution_count": null,
   "id": "231170d4",
   "metadata": {
    "slideshow": {
     "slide_type": "fragment"
    }
   },
   "outputs": [],
   "source": [
    "sns.cubehelix_palette(10, start=.5, rot=-.5)"
   ]
  },
  {
   "cell_type": "code",
   "execution_count": null,
   "id": "03e76ee2",
   "metadata": {
    "slideshow": {
     "slide_type": "fragment"
    }
   },
   "outputs": [],
   "source": [
    "sns.color_palette(\"ch:start=.5,rot=-.5,hue=.5\", 10)"
   ]
  },
  {
   "cell_type": "markdown",
   "id": "c74f5052",
   "metadata": {
    "slideshow": {
     "slide_type": "slide"
    }
   },
   "source": [
    "Lastly **divergent** color maps are very useful when your data has a well-defined, meaningful midpoint or threshold that you want to highlight:"
   ]
  },
  {
   "cell_type": "code",
   "execution_count": null,
   "id": "d7de0105",
   "metadata": {
    "slideshow": {
     "slide_type": "fragment"
    }
   },
   "outputs": [],
   "source": [
    "sns.color_palette(\"Spectral\", 10)"
   ]
  },
  {
   "cell_type": "code",
   "execution_count": null,
   "id": "bfae1940",
   "metadata": {
    "slideshow": {
     "slide_type": "fragment"
    }
   },
   "outputs": [],
   "source": [
    "sns.color_palette(\"coolwarm\", 10)"
   ]
  },
  {
   "cell_type": "code",
   "execution_count": null,
   "id": "26b73e65",
   "metadata": {
    "slideshow": {
     "slide_type": "fragment"
    }
   },
   "outputs": [],
   "source": [
    "# perceptually uniform\n",
    "sns.color_palette(\"vlag\", 10)"
   ]
  },
  {
   "cell_type": "code",
   "execution_count": null,
   "id": "0eb187cf",
   "metadata": {
    "slideshow": {
     "slide_type": "fragment"
    }
   },
   "outputs": [],
   "source": [
    "# custom\n",
    "sns.diverging_palette(250, 30, s=99, l=65, center=\"dark\", n=10)"
   ]
  },
  {
   "cell_type": "markdown",
   "id": "4b5cc0cf",
   "metadata": {
    "slideshow": {
     "slide_type": "slide"
    }
   },
   "source": [
    "All of the sequential/diverging colormaps from Matplotlib per the [docs](https://matplotlib.org/stable/gallery/color/colormap_reference.html):\n",
    "<img src=\"https://matplotlib.org/stable/_images/sphx_glr_colormap_reference_001_2_0x.png\" width=600>\n",
    "<img src=\"https://matplotlib.org/stable/_images/sphx_glr_colormap_reference_002_2_0x.png\" width=600>\n",
    "<img src=\"https://matplotlib.org/stable/_images/sphx_glr_colormap_reference_003_2_0x.png\" width=600>\n",
    "<img src=\"https://matplotlib.org/stable/_images/sphx_glr_colormap_reference_004_2_0x.png\" width=600>\n",
    "<img src=\"https://matplotlib.org/stable/_images/sphx_glr_colormap_reference_005_2_0x.png\" width=600>\n",
    "<img src=\"https://matplotlib.org/stable/_images/sphx_glr_colormap_reference_007_2_0x.png\" width=600>"
   ]
  },
  {
   "cell_type": "markdown",
   "id": "9a17cbfe",
   "metadata": {
    "slideshow": {
     "slide_type": "slide"
    }
   },
   "source": [
    "## 2.5 More resources on color\n",
    "- https://www.boronine.com/2012/03/26/Color-Spaces-for-Human-Beings/\n",
    "- https://colorbrewer2.org/\n",
    "- https://earthobservatory.nasa.gov/blogs/elegantfigures/2013/08/05/subtleties-of-color-part-1-of-6/\n",
    "- https://matplotlib.org/2.0.2/users/colormaps.html\n",
    "- https://www.axismaps.com/guide/using-colors-on-maps"
   ]
  },
  {
   "cell_type": "markdown",
   "id": "215e600b",
   "metadata": {
    "slideshow": {
     "slide_type": "slide"
    }
   },
   "source": [
    "# 3. Interactive Plotting in Python"
   ]
  },
  {
   "cell_type": "markdown",
   "id": "9723e55e",
   "metadata": {
    "slideshow": {
     "slide_type": "fragment"
    }
   },
   "source": [
    "Types of interactivity you might consider:\n",
    "- annotation on hover/click\n",
    "- pan-and-zoom\n",
    "- data filters: buttons, sliders, and drop-down menu\n",
    "- animation\n",
    "\n",
    "Don't add interactivity for the sake of interactivity!"
   ]
  },
  {
   "cell_type": "markdown",
   "id": "a8b91d2c",
   "metadata": {
    "slideshow": {
     "slide_type": "slide"
    }
   },
   "source": [
    "## 3.1 Plotly\n",
    "https://plotly.com/python/\n",
    "\n",
    "Plotly is a fantastic library for generating interactive versions of all of the types of plots/charts we've been looking at.\n"
   ]
  },
  {
   "cell_type": "code",
   "execution_count": 14,
   "id": "c2f180b4",
   "metadata": {
    "hide_input": true,
    "scrolled": false,
    "slideshow": {
     "slide_type": "slide"
    }
   },
   "outputs": [
    {
     "data": {
      "text/html": [
       "<iframe src=\"https://plotly.com/python/\" width=100% height=700></iframe>\n"
      ],
      "text/plain": [
       "<IPython.core.display.HTML object>"
      ]
     },
     "metadata": {},
     "output_type": "display_data"
    }
   ],
   "source": [
    "%%html\n",
    "<iframe src=\"https://plotly.com/python/\" width=100% height=700></iframe>"
   ]
  },
  {
   "cell_type": "code",
   "execution_count": null,
   "id": "890df1c7",
   "metadata": {
    "slideshow": {
     "slide_type": "fragment"
    }
   },
   "outputs": [],
   "source": [
    "df = px.data.gapminder()\n",
    "fig = px.scatter(df, x=\"gdpPercap\", y=\"lifeExp\", animation_frame=\"year\", animation_group=\"country\",\n",
    "           size=\"pop\", color=\"continent\", hover_name=\"country\",\n",
    "           log_x=True, size_max=55, range_x=[100,100000], range_y=[25,90])\n",
    "fig.show()"
   ]
  },
  {
   "cell_type": "markdown",
   "id": "1ce4ba42",
   "metadata": {
    "slideshow": {
     "slide_type": "slide"
    }
   },
   "source": [
    "### 3.1.1. Embed plotly charts as .html\n",
    "\n",
    "Plotly makes it easy to embed interactive charts into static webpages. After generating your plot, all you have to do is run the following command to convert everything (including the data!) to .html."
   ]
  },
  {
   "cell_type": "code",
   "execution_count": null,
   "id": "c325379d",
   "metadata": {
    "scrolled": false,
    "slideshow": {
     "slide_type": "fragment"
    }
   },
   "outputs": [],
   "source": [
    "print(plotly.offline.plot(fig, include_plotlyjs='cdn', output_type='div'))"
   ]
  },
  {
   "cell_type": "markdown",
   "id": "9908ceb3",
   "metadata": {
    "slideshow": {
     "slide_type": "slide"
    }
   },
   "source": [
    "## 3.2 ipywidgets\n",
    "\n",
    "Installation instructions [here](https://ipywidgets.readthedocs.io/en/stable/user_install.html)"
   ]
  },
  {
   "cell_type": "markdown",
   "id": "5ac87911",
   "metadata": {
    "slideshow": {
     "slide_type": "fragment"
    }
   },
   "source": [
    "### 3.2.1. Basics"
   ]
  },
  {
   "cell_type": "code",
   "execution_count": null,
   "id": "f4da5351",
   "metadata": {
    "slideshow": {
     "slide_type": "fragment"
    }
   },
   "outputs": [],
   "source": [
    "def sq_num(x):\n",
    "    return x**2\n",
    "\n",
    "interact(sq_num, x=10);"
   ]
  },
  {
   "cell_type": "code",
   "execution_count": null,
   "id": "b97b1ff3",
   "metadata": {
    "slideshow": {
     "slide_type": "fragment"
    }
   },
   "outputs": [],
   "source": [
    "a = interact(sq_num, x=10)"
   ]
  },
  {
   "cell_type": "code",
   "execution_count": null,
   "id": "02624b1f",
   "metadata": {
    "slideshow": {
     "slide_type": "fragment"
    }
   },
   "outputs": [],
   "source": [
    "interact(sq_num, x=widgets.IntSlider(min=-10, max=30, step=1, value=10));"
   ]
  },
  {
   "cell_type": "code",
   "execution_count": null,
   "id": "9c3eb13b",
   "metadata": {
    "slideshow": {
     "slide_type": "fragment"
    }
   },
   "outputs": [],
   "source": [
    "widgets.IntSlider()"
   ]
  },
  {
   "cell_type": "markdown",
   "id": "3d2af3c3",
   "metadata": {
    "slideshow": {
     "slide_type": "slide"
    }
   },
   "source": [
    "### 3.2.2. Interactive Pivot Table"
   ]
  },
  {
   "cell_type": "markdown",
   "id": "68daf2c4",
   "metadata": {
    "slideshow": {
     "slide_type": "fragment"
    }
   },
   "source": [
    "Re-create the merged SF1 Craigslist data"
   ]
  },
  {
   "cell_type": "code",
   "execution_count": null,
   "id": "9e43cd7c",
   "metadata": {
    "slideshow": {
     "slide_type": "fragment"
    }
   },
   "outputs": [],
   "source": [
    "rentals = pd.read_csv(\n",
    "    'data/sfbay_geocoded.csv',\n",
    "    usecols=['rent', 'bedrooms', 'sqft', 'fips_block', 'longitude', 'latitude'],\n",
    "    dtype={'fips_block': str}  # load fips_block as str, numeric type will drop leading zero\n",
    ")\n",
    "\n",
    "sf1 = pd.read_hdf('data/bay_sf1_small.h5', 'sf1_extract')\n",
    "\n",
    "county_fips_to_name = {\n",
    "    '001': 'Alameda', '013': 'Contra Costa', '041': 'Marin', '055': 'Napa', '075': 'San Francisco',\n",
    "    '081': 'San Mateo', '085': 'Santa Clara', '095': 'Solano', '097': 'Sonoma'}\n",
    "sf1.insert(4, 'county_name', sf1['county'].replace(county_fips_to_name))\n",
    "\n",
    "sf1['pct_rent'] = sf1['H0040004'] / sf1['H0040001'] * 100\n",
    "sf1['pct_black'] = sf1['P0030003'] / sf1['P0030001'] * 100\n",
    "sf1['pct_asian'] = sf1['P0030005'] / sf1['P0030001'] * 100\n",
    "sf1['pct_white'] = sf1['P0030002'] / sf1['P0030001'] * 100\n",
    "sf1['pct_hisp'] = sf1['P0040003'] / sf1['P0040001'] * 100\n",
    "sf1['pct_vacant'] = sf1['H0050001'] / sf1['H00010001'] * 100\n",
    "sf1['pop_sqmi'] = (sf1['P0010001'] / (sf1['arealand'] / 2589988))\n",
    "sf1 = sf1[sf1['P0030001'] > 0]  # drop unpopulated census blocks\n",
    "\n",
    "rentals_sf1 = pd.merge(rentals, sf1, left_on='fips_block', right_on='blockfips')"
   ]
  },
  {
   "cell_type": "code",
   "execution_count": null,
   "id": "c94d4832",
   "metadata": {
    "slideshow": {
     "slide_type": "slide"
    }
   },
   "outputs": [],
   "source": [
    "def pivot_intx(value_col, group_col, hue_col, agg_func):\n",
    "\n",
    "    piv_df = pd.pivot_table(rentals_sf1, values=value_col, index=group_col, columns=hue_col, aggfunc=agg_func)\n",
    "    fig, ax = plt.subplots(figsize=(12,7))\n",
    "    _ = piv_df.plot(\n",
    "        kind='bar', figsize=(14,6), title='Average {0} by {1} and {2}'.format(value_col, group_col, hue_col),\n",
    "        ax=ax)\n",
    "\n",
    "    return"
   ]
  },
  {
   "cell_type": "code",
   "execution_count": null,
   "id": "c1c52492",
   "metadata": {
    "slideshow": {
     "slide_type": "fragment"
    }
   },
   "outputs": [],
   "source": [
    "group_col_selector = widgets.Dropdown(\n",
    "    options=rentals_sf1.columns.tolist(),\n",
    "    description='group by:',\n",
    "    value='bedrooms'\n",
    ")\n",
    "\n",
    "hue_col_selector = widgets.Dropdown(\n",
    "    options=rentals_sf1.columns.tolist(),\n",
    "    description='hue:',\n",
    "    value='county_name'\n",
    ")\n",
    "\n",
    "value_col_selector = widgets.Dropdown(\n",
    "    options=rentals_sf1.columns.tolist(),\n",
    "    description='value:',\n",
    "    value='rent'\n",
    ")\n",
    "\n",
    "agg_func_selector = widgets.RadioButtons(\n",
    "    options=['count', 'sum', 'mean', 'median'],\n",
    "    value=\"mean\",\n",
    "    description='agg function:',\n",
    ")"
   ]
  },
  {
   "cell_type": "code",
   "execution_count": null,
   "id": "1ff5c7c5",
   "metadata": {
    "hide_input": false,
    "scrolled": false,
    "slideshow": {
     "slide_type": "slide"
    }
   },
   "outputs": [],
   "source": [
    "interact(\n",
    "    pivot_intx,\n",
    "    value_col=value_col_selector,\n",
    "    group_col=group_col_selector,\n",
    "    hue_col=hue_col_selector,\n",
    "    agg_func=agg_func_selector\n",
    ");"
   ]
  },
  {
   "cell_type": "markdown",
   "id": "879f8820",
   "metadata": {
    "slideshow": {
     "slide_type": "slide"
    }
   },
   "source": [
    "## 3.3 Bokeh\n",
    "https://bokeh.org/\n",
    "\n",
    "Kind of like Plotly, but uses a different JavaScript library for charts"
   ]
  },
  {
   "cell_type": "code",
   "execution_count": 15,
   "id": "febdee2e",
   "metadata": {
    "slideshow": {
     "slide_type": "fragment"
    }
   },
   "outputs": [
    {
     "data": {
      "text/html": [
       "<iframe src=\"https://demo.bokeh.org/\"  width=100% height=700></iframe>\n"
      ],
      "text/plain": [
       "<IPython.core.display.HTML object>"
      ]
     },
     "metadata": {},
     "output_type": "display_data"
    }
   ],
   "source": [
    "%%html\n",
    "<iframe src=\"https://demo.bokeh.org/\"  width=100% height=700></iframe>"
   ]
  },
  {
   "cell_type": "markdown",
   "id": "f486d96f",
   "metadata": {
    "hide_input": true,
    "slideshow": {
     "slide_type": "slide"
    }
   },
   "source": [
    "### 3.3.1 A different approach to the grouped bar plot"
   ]
  },
  {
   "cell_type": "code",
   "execution_count": null,
   "id": "307f086a",
   "metadata": {
    "slideshow": {
     "slide_type": "fragment"
    }
   },
   "outputs": [],
   "source": [
    "rentals_sf1['bedrooms'] = rentals_sf1['bedrooms'].astype(str)\n",
    "group = rentals_sf1.groupby(['bedrooms','county_name'])\n",
    "source = ColumnDataSource(group)\n",
    "\n",
    "output_notebook()\n",
    "p = figure(plot_width=800, plot_height=300, title=\"Rent x Bedrooms x County\",\n",
    "           x_range=group, toolbar_location=None, tools=\"\")\n",
    "\n",
    "p.vbar(x='bedrooms_county_name', top='rent_mean', width=1, source=source,\n",
    "       line_color=\"white\",\n",
    "       hover_line_color=\"darkgrey\", )\n",
    "\n",
    "p.xgrid.grid_line_color = None\n",
    "p.xaxis.axis_label = \"Manufacturer grouped by # Cylinders\"\n",
    "p.xaxis.major_label_orientation = 1.2\n",
    "p.add_tools(HoverTool(tooltips=[(\"rent\", \"@rent_mean\"), (\"bedrooms, county_name\", \"@bedrooms_county_name\")]))"
   ]
  },
  {
   "cell_type": "code",
   "execution_count": null,
   "id": "0cae8b60",
   "metadata": {
    "slideshow": {
     "slide_type": "slide"
    }
   },
   "outputs": [],
   "source": [
    "show(p)"
   ]
  },
  {
   "cell_type": "code",
   "execution_count": null,
   "id": "e15e788c",
   "metadata": {
    "slideshow": {
     "slide_type": "fragment"
    }
   },
   "outputs": [],
   "source": [
    "output_file(\"plot.html\")"
   ]
  },
  {
   "cell_type": "code",
   "execution_count": null,
   "id": "abf9db97",
   "metadata": {
    "slideshow": {
     "slide_type": "fragment"
    }
   },
   "outputs": [],
   "source": [
    "show(p)"
   ]
  },
  {
   "cell_type": "markdown",
   "id": "8202ac9f",
   "metadata": {
    "slideshow": {
     "slide_type": "slide"
    }
   },
   "source": [
    "## 3.4 More\n",
    "- https://panel.holoviz.org/ (dashboards with Bokeh)\n",
    "- https://streamlit.io/ (standalone apps and dashboards)\n",
    "- https://voila-gallery.org/ (another library for converting Jupyter Notebooks into dashboards)"
   ]
  },
  {
   "cell_type": "markdown",
   "id": "e3460951",
   "metadata": {
    "slideshow": {
     "slide_type": "slide"
    }
   },
   "source": [
    "# 4. For next time\n",
    "- Assignment 3 due tomorrow\n",
    "- Assignment 4: Project Proposals"
   ]
  },
  {
   "cell_type": "markdown",
   "id": "4e7065ae",
   "metadata": {
    "slideshow": {
     "slide_type": "slide"
    }
   },
   "source": [
    "# 5. Questions?"
   ]
  }
 ],
 "metadata": {
  "celltoolbar": "Slideshow",
  "kernelspec": {
   "display_name": "Python [conda env:cp255] *",
   "language": "python",
   "name": "conda-env-cp255-py"
  },
  "language_info": {
   "codemirror_mode": {
    "name": "ipython",
    "version": 3
   },
   "file_extension": ".py",
   "mimetype": "text/x-python",
   "name": "python",
   "nbconvert_exporter": "python",
   "pygments_lexer": "ipython3",
   "version": "3.10.2"
  },
  "toc": {
   "base_numbering": 1,
   "nav_menu": {},
   "number_sections": false,
   "sideBar": true,
   "skip_h1_title": false,
   "title_cell": "Table of Contents",
   "title_sidebar": "Contents",
   "toc_cell": false,
   "toc_position": {
    "height": "401.717px",
    "left": "106px",
    "top": "348px",
    "width": "165px"
   },
   "toc_section_display": true,
   "toc_window_display": false
  }
 },
 "nbformat": 4,
 "nbformat_minor": 5
}
