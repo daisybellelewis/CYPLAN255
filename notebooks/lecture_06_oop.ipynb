{
 "cells": [
  {
   "cell_type": "markdown",
   "id": "532e2db1",
   "metadata": {
    "toc": true
   },
   "source": [
    "<h1>Table of Contents<span class=\"tocSkip\"></span></h1>\n",
    "<div class=\"toc\"><ul class=\"toc-item\"><li><ul class=\"toc-item\"><li><span><a href=\"#Urban-Informatics-and-Visualization\" data-toc-modified-id=\"Urban-Informatics-and-Visualization-0.1\">Urban Informatics and Visualization</a></span></li><li><span><a href=\"#Beyond-Expressions,-Procedures,-and-Scripts\" data-toc-modified-id=\"Beyond-Expressions,-Procedures,-and-Scripts-0.2\">Beyond Expressions, Procedures, and Scripts</a></span></li></ul></li><li><span><a href=\"#2.1-Abstraction\" data-toc-modified-id=\"2.1-Abstraction-1\">2.1 Abstraction</a></span><ul class=\"toc-item\"><li><span><a href=\"#2.1.1-Package->-Module->-Class->-Method\" data-toc-modified-id=\"2.1.1-Package->-Module->-Class->-Method-1.1\">2.1.1 Package &gt; Module &gt; Class &gt; Method</a></span></li><li><span><a href=\"#2.1.2-Namespaces-and-Scopes\" data-toc-modified-id=\"2.1.2-Namespaces-and-Scopes-1.2\">2.1.2 Namespaces and Scopes</a></span></li></ul></li><li><span><a href=\"#2.2-Functions\" data-toc-modified-id=\"2.2-Functions-2\">2.2 Functions</a></span><ul class=\"toc-item\"><li><span><a href=\"#2.2.1-return-values\" data-toc-modified-id=\"2.2.1-return-values-2.1\">2.2.1 <code>return</code> values</a></span></li><li><span><a href=\"#2.2.2-A-more-complex-example\" data-toc-modified-id=\"2.2.2-A-more-complex-example-2.2\">2.2.2 A more complex example</a></span></li><li><span><a href=\"#Practice:\" data-toc-modified-id=\"Practice:-2.3\">Practice:</a></span></li><li><span><a href=\"#2.2.3-&quot;Lambda&quot;-Functions\" data-toc-modified-id=\"2.2.3-&quot;Lambda&quot;-Functions-2.4\">2.2.3 \"Lambda\" Functions</a></span></li><li><span><a href=\"#2.2.4-The-map()-function\" data-toc-modified-id=\"2.2.4-The-map()-function-2.5\">2.2.4 The <code>map()</code> function</a></span></li></ul></li><li><span><a href=\"#2.3-class-objects\" data-toc-modified-id=\"2.3-class-objects-3\">2.3 <code>class</code> objects</a></span><ul class=\"toc-item\"><li><span><a href=\"#2.3.1-Instantiate-a-class\" data-toc-modified-id=\"2.3.1-Instantiate-a-class-3.1\">2.3.1 Instantiate a class</a></span></li><li><span><a href=\"#2.3.2-Class-attributes\" data-toc-modified-id=\"2.3.2-Class-attributes-3.2\">2.3.2 Class attributes</a></span></li></ul></li><li><span><a href=\"#2.4-Class-methods\" data-toc-modified-id=\"2.4-Class-methods-4\">2.4 Class methods</a></span><ul class=\"toc-item\"><li><span><a href=\"#2.4.1-the-__init__()-method\" data-toc-modified-id=\"2.4.1-the-__init__()-method-4.1\">2.4.1 the <code>__init__()</code> method</a></span></li><li><span><a href=\"#2.4.2-Defining-your-own-class-methods\" data-toc-modified-id=\"2.4.2-Defining-your-own-class-methods-4.2\">2.4.2 Defining your own class methods</a></span></li><li><span><a href=\"#2.4.3-Know-thy-self\" data-toc-modified-id=\"2.4.3-Know-thy-self-4.3\">2.4.3 Know thy <code>self</code></a></span></li></ul></li></ul></div>"
   ]
  },
  {
   "cell_type": "markdown",
   "id": "b40ef5a4",
   "metadata": {
    "slideshow": {
     "slide_type": "slide"
    }
   },
   "source": [
    "# CYPLAN255\n",
    "### Urban Informatics and Visualization"
   ]
  },
  {
   "cell_type": "markdown",
   "id": "2adc2c5d",
   "metadata": {
    "slideshow": {
     "slide_type": "slide"
    }
   },
   "source": [
    "HIT RECORD and TRANSCRIBE"
   ]
  },
  {
   "cell_type": "markdown",
   "id": "0ceea7a8",
   "metadata": {
    "slideshow": {
     "slide_type": "slide"
    }
   },
   "source": [
    "# Lecture 05 -- Object-Oriented Programming\n",
    "### Beyond Expressions, Procedures, and Scripts\n",
    "*******\n",
    "February 9, 2022"
   ]
  },
  {
   "cell_type": "markdown",
   "id": "75f7d376",
   "metadata": {
    "slideshow": {
     "slide_type": "slide"
    }
   },
   "source": [
    "# Agenda\n",
    "1. Announcements\n",
    "2. Notebook \"demo\"\n",
    "3. For next time\n",
    "4. Questions\n"
   ]
  },
  {
   "cell_type": "markdown",
   "id": "4f1c0cef",
   "metadata": {
    "slideshow": {
     "slide_type": "slide"
    }
   },
   "source": [
    "# 1. Announcements"
   ]
  },
  {
   "cell_type": "markdown",
   "id": "8e5d336f",
   "metadata": {
    "slideshow": {
     "slide_type": "fragment"
    }
   },
   "source": [
    "1. Updated GitHub cheat sheet\n",
    "2. Assignment 1: Due\n",
    "3. Assignment 2: Released tonight"
   ]
  },
  {
   "cell_type": "markdown",
   "id": "6de08b17",
   "metadata": {
    "slideshow": {
     "slide_type": "slide"
    }
   },
   "source": [
    "# 2. Object-Oriented Programming"
   ]
  },
  {
   "cell_type": "markdown",
   "id": "4d379adb",
   "metadata": {
    "slideshow": {
     "slide_type": "fragment"
    }
   },
   "source": [
    "So far you have learned the logic of programming using what is referred to as procedure-oriented programming. Python lets you do this easily. But as the programs you write get to be more complex, modern programming guidance is to use what is called an object-oriented programming style, sometimes referred to as object-oriented programming (OOP).\n",
    "\n",
    "While procedural programming can suffice for writing short, simple programs, an object-oriented approach becomes increasingly valuable as your program grows in size and complexity. The more data and functions your code contains, the more important it is to arrange them into logical subgroups (classes) making sure that 1) related data and functions are grouped together and 2) unrelated data and functions do _not_ interfere with each other. Modular code is easier to read, modify, and reuse – and code reuse is valuable because it reduces development time."
   ]
  },
  {
   "cell_type": "code",
   "execution_count": null,
   "id": "3e6f1eb8",
   "metadata": {
    "slideshow": {
     "slide_type": "fragment"
    }
   },
   "outputs": [],
   "source": [
    "type(print)"
   ]
  },
  {
   "cell_type": "markdown",
   "id": "1aea34cd",
   "metadata": {
    "slideshow": {
     "slide_type": "slide"
    }
   },
   "source": [
    "## 2.1 Abstraction\n",
    "The key to object-oriented programming is a concept called **abstraction**.\n",
    "\n",
    "Just like we've defined **variables** to make it easier to reuse data, we can also define **Functions** which instead of data store statements, expressions, conditional logic, loops, etc. This makes it easier to apply the same _procedures_ to different data."
   ]
  },
  {
   "cell_type": "markdown",
   "id": "11c9207f",
   "metadata": {
    "slideshow": {
     "slide_type": "fragment"
    }
   },
   "source": [
    "We call this \"abstraction\" because a function (e.g. `print()`) is a generic _representation_ of a much more complex procedure which the user doesn't necessarily know or need to know about. By defining your procedure as a Function, you not only protect the user from having to worry about the details of that procedure, but you also prevent them from altering it."
   ]
  },
  {
   "cell_type": "markdown",
   "id": "c76650f1",
   "metadata": {
    "slideshow": {
     "slide_type": "slide"
    }
   },
   "source": [
    "### 2.1.1 Package > Module > Class > Method\n",
    "\n",
    "Similarly, we'll define **lass** objects, which organize groups of related functions and variables together. Not all functions belong to classes, but when they do we call them **methods** of that class. Variables that are stored in a class are called **attributes** of that class.\n",
    "\n",
    "Going even further, we might want to organize a collection of classes, Functions, and variables into a **module**. Modules are stored on disk as their own .py files, and can be imported by other Python modules, scripts, or interactive sessions (e.g. Notebooks). \n",
    "\n",
    "Lastly we have Python **libraries** or **packages**, which are basically just a collection of **modules** with some addition instructions for telling Python how to install it."
   ]
  },
  {
   "cell_type": "markdown",
   "id": "4154941c",
   "metadata": {
    "slideshow": {
     "slide_type": "slide"
    }
   },
   "source": [
    "### 2.1.2 Namespaces and Scopes\n",
    "\n",
    "We have previously seen that `dir()` is a helpful function which, if we do not provide an argument, will print out the list of all of the names of the objects which are defined in our **namespace**. \n"
   ]
  },
  {
   "cell_type": "code",
   "execution_count": null,
   "id": "37e4fc3f",
   "metadata": {
    "slideshow": {
     "slide_type": "fragment"
    }
   },
   "outputs": [],
   "source": [
    "a = 1\n",
    "b = 2\n",
    "dir()"
   ]
  },
  {
   "cell_type": "markdown",
   "id": "13457462",
   "metadata": {
    "slideshow": {
     "slide_type": "fragment"
    }
   },
   "source": [
    "A namespace is like a dictionary which maps names of objects to the objects themselves. Every module, method, or class object that we define will have its own namespace, called a **local** namespace. The local namespace can be interrogated with the built-in `locals()` function."
   ]
  },
  {
   "cell_type": "code",
   "execution_count": null,
   "id": "5684d024",
   "metadata": {
    "scrolled": false,
    "slideshow": {
     "slide_type": "fragment"
    }
   },
   "outputs": [],
   "source": [
    "locals()"
   ]
  },
  {
   "cell_type": "markdown",
   "id": "ad2b65be",
   "metadata": {
    "slideshow": {
     "slide_type": "fragment"
    }
   },
   "source": [
    "This looks a lot like what we saw when we ran the `dir()` command. That's because when you run `dir()`, you are basically seeing the keys of the `locals` dict."
   ]
  },
  {
   "cell_type": "markdown",
   "id": "fa3d99fc",
   "metadata": {
    "slideshow": {
     "slide_type": "slide"
    }
   },
   "source": [
    "Each namespace has something called a **scope** which defines the region of a Python program from which that namespace is accessible.\n",
    "\n",
    "These concepts are related to abstraction because objects that are encapsulated by other objects automatically inherit the namespaces of their encapsulating objects. Another way of saying this is that the scope of an object's namespace extends to all of the namespaces of objects that are defined within that object. For example, the namespace of a class has a scope which extends to all methods (functions) defined in that class. The opposite is not true, however. If a variable is defined within a method, the encapsulating class object does not have access to that variable. \n",
    "\n",
    "There is also a **global** namespace which defines the namespace that is not encapsulated by any other. Any object in the global namespace is accessible from any other namespace in the program. When our Python interpreter is executing code from an interactive session (like this one) rather than a class or function, its local namespace is also the global namespace. Try for yourself:\n"
   ]
  },
  {
   "cell_type": "code",
   "execution_count": null,
   "id": "fb4055b5",
   "metadata": {
    "slideshow": {
     "slide_type": "fragment"
    }
   },
   "outputs": [],
   "source": [
    "locals() == globals()"
   ]
  },
  {
   "cell_type": "markdown",
   "id": "08e94cd0",
   "metadata": {
    "slideshow": {
     "slide_type": "fragment"
    }
   },
   "source": [
    "This will all make more sense once you see how classes and functions are defined."
   ]
  },
  {
   "cell_type": "markdown",
   "id": "cbbe495f",
   "metadata": {
    "slideshow": {
     "slide_type": "slide"
    }
   },
   "source": [
    "## 2.2 Functions\n",
    "\n",
    "You can group programming steps into functions to be able to reuse them easily and flexibly, on different inputs.\n",
    "\n",
    "Note the syntax below.  A function definition begins with the word `def`. It then has a name, and then parentheses containing one or more elements called **arguments**. Arguments define generic, descriptive, placeholder names for the values that you intend to pass to the function at runtime.  Notice also the indentation of the block of code defining the procedure.\n",
    "\n",
    "```\n",
    "def function_name(args):\n",
    "    <DO STUFF>\n",
    "```\n",
    "\n",
    "The general syntax for a function looks a bit like the syntax for an `if` statement."
   ]
  },
  {
   "cell_type": "markdown",
   "id": "d5e1d416",
   "metadata": {
    "slideshow": {
     "slide_type": "slide"
    }
   },
   "source": [
    "Recall the example of a chained conditional we covered last time:"
   ]
  },
  {
   "cell_type": "code",
   "execution_count": null,
   "id": "d91507c3",
   "metadata": {
    "slideshow": {
     "slide_type": "fragment"
    }
   },
   "outputs": [],
   "source": [
    "x = 11\n",
    "if x < 10:\n",
    "    print('x is less than 10')\n",
    "elif x == 10:\n",
    "    print('x equals 10')\n",
    "else:\n",
    "    print('x is greater than 10')"
   ]
  },
  {
   "cell_type": "markdown",
   "id": "3fce1792",
   "metadata": {
    "slideshow": {
     "slide_type": "fragment"
    }
   },
   "source": [
    "![](images/loss.jpg)"
   ]
  },
  {
   "cell_type": "markdown",
   "id": "4b4e8568",
   "metadata": {
    "slideshow": {
     "slide_type": "slide"
    }
   },
   "source": [
    "Let's try encapsulating these statements with a function"
   ]
  },
  {
   "cell_type": "code",
   "execution_count": null,
   "id": "b48e5d89",
   "metadata": {
    "slideshow": {
     "slide_type": "fragment"
    }
   },
   "outputs": [],
   "source": [
    "def compare_to_10(value):\n",
    "    if value < 10:\n",
    "        print(value, 'is less than 10')\n",
    "    elif value == 10:\n",
    "        print(value, 'equals 10')\n",
    "    else:\n",
    "        print(value, 'is greater than 10')    \n",
    "    return"
   ]
  },
  {
   "cell_type": "markdown",
   "id": "80ef5142",
   "metadata": {
    "slideshow": {
     "slide_type": "fragment"
    }
   },
   "source": [
    "A few things to notice here:\n",
    "- Running the cell above does not produce any output.  It just defines the function and adds it to our **namespace**, which makes it available to call later on.\n",
    "- Function names should always be **verbs** which describe what the function does (e.g. `do_this()`, `get_that()`, etc.). They should also always be all lower case, with underscores separating words as needed for legibility.\n",
    "- There is nothing special about the word `value` above. It's a placeholder for whatever argument we will eventually pass into the function when we're ready to use it. It defines a variable that does not yet have a value, and will take on the value of whatever argument we pass into the function when we call it. It will only be defined in the _local_ namespace of the function. It works kind of like `item` in the following for loop:\n",
    "```\n",
    "for item in list:\n",
    "    print(item)\n",
    "```"
   ]
  },
  {
   "cell_type": "markdown",
   "id": "0421e789",
   "metadata": {
    "slideshow": {
     "slide_type": "slide"
    }
   },
   "source": [
    "To call a function, just use its name as if it were a built in function and use parentheses to pass the function a value or set of values as **arguments**.  Just pay attention - the function doesn't exist until you initialize it by running the code that defines it."
   ]
  },
  {
   "cell_type": "markdown",
   "id": "ceccc4a5",
   "metadata": {
    "slideshow": {
     "slide_type": "fragment"
    }
   },
   "source": [
    "Let's try calling the function now"
   ]
  },
  {
   "cell_type": "code",
   "execution_count": null,
   "id": "e08f3cfa",
   "metadata": {
    "slideshow": {
     "slide_type": "fragment"
    }
   },
   "outputs": [],
   "source": [
    "compare_to_10(9)"
   ]
  },
  {
   "cell_type": "markdown",
   "id": "da39add1",
   "metadata": {
    "slideshow": {
     "slide_type": "slide"
    }
   },
   "source": [
    "The above approach to calling the method isn't that different than the original use case. But now we can call the function from a for loop, and this is where you begin to see the value of functions in automating a process."
   ]
  },
  {
   "cell_type": "code",
   "execution_count": null,
   "id": "00f9d42b",
   "metadata": {
    "slideshow": {
     "slide_type": "fragment"
    }
   },
   "outputs": [],
   "source": [
    "for i in range(20):\n",
    "    compare_to_10(i)"
   ]
  },
  {
   "cell_type": "markdown",
   "id": "4f48743d",
   "metadata": {
    "slideshow": {
     "slide_type": "slide"
    }
   },
   "source": [
    "![](images/podracing.gif)"
   ]
  },
  {
   "cell_type": "markdown",
   "id": "0ae42d57",
   "metadata": {
    "slideshow": {
     "slide_type": "slide"
    }
   },
   "source": [
    "### 2.2.1 `return` values\n",
    "\n",
    "Your function can produce output data that you can use from wherever you've called that function.\n",
    "\n",
    "Note the use of `return` here. `return` not only tells your function which results to return, but it also send a signal to your function that the function is \"done\". Kind of like `break` in a loop. "
   ]
  },
  {
   "cell_type": "code",
   "execution_count": null,
   "id": "216a9b96",
   "metadata": {
    "slideshow": {
     "slide_type": "fragment"
    }
   },
   "outputs": [],
   "source": [
    "def greater_than(x, y):\n",
    "    if x > y:\n",
    "        return True\n",
    "    else:\n",
    "        return False"
   ]
  },
  {
   "cell_type": "code",
   "execution_count": null,
   "id": "8d69c851",
   "metadata": {
    "scrolled": false,
    "slideshow": {
     "slide_type": "fragment"
    }
   },
   "outputs": [],
   "source": [
    "greater_than('A', 'B')"
   ]
  },
  {
   "cell_type": "markdown",
   "id": "493c1dde",
   "metadata": {
    "slideshow": {
     "slide_type": "slide"
    }
   },
   "source": [
    "One of the most practical uses of using return is that you can assign the result to a variable and continue working with it."
   ]
  },
  {
   "cell_type": "code",
   "execution_count": null,
   "id": "034a7134",
   "metadata": {
    "slideshow": {
     "slide_type": "fragment"
    }
   },
   "outputs": [],
   "source": [
    "z = greater_than(3, 5)"
   ]
  },
  {
   "cell_type": "code",
   "execution_count": null,
   "id": "e53713e6",
   "metadata": {
    "slideshow": {
     "slide_type": "fragment"
    }
   },
   "outputs": [],
   "source": [
    "z"
   ]
  },
  {
   "cell_type": "markdown",
   "id": "cdd75c58",
   "metadata": {
    "slideshow": {
     "slide_type": "slide"
    }
   },
   "source": [
    "### 2.2.2 A more complex example\n",
    "\n",
    "Here is a more complex function that calculates a Fibonacci series up to $n$.  Fibonacci series have the property that the sum of two adjacent numbers in the list equals the next value in the list.  \n",
    "\n",
    "Figuring out how to write functions to solve a problem requires analyzing the problem and, if it is complicated, breaking it down to smaller steps.  In this case, to create a Fibonnaci series we should:\n",
    "\n",
    "1. Initialize two variables with the first two values, 0 and 1\n",
    "2. create a while loop to iterate over a sequence of values up to $n$\n",
    "2. at each iteration, assign the second value to the first variable and assign the sum of the two to the second variable"
   ]
  },
  {
   "cell_type": "code",
   "execution_count": null,
   "id": "e381ae4e",
   "metadata": {
    "slideshow": {
     "slide_type": "slide"
    }
   },
   "outputs": [],
   "source": [
    "def fibonacci(n):    \n",
    "    a, b = 0, 1  # use commas to assign multiple variables in one line\n",
    "    while a < n:\n",
    "        print(a, end=' ')\n",
    "        a, b = b, a + b\n",
    "    \n",
    "foo = fibonacci(1000)"
   ]
  },
  {
   "cell_type": "code",
   "execution_count": null,
   "id": "14598cf8",
   "metadata": {
    "slideshow": {
     "slide_type": "fragment"
    }
   },
   "outputs": [],
   "source": [
    "print(foo)"
   ]
  },
  {
   "cell_type": "markdown",
   "id": "93e27955",
   "metadata": {
    "slideshow": {
     "slide_type": "fragment"
    }
   },
   "source": [
    "Note that when a function does not explicitly return anything, Python will return `None`. This is equivalent to the following:"
   ]
  },
  {
   "cell_type": "code",
   "execution_count": null,
   "id": "a4a99c77",
   "metadata": {
    "slideshow": {
     "slide_type": "fragment"
    }
   },
   "outputs": [],
   "source": [
    "def fibonacci(n):    \n",
    "    a, b = 0, 1  # use commas to assign multiple variables in one line\n",
    "    while a < n:\n",
    "        print(a, end=' ')\n",
    "        a, b = b, a + b\n",
    "    return\n",
    "    \n",
    "foo = fibonacci(1000)"
   ]
  },
  {
   "cell_type": "markdown",
   "id": "57594ac0",
   "metadata": {
    "slideshow": {
     "slide_type": "slide"
    }
   },
   "source": [
    "We can add documentation to functions by adding a statement in triple quotation marks following the `def` statement. These are called **docstring**, which Python can use to generate documentation for a function."
   ]
  },
  {
   "cell_type": "code",
   "execution_count": null,
   "id": "19f3af8b",
   "metadata": {
    "slideshow": {
     "slide_type": "fragment"
    }
   },
   "outputs": [],
   "source": [
    "def fibonacci(n):    \n",
    "    \"\"\"Print a Fibonacci series up to n, where each element \n",
    "    is the sum of the preceding two elements in the sequence.\n",
    "    \"\"\"\n",
    "    a, b = 0, 1\n",
    "    print(locals())\n",
    "    while a < n:\n",
    "        print(a, end=' ')\n",
    "        a, b = b, a + b\n",
    "    \n",
    "fibonacci(1000)"
   ]
  },
  {
   "cell_type": "markdown",
   "id": "df32f7fb",
   "metadata": {
    "slideshow": {
     "slide_type": "slide"
    }
   },
   "source": [
    "Let's modify the function to create a list, return it, and assign it to a new variable."
   ]
  },
  {
   "cell_type": "code",
   "execution_count": null,
   "id": "00513b0d",
   "metadata": {
    "slideshow": {
     "slide_type": "fragment"
    }
   },
   "outputs": [],
   "source": [
    "def fibonacci(n):    \n",
    "    \"\"\"Print a Fibonacci series up to n, where each element is the sum of the\n",
    "    preceding two elements in the sequence.\n",
    "    \"\"\"\n",
    "    result = []\n",
    "    a, b = 0, 1\n",
    "    while a < n:\n",
    "        result.append(a)\n",
    "        a, b = b, a + b\n",
    "    return result\n",
    "    \n",
    "f = fibonacci(1000)\n",
    "f"
   ]
  },
  {
   "cell_type": "code",
   "execution_count": null,
   "id": "58fed9d4",
   "metadata": {
    "slideshow": {
     "slide_type": "slide"
    }
   },
   "outputs": [],
   "source": [
    "# print the doctring for a function\n",
    "print(fibonacci.__doc__)"
   ]
  },
  {
   "cell_type": "code",
   "execution_count": null,
   "id": "dfb17c10",
   "metadata": {
    "scrolled": true,
    "slideshow": {
     "slide_type": "fragment"
    }
   },
   "outputs": [],
   "source": [
    "help(fibonacci)"
   ]
  },
  {
   "cell_type": "markdown",
   "id": "2d77e1cd",
   "metadata": {
    "slideshow": {
     "slide_type": "slide"
    }
   },
   "source": [
    "### Practice:\n",
    "\n",
    "Write a Python function named `countdown()` that:\n",
    "1. accepts an integer as an argument\n",
    "2. prints that integer and counts down to zero from there.\n",
    "\n",
    "Test it by passing it a value of 9."
   ]
  },
  {
   "cell_type": "code",
   "execution_count": null,
   "id": "17e1abe0",
   "metadata": {
    "slideshow": {
     "slide_type": "fragment"
    }
   },
   "outputs": [],
   "source": []
  },
  {
   "cell_type": "markdown",
   "id": "bfd884e6",
   "metadata": {
    "slideshow": {
     "slide_type": "slide"
    }
   },
   "source": [
    "### 2.2.3 \"Lambda\" Functions"
   ]
  },
  {
   "cell_type": "markdown",
   "id": "45de40d0",
   "metadata": {
    "slideshow": {
     "slide_type": "fragment"
    }
   },
   "source": [
    "One way to write small functions in a compact way that avoids the `def` statement is to use the **lambda** function. Lambda takes a number of parameters and an expression combining these parameters, and creates an anonymous function that returns the value of the expression. Lambda functions come very handy when operating with lists or other iterables. These function are defined by the keyword lambda followed by the variables, a colon and the respective expression."
   ]
  },
  {
   "cell_type": "code",
   "execution_count": null,
   "id": "355788f0",
   "metadata": {
    "slideshow": {
     "slide_type": "fragment"
    }
   },
   "outputs": [],
   "source": [
    "multiply = lambda x: x * x"
   ]
  },
  {
   "cell_type": "code",
   "execution_count": null,
   "id": "c26ffadd",
   "metadata": {
    "slideshow": {
     "slide_type": "fragment"
    }
   },
   "outputs": [],
   "source": [
    "multiply(7)"
   ]
  },
  {
   "cell_type": "markdown",
   "id": "22d594ff",
   "metadata": {
    "slideshow": {
     "slide_type": "slide"
    }
   },
   "source": [
    "The lamda function above is equivalent to the following code:"
   ]
  },
  {
   "cell_type": "code",
   "execution_count": null,
   "id": "f0797082",
   "metadata": {
    "slideshow": {
     "slide_type": "fragment"
    }
   },
   "outputs": [],
   "source": [
    "def multiply(x):\n",
    "    result = x * x\n",
    "    return result\n",
    "\n",
    "multiply(7)"
   ]
  },
  {
   "cell_type": "markdown",
   "id": "ea59dbfd",
   "metadata": {
    "slideshow": {
     "slide_type": "slide"
    }
   },
   "source": [
    "Here's an example lambda function which takes two arguments"
   ]
  },
  {
   "cell_type": "code",
   "execution_count": null,
   "id": "e66fe7a2",
   "metadata": {
    "slideshow": {
     "slide_type": "fragment"
    }
   },
   "outputs": [],
   "source": [
    "add = lambda x, y: x + y"
   ]
  },
  {
   "cell_type": "code",
   "execution_count": null,
   "id": "85aeedeb",
   "metadata": {
    "slideshow": {
     "slide_type": "fragment"
    }
   },
   "outputs": [],
   "source": [
    "add(3, 4)"
   ]
  },
  {
   "cell_type": "markdown",
   "id": "12c6e0b9",
   "metadata": {
    "slideshow": {
     "slide_type": "fragment"
    }
   },
   "source": [
    "This is just an alternative way to \"def statement\"  and defining a function in the usual way."
   ]
  },
  {
   "cell_type": "code",
   "execution_count": null,
   "id": "932bb711",
   "metadata": {
    "slideshow": {
     "slide_type": "fragment"
    }
   },
   "outputs": [],
   "source": [
    "def add(x, y):\n",
    "    result = x + y\n",
    "    return result"
   ]
  },
  {
   "cell_type": "markdown",
   "id": "30da341c",
   "metadata": {
    "slideshow": {
     "slide_type": "slide"
    }
   },
   "source": [
    "Here is an example of embedding a boolean test in a lambda"
   ]
  },
  {
   "cell_type": "code",
   "execution_count": null,
   "id": "797281fe",
   "metadata": {
    "slideshow": {
     "slide_type": "fragment"
    }
   },
   "outputs": [],
   "source": [
    "check_even = lambda x: x % 2 == 0\n",
    "check_even(9)"
   ]
  },
  {
   "cell_type": "markdown",
   "id": "aeb46097",
   "metadata": {
    "slideshow": {
     "slide_type": "slide"
    }
   },
   "source": [
    "### 2.2.4 The `map()` function\n",
    "`map()` is a function which evaluates a function on each item of a sequence. To achieve this, it takes other functions as an argument."
   ]
  },
  {
   "cell_type": "code",
   "execution_count": null,
   "id": "aa70ffc4",
   "metadata": {
    "slideshow": {
     "slide_type": "fragment"
    }
   },
   "outputs": [],
   "source": [
    "ls = list(range(10))\n",
    "list(map(str, ls))"
   ]
  },
  {
   "cell_type": "markdown",
   "id": "53bd9a27",
   "metadata": {
    "slideshow": {
     "slide_type": "fragment"
    }
   },
   "source": [
    "When combined with lambda functions, `map()` can make for some very powerful one-liners"
   ]
  },
  {
   "cell_type": "code",
   "execution_count": null,
   "id": "fe749c79",
   "metadata": {
    "slideshow": {
     "slide_type": "fragment"
    }
   },
   "outputs": [],
   "source": [
    "list(map(lambda x: x * x, ls))"
   ]
  },
  {
   "cell_type": "markdown",
   "id": "1da2b0fc",
   "metadata": {
    "slideshow": {
     "slide_type": "slide"
    }
   },
   "source": [
    "Notice that without `list()`, map returns a `map` object, similar to how `range()` produces a `range` object"
   ]
  },
  {
   "cell_type": "code",
   "execution_count": null,
   "id": "8c49978e",
   "metadata": {
    "slideshow": {
     "slide_type": "fragment"
    }
   },
   "outputs": [],
   "source": [
    "eg = map(lambda x: x + 2, ls)\n",
    "print(ls)\n",
    "print(eg)\n",
    "print(list(eg))"
   ]
  },
  {
   "cell_type": "code",
   "execution_count": null,
   "id": "c7aa2956",
   "metadata": {
    "slideshow": {
     "slide_type": "fragment"
    }
   },
   "outputs": [],
   "source": [
    "ls = list(range(10))\n",
    "eg3 = map(lambda x: x % 2 == 0, ls)\n",
    "print(ls)\n",
    "print(list(eg3))"
   ]
  },
  {
   "cell_type": "markdown",
   "id": "65389e6d",
   "metadata": {
    "slideshow": {
     "slide_type": "slide"
    }
   },
   "source": [
    "## 2.3 `class` objects"
   ]
  },
  {
   "cell_type": "markdown",
   "id": "9a6c3c3d",
   "metadata": {
    "slideshow": {
     "slide_type": "fragment"
    }
   },
   "source": [
    "Let's create a simple class for UC Berkeley employees."
   ]
  },
  {
   "cell_type": "code",
   "execution_count": null,
   "id": "343d8d5a",
   "metadata": {
    "slideshow": {
     "slide_type": "fragment"
    }
   },
   "outputs": [],
   "source": [
    "class Employee:\n",
    "    pass  # pass is kind of like \"continue\" in a loop, it does nothing."
   ]
  },
  {
   "cell_type": "markdown",
   "id": "d4794a4f",
   "metadata": {
    "slideshow": {
     "slide_type": "fragment"
    }
   },
   "source": [
    "Above, a class object named \"Employee\" is declared. It kind of looks like a function definition except instead of `def` you use `class`, and you don't return anything. Think of a `class` like a blueprint or a recipe for creating objects that have a predefined set of attributes and methods for manipulating those attributes. You can use that blueprint to create lots of different versions or **instances** of that class."
   ]
  },
  {
   "cell_type": "markdown",
   "id": "6d903b94",
   "metadata": {
    "slideshow": {
     "slide_type": "slide"
    }
   },
   "source": [
    "### 2.3.1 Instantiate a class "
   ]
  },
  {
   "cell_type": "markdown",
   "id": "8902ea0c",
   "metadata": {
    "slideshow": {
     "slide_type": "fragment"
    }
   },
   "source": [
    "Each unique employee that we create using our \"Employee\" class will be an instance of that class. For instance, employees 1 and 2. To create an instance all you need to do is: "
   ]
  },
  {
   "cell_type": "code",
   "execution_count": null,
   "id": "babdda25",
   "metadata": {
    "slideshow": {
     "slide_type": "fragment"
    }
   },
   "outputs": [],
   "source": [
    "emp_1 = Employee()\n",
    "emp_2 = Employee()"
   ]
  },
  {
   "cell_type": "markdown",
   "id": "b9912a20",
   "metadata": {
    "slideshow": {
     "slide_type": "slide"
    }
   },
   "source": [
    "If we print these two instances, you will see both of them are Employee objects which are unique -- they each have different locations in the computer's memory."
   ]
  },
  {
   "cell_type": "code",
   "execution_count": null,
   "id": "9eeb33c3",
   "metadata": {
    "scrolled": true,
    "slideshow": {
     "slide_type": "fragment"
    }
   },
   "outputs": [],
   "source": [
    "print(emp_1)\n",
    "print(type(emp_1))"
   ]
  },
  {
   "cell_type": "markdown",
   "id": "2faed620",
   "metadata": {
    "slideshow": {
     "slide_type": "fragment"
    }
   },
   "source": [
    "Knowing the difference between a class and an instance of that class is important.  Its like the difference between a blueprint for a building and an actual building constructed from that blueprint.\n"
   ]
  },
  {
   "cell_type": "markdown",
   "id": "7f061868",
   "metadata": {
    "slideshow": {
     "slide_type": "slide"
    }
   },
   "source": [
    "### 2.3.2 Class attributes"
   ]
  },
  {
   "cell_type": "markdown",
   "id": "d184da2b",
   "metadata": {
    "slideshow": {
     "slide_type": "fragment"
    }
   },
   "source": [
    "Variables that are stored within class objects are called **attributes**. Let's add some for our employees:"
   ]
  },
  {
   "cell_type": "code",
   "execution_count": null,
   "id": "e7f5ed37",
   "metadata": {
    "slideshow": {
     "slide_type": "fragment"
    }
   },
   "outputs": [],
   "source": [
    "emp_1.first = 'John'\n",
    "emp_1.last= 'Smith'\n",
    "emp_1.email= '{0}.{1}@berkeley.edu'.format(emp_1.first, emp_1.last)\n",
    "emp_1.pay= 85000\n",
    "\n",
    "emp_2.first = 'Jane'\n",
    "emp_2.last= 'Doe'\n",
    "emp_2.email= '{0}.{1}@berkeley.edu'.format(emp_2.first, emp_2.last)\n",
    "emp_2.pay= 20000"
   ]
  },
  {
   "cell_type": "markdown",
   "id": "301fb463",
   "metadata": {
    "slideshow": {
     "slide_type": "fragment"
    }
   },
   "source": [
    "Now let's print out the email address for employee 2"
   ]
  },
  {
   "cell_type": "code",
   "execution_count": null,
   "id": "14b56ba9",
   "metadata": {
    "slideshow": {
     "slide_type": "fragment"
    }
   },
   "outputs": [],
   "source": [
    "print(emp_2.email)"
   ]
  },
  {
   "cell_type": "markdown",
   "id": "161a2ae6",
   "metadata": {
    "slideshow": {
     "slide_type": "slide"
    }
   },
   "source": [
    "## 2.4 Class methods"
   ]
  },
  {
   "cell_type": "code",
   "execution_count": null,
   "id": "02fcf273",
   "metadata": {},
   "outputs": [],
   "source": []
  },
  {
   "cell_type": "markdown",
   "id": "c580955d",
   "metadata": {
    "slideshow": {
     "slide_type": "fragment"
    }
   },
   "source": [
    "First, a reminder. Methods are just functions of a class. They are constructed the exact same way, with one minor difference: "
   ]
  },
  {
   "cell_type": "markdown",
   "id": "b0185065",
   "metadata": {
    "slideshow": {
     "slide_type": "fragment"
    }
   },
   "source": [
    "```\n",
    "def print_hello(self):\n",
    "    print(\"Hello World!\")\n",
    "```"
   ]
  },
  {
   "cell_type": "markdown",
   "id": "6b83cc6e",
   "metadata": {
    "slideshow": {
     "slide_type": "fragment"
    }
   },
   "source": [
    "The first argument of a method is always the instance object itself. For the sake of convention, we usually name this argument `self`, but it can really be anything. This argument never needs to be specified when the method itself is called. It's just there. Ignore it except when you are defining a method."
   ]
  },
  {
   "cell_type": "markdown",
   "id": "42bbefca",
   "metadata": {},
   "source": [
    "### 2.4.1 the `__init__()` method"
   ]
  },
  {
   "cell_type": "markdown",
   "id": "76eeb544",
   "metadata": {
    "slideshow": {
     "slide_type": "slide"
    }
   },
   "source": [
    "Back to our employee class. What should we do if we want to create many employee instances? To do this manually it would require writing a lot of code, and we'd probably eventually make a mistake if we re-write it every time.\n",
    "\n",
    "To make this **instantiation** easier we use the `__init__()` method, short for \"initialize\". It will define an _initial_ state for all instances of this class. As soon as a class instance is instantiated, the code inside of `__init__()` will be run."
   ]
  },
  {
   "cell_type": "code",
   "execution_count": null,
   "id": "880c214f",
   "metadata": {
    "slideshow": {
     "slide_type": "fragment"
    }
   },
   "outputs": [],
   "source": [
    "class Employee:\n",
    "\n",
    "    def __init__(self, first, last, pay):\n",
    "        self.first = first\n",
    "        self.last = last\n",
    "        self.pay = pay\n",
    "        self.email = '{0}.{1}@berkeley.edu'.format(first, last)"
   ]
  },
  {
   "cell_type": "markdown",
   "id": "fe9a50fe",
   "metadata": {
    "slideshow": {
     "slide_type": "slide"
    }
   },
   "source": [
    "Now we can instantiate `Employee` type objects with attributes right from the start:"
   ]
  },
  {
   "cell_type": "code",
   "execution_count": null,
   "id": "c25b6e24",
   "metadata": {
    "slideshow": {
     "slide_type": "fragment"
    }
   },
   "outputs": [],
   "source": [
    "emp_1 = Employee('John', 'Smith', 83000)\n",
    "emp_2 = Employee('Jane', 'Doe', 20000)"
   ]
  },
  {
   "cell_type": "markdown",
   "id": "1f663d6c",
   "metadata": {
    "slideshow": {
     "slide_type": "fragment"
    }
   },
   "source": [
    "And once you have instantiated an object, you can call it by name and access its attributes:"
   ]
  },
  {
   "cell_type": "code",
   "execution_count": null,
   "id": "f6c6fc3b",
   "metadata": {
    "slideshow": {
     "slide_type": "fragment"
    }
   },
   "outputs": [],
   "source": [
    "print(\"{0} {1}: ${2}\".format(emp_1.first, emp_1.last, emp_1.pay))"
   ]
  },
  {
   "cell_type": "markdown",
   "id": "32a1669b",
   "metadata": {
    "slideshow": {
     "slide_type": "slide"
    }
   },
   "source": [
    "### 2.4.2 Defining your own class methods"
   ]
  },
  {
   "cell_type": "markdown",
   "id": "1493b7b1",
   "metadata": {
    "slideshow": {
     "slide_type": "fragment"
    }
   },
   "source": [
    "That's a lot to type each time we want to display the full name of an employee. To make it easier, we can add a **method**. In this case, the instance object is the only argument we need:"
   ]
  },
  {
   "cell_type": "code",
   "execution_count": null,
   "id": "8ce82a6a",
   "metadata": {
    "slideshow": {
     "slide_type": "fragment"
    }
   },
   "outputs": [],
   "source": [
    "class Employee:\n",
    "    def __init__(self, first, last, pay):\n",
    "        self.first = first\n",
    "        self.last = last\n",
    "        self.pay = pay\n",
    "        self.email = '{0}.{1}@berkeley.edu'.format(first, last)\n",
    "        \n",
    "    def get_full_name(self):\n",
    "        return '{0} {1}'.format(self.first, self.last)"
   ]
  },
  {
   "cell_type": "code",
   "execution_count": null,
   "id": "d26e9539",
   "metadata": {
    "slideshow": {
     "slide_type": "slide"
    }
   },
   "outputs": [],
   "source": [
    "emp_1 = Employee('John', 'Smith', 83000)\n",
    "emp_2 = Employee('Jane', 'Doe', 20000)"
   ]
  },
  {
   "cell_type": "code",
   "execution_count": null,
   "id": "9a19193a",
   "metadata": {
    "scrolled": true,
    "slideshow": {
     "slide_type": "fragment"
    }
   },
   "outputs": [],
   "source": [
    "emp_1.get_full_name()"
   ]
  },
  {
   "cell_type": "markdown",
   "id": "15939ca8",
   "metadata": {
    "slideshow": {
     "slide_type": "fragment"
    }
   },
   "source": [
    "Even though `get_full_name()` doesn't take any arguments, we still need to use `()` to let Python know that it's a function. Let's see what would we get if we print the above code without ( ). "
   ]
  },
  {
   "cell_type": "code",
   "execution_count": null,
   "id": "c5675f82",
   "metadata": {
    "slideshow": {
     "slide_type": "fragment"
    }
   },
   "outputs": [],
   "source": [
    "print(emp_1.get_full_name)"
   ]
  },
  {
   "cell_type": "markdown",
   "id": "697cfff7",
   "metadata": {
    "slideshow": {
     "slide_type": "slide"
    }
   },
   "source": [
    "Now let's practice adding more \"functionality\" to our class. For instance, all staff are supposed to get a 2% raise each year. But the union is renegotiating contracts, so it could be more! We want to add a method to calculate the salary after the raise. "
   ]
  },
  {
   "cell_type": "code",
   "execution_count": null,
   "id": "43d53bdf",
   "metadata": {
    "slideshow": {
     "slide_type": "fragment"
    }
   },
   "outputs": [],
   "source": [
    "class Employee:\n",
    "    def __init__(self, first, last, pay):\n",
    "        self.first = first\n",
    "        self.last = last\n",
    "        self.pay = pay\n",
    "        self.email = '{0}.{1}@berkeley.edu'.format(first, last)\n",
    "        \n",
    "    def get_full_name(self):\n",
    "        return '{0} {1}'.format(self.first, self.last)\n",
    "\n",
    "    def get_new_salary(self, pct_raise=0.02):\n",
    "        return round(self.pay * (1 + pct_raise))"
   ]
  },
  {
   "cell_type": "code",
   "execution_count": null,
   "id": "97b59f1f",
   "metadata": {
    "slideshow": {
     "slide_type": "fragment"
    }
   },
   "outputs": [],
   "source": [
    "emp_1 = Employee('John', 'Smith', 83000)\n",
    "emp_2 = Employee('Jane', 'Doe', 20000)"
   ]
  },
  {
   "cell_type": "code",
   "execution_count": null,
   "id": "36d6cf3a",
   "metadata": {
    "scrolled": true,
    "slideshow": {
     "slide_type": "fragment"
    }
   },
   "outputs": [],
   "source": [
    "print(emp_1.get_new_salary())"
   ]
  },
  {
   "cell_type": "markdown",
   "id": "d41b6b91",
   "metadata": {
    "slideshow": {
     "slide_type": "slide"
    }
   },
   "source": [
    "### 2.4.3 Know thy `self`\n",
    "\n",
    "Any of these methods can be called from the class itself rather than a class instance. When we do that, we pass the  instance object in as the first argument:"
   ]
  },
  {
   "cell_type": "code",
   "execution_count": null,
   "id": "cde04263",
   "metadata": {
    "slideshow": {
     "slide_type": "fragment"
    }
   },
   "outputs": [],
   "source": [
    "print(Employee.get_new_salary(emp_1))\n"
   ]
  },
  {
   "cell_type": "markdown",
   "id": "8cef6f4f",
   "metadata": {
    "slideshow": {
     "slide_type": "fragment"
    }
   },
   "source": [
    "That's why we write `self` when we define methods, and also why we don't need it when we call the method from the class instance object."
   ]
  },
  {
   "cell_type": "markdown",
   "id": "9eaecaf7",
   "metadata": {
    "slideshow": {
     "slide_type": "slide"
    }
   },
   "source": [
    "One common mistake in creating method is forgetting to define the `self` argument. Let's take a quick look to our code to see what that would look like if we forgot our `self`s: "
   ]
  },
  {
   "cell_type": "code",
   "execution_count": null,
   "id": "1468b61c",
   "metadata": {
    "slideshow": {
     "slide_type": "fragment"
    }
   },
   "outputs": [],
   "source": [
    "class Employee:\n",
    "\n",
    "    def __init__(self, first, last, pay):\n",
    "        self.first = first\n",
    "        self.last = last\n",
    "        self.pay = pay\n",
    "        self.email = '{0}.{1}@berkeley.edu'.format(first, last)\n",
    "\n",
    "    def get_full_name():\n",
    "        return '{0} {1}'.format(self.first, self.last)\n",
    "\n",
    "\n",
    "    def get_new_salary():\n",
    "        return self.pay * .15\n"
   ]
  },
  {
   "cell_type": "code",
   "execution_count": null,
   "id": "033abe82",
   "metadata": {
    "slideshow": {
     "slide_type": "fragment"
    }
   },
   "outputs": [],
   "source": [
    "emp_1 = Employee('John', 'Smith', 83000)\n",
    "emp_2 = Employee('Jane', 'Doe', 20000)"
   ]
  },
  {
   "cell_type": "code",
   "execution_count": null,
   "id": "c8e4d67e",
   "metadata": {
    "slideshow": {
     "slide_type": "fragment"
    }
   },
   "outputs": [],
   "source": [
    "print(emp_1.get_new_salary())"
   ]
  },
  {
   "cell_type": "markdown",
   "id": "68529e7d",
   "metadata": {
    "slideshow": {
     "slide_type": "slide"
    }
   },
   "source": [
    "# 3. For next time\n",
    "- Start your homework\n",
    "- GitHub Pages?"
   ]
  },
  {
   "cell_type": "markdown",
   "id": "ba034db6",
   "metadata": {
    "slideshow": {
     "slide_type": "slide"
    }
   },
   "source": [
    "# 4. Questions?"
   ]
  }
 ],
 "metadata": {
  "celltoolbar": "Slideshow",
  "kernelspec": {
   "display_name": "Python [conda env:cp255] *",
   "language": "python",
   "name": "conda-env-cp255-py"
  },
  "language_info": {
   "codemirror_mode": {
    "name": "ipython",
    "version": 3
   },
   "file_extension": ".py",
   "mimetype": "text/x-python",
   "name": "python",
   "nbconvert_exporter": "python",
   "pygments_lexer": "ipython3",
   "version": "3.10.2"
  },
  "toc": {
   "base_numbering": 1,
   "nav_menu": {},
   "number_sections": false,
   "sideBar": true,
   "skip_h1_title": true,
   "title_cell": "Table of Contents",
   "title_sidebar": "Contents",
   "toc_cell": true,
   "toc_position": {
    "height": "calc(100% - 180px)",
    "left": "10px",
    "top": "150px",
    "width": "336px"
   },
   "toc_section_display": true,
   "toc_window_display": false
  }
 },
 "nbformat": 4,
 "nbformat_minor": 5
}
