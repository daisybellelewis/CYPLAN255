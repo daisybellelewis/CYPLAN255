{
 "cells": [
  {
   "cell_type": "markdown",
   "metadata": {},
   "source": [
    "REMEMBER: FIRST CREATE A COPY OF THIS FILE WITH A UNIQUE NAME AND DO YOUR WORK THERE. AND MAKE SURE YOU COMMIT YOUR CHANGES TO THE `hw3_submissions` BRANCH."
   ]
  },
  {
   "cell_type": "markdown",
   "metadata": {},
   "source": [
    "# Assignment 3 | Cleaning and Exploring Data with Pandas\n",
    "\n"
   ]
  },
  {
   "cell_type": "markdown",
   "metadata": {},
   "source": [
    "<img src=\"data/scoreCard.jpg\" width=250>\n",
    "\n",
    "In this assignment, you will investigate restaurant food safety scores for restaurants in San Francisco. Above is a sample score card for a restaurant. The scores and violation information have been made available by the San Francisco Department of Public Health. "
   ]
  },
  {
   "cell_type": "markdown",
   "metadata": {},
   "source": [
    "## Loading Food Safety Data\n",
    "\n",
    "\n",
    "There are 2 files in the data directory:\n",
    "1. business.csv containing food establishments in San Francisco\n",
    "1. inspections.csv containing retaurant inspections records\n",
    "\n",
    "Let's start by loading them into Pandas dataframes.  One of the files, business.csv, has encoding (ISO-8859-1), so you will need to account for that when reading it."
   ]
  },
  {
   "cell_type": "markdown",
   "metadata": {},
   "source": [
    "### Question 1\n",
    "\n",
    "#### Question 1a\n",
    "Read the two files noted above into two pandas dataframes named `bus` and `ins`, respectively. Print the first 5 rows of each to inspect them.\n"
   ]
  },
  {
   "cell_type": "code",
   "execution_count": 1,
   "metadata": {},
   "outputs": [],
   "source": [
    "import pandas as pd"
   ]
  },
  {
   "cell_type": "code",
   "execution_count": 2,
   "metadata": {
    "tags": [
     "solution"
    ]
   },
   "outputs": [],
   "source": [
    "bus = pd.read_csv('data/businesses.csv', encoding='ISO-8859-1')\n",
    "ins = pd.read_csv('data/inspections.csv')"
   ]
  },
  {
   "cell_type": "code",
   "execution_count": 3,
   "metadata": {},
   "outputs": [
    {
     "data": {
      "text/html": [
       "<div>\n",
       "<style scoped>\n",
       "    .dataframe tbody tr th:only-of-type {\n",
       "        vertical-align: middle;\n",
       "    }\n",
       "\n",
       "    .dataframe tbody tr th {\n",
       "        vertical-align: top;\n",
       "    }\n",
       "\n",
       "    .dataframe thead th {\n",
       "        text-align: right;\n",
       "    }\n",
       "</style>\n",
       "<table border=\"1\" class=\"dataframe\">\n",
       "  <thead>\n",
       "    <tr style=\"text-align: right;\">\n",
       "      <th></th>\n",
       "      <th>business_id</th>\n",
       "      <th>name</th>\n",
       "      <th>address</th>\n",
       "      <th>city</th>\n",
       "      <th>state</th>\n",
       "      <th>postal_code</th>\n",
       "      <th>latitude</th>\n",
       "      <th>longitude</th>\n",
       "      <th>phone_number</th>\n",
       "    </tr>\n",
       "  </thead>\n",
       "  <tbody>\n",
       "    <tr>\n",
       "      <th>0</th>\n",
       "      <td>10</td>\n",
       "      <td>TIRAMISU KITCHEN</td>\n",
       "      <td>033 BELDEN PL</td>\n",
       "      <td>San Francisco</td>\n",
       "      <td>CA</td>\n",
       "      <td>94104</td>\n",
       "      <td>37.791116</td>\n",
       "      <td>-122.403816</td>\n",
       "      <td>+14154217044</td>\n",
       "    </tr>\n",
       "    <tr>\n",
       "      <th>1</th>\n",
       "      <td>19</td>\n",
       "      <td>NRGIZE LIFESTYLE CAFE</td>\n",
       "      <td>1200 VAN NESS AVE, 3RD FLOOR</td>\n",
       "      <td>San Francisco</td>\n",
       "      <td>CA</td>\n",
       "      <td>94109</td>\n",
       "      <td>37.786848</td>\n",
       "      <td>-122.421547</td>\n",
       "      <td>+14157763262</td>\n",
       "    </tr>\n",
       "    <tr>\n",
       "      <th>2</th>\n",
       "      <td>24</td>\n",
       "      <td>OMNI S.F. HOTEL - 2ND FLOOR PANTRY</td>\n",
       "      <td>500 CALIFORNIA ST, 2ND  FLOOR</td>\n",
       "      <td>San Francisco</td>\n",
       "      <td>CA</td>\n",
       "      <td>94104</td>\n",
       "      <td>37.792888</td>\n",
       "      <td>-122.403135</td>\n",
       "      <td>+14156779494</td>\n",
       "    </tr>\n",
       "    <tr>\n",
       "      <th>3</th>\n",
       "      <td>31</td>\n",
       "      <td>NORMAN'S ICE CREAM AND FREEZES</td>\n",
       "      <td>2801 LEAVENWORTH ST</td>\n",
       "      <td>San Francisco</td>\n",
       "      <td>CA</td>\n",
       "      <td>94133</td>\n",
       "      <td>37.807155</td>\n",
       "      <td>-122.419004</td>\n",
       "      <td>NaN</td>\n",
       "    </tr>\n",
       "    <tr>\n",
       "      <th>4</th>\n",
       "      <td>45</td>\n",
       "      <td>CHARLIE'S DELI CAFE</td>\n",
       "      <td>3202 FOLSOM ST</td>\n",
       "      <td>San Francisco</td>\n",
       "      <td>CA</td>\n",
       "      <td>94110</td>\n",
       "      <td>37.747114</td>\n",
       "      <td>-122.413641</td>\n",
       "      <td>+14156415051</td>\n",
       "    </tr>\n",
       "  </tbody>\n",
       "</table>\n",
       "</div>"
      ],
      "text/plain": [
       "   business_id                                name  \\\n",
       "0           10                    TIRAMISU KITCHEN   \n",
       "1           19               NRGIZE LIFESTYLE CAFE   \n",
       "2           24  OMNI S.F. HOTEL - 2ND FLOOR PANTRY   \n",
       "3           31      NORMAN'S ICE CREAM AND FREEZES   \n",
       "4           45                 CHARLIE'S DELI CAFE   \n",
       "\n",
       "                         address           city state postal_code   latitude  \\\n",
       "0                  033 BELDEN PL  San Francisco    CA       94104  37.791116   \n",
       "1   1200 VAN NESS AVE, 3RD FLOOR  San Francisco    CA       94109  37.786848   \n",
       "2  500 CALIFORNIA ST, 2ND  FLOOR  San Francisco    CA       94104  37.792888   \n",
       "3           2801 LEAVENWORTH ST   San Francisco    CA       94133  37.807155   \n",
       "4                3202 FOLSOM ST   San Francisco    CA       94110  37.747114   \n",
       "\n",
       "    longitude  phone_number  \n",
       "0 -122.403816  +14154217044  \n",
       "1 -122.421547  +14157763262  \n",
       "2 -122.403135  +14156779494  \n",
       "3 -122.419004           NaN  \n",
       "4 -122.413641  +14156415051  "
      ]
     },
     "execution_count": 3,
     "metadata": {},
     "output_type": "execute_result"
    }
   ],
   "source": [
    "bus.head()"
   ]
  },
  {
   "cell_type": "code",
   "execution_count": 4,
   "metadata": {},
   "outputs": [
    {
     "data": {
      "text/html": [
       "<div>\n",
       "<style scoped>\n",
       "    .dataframe tbody tr th:only-of-type {\n",
       "        vertical-align: middle;\n",
       "    }\n",
       "\n",
       "    .dataframe tbody tr th {\n",
       "        vertical-align: top;\n",
       "    }\n",
       "\n",
       "    .dataframe thead th {\n",
       "        text-align: right;\n",
       "    }\n",
       "</style>\n",
       "<table border=\"1\" class=\"dataframe\">\n",
       "  <thead>\n",
       "    <tr style=\"text-align: right;\">\n",
       "      <th></th>\n",
       "      <th>business_id</th>\n",
       "      <th>score</th>\n",
       "      <th>date</th>\n",
       "      <th>type</th>\n",
       "    </tr>\n",
       "  </thead>\n",
       "  <tbody>\n",
       "    <tr>\n",
       "      <th>0</th>\n",
       "      <td>10</td>\n",
       "      <td>82</td>\n",
       "      <td>20160503</td>\n",
       "      <td>routine</td>\n",
       "    </tr>\n",
       "    <tr>\n",
       "      <th>1</th>\n",
       "      <td>10</td>\n",
       "      <td>94</td>\n",
       "      <td>20140729</td>\n",
       "      <td>routine</td>\n",
       "    </tr>\n",
       "    <tr>\n",
       "      <th>2</th>\n",
       "      <td>10</td>\n",
       "      <td>92</td>\n",
       "      <td>20140114</td>\n",
       "      <td>routine</td>\n",
       "    </tr>\n",
       "    <tr>\n",
       "      <th>3</th>\n",
       "      <td>19</td>\n",
       "      <td>94</td>\n",
       "      <td>20160513</td>\n",
       "      <td>routine</td>\n",
       "    </tr>\n",
       "    <tr>\n",
       "      <th>4</th>\n",
       "      <td>19</td>\n",
       "      <td>94</td>\n",
       "      <td>20141110</td>\n",
       "      <td>routine</td>\n",
       "    </tr>\n",
       "  </tbody>\n",
       "</table>\n",
       "</div>"
      ],
      "text/plain": [
       "   business_id  score      date     type\n",
       "0           10     82  20160503  routine\n",
       "1           10     94  20140729  routine\n",
       "2           10     92  20140114  routine\n",
       "3           19     94  20160513  routine\n",
       "4           19     94  20141110  routine"
      ]
     },
     "execution_count": 4,
     "metadata": {},
     "output_type": "execute_result"
    }
   ],
   "source": [
    "ins.head()"
   ]
  },
  {
   "cell_type": "markdown",
   "metadata": {},
   "source": [
    "## Examining the Business data\n",
    "\n",
    "From its name alone, we expect the `businesses.csv` file to contain information about the restaurants. Let's investigate this dataset."
   ]
  },
  {
   "cell_type": "markdown",
   "metadata": {},
   "source": [
    "### Question 2\n",
    "\n",
    "#### Question 2a: How many records are there?"
   ]
  },
  {
   "cell_type": "code",
   "execution_count": 5,
   "metadata": {
    "scrolled": true,
    "tags": [
     "solution"
    ]
   },
   "outputs": [
    {
     "name": "stdout",
     "output_type": "stream",
     "text": [
      "business_id     6315\n",
      "name            6315\n",
      "address         6315\n",
      "city            6315\n",
      "state           6315\n",
      "postal_code     6056\n",
      "latitude        3599\n",
      "longitude       3599\n",
      "phone_number    5696\n",
      "dtype: int64\n"
     ]
    }
   ],
   "source": [
    "rec_num = bus.count()\n",
    "\n",
    "print(rec_num)"
   ]
  },
  {
   "cell_type": "markdown",
   "metadata": {},
   "source": [
    "#### Question 2b: How many unique business IDs are there?  "
   ]
  },
  {
   "cell_type": "code",
   "execution_count": 39,
   "metadata": {},
   "outputs": [
    {
     "name": "stdout",
     "output_type": "stream",
     "text": [
      "6315 6315 \n",
      "Are they equal? = False\n"
     ]
    }
   ],
   "source": [
    "uni_cnt = bus['business_id'].unique()\n",
    "\n",
    "print(len(bus),len(uni_cnt),\"\\nAre they equal? =\",len(ins)==len(uni_cnt))"
   ]
  },
  {
   "cell_type": "markdown",
   "metadata": {},
   "source": [
    "#### Question 2c: What are the 5 most common businesses by name, and how many are there in San Francisco?"
   ]
  },
  {
   "cell_type": "code",
   "execution_count": 7,
   "metadata": {},
   "outputs": [
    {
     "data": {
      "text/plain": [
       "STARBUCKS COFFEE              72\n",
       "PEET'S COFFEE & TEA           24\n",
       "MCDONALDS                     12\n",
       "WALGREENS                     11\n",
       "SAN FRANCISCO SOUP COMPANY    11\n",
       "Name: name, dtype: int64"
      ]
     },
     "execution_count": 7,
     "metadata": {},
     "output_type": "execute_result"
    }
   ],
   "source": [
    "cnt_names = bus['name'].value_counts()\n",
    "\n",
    "cnt_names.head()"
   ]
  },
  {
   "cell_type": "markdown",
   "metadata": {
    "tags": [
     "written"
    ]
   },
   "source": [
    "## Zip code\n",
    "\n",
    "Next, let's  explore some of the variables in the business table. We begin by examining the postal code.\n",
    "\n",
    "### Question 3\n",
    "\n",
    "#### Question 3a\n",
    "How are the zip code values stored in python (i.e. data type)?\n",
    "\n",
    "To answer this you might want to examine a particular entry."
   ]
  },
  {
   "cell_type": "code",
   "execution_count": 8,
   "metadata": {
    "tags": [
     "solution"
    ]
   },
   "outputs": [
    {
     "data": {
      "text/plain": [
       "str"
      ]
     },
     "execution_count": 8,
     "metadata": {},
     "output_type": "execute_result"
    }
   ],
   "source": [
    "entry_1 = bus.iloc[1,:]\n",
    "\n",
    "type (entry_1.loc['postal_code'])"
   ]
  },
  {
   "cell_type": "code",
   "execution_count": null,
   "metadata": {},
   "outputs": [],
   "source": []
  },
  {
   "cell_type": "markdown",
   "metadata": {},
   "source": [
    "#### Question 3b\n",
    "\n",
    "What are the unique values of postal_code?"
   ]
  },
  {
   "cell_type": "code",
   "execution_count": 9,
   "metadata": {
    "scrolled": false
   },
   "outputs": [
    {
     "name": "stdout",
     "output_type": "stream",
     "text": [
      "['94104' '94109' '94133' '94110' '94122' '94103' '94115' '94131' '94111'\n",
      " '94117' '94107' '94108' '94102' '94132' '94105' '94134' '94124' '94116'\n",
      " '94121' '94118' '94112' '94123' '94114' '94127' '941102019' '941' '94545'\n",
      " '94066' '941033148' nan '94158' '95105' '94013' '94130' 'CA' '92672'\n",
      " '94120' '94143' '94609' '94101' '00000' '94188' '94621' '94014' '94129'\n",
      " '94602' 'Ca']\n"
     ]
    }
   ],
   "source": [
    "postal_codes = bus['postal_code'].unique()\n",
    "\n",
    "print(postal_codes)"
   ]
  },
  {
   "cell_type": "markdown",
   "metadata": {},
   "source": [
    "#### Question 3c\n",
    "\n",
    "Let's say we decide to exclude the businesses that have no zipcode for our analysis (which might include food trucks for example).  Use the list of valid 5-digit zip codes below to create a new dataframe called bus_valid, with only businesses whose postal_codes show up in this list of valid zipcodes. How many businesses are there in this new dataframe?"
   ]
  },
  {
   "cell_type": "code",
   "execution_count": 10,
   "metadata": {},
   "outputs": [],
   "source": [
    "validZip = [\"94102\", \"94103\", \"94104\", \"94105\", \"94107\", \"94108\",\n",
    "            \"94109\", \"94110\", \"94111\", \"94112\", \"94114\", \"94115\",\n",
    "            \"94116\", \"94117\", \"94118\", \"94121\", \"94122\", \"94123\", \n",
    "            \"94124\", \"94127\", \"94131\", \"94132\", \"94133\", \"94134\"]"
   ]
  },
  {
   "cell_type": "code",
   "execution_count": 11,
   "metadata": {},
   "outputs": [],
   "source": [
    "vb = bus[bus['postal_code'].isin(validZip)]"
   ]
  },
  {
   "cell_type": "markdown",
   "metadata": {},
   "source": [
    "## Latitude and Longitude\n",
    "\n",
    "Another aspect of the data we want to consider is the prevalence of missing values. If many records have missing values then we might be concerned about whether the nonmissing values are representative of the population.\n",
    "\n",
    "### Question 4\n",
    " \n",
    "Consider the longitude and latitude in the business DataFrame. \n",
    "\n",
    "#### Question 4a\n",
    "\n",
    "How many businesses are missing longitude values, working with only the businesses that are in the list of valid zipcodes?"
   ]
  },
  {
   "cell_type": "code",
   "execution_count": 12,
   "metadata": {
    "tags": [
     "solution"
    ]
   },
   "outputs": [
    {
     "data": {
      "text/html": [
       "<div>\n",
       "<style scoped>\n",
       "    .dataframe tbody tr th:only-of-type {\n",
       "        vertical-align: middle;\n",
       "    }\n",
       "\n",
       "    .dataframe tbody tr th {\n",
       "        vertical-align: top;\n",
       "    }\n",
       "\n",
       "    .dataframe thead th {\n",
       "        text-align: right;\n",
       "    }\n",
       "</style>\n",
       "<table border=\"1\" class=\"dataframe\">\n",
       "  <thead>\n",
       "    <tr style=\"text-align: right;\">\n",
       "      <th></th>\n",
       "      <th>business_id</th>\n",
       "      <th>name</th>\n",
       "      <th>address</th>\n",
       "      <th>city</th>\n",
       "      <th>state</th>\n",
       "      <th>postal_code</th>\n",
       "      <th>latitude</th>\n",
       "      <th>longitude</th>\n",
       "      <th>phone_number</th>\n",
       "    </tr>\n",
       "  </thead>\n",
       "  <tbody>\n",
       "    <tr>\n",
       "      <th>200</th>\n",
       "      <td>821</td>\n",
       "      <td>LA SANTANECA</td>\n",
       "      <td>3781 MISSION ST</td>\n",
       "      <td>San Francisco</td>\n",
       "      <td>CA</td>\n",
       "      <td>94110</td>\n",
       "      <td>NaN</td>\n",
       "      <td>NaN</td>\n",
       "      <td>+14156481034</td>\n",
       "    </tr>\n",
       "    <tr>\n",
       "      <th>210</th>\n",
       "      <td>852</td>\n",
       "      <td>NEW HOLLYWOOD BAKERY &amp; RESTAURANT</td>\n",
       "      <td>652 PACIFIC AVE</td>\n",
       "      <td>San Francisco</td>\n",
       "      <td>CA</td>\n",
       "      <td>94133</td>\n",
       "      <td>NaN</td>\n",
       "      <td>NaN</td>\n",
       "      <td>+14153979919</td>\n",
       "    </tr>\n",
       "    <tr>\n",
       "      <th>760</th>\n",
       "      <td>2934</td>\n",
       "      <td>LOU'S FISH SHACK</td>\n",
       "      <td>300 JEFFERSON ST</td>\n",
       "      <td>San Francisco</td>\n",
       "      <td>CA</td>\n",
       "      <td>94133</td>\n",
       "      <td>NaN</td>\n",
       "      <td>NaN</td>\n",
       "      <td>+14157715687</td>\n",
       "    </tr>\n",
       "    <tr>\n",
       "      <th>826</th>\n",
       "      <td>3123</td>\n",
       "      <td>LES JOULINS</td>\n",
       "      <td>44 ELLIS ST</td>\n",
       "      <td>San Francisco</td>\n",
       "      <td>CA</td>\n",
       "      <td>94102</td>\n",
       "      <td>NaN</td>\n",
       "      <td>NaN</td>\n",
       "      <td>+14153975397</td>\n",
       "    </tr>\n",
       "    <tr>\n",
       "      <th>1100</th>\n",
       "      <td>4323</td>\n",
       "      <td>DIVA'S</td>\n",
       "      <td>1081 POST ST</td>\n",
       "      <td>San Francisco</td>\n",
       "      <td>CA</td>\n",
       "      <td>94109</td>\n",
       "      <td>NaN</td>\n",
       "      <td>NaN</td>\n",
       "      <td>+14154743482</td>\n",
       "    </tr>\n",
       "    <tr>\n",
       "      <th>...</th>\n",
       "      <td>...</td>\n",
       "      <td>...</td>\n",
       "      <td>...</td>\n",
       "      <td>...</td>\n",
       "      <td>...</td>\n",
       "      <td>...</td>\n",
       "      <td>...</td>\n",
       "      <td>...</td>\n",
       "      <td>...</td>\n",
       "    </tr>\n",
       "    <tr>\n",
       "      <th>6310</th>\n",
       "      <td>90234</td>\n",
       "      <td>ACCESS SFUSD THE ARC</td>\n",
       "      <td>1520 HOWARD ST</td>\n",
       "      <td>San Francisco</td>\n",
       "      <td>CA</td>\n",
       "      <td>94103</td>\n",
       "      <td>NaN</td>\n",
       "      <td>NaN</td>\n",
       "      <td>NaN</td>\n",
       "    </tr>\n",
       "    <tr>\n",
       "      <th>6311</th>\n",
       "      <td>90236</td>\n",
       "      <td>PHO DONG HUONG</td>\n",
       "      <td>667 MONTEREY BLVD</td>\n",
       "      <td>San Francisco</td>\n",
       "      <td>CA</td>\n",
       "      <td>94127</td>\n",
       "      <td>NaN</td>\n",
       "      <td>NaN</td>\n",
       "      <td>+14154945048</td>\n",
       "    </tr>\n",
       "    <tr>\n",
       "      <th>6312</th>\n",
       "      <td>90237</td>\n",
       "      <td>WIN'S RESTAURANT</td>\n",
       "      <td>3040 TARAVAL ST</td>\n",
       "      <td>San Francisco</td>\n",
       "      <td>CA</td>\n",
       "      <td>94116</td>\n",
       "      <td>NaN</td>\n",
       "      <td>NaN</td>\n",
       "      <td>+14158606036</td>\n",
       "    </tr>\n",
       "    <tr>\n",
       "      <th>6313</th>\n",
       "      <td>90238</td>\n",
       "      <td>USA POWER MARKET</td>\n",
       "      <td>1524 OCEAN AVE</td>\n",
       "      <td>San Francisco</td>\n",
       "      <td>CA</td>\n",
       "      <td>94112</td>\n",
       "      <td>NaN</td>\n",
       "      <td>NaN</td>\n",
       "      <td>+14153331878</td>\n",
       "    </tr>\n",
       "    <tr>\n",
       "      <th>6314</th>\n",
       "      <td>90239</td>\n",
       "      <td>ALBA RAY'S</td>\n",
       "      <td>2293 MISSION ST</td>\n",
       "      <td>San Francisco</td>\n",
       "      <td>CA</td>\n",
       "      <td>94110</td>\n",
       "      <td>NaN</td>\n",
       "      <td>NaN</td>\n",
       "      <td>+14158881393</td>\n",
       "    </tr>\n",
       "  </tbody>\n",
       "</table>\n",
       "<p>2483 rows × 9 columns</p>\n",
       "</div>"
      ],
      "text/plain": [
       "      business_id                               name             address  \\\n",
       "200           821                       LA SANTANECA    3781 MISSION ST    \n",
       "210           852  NEW HOLLYWOOD BAKERY & RESTAURANT    652 PACIFIC AVE    \n",
       "760          2934                   LOU'S FISH SHACK   300 JEFFERSON ST    \n",
       "826          3123                        LES JOULINS        44 ELLIS ST    \n",
       "1100         4323                             DIVA'S       1081 POST ST    \n",
       "...           ...                                ...                 ...   \n",
       "6310        90234               ACCESS SFUSD THE ARC     1520 HOWARD ST    \n",
       "6311        90236                     PHO DONG HUONG  667 MONTEREY BLVD    \n",
       "6312        90237                   WIN'S RESTAURANT    3040 TARAVAL ST    \n",
       "6313        90238                   USA POWER MARKET     1524 OCEAN AVE    \n",
       "6314        90239                         ALBA RAY'S    2293 MISSION ST    \n",
       "\n",
       "               city state postal_code  latitude  longitude  phone_number  \n",
       "200   San Francisco    CA       94110       NaN        NaN  +14156481034  \n",
       "210   San Francisco    CA       94133       NaN        NaN  +14153979919  \n",
       "760   San Francisco    CA       94133       NaN        NaN  +14157715687  \n",
       "826   San Francisco    CA       94102       NaN        NaN  +14153975397  \n",
       "1100  San Francisco    CA       94109       NaN        NaN  +14154743482  \n",
       "...             ...   ...         ...       ...        ...           ...  \n",
       "6310  San Francisco    CA       94103       NaN        NaN           NaN  \n",
       "6311  San Francisco    CA       94127       NaN        NaN  +14154945048  \n",
       "6312  San Francisco    CA       94116       NaN        NaN  +14158606036  \n",
       "6313  San Francisco    CA       94112       NaN        NaN  +14153331878  \n",
       "6314  San Francisco    CA       94110       NaN        NaN  +14158881393  \n",
       "\n",
       "[2483 rows x 9 columns]"
      ]
     },
     "execution_count": 12,
     "metadata": {},
     "output_type": "execute_result"
    }
   ],
   "source": [
    "vb[pd.isnull(vb['longitude'])]"
   ]
  },
  {
   "cell_type": "markdown",
   "metadata": {},
   "source": [
    "#### Question 4b\n",
    "\n",
    "Create a new dataframe with one row for each valid zipcode. The dataframe should include the following three columns:\n",
    "\n",
    "1. `postal_code`: Contains the zip codes in the `validZip` variable above.\n",
    "2. `null_lon`: The number of businesses in that zipcode with missing `longitude` values.\n",
    "3. `not_null_lon`: The number of businesses without missing `longitude` values."
   ]
  },
  {
   "cell_type": "code",
   "execution_count": null,
   "metadata": {},
   "outputs": [],
   "source": []
  },
  {
   "cell_type": "code",
   "execution_count": 13,
   "metadata": {},
   "outputs": [],
   "source": [
    "null_lon_df = vb[pd.isna(vb['longitude'])]\n",
    "not_null_lon_df = vb[pd.notna(vb['longitude'])]"
   ]
  },
  {
   "cell_type": "code",
   "execution_count": 14,
   "metadata": {},
   "outputs": [
    {
     "name": "stdout",
     "output_type": "stream",
     "text": [
      "      business_id                               name             address  \\\n",
      "200           821                       LA SANTANECA    3781 MISSION ST    \n",
      "210           852  NEW HOLLYWOOD BAKERY & RESTAURANT    652 PACIFIC AVE    \n",
      "760          2934                   LOU'S FISH SHACK   300 JEFFERSON ST    \n",
      "826          3123                        LES JOULINS        44 ELLIS ST    \n",
      "1100         4323                             DIVA'S       1081 POST ST    \n",
      "...           ...                                ...                 ...   \n",
      "6310        90234               ACCESS SFUSD THE ARC     1520 HOWARD ST    \n",
      "6311        90236                     PHO DONG HUONG  667 MONTEREY BLVD    \n",
      "6312        90237                   WIN'S RESTAURANT    3040 TARAVAL ST    \n",
      "6313        90238                   USA POWER MARKET     1524 OCEAN AVE    \n",
      "6314        90239                         ALBA RAY'S    2293 MISSION ST    \n",
      "\n",
      "               city state postal_code  latitude  longitude  phone_number  \n",
      "200   San Francisco    CA       94110       NaN        NaN  +14156481034  \n",
      "210   San Francisco    CA       94133       NaN        NaN  +14153979919  \n",
      "760   San Francisco    CA       94133       NaN        NaN  +14157715687  \n",
      "826   San Francisco    CA       94102       NaN        NaN  +14153975397  \n",
      "1100  San Francisco    CA       94109       NaN        NaN  +14154743482  \n",
      "...             ...   ...         ...       ...        ...           ...  \n",
      "6310  San Francisco    CA       94103       NaN        NaN           NaN  \n",
      "6311  San Francisco    CA       94127       NaN        NaN  +14154945048  \n",
      "6312  San Francisco    CA       94116       NaN        NaN  +14158606036  \n",
      "6313  San Francisco    CA       94112       NaN        NaN  +14153331878  \n",
      "6314  San Francisco    CA       94110       NaN        NaN  +14158881393  \n",
      "\n",
      "[2483 rows x 9 columns]\n"
     ]
    }
   ],
   "source": [
    "print(null_lon_df)"
   ]
  },
  {
   "cell_type": "code",
   "execution_count": 15,
   "metadata": {},
   "outputs": [],
   "source": [
    "null_lon_gb=null_lon_df.groupby('postal_code').size().sort_values(ascending=False).reset_index(name='null_lon')"
   ]
  },
  {
   "cell_type": "code",
   "execution_count": 16,
   "metadata": {},
   "outputs": [
    {
     "name": "stdout",
     "output_type": "stream",
     "text": [
      "   postal_code  null_lon\n",
      "0        94103       252\n",
      "1        94110       251\n",
      "2        94107       247\n",
      "3        94102       196\n",
      "4        94109       146\n",
      "5        94133       135\n",
      "6        94122       123\n",
      "7        94111       115\n",
      "8        94114       108\n",
      "9        94105       100\n",
      "10       94118       100\n",
      "11       94124        88\n",
      "12       94108        82\n",
      "13       94115        76\n",
      "14       94117        67\n",
      "15       94132        65\n",
      "16       94112        59\n",
      "17       94104        59\n",
      "18       94121        55\n",
      "19       94123        53\n",
      "20       94116        35\n",
      "21       94134        29\n",
      "22       94127        28\n",
      "23       94131        14\n"
     ]
    }
   ],
   "source": [
    "print(null_lon_gb)"
   ]
  },
  {
   "cell_type": "code",
   "execution_count": 17,
   "metadata": {},
   "outputs": [],
   "source": [
    "not_null_lon_gb=not_null_lon_df.groupby('postal_code').size().sort_values(ascending=False).reset_index(name='not_null_lon')"
   ]
  },
  {
   "cell_type": "code",
   "execution_count": 18,
   "metadata": {},
   "outputs": [
    {
     "name": "stdout",
     "output_type": "stream",
     "text": [
      "   postal_code  not_null_lon\n",
      "0        94110           334\n",
      "1        94103           306\n",
      "2        94133           282\n",
      "3        94102           262\n",
      "4        94109           237\n",
      "5        94107           204\n",
      "6        94111           167\n",
      "7        94115           162\n",
      "8        94122           147\n",
      "9        94118           143\n",
      "10       94108           142\n",
      "11       94112           131\n",
      "12       94117           130\n",
      "13       94105           126\n",
      "14       94114           122\n",
      "15       94123           116\n",
      "16       94121           106\n",
      "17       94124            76\n",
      "18       94104            74\n",
      "19       94132            69\n",
      "20       94116            58\n",
      "21       94134            45\n",
      "22       94127            43\n",
      "23       94131            34\n"
     ]
    }
   ],
   "source": [
    "print(not_null_lon_gb)"
   ]
  },
  {
   "cell_type": "code",
   "execution_count": 19,
   "metadata": {},
   "outputs": [],
   "source": [
    "null_lon_gb['postal_code']=null_lon_gb['postal_code'].astype(str)\n",
    "not_null_lon_gb['postal_code']=not_null_lon_gb['postal_code'].astype(str)"
   ]
  },
  {
   "cell_type": "code",
   "execution_count": 20,
   "metadata": {},
   "outputs": [],
   "source": [
    "zip_lon = null_lon_gb.merge(not_null_lon_gb, how='inner',\n",
    "                          on='postal_code')"
   ]
  },
  {
   "cell_type": "code",
   "execution_count": 21,
   "metadata": {},
   "outputs": [
    {
     "name": "stdout",
     "output_type": "stream",
     "text": [
      "   postal_code  null_lon  not_null_lon\n",
      "0        94103       252           306\n",
      "1        94110       251           334\n",
      "2        94107       247           204\n",
      "3        94102       196           262\n",
      "4        94109       146           237\n",
      "5        94133       135           282\n",
      "6        94122       123           147\n",
      "7        94111       115           167\n",
      "8        94114       108           122\n",
      "9        94105       100           126\n",
      "10       94118       100           143\n",
      "11       94124        88            76\n",
      "12       94108        82           142\n",
      "13       94115        76           162\n",
      "14       94117        67           130\n",
      "15       94132        65            69\n",
      "16       94112        59           131\n",
      "17       94104        59            74\n",
      "18       94121        55           106\n",
      "19       94123        53           116\n",
      "20       94116        35            58\n",
      "21       94134        29            45\n",
      "22       94127        28            43\n",
      "23       94131        14            34\n"
     ]
    }
   ],
   "source": [
    "print(zip_lon)"
   ]
  },
  {
   "cell_type": "markdown",
   "metadata": {},
   "source": [
    "#### 4c. Do any zip codes appear to have more than their 'fair share' of missing longitude? \n",
    "\n",
    "To answer this, you will want to compute the proportion of missing longitude values for each zip code, and print the proportion missing longitude, and print the top five zipcodes in descending order of proportion missing postal_code.\n"
   ]
  },
  {
   "cell_type": "code",
   "execution_count": 3,
   "metadata": {},
   "outputs": [
    {
     "ename": "NameError",
     "evalue": "name 'zip_lon' is not defined",
     "output_type": "error",
     "traceback": [
      "\u001b[0;31m---------------------------------------------------------------------------\u001b[0m",
      "\u001b[0;31mNameError\u001b[0m                                 Traceback (most recent call last)",
      "\u001b[0;32m<ipython-input-3-ce94239b4e09>\u001b[0m in \u001b[0;36m<module>\u001b[0;34m\u001b[0m\n\u001b[0;32m----> 1\u001b[0;31m \u001b[0mzip_lon\u001b[0m\u001b[0;34m.\u001b[0m\u001b[0minsert\u001b[0m\u001b[0;34m(\u001b[0m\u001b[0;36m3\u001b[0m\u001b[0;34m,\u001b[0m\u001b[0;34m'prop_miss'\u001b[0m\u001b[0;34m,\u001b[0m\u001b[0;34m(\u001b[0m\u001b[0mzip_lon\u001b[0m\u001b[0;34m[\u001b[0m\u001b[0;34m'null_lon'\u001b[0m\u001b[0;34m]\u001b[0m\u001b[0;34m/\u001b[0m\u001b[0;34m(\u001b[0m\u001b[0mzip_lon\u001b[0m\u001b[0;34m[\u001b[0m\u001b[0;34m'null_lon'\u001b[0m\u001b[0;34m]\u001b[0m\u001b[0;34m+\u001b[0m\u001b[0mzip_lon\u001b[0m\u001b[0;34m[\u001b[0m\u001b[0;34m'not_null_lon'\u001b[0m\u001b[0;34m]\u001b[0m\u001b[0;34m)\u001b[0m\u001b[0;34m)\u001b[0m\u001b[0;34m)\u001b[0m\u001b[0;34m\u001b[0m\u001b[0;34m\u001b[0m\u001b[0m\n\u001b[0m",
      "\u001b[0;31mNameError\u001b[0m: name 'zip_lon' is not defined"
     ]
    }
   ],
   "source": [
    "zip_lon.insert(3,'prop_miss',(zip_lon['null_lon']/(zip_lon['null_lon']+zip_lon['not_null_lon'])))"
   ]
  },
  {
   "cell_type": "code",
   "execution_count": 31,
   "metadata": {},
   "outputs": [
    {
     "name": "stdout",
     "output_type": "stream",
     "text": [
      "   postal_code  null_lon  not_null_lon  prop_miss\n",
      "2        94107       247           204   0.547672\n",
      "11       94124        88            76   0.536585\n",
      "15       94132        65            69   0.485075\n",
      "8        94114       108           122   0.469565\n",
      "6        94122       123           147   0.455556\n",
      "0        94103       252           306   0.451613\n",
      "17       94104        59            74   0.443609\n",
      "9        94105       100           126   0.442478\n",
      "1        94110       251           334   0.429060\n",
      "3        94102       196           262   0.427948\n",
      "10       94118       100           143   0.411523\n",
      "7        94111       115           167   0.407801\n",
      "22       94127        28            43   0.394366\n",
      "21       94134        29            45   0.391892\n",
      "4        94109       146           237   0.381201\n",
      "20       94116        35            58   0.376344\n",
      "12       94108        82           142   0.366071\n",
      "18       94121        55           106   0.341615\n",
      "14       94117        67           130   0.340102\n",
      "5        94133       135           282   0.323741\n",
      "13       94115        76           162   0.319328\n",
      "19       94123        53           116   0.313609\n",
      "16       94112        59           131   0.310526\n",
      "23       94131        14            34   0.291667\n"
     ]
    }
   ],
   "source": [
    "zip_lon_order = zip_lon.sort_values(by='prop_miss',ascending=False)\n",
    "print(zip_lon_order)"
   ]
  },
  {
   "cell_type": "markdown",
   "metadata": {},
   "source": [
    "# Investigate the inspection data\n",
    "\n",
    "Let's now turn to the inspection DataFrame. Earlier, we found that `ins` has 4 columns, these are named `business_id`, `score`, `date` and `type`.  In this section, we determine the granularity of `ins` and investigate the kinds of information provided for the inspections. \n",
    "\n",
    "### Question 5\n",
    "\n",
    "#### Question 5a\n",
    "As with the business data, assess whether there is one inspection record for each business, by counting how many rows are in the data and how many unique businesses there are in the data. If they are exactly the same number, it means there is only one inspection per business, clearly."
   ]
  },
  {
   "cell_type": "code",
   "execution_count": 4,
   "metadata": {
    "tags": [
     "solution"
    ]
   },
   "outputs": [
    {
     "name": "stdout",
     "output_type": "stream",
     "text": [
      "Total Inspections= 15430 Total uniqe insp= 5730 \n",
      "Are they equal? = False\n"
     ]
    }
   ],
   "source": [
    "unq_ins = ins['business_id'].unique()\n",
    "\n",
    "print(\"Total Inspections=\",len(ins),\"Total uniqe insp=\",len(unq_ins),\"\\nAre they equal? =\",len(ins)==len(unq_ins))"
   ]
  },
  {
   "cell_type": "markdown",
   "metadata": {},
   "source": [
    "#### Question 5b\n",
    "\n",
    "What values does `type` take on? How many occurrences of each value is in the DataFrame? Create a new dataframe named `ins2` by copying `ins` and keeping only records with values of `type` that occur more than 10 times in the original table. In other words, eliminate records that have values of `type` that occur rarely (< 10 times). Check the result to make sure rare types are eliminated."
   ]
  },
  {
   "cell_type": "code",
   "execution_count": 3,
   "metadata": {
    "tags": [
     "solution",
     "written"
    ]
   },
   "outputs": [
    {
     "name": "stdout",
     "output_type": "stream",
     "text": [
      "routine      15429\n",
      "complaint        1\n",
      "Name: type, dtype: int64\n"
     ]
    }
   ],
   "source": [
    "ins_type = ins['type'].value_counts()\n",
    "\n",
    "print(ins_type)"
   ]
  },
  {
   "cell_type": "code",
   "execution_count": 20,
   "metadata": {},
   "outputs": [
    {
     "name": "stdout",
     "output_type": "stream",
     "text": [
      "routine    15429\n",
      "Name: type, dtype: int64\n"
     ]
    }
   ],
   "source": [
    "ins2 = ins2.groupby('type').filter(lambda x: len(x) > 10)\n",
    "\n",
    "print(ins2['type'].value_counts())"
   ]
  },
  {
   "cell_type": "markdown",
   "metadata": {},
   "source": [
    "#### Question 5c\n",
    "\n",
    "Since the data was stored in a .csv file, the dates are formatted as strings such as `20160503`. Once we read in the data, we would like to have dates in an appropriate format for analysis. Add a new column called `year` by capturing the first four characters of the date column. \n",
    "\n",
    "Hint: we have seen multiple ways of doing this in class, includings `str` operations, `lambda` functions, `datetime` operations, and others. Choose the method that works best for you :)"
   ]
  },
  {
   "cell_type": "code",
   "execution_count": 5,
   "metadata": {},
   "outputs": [],
   "source": [
    "from datetime import datetime"
   ]
  },
  {
   "cell_type": "code",
   "execution_count": 6,
   "metadata": {},
   "outputs": [],
   "source": [
    "ins2.insert(4,'year',pd.to_datetime(ins2['date'], format='%Y%m%d').dt.strftime('%Y'))\n",
    "#turn date column into a date time\n",
    "#add to ins2 as a new column 'year'"
   ]
  },
  {
   "cell_type": "code",
   "execution_count": 12,
   "metadata": {},
   "outputs": [
    {
     "data": {
      "text/html": [
       "<div>\n",
       "<style scoped>\n",
       "    .dataframe tbody tr th:only-of-type {\n",
       "        vertical-align: middle;\n",
       "    }\n",
       "\n",
       "    .dataframe tbody tr th {\n",
       "        vertical-align: top;\n",
       "    }\n",
       "\n",
       "    .dataframe thead th {\n",
       "        text-align: right;\n",
       "    }\n",
       "</style>\n",
       "<table border=\"1\" class=\"dataframe\">\n",
       "  <thead>\n",
       "    <tr style=\"text-align: right;\">\n",
       "      <th></th>\n",
       "      <th>business_id</th>\n",
       "      <th>score</th>\n",
       "      <th>date</th>\n",
       "      <th>type</th>\n",
       "      <th>year</th>\n",
       "    </tr>\n",
       "  </thead>\n",
       "  <tbody>\n",
       "    <tr>\n",
       "      <th>0</th>\n",
       "      <td>10</td>\n",
       "      <td>82</td>\n",
       "      <td>20160503</td>\n",
       "      <td>routine</td>\n",
       "      <td>2016</td>\n",
       "    </tr>\n",
       "    <tr>\n",
       "      <th>1</th>\n",
       "      <td>10</td>\n",
       "      <td>94</td>\n",
       "      <td>20140729</td>\n",
       "      <td>routine</td>\n",
       "      <td>2014</td>\n",
       "    </tr>\n",
       "    <tr>\n",
       "      <th>2</th>\n",
       "      <td>10</td>\n",
       "      <td>92</td>\n",
       "      <td>20140114</td>\n",
       "      <td>routine</td>\n",
       "      <td>2014</td>\n",
       "    </tr>\n",
       "    <tr>\n",
       "      <th>3</th>\n",
       "      <td>19</td>\n",
       "      <td>94</td>\n",
       "      <td>20160513</td>\n",
       "      <td>routine</td>\n",
       "      <td>2016</td>\n",
       "    </tr>\n",
       "    <tr>\n",
       "      <th>4</th>\n",
       "      <td>19</td>\n",
       "      <td>94</td>\n",
       "      <td>20141110</td>\n",
       "      <td>routine</td>\n",
       "      <td>2014</td>\n",
       "    </tr>\n",
       "  </tbody>\n",
       "</table>\n",
       "</div>"
      ],
      "text/plain": [
       "   business_id  score      date     type  year\n",
       "0           10     82  20160503  routine  2016\n",
       "1           10     94  20140729  routine  2014\n",
       "2           10     92  20140114  routine  2014\n",
       "3           19     94  20160513  routine  2016\n",
       "4           19     94  20141110  routine  2014"
      ]
     },
     "execution_count": 12,
     "metadata": {},
     "output_type": "execute_result"
    }
   ],
   "source": [
    "ins2.head()"
   ]
  },
  {
   "cell_type": "markdown",
   "metadata": {
    "tags": [
     "written"
    ]
   },
   "source": [
    "#### Question 5d\n",
    "\n",
    "What range of years is covered in this data set? Are there roughly same number of inspections each year? Try dropping records for any years with less than 50 inspections and store the result in a new dataframe named `ins3`."
   ]
  },
  {
   "cell_type": "code",
   "execution_count": 9,
   "metadata": {
    "scrolled": true,
    "tags": [
     "solution",
     "written"
    ]
   },
   "outputs": [
    {
     "data": {
      "text/plain": [
       "2016    5839\n",
       "2014    5629\n",
       "2015    3923\n",
       "2013      38\n",
       "Name: year, dtype: int64"
      ]
     },
     "execution_count": 9,
     "metadata": {},
     "output_type": "execute_result"
    }
   ],
   "source": [
    "ins2.year.value_counts()"
   ]
  },
  {
   "cell_type": "code",
   "execution_count": 19,
   "metadata": {},
   "outputs": [
    {
     "data": {
      "text/plain": [
       "2016    5839\n",
       "2014    5629\n",
       "2015    3923\n",
       "Name: year, dtype: int64"
      ]
     },
     "execution_count": 19,
     "metadata": {},
     "output_type": "execute_result"
    }
   ],
   "source": [
    "ins3 = ins2.groupby('year').filter(lambda x: len(x) > 50)\n",
    "\n",
    "ins3.year.value_counts()"
   ]
  },
  {
   "cell_type": "markdown",
   "metadata": {},
   "source": [
    "Let's examine only the inspections for one year: 2016. This puts businesses on a more equal footing because [inspection guidelines](https://www.sfdph.org/dph/eh/Food/Inspections.asp) generally refer to how many inspections should occur in a given year."
   ]
  },
  {
   "cell_type": "code",
   "execution_count": 23,
   "metadata": {},
   "outputs": [
    {
     "data": {
      "text/html": [
       "<div>\n",
       "<style scoped>\n",
       "    .dataframe tbody tr th:only-of-type {\n",
       "        vertical-align: middle;\n",
       "    }\n",
       "\n",
       "    .dataframe tbody tr th {\n",
       "        vertical-align: top;\n",
       "    }\n",
       "\n",
       "    .dataframe thead th {\n",
       "        text-align: right;\n",
       "    }\n",
       "</style>\n",
       "<table border=\"1\" class=\"dataframe\">\n",
       "  <thead>\n",
       "    <tr style=\"text-align: right;\">\n",
       "      <th></th>\n",
       "      <th>business_id</th>\n",
       "      <th>score</th>\n",
       "      <th>date</th>\n",
       "      <th>type</th>\n",
       "      <th>year</th>\n",
       "    </tr>\n",
       "  </thead>\n",
       "  <tbody>\n",
       "    <tr>\n",
       "      <th>0</th>\n",
       "      <td>10</td>\n",
       "      <td>82</td>\n",
       "      <td>20160503</td>\n",
       "      <td>routine</td>\n",
       "      <td>2016</td>\n",
       "    </tr>\n",
       "    <tr>\n",
       "      <th>3</th>\n",
       "      <td>19</td>\n",
       "      <td>94</td>\n",
       "      <td>20160513</td>\n",
       "      <td>routine</td>\n",
       "      <td>2016</td>\n",
       "    </tr>\n",
       "    <tr>\n",
       "      <th>6</th>\n",
       "      <td>24</td>\n",
       "      <td>98</td>\n",
       "      <td>20161005</td>\n",
       "      <td>routine</td>\n",
       "      <td>2016</td>\n",
       "    </tr>\n",
       "    <tr>\n",
       "      <th>7</th>\n",
       "      <td>24</td>\n",
       "      <td>96</td>\n",
       "      <td>20160311</td>\n",
       "      <td>routine</td>\n",
       "      <td>2016</td>\n",
       "    </tr>\n",
       "    <tr>\n",
       "      <th>10</th>\n",
       "      <td>31</td>\n",
       "      <td>84</td>\n",
       "      <td>20160816</td>\n",
       "      <td>routine</td>\n",
       "      <td>2016</td>\n",
       "    </tr>\n",
       "  </tbody>\n",
       "</table>\n",
       "</div>"
      ],
      "text/plain": [
       "    business_id  score      date     type  year\n",
       "0            10     82  20160503  routine  2016\n",
       "3            19     94  20160513  routine  2016\n",
       "6            24     98  20161005  routine  2016\n",
       "7            24     96  20160311  routine  2016\n",
       "10           31     84  20160816  routine  2016"
      ]
     },
     "execution_count": 23,
     "metadata": {},
     "output_type": "execute_result"
    }
   ],
   "source": [
    "ins_2016 = ins3.loc[ins3['year']=='2016'] #creates new df that only holds the rows in ins3 that have 2016 as the year\n",
    "\n",
    "ins_2016.head()"
   ]
  },
  {
   "cell_type": "markdown",
   "metadata": {},
   "source": [
    "### Question 6\n",
    "\n",
    "#### Question 6a\n",
    "\n",
    "Merge the business and 2016 inspections data, keeping all businesses regardless of whether they show up in the inspections file. Show the first several rows of the resulting dataframe."
   ]
  },
  {
   "cell_type": "code",
   "execution_count": 29,
   "metadata": {
    "scrolled": true
   },
   "outputs": [
    {
     "name": "stdout",
     "output_type": "stream",
     "text": [
      "    business_id                                name  \\\n",
      "0            10                    TIRAMISU KITCHEN   \n",
      "1            19               NRGIZE LIFESTYLE CAFE   \n",
      "2            24  OMNI S.F. HOTEL - 2ND FLOOR PANTRY   \n",
      "3            24  OMNI S.F. HOTEL - 2ND FLOOR PANTRY   \n",
      "4            31      NORMAN'S ICE CREAM AND FREEZES   \n",
      "5            45                 CHARLIE'S DELI CAFE   \n",
      "6            45                 CHARLIE'S DELI CAFE   \n",
      "7            48                          ART'S CAFE   \n",
      "8            50                          SUSHI ZONE   \n",
      "9            54                 RHODA GOLDMAN PLAZA   \n",
      "10           56                          CAFE X + O   \n",
      "11           58                         OASIS GRILL   \n",
      "12           61                            CHOWDERS   \n",
      "13           66                    STARBUCKS COFFEE   \n",
      "14           66                    STARBUCKS COFFEE   \n",
      "15           67                     REVOLUTION CAFE   \n",
      "16           67                     REVOLUTION CAFE   \n",
      "17           73                   DINO'S UNCLE VITO   \n",
      "18           76  OMNI S.F. HOTEL - 3RD FLOOR PANTRY   \n",
      "19           76  OMNI S.F. HOTEL - 3RD FLOOR PANTRY   \n",
      "\n",
      "                          address           city state postal_code   latitude  \\\n",
      "0                   033 BELDEN PL  San Francisco    CA       94104  37.791116   \n",
      "1    1200 VAN NESS AVE, 3RD FLOOR  San Francisco    CA       94109  37.786848   \n",
      "2   500 CALIFORNIA ST, 2ND  FLOOR  San Francisco    CA       94104  37.792888   \n",
      "3   500 CALIFORNIA ST, 2ND  FLOOR  San Francisco    CA       94104  37.792888   \n",
      "4            2801 LEAVENWORTH ST   San Francisco    CA       94133  37.807155   \n",
      "5                 3202 FOLSOM ST   San Francisco    CA       94110  37.747114   \n",
      "6                 3202 FOLSOM ST   San Francisco    CA       94110  37.747114   \n",
      "7                  747 IRVING ST   San Francisco    CA       94122  37.764013   \n",
      "8               1815  MARKET ST.   San Francisco    CA       94103  37.771437   \n",
      "9                   2180 POST ST   San Francisco    CA       94115  37.784626   \n",
      "10                1799 CHURCH ST   San Francisco    CA       94131  37.742325   \n",
      "11                   91 DRUMM ST   San Francisco    CA       94111  37.794483   \n",
      "12              PIER 39  SPACE A3  San Francisco    CA       94133  37.808240   \n",
      "13                1800 IRVING ST   San Francisco    CA       94122  37.763578   \n",
      "14                1800 IRVING ST   San Francisco    CA       94122  37.763578   \n",
      "15                  3248 22ND ST   San Francisco    CA       94110  37.755419   \n",
      "16                  3248 22ND ST   San Francisco    CA       94110  37.755419   \n",
      "17              2101 FILLMORE ST   San Francisco    CA       94115  37.788932   \n",
      "18   500 CALIFORNIA ST, 3RD FLOOR  San Francisco    CA       94104  37.792888   \n",
      "19   500 CALIFORNIA ST, 3RD FLOOR  San Francisco    CA       94104  37.792888   \n",
      "\n",
      "     longitude  phone_number  score        date     type  year  \n",
      "0  -122.403816  +14154217044   82.0  20160503.0  routine  2016  \n",
      "1  -122.421547  +14157763262   94.0  20160513.0  routine  2016  \n",
      "2  -122.403135  +14156779494   98.0  20161005.0  routine  2016  \n",
      "3  -122.403135  +14156779494   96.0  20160311.0  routine  2016  \n",
      "4  -122.419004           NaN   84.0  20160816.0  routine  2016  \n",
      "5  -122.413641  +14156415051   84.0  20160614.0  routine  2016  \n",
      "6  -122.413641  +14156415051   78.0  20160104.0  routine  2016  \n",
      "7  -122.465749  +14156657440   94.0  20160630.0  routine  2016  \n",
      "8  -122.423892  +14156211114   80.0  20160614.0  routine  2016  \n",
      "9  -122.437734  +14153455060    NaN         NaN      NaN   NaN  \n",
      "10 -122.426476  +14158263535   90.0  20160802.0  routine  2016  \n",
      "11 -122.396584  +14158341942   73.0  20160407.0  routine  2016  \n",
      "12 -122.410189  +14153914737   94.0  20160708.0  routine  2016  \n",
      "13 -122.477461  +14152427970  100.0  20160902.0  routine  2016  \n",
      "14 -122.477461  +14152427970   98.0  20160322.0  routine  2016  \n",
      "15 -122.419542  +14156420474   94.0  20161019.0  routine  2016  \n",
      "16 -122.419542  +14156420474   87.0  20160401.0  routine  2016  \n",
      "17 -122.433895  +14159224700   92.0  20160927.0  routine  2016  \n",
      "18 -122.403135  +14156779494   98.0  20161005.0  routine  2016  \n",
      "19 -122.403135  +14156779494  100.0  20160311.0  routine  2016  \n"
     ]
    }
   ],
   "source": [
    "bus_ins = bus.merge(ins_2016, how='left',\n",
    "                          on='business_id')\n",
    "\n",
    "print(bus_ins[:20])"
   ]
  },
  {
   "cell_type": "markdown",
   "metadata": {},
   "source": [
    "#### Question 6b\n",
    "Print the 20 lowest rated businesses names, their addresses, and their ratings."
   ]
  },
  {
   "cell_type": "code",
   "execution_count": 48,
   "metadata": {
    "scrolled": true
   },
   "outputs": [
    {
     "data": {
      "text/html": [
       "<div>\n",
       "<style scoped>\n",
       "    .dataframe tbody tr th:only-of-type {\n",
       "        vertical-align: middle;\n",
       "    }\n",
       "\n",
       "    .dataframe tbody tr th {\n",
       "        vertical-align: top;\n",
       "    }\n",
       "\n",
       "    .dataframe thead th {\n",
       "        text-align: right;\n",
       "    }\n",
       "</style>\n",
       "<table border=\"1\" class=\"dataframe\">\n",
       "  <thead>\n",
       "    <tr style=\"text-align: right;\">\n",
       "      <th></th>\n",
       "      <th>business_id</th>\n",
       "      <th>name</th>\n",
       "      <th>address</th>\n",
       "      <th>city</th>\n",
       "      <th>state</th>\n",
       "      <th>postal_code</th>\n",
       "      <th>latitude</th>\n",
       "      <th>longitude</th>\n",
       "      <th>phone_number</th>\n",
       "      <th>score</th>\n",
       "      <th>date</th>\n",
       "      <th>type</th>\n",
       "      <th>year</th>\n",
       "    </tr>\n",
       "  </thead>\n",
       "  <tbody>\n",
       "    <tr>\n",
       "      <th>4892</th>\n",
       "      <td>71373</td>\n",
       "      <td>GOLDEN RIVER RESTAURANT</td>\n",
       "      <td>5827 GEARY BLVD</td>\n",
       "      <td>San Francisco</td>\n",
       "      <td>CA</td>\n",
       "      <td>94121</td>\n",
       "      <td>37.780144</td>\n",
       "      <td>-122.482040</td>\n",
       "      <td>+14156685105</td>\n",
       "      <td>52.0</td>\n",
       "      <td>20161031.0</td>\n",
       "      <td>routine</td>\n",
       "      <td>2016</td>\n",
       "    </tr>\n",
       "    <tr>\n",
       "      <th>7324</th>\n",
       "      <td>87652</td>\n",
       "      <td>POKI TIME</td>\n",
       "      <td>2101 LOMBARD ST</td>\n",
       "      <td>San Francisco</td>\n",
       "      <td>CA</td>\n",
       "      <td>94123</td>\n",
       "      <td>NaN</td>\n",
       "      <td>NaN</td>\n",
       "      <td>+14156366868</td>\n",
       "      <td>55.0</td>\n",
       "      <td>20160721.0</td>\n",
       "      <td>routine</td>\n",
       "      <td>2016</td>\n",
       "    </tr>\n",
       "    <tr>\n",
       "      <th>6281</th>\n",
       "      <td>81667</td>\n",
       "      <td>CRAZY PEPPER</td>\n",
       "      <td>2257 SAN JOSE AVE</td>\n",
       "      <td>San Francisco</td>\n",
       "      <td>CA</td>\n",
       "      <td>94112</td>\n",
       "      <td>NaN</td>\n",
       "      <td>NaN</td>\n",
       "      <td>+14157348687</td>\n",
       "      <td>55.0</td>\n",
       "      <td>20160901.0</td>\n",
       "      <td>routine</td>\n",
       "      <td>2016</td>\n",
       "    </tr>\n",
       "    <tr>\n",
       "      <th>4873</th>\n",
       "      <td>71232</td>\n",
       "      <td>UNCLE CAFE</td>\n",
       "      <td>65 WAVERLY PL</td>\n",
       "      <td>San Francisco</td>\n",
       "      <td>CA</td>\n",
       "      <td>94108</td>\n",
       "      <td>37.794034</td>\n",
       "      <td>-122.406794</td>\n",
       "      <td>+14155701380</td>\n",
       "      <td>55.0</td>\n",
       "      <td>20160308.0</td>\n",
       "      <td>routine</td>\n",
       "      <td>2016</td>\n",
       "    </tr>\n",
       "    <tr>\n",
       "      <th>3008</th>\n",
       "      <td>34585</td>\n",
       "      <td>HING WANG BAKERY</td>\n",
       "      <td>339 JUDAH ST</td>\n",
       "      <td>San Francisco</td>\n",
       "      <td>CA</td>\n",
       "      <td>94122</td>\n",
       "      <td>37.762174</td>\n",
       "      <td>-122.465809</td>\n",
       "      <td>+14156813928</td>\n",
       "      <td>56.0</td>\n",
       "      <td>20160201.0</td>\n",
       "      <td>routine</td>\n",
       "      <td>2016</td>\n",
       "    </tr>\n",
       "    <tr>\n",
       "      <th>...</th>\n",
       "      <td>...</td>\n",
       "      <td>...</td>\n",
       "      <td>...</td>\n",
       "      <td>...</td>\n",
       "      <td>...</td>\n",
       "      <td>...</td>\n",
       "      <td>...</td>\n",
       "      <td>...</td>\n",
       "      <td>...</td>\n",
       "      <td>...</td>\n",
       "      <td>...</td>\n",
       "      <td>...</td>\n",
       "      <td>...</td>\n",
       "    </tr>\n",
       "    <tr>\n",
       "      <th>7606</th>\n",
       "      <td>90234</td>\n",
       "      <td>ACCESS SFUSD THE ARC</td>\n",
       "      <td>1520 HOWARD ST</td>\n",
       "      <td>San Francisco</td>\n",
       "      <td>CA</td>\n",
       "      <td>94103</td>\n",
       "      <td>NaN</td>\n",
       "      <td>NaN</td>\n",
       "      <td>NaN</td>\n",
       "      <td>NaN</td>\n",
       "      <td>NaN</td>\n",
       "      <td>NaN</td>\n",
       "      <td>NaN</td>\n",
       "    </tr>\n",
       "    <tr>\n",
       "      <th>7607</th>\n",
       "      <td>90236</td>\n",
       "      <td>PHO DONG HUONG</td>\n",
       "      <td>667 MONTEREY BLVD</td>\n",
       "      <td>San Francisco</td>\n",
       "      <td>CA</td>\n",
       "      <td>94127</td>\n",
       "      <td>NaN</td>\n",
       "      <td>NaN</td>\n",
       "      <td>+14154945048</td>\n",
       "      <td>NaN</td>\n",
       "      <td>NaN</td>\n",
       "      <td>NaN</td>\n",
       "      <td>NaN</td>\n",
       "    </tr>\n",
       "    <tr>\n",
       "      <th>7608</th>\n",
       "      <td>90237</td>\n",
       "      <td>WIN'S RESTAURANT</td>\n",
       "      <td>3040 TARAVAL ST</td>\n",
       "      <td>San Francisco</td>\n",
       "      <td>CA</td>\n",
       "      <td>94116</td>\n",
       "      <td>NaN</td>\n",
       "      <td>NaN</td>\n",
       "      <td>+14158606036</td>\n",
       "      <td>NaN</td>\n",
       "      <td>NaN</td>\n",
       "      <td>NaN</td>\n",
       "      <td>NaN</td>\n",
       "    </tr>\n",
       "    <tr>\n",
       "      <th>7609</th>\n",
       "      <td>90238</td>\n",
       "      <td>USA POWER MARKET</td>\n",
       "      <td>1524 OCEAN AVE</td>\n",
       "      <td>San Francisco</td>\n",
       "      <td>CA</td>\n",
       "      <td>94112</td>\n",
       "      <td>NaN</td>\n",
       "      <td>NaN</td>\n",
       "      <td>+14153331878</td>\n",
       "      <td>NaN</td>\n",
       "      <td>NaN</td>\n",
       "      <td>NaN</td>\n",
       "      <td>NaN</td>\n",
       "    </tr>\n",
       "    <tr>\n",
       "      <th>7610</th>\n",
       "      <td>90239</td>\n",
       "      <td>ALBA RAY'S</td>\n",
       "      <td>2293 MISSION ST</td>\n",
       "      <td>San Francisco</td>\n",
       "      <td>CA</td>\n",
       "      <td>94110</td>\n",
       "      <td>NaN</td>\n",
       "      <td>NaN</td>\n",
       "      <td>+14158881393</td>\n",
       "      <td>NaN</td>\n",
       "      <td>NaN</td>\n",
       "      <td>NaN</td>\n",
       "      <td>NaN</td>\n",
       "    </tr>\n",
       "  </tbody>\n",
       "</table>\n",
       "<p>7611 rows × 13 columns</p>\n",
       "</div>"
      ],
      "text/plain": [
       "      business_id                     name             address           city  \\\n",
       "4892        71373  GOLDEN RIVER RESTAURANT    5827 GEARY BLVD   San Francisco   \n",
       "7324        87652                POKI TIME    2101 LOMBARD ST   San Francisco   \n",
       "6281        81667             CRAZY PEPPER  2257 SAN JOSE AVE   San Francisco   \n",
       "4873        71232               UNCLE CAFE      65 WAVERLY PL   San Francisco   \n",
       "3008        34585         HING WANG BAKERY       339 JUDAH ST   San Francisco   \n",
       "...           ...                      ...                 ...            ...   \n",
       "7606        90234     ACCESS SFUSD THE ARC     1520 HOWARD ST   San Francisco   \n",
       "7607        90236           PHO DONG HUONG  667 MONTEREY BLVD   San Francisco   \n",
       "7608        90237         WIN'S RESTAURANT    3040 TARAVAL ST   San Francisco   \n",
       "7609        90238         USA POWER MARKET     1524 OCEAN AVE   San Francisco   \n",
       "7610        90239               ALBA RAY'S    2293 MISSION ST   San Francisco   \n",
       "\n",
       "     state postal_code   latitude   longitude  phone_number  score  \\\n",
       "4892    CA       94121  37.780144 -122.482040  +14156685105   52.0   \n",
       "7324    CA       94123        NaN         NaN  +14156366868   55.0   \n",
       "6281    CA       94112        NaN         NaN  +14157348687   55.0   \n",
       "4873    CA       94108  37.794034 -122.406794  +14155701380   55.0   \n",
       "3008    CA       94122  37.762174 -122.465809  +14156813928   56.0   \n",
       "...    ...         ...        ...         ...           ...    ...   \n",
       "7606    CA       94103        NaN         NaN           NaN    NaN   \n",
       "7607    CA       94127        NaN         NaN  +14154945048    NaN   \n",
       "7608    CA       94116        NaN         NaN  +14158606036    NaN   \n",
       "7609    CA       94112        NaN         NaN  +14153331878    NaN   \n",
       "7610    CA       94110        NaN         NaN  +14158881393    NaN   \n",
       "\n",
       "            date     type  year  \n",
       "4892  20161031.0  routine  2016  \n",
       "7324  20160721.0  routine  2016  \n",
       "6281  20160901.0  routine  2016  \n",
       "4873  20160308.0  routine  2016  \n",
       "3008  20160201.0  routine  2016  \n",
       "...          ...      ...   ...  \n",
       "7606         NaN      NaN   NaN  \n",
       "7607         NaN      NaN   NaN  \n",
       "7608         NaN      NaN   NaN  \n",
       "7609         NaN      NaN   NaN  \n",
       "7610         NaN      NaN   NaN  \n",
       "\n",
       "[7611 rows x 13 columns]"
      ]
     },
     "execution_count": 48,
     "metadata": {},
     "output_type": "execute_result"
    }
   ],
   "source": [
    "bus_lowest_rate = bus_ins.sort_values(by='score',ascending=True)\n",
    "bus_lowest_rate"
   ]
  },
  {
   "cell_type": "code",
   "execution_count": 49,
   "metadata": {},
   "outputs": [
    {
     "data": {
      "text/html": [
       "<div>\n",
       "<style scoped>\n",
       "    .dataframe tbody tr th:only-of-type {\n",
       "        vertical-align: middle;\n",
       "    }\n",
       "\n",
       "    .dataframe tbody tr th {\n",
       "        vertical-align: top;\n",
       "    }\n",
       "\n",
       "    .dataframe thead th {\n",
       "        text-align: right;\n",
       "    }\n",
       "</style>\n",
       "<table border=\"1\" class=\"dataframe\">\n",
       "  <thead>\n",
       "    <tr style=\"text-align: right;\">\n",
       "      <th></th>\n",
       "      <th>name</th>\n",
       "      <th>address</th>\n",
       "      <th>score</th>\n",
       "    </tr>\n",
       "  </thead>\n",
       "  <tbody>\n",
       "    <tr>\n",
       "      <th>4892</th>\n",
       "      <td>GOLDEN RIVER RESTAURANT</td>\n",
       "      <td>5827 GEARY BLVD</td>\n",
       "      <td>52.0</td>\n",
       "    </tr>\n",
       "    <tr>\n",
       "      <th>7324</th>\n",
       "      <td>POKI TIME</td>\n",
       "      <td>2101 LOMBARD ST</td>\n",
       "      <td>55.0</td>\n",
       "    </tr>\n",
       "    <tr>\n",
       "      <th>6281</th>\n",
       "      <td>CRAZY PEPPER</td>\n",
       "      <td>2257 SAN JOSE AVE</td>\n",
       "      <td>55.0</td>\n",
       "    </tr>\n",
       "    <tr>\n",
       "      <th>4873</th>\n",
       "      <td>UNCLE CAFE</td>\n",
       "      <td>65 WAVERLY PL</td>\n",
       "      <td>55.0</td>\n",
       "    </tr>\n",
       "    <tr>\n",
       "      <th>3008</th>\n",
       "      <td>HING WANG BAKERY</td>\n",
       "      <td>339 JUDAH ST</td>\n",
       "      <td>56.0</td>\n",
       "    </tr>\n",
       "    <tr>\n",
       "      <th>5627</th>\n",
       "      <td>GOLDEN WOK</td>\n",
       "      <td>295 B ORIZABA AVE</td>\n",
       "      <td>56.0</td>\n",
       "    </tr>\n",
       "    <tr>\n",
       "      <th>5383</th>\n",
       "      <td>TOP'S CAFE</td>\n",
       "      <td>2460 SAN BRUNO AVE</td>\n",
       "      <td>57.0</td>\n",
       "    </tr>\n",
       "    <tr>\n",
       "      <th>6067</th>\n",
       "      <td>L &amp; G VIETNAMESE SANDWICH</td>\n",
       "      <td>602 EDDY ST</td>\n",
       "      <td>57.0</td>\n",
       "    </tr>\n",
       "    <tr>\n",
       "      <th>836</th>\n",
       "      <td>RED A BAKERY</td>\n",
       "      <td>634 CLEMENT ST</td>\n",
       "      <td>57.0</td>\n",
       "    </tr>\n",
       "    <tr>\n",
       "      <th>4209</th>\n",
       "      <td>SAN TUNG RESTAURANT LLC</td>\n",
       "      <td>1031 IRVING ST</td>\n",
       "      <td>57.0</td>\n",
       "    </tr>\n",
       "    <tr>\n",
       "      <th>549</th>\n",
       "      <td>MA'S DIM SUM &amp; CAFE</td>\n",
       "      <td>1315 POWELL ST</td>\n",
       "      <td>57.0</td>\n",
       "    </tr>\n",
       "    <tr>\n",
       "      <th>4903</th>\n",
       "      <td>NEW GARDEN RESTAURANT, INC.</td>\n",
       "      <td>716 KEARNY ST</td>\n",
       "      <td>57.0</td>\n",
       "    </tr>\n",
       "    <tr>\n",
       "      <th>6645</th>\n",
       "      <td>KOBANI MEDITERANEAN GRILL</td>\n",
       "      <td>3242 SCOTT ST</td>\n",
       "      <td>58.0</td>\n",
       "    </tr>\n",
       "    <tr>\n",
       "      <th>624</th>\n",
       "      <td>JOANIE'S DINER INC.</td>\n",
       "      <td>1329 COLUMBUS AVE</td>\n",
       "      <td>59.0</td>\n",
       "    </tr>\n",
       "    <tr>\n",
       "      <th>6938</th>\n",
       "      <td>PAK NAM THAI CUISINE</td>\n",
       "      <td>655 LARKIN ST</td>\n",
       "      <td>59.0</td>\n",
       "    </tr>\n",
       "    <tr>\n",
       "      <th>3563</th>\n",
       "      <td>JADE GARDEN</td>\n",
       "      <td>3608 BALBOA ST</td>\n",
       "      <td>59.0</td>\n",
       "    </tr>\n",
       "    <tr>\n",
       "      <th>4234</th>\n",
       "      <td>ITHAI</td>\n",
       "      <td>720 POST ST</td>\n",
       "      <td>59.0</td>\n",
       "    </tr>\n",
       "    <tr>\n",
       "      <th>6151</th>\n",
       "      <td>VALLARTA'S TACO BAR</td>\n",
       "      <td>2022 MISSION ST</td>\n",
       "      <td>60.0</td>\n",
       "    </tr>\n",
       "    <tr>\n",
       "      <th>4850</th>\n",
       "      <td>HONG KONG LOUNGE</td>\n",
       "      <td>5322 GEARY BLVD</td>\n",
       "      <td>60.0</td>\n",
       "    </tr>\n",
       "    <tr>\n",
       "      <th>5013</th>\n",
       "      <td>WOLFES LUNCH</td>\n",
       "      <td>1220 16TH ST</td>\n",
       "      <td>60.0</td>\n",
       "    </tr>\n",
       "  </tbody>\n",
       "</table>\n",
       "</div>"
      ],
      "text/plain": [
       "                             name              address  score\n",
       "4892      GOLDEN RIVER RESTAURANT     5827 GEARY BLVD    52.0\n",
       "7324                    POKI TIME     2101 LOMBARD ST    55.0\n",
       "6281                 CRAZY PEPPER   2257 SAN JOSE AVE    55.0\n",
       "4873                   UNCLE CAFE       65 WAVERLY PL    55.0\n",
       "3008             HING WANG BAKERY        339 JUDAH ST    56.0\n",
       "5627                   GOLDEN WOK   295 B ORIZABA AVE    56.0\n",
       "5383                   TOP'S CAFE  2460 SAN BRUNO AVE    57.0\n",
       "6067    L & G VIETNAMESE SANDWICH         602 EDDY ST    57.0\n",
       "836                  RED A BAKERY      634 CLEMENT ST    57.0\n",
       "4209      SAN TUNG RESTAURANT LLC      1031 IRVING ST    57.0\n",
       "549           MA'S DIM SUM & CAFE      1315 POWELL ST    57.0\n",
       "4903  NEW GARDEN RESTAURANT, INC.       716 KEARNY ST    57.0\n",
       "6645    KOBANI MEDITERANEAN GRILL       3242 SCOTT ST    58.0\n",
       "624           JOANIE'S DINER INC.   1329 COLUMBUS AVE    59.0\n",
       "6938         PAK NAM THAI CUISINE       655 LARKIN ST    59.0\n",
       "3563                  JADE GARDEN      3608 BALBOA ST    59.0\n",
       "4234                        ITHAI         720 POST ST    59.0\n",
       "6151          VALLARTA'S TACO BAR     2022 MISSION ST    60.0\n",
       "4850             HONG KONG LOUNGE     5322 GEARY BLVD    60.0\n",
       "5013                 WOLFES LUNCH        1220 16TH ST    60.0"
      ]
     },
     "execution_count": 49,
     "metadata": {},
     "output_type": "execute_result"
    }
   ],
   "source": [
    "bus_low20 = bus_lowest_rate[:20][[\"name\",\"address\",\"score\"]]\n",
    "\n",
    "bus_low20"
   ]
  },
  {
   "cell_type": "markdown",
   "metadata": {},
   "source": [
    "## Done!\n",
    "\n",
    "Now commit this notebook to your `hw3_submissions` branch, push it to your GitHub repo, and open a PR!"
   ]
  },
  {
   "cell_type": "code",
   "execution_count": null,
   "metadata": {},
   "outputs": [],
   "source": []
  }
 ],
 "metadata": {
  "anaconda-cloud": {},
  "kernelspec": {
   "display_name": "Python 3",
   "language": "python",
   "name": "python3"
  },
  "language_info": {
   "codemirror_mode": {
    "name": "ipython",
    "version": 3
   },
   "file_extension": ".py",
   "mimetype": "text/x-python",
   "name": "python",
   "nbconvert_exporter": "python",
   "pygments_lexer": "ipython3",
   "version": "3.8.8"
  },
  "toc": {
   "base_numbering": 1,
   "nav_menu": {},
   "number_sections": false,
   "sideBar": true,
   "skip_h1_title": false,
   "title_cell": "Table of Contents",
   "title_sidebar": "Contents",
   "toc_cell": false,
   "toc_position": {},
   "toc_section_display": true,
   "toc_window_display": false
  }
 },
 "nbformat": 4,
 "nbformat_minor": 2
}
