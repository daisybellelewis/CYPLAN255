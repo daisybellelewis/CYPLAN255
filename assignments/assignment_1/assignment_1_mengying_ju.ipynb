{
 "cells": [
  {
   "cell_type": "markdown",
   "metadata": {},
   "source": [
    "## Assignment 1 | Data Types\n",
    "\n",
    "Add code cells as needed for your answers. "
   ]
  },
  {
   "cell_type": "markdown",
   "metadata": {},
   "source": [
    "### Exercise 1: Manipulating Lists"
   ]
  },
  {
   "cell_type": "markdown",
   "metadata": {},
   "source": [
    "Create a list containing the numbers 10, 20, and 30. Store your list as a variable named `a`. Then create a second list containing the numbers 30, 60, and 90. Call this this `b`."
   ]
  },
  {
   "cell_type": "code",
   "execution_count": 23,
   "metadata": {},
   "outputs": [],
   "source": [
    "'''Creating list a'''\n",
    "a = [item * 10 for item in range(1, 4)]\n",
    "\n",
    "'''Creating list b'''\n",
    "b = [item * 30 for item in range(1, 4)]"
   ]
  },
  {
   "cell_type": "markdown",
   "metadata": {},
   "source": [
    "In the cells below, write Python expressions to create the following four outputs by combining `a` and `b` in creative ways:\n",
    "\n",
    "1. [[10, 20, 30], [30, 60, 90]]\n",
    "\n",
    "2. [10, 20, 30, 30, 60, 90]\n",
    "\n",
    "3. [10, 20, 60, 90]\n",
    "\n",
    "4. [20, 40, 60]"
   ]
  },
  {
   "cell_type": "code",
   "execution_count": 24,
   "metadata": {},
   "outputs": [
    {
     "data": {
      "text/plain": [
       "[[10, 20, 30], [30, 60, 90]]"
      ]
     },
     "execution_count": 24,
     "metadata": {},
     "output_type": "execute_result"
    }
   ],
   "source": [
    "'''Generating the 1st output'''\n",
    "output1 = [a, b]\n",
    "output1"
   ]
  },
  {
   "cell_type": "code",
   "execution_count": 25,
   "metadata": {},
   "outputs": [
    {
     "data": {
      "text/plain": [
       "[10, 20, 30, 30, 60, 90]"
      ]
     },
     "execution_count": 25,
     "metadata": {},
     "output_type": "execute_result"
    }
   ],
   "source": [
    "'''Generating the 2nd output'''\n",
    "output2 = a + b\n",
    "output2"
   ]
  },
  {
   "cell_type": "code",
   "execution_count": 26,
   "metadata": {},
   "outputs": [
    {
     "data": {
      "text/plain": [
       "[10, 20, 60, 90]"
      ]
     },
     "execution_count": 26,
     "metadata": {},
     "output_type": "execute_result"
    }
   ],
   "source": [
    "'''Generating the 3rd output'''\n",
    "output3 = a[:2] + b[1:]\n",
    "output3"
   ]
  },
  {
   "cell_type": "code",
   "execution_count": 27,
   "metadata": {},
   "outputs": [
    {
     "data": {
      "text/plain": [
       "[20, 40, 60]"
      ]
     },
     "execution_count": 27,
     "metadata": {},
     "output_type": "execute_result"
    }
   ],
   "source": [
    "'''Generating the 4th output'''\n",
    "output4 = [item * 2 for item in a]\n",
    "output4"
   ]
  },
  {
   "cell_type": "markdown",
   "metadata": {},
   "source": [
    "### Exercise 2. Working with Lists\n",
    "\n",
    "Create a list that contains the sums of each of the lists in G. \n",
    "\n",
    "`G = [[13, 9, 8], [14, 6, 12], [10, 13, 11], [7, 18, 9]]`\n",
    "\n",
    "Your output should look like:\n",
    "\n",
    "- `[30, 32, 34, 34]`\n",
    "\n",
    "Hint: try computing the sum for just one list first."
   ]
  },
  {
   "cell_type": "code",
   "execution_count": 28,
   "metadata": {},
   "outputs": [
    {
     "data": {
      "text/plain": [
       "[30, 32, 34, 34]"
      ]
     },
     "execution_count": 28,
     "metadata": {},
     "output_type": "execute_result"
    }
   ],
   "source": [
    "'''Creating list G'''\n",
    "G = [[13, 9, 8], [14, 6, 12], [10, 13, 11], [7, 18, 9]]\n",
    "\n",
    "'''Creating the output'''\n",
    "Output2 = [sum(lst) for lst in G]\n",
    "Output2"
   ]
  },
  {
   "cell_type": "markdown",
   "metadata": {},
   "source": [
    "### Exercise 3: String Manipulation\n",
    "\n",
    "Turn the string below into 'all good countrymen' using the minimum amount of code, using only the methods we've covered so far. A couple of lines of code should do the trick.  Note: this requires string and list methods."
   ]
  },
  {
   "cell_type": "code",
   "execution_count": 29,
   "metadata": {},
   "outputs": [],
   "source": [
    "s = 'Now is the time for all good men to come to the aid of their country!'"
   ]
  },
  {
   "cell_type": "code",
   "execution_count": 30,
   "metadata": {},
   "outputs": [
    {
     "data": {
      "text/plain": [
       "'all good countrymen'"
      ]
     },
     "execution_count": 30,
     "metadata": {},
     "output_type": "execute_result"
    }
   ],
   "source": [
    "'''Generating the expected result'''\n",
    "Output3 = s[s.find('all'):s.find('all') + 4] + s[s.find('good'):s.find('good') + 5] + s[s.find('country'):s.find('country') + 7] + s[s.find('men'):s.find('men') + 3]\n",
    "Output3"
   ]
  },
  {
   "cell_type": "markdown",
   "metadata": {},
   "source": [
    "### Exercise 4: String Manipulation and Type Conversion\n",
    "\n",
    "Define a variable `a = \"Sarah earns $96500 in a year\"`. Then maniuplate the value of `a` in order to print the following string: `Sarah earns $8041.67 monthly`\n",
    "\n",
    "Start by doing it in several steps and then combine them one step at a time until you can do it in one line."
   ]
  },
  {
   "cell_type": "code",
   "execution_count": 31,
   "metadata": {},
   "outputs": [
    {
     "data": {
      "text/plain": [
       "'Sarah earns $8041.67 monthly'"
      ]
     },
     "execution_count": 31,
     "metadata": {},
     "output_type": "execute_result"
    }
   ],
   "source": [
    "'''Defining the variable a'''\n",
    "a = \"Sarah earns $96500 in a year\"\n",
    "\n",
    "'''Generating the output'''\n",
    "Output4 = a[:a.find('96500')] + str(round(float(a[a.find('96500'):a.find('96500') + 5]) / 12, 2)) + ' monthly'\n",
    "Output4"
   ]
  },
  {
   "cell_type": "markdown",
   "metadata": {},
   "source": [
    "### Exercise 5: Create and Query a Dictionary on State Demographics\n",
    "\n",
    "Create two dictionaries, one for California and one for New York state, based on the data in the following table:\n",
    "\n",
    "| States | Pop Density | Prop White | Prop Afr Amer | Prop Asian | Prop Other | Owners | Renters |\n",
    "| --- | ---: | ---: | ---: | ---: | ---: | ---: | ---: |\n",
    "| CA | 239.1 | 0.57  | 0.06 | 0.13 | 0.22 | 7035371 | 5542127 |\n",
    "| NY | 411.2 | 0.65  | 0.15 | 0.07 | 0.22 | 3897837 | 3419918 |\n",
    "\n",
    "Each dictionary should have the following keys and value types: `name: (string)` , `population density: (float)`, `race (dict)`, `tenure: (dict)`. \n",
    "\n",
    "1.  Create one dictionary called CA and one called NY that contain dictionaries containing name, pop_density, race as a dictionary, and tenure for California and New York.  Now combine these into a dictionary called \"states\", making it a dictionary of dictionaries, or a nested dictionary.\n",
    "\n",
    "1.  Check if Texas is in our state dictionary (we know it isn't but show us).\n",
    "\n",
    "1. Print the White population in New York as a percentage\n",
    "\n",
    "1. Assume there was a typo in the data, and update the White population fraction of NY to 0.64. Verify that it was updated by printing the percentage again.\n",
    "\n",
    "1. Print the percentage of households that are renters in California, with two decimal places"
   ]
  },
  {
   "cell_type": "code",
   "execution_count": 32,
   "metadata": {},
   "outputs": [],
   "source": [
    "'''1. Creating the dictionary CA and NY'''    \n",
    "CA = {'name':'CA', \n",
    "      'pop_density':239.1, \n",
    "      'race':{'White':0.57, 'Afr Amer':0.06, 'Asian':0.13, 'other':0.22}, \n",
    "      'tenure':{'owners':7035371, 'renters':5542127}}\n",
    "NY = {'name':'NY', \n",
    "      'pop_density':411.2, \n",
    "      'race':{'White':0.65, 'Afr Amer':0.15, 'Asian':0.07, 'other':0.22}, \n",
    "      'tenure':{'owners':3897837, 'renters':3419918}}\n",
    "\n",
    "'''Combining the two dictionaries'''\n",
    "states = dict(zip(CA.keys(), [list(x) for x in zip(CA.values(), NY.values())]))"
   ]
  },
  {
   "cell_type": "code",
   "execution_count": 33,
   "metadata": {},
   "outputs": [
    {
     "name": "stdout",
     "output_type": "stream",
     "text": [
      "False\n",
      "False\n"
     ]
    }
   ],
   "source": [
    "'''2. Checking if Texas is in our state dictionary '''    \n",
    "print('TX' in states['name'])\n",
    "print('Texas' in states['name'])"
   ]
  },
  {
   "cell_type": "code",
   "execution_count": 34,
   "metadata": {},
   "outputs": [
    {
     "name": "stdout",
     "output_type": "stream",
     "text": [
      "White population in New York is 65.0%.\n"
     ]
    }
   ],
   "source": [
    "'''3. Print the White population in New York as a percentage'''\n",
    "# Find the white population proportion\n",
    "white_pop_ny = states['race'][states['name'].index('NY')]['White']\n",
    "print('White population in New York is {}'.format(str(white_pop_ny * 100) + '%.'))"
   ]
  },
  {
   "cell_type": "code",
   "execution_count": 35,
   "metadata": {},
   "outputs": [
    {
     "name": "stdout",
     "output_type": "stream",
     "text": [
      "White population in New York is now updated to 64.0%.\n"
     ]
    }
   ],
   "source": [
    "'''4. Update the White population fraction of NY to 0.64'''\n",
    "states['race'][states['name'].index('NY')]['White'] = 0.64\n",
    "white_pop_ny = states['race'][states['name'].index('NY')]['White']\n",
    "# Printing the updated percentage\n",
    "print('White population in New York is now updated to {}'.format(str(white_pop_ny * 100) + '%.'))"
   ]
  },
  {
   "cell_type": "code",
   "execution_count": 36,
   "metadata": {},
   "outputs": [
    {
     "name": "stdout",
     "output_type": "stream",
     "text": [
      "The percentage of renters is 44.06%.\n"
     ]
    }
   ],
   "source": [
    "'''5. Print the percentage of households that are renters in California'''\n",
    "# Find the number of renters in California\n",
    "renter_ca = states['tenure'][states['name'].index('CA')]['renters']\n",
    "# Find the number of households in California\n",
    "hh_ca = sum(states['tenure'][states['name'].index('CA')].values())\n",
    "\n",
    "# Printing the percentage\n",
    "print('The percentage of renters is {}'.format(str(round(renter_ca / hh_ca * 100, 2)) + '%.'))"
   ]
  },
  {
   "cell_type": "markdown",
   "metadata": {},
   "source": [
    "### Exercise 6: Working with Numpy Arrays\n",
    "\n",
    "1. Create and print a 4 x 4 array named `a` with value 3 everywhere.\n",
    "\n",
    "1. Create and print a 4 x 4 array named `b` with elements drawn from a uniform random distribution \n",
    "\n",
    "1. Create and print array `c` by dividing a by b\n",
    "\n",
    "1. Compute and print the min, mean, max, median, and 90th percentile values of `c`\n",
    "\n",
    "1. Compute and print the sum of the second column in `c`"
   ]
  },
  {
   "cell_type": "code",
   "execution_count": 37,
   "metadata": {},
   "outputs": [
    {
     "name": "stdout",
     "output_type": "stream",
     "text": [
      "[[3. 3. 3. 3.]\n",
      " [3. 3. 3. 3.]\n",
      " [3. 3. 3. 3.]\n",
      " [3. 3. 3. 3.]]\n"
     ]
    }
   ],
   "source": [
    "'''Importing numpy'''\n",
    "import numpy as np\n",
    "\n",
    "'''Creating array a'''\n",
    "a = np.ones((4, 4)) * 3\n",
    "print(a)"
   ]
  },
  {
   "cell_type": "code",
   "execution_count": 38,
   "metadata": {},
   "outputs": [
    {
     "name": "stdout",
     "output_type": "stream",
     "text": [
      "[[0.23036983 0.55363528 0.95294423 0.99612097]\n",
      " [0.93150131 0.27204349 0.19851236 0.86266693]\n",
      " [0.15694781 0.80231702 0.27836339 0.01765585]\n",
      " [0.19230074 0.15442722 0.55158604 0.63955463]]\n"
     ]
    }
   ],
   "source": [
    "'''Creating array b'''\n",
    "b = np.random.uniform(size = (4, 4))\n",
    "print(b)"
   ]
  },
  {
   "cell_type": "code",
   "execution_count": 39,
   "metadata": {},
   "outputs": [
    {
     "name": "stdout",
     "output_type": "stream",
     "text": [
      "[[ 13.02253862   5.41872984   3.14813806   3.01168241]\n",
      " [  3.22060737  11.02764869  15.11240899   3.47758782]\n",
      " [ 19.1146344    3.73917033  10.77727938 169.91534817]\n",
      " [ 15.60056398  19.42662701   5.43886137   4.69076424]]\n"
     ]
    }
   ],
   "source": [
    "'''Creating array c'''\n",
    "c = a / b\n",
    "print(c)"
   ]
  },
  {
   "cell_type": "code",
   "execution_count": 40,
   "metadata": {},
   "outputs": [
    {
     "name": "stdout",
     "output_type": "stream",
     "text": [
      "min:\t3.011682410549777\n",
      "mean:\t19.133911919373062\n",
      "max:\t169.91534816683034\n",
      "median:\t8.108070378459546\n",
      "90th:\t19.270630707602734\n"
     ]
    }
   ],
   "source": [
    "'''Compute and print the min, mean, max, median, and 90th percentile values of c'''\n",
    "# min\n",
    "print('min:\\t{}'.format(c.min()))\n",
    "# mean\n",
    "print('mean:\\t{}'.format(c.mean()))\n",
    "# max\n",
    "print('max:\\t{}'.format(c.max()))\n",
    "# median\n",
    "print('median:\\t{}'.format(np.median(c)))\n",
    "# 90th percentile\n",
    "print('90th:\\t{}'.format(np.percentile(c, 90)))"
   ]
  },
  {
   "cell_type": "code",
   "execution_count": 41,
   "metadata": {},
   "outputs": [
    {
     "name": "stdout",
     "output_type": "stream",
     "text": [
      "39.612175881571034\n"
     ]
    }
   ],
   "source": [
    "'''Compute and print the sum of the second column in c'''\n",
    "print(sum(c[:, 1]))"
   ]
  }
 ],
 "metadata": {
  "kernelspec": {
   "display_name": "Python 3",
   "language": "python",
   "name": "python3"
  },
  "language_info": {
   "codemirror_mode": {
    "name": "ipython",
    "version": 3
   },
   "file_extension": ".py",
   "mimetype": "text/x-python",
   "name": "python",
   "nbconvert_exporter": "python",
   "pygments_lexer": "ipython3",
   "version": "3.8.5"
  },
  "toc": {
   "base_numbering": 1,
   "nav_menu": {},
   "number_sections": true,
   "sideBar": true,
   "skip_h1_title": false,
   "title_cell": "Table of Contents",
   "title_sidebar": "Contents",
   "toc_cell": false,
   "toc_position": {},
   "toc_section_display": true,
   "toc_window_display": false
  }
 },
 "nbformat": 4,
 "nbformat_minor": 4
}
