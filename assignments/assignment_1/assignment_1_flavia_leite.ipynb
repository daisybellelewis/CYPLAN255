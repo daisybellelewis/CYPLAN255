{
 "cells": [
  {
   "cell_type": "markdown",
   "metadata": {},
   "source": [
    "## Assignment 1 | Data Types\n",
    "\n",
    "Add code cells as needed for your answers. "
   ]
  },
  {
   "cell_type": "markdown",
   "metadata": {},
   "source": [
    "### Exercise 1: Manipulating Lists"
   ]
  },
  {
   "cell_type": "markdown",
   "metadata": {},
   "source": [
    "Create a list containing the numbers 10, 20, and 30. Store your list as a variable named `a`. Then create a second list containing the numbers 30, 60, and 90. Call this this `b`."
   ]
  },
  {
   "cell_type": "code",
   "execution_count": 1,
   "metadata": {},
   "outputs": [],
   "source": [
    "a = [10,20,30]\n",
    "b = [30,60,90]"
   ]
  },
  {
   "cell_type": "markdown",
   "metadata": {},
   "source": [
    "In the cells below, write Python expressions to create the following four outputs by combining `a` and `b` in creative ways:\n",
    "\n",
    "1. [[10, 20, 30], [30, 60, 90]]\n",
    "\n",
    "2. [10, 20, 30, 30, 60, 90]\n",
    "\n",
    "3. [10, 20, 60, 90]\n",
    "\n",
    "4. [20, 40, 60]"
   ]
  },
  {
   "cell_type": "code",
   "execution_count": 5,
   "metadata": {},
   "outputs": [
    {
     "name": "stdout",
     "output_type": "stream",
     "text": [
      "[10, 20, 30] [30, 60, 90]\n"
     ]
    }
   ],
   "source": [
    "#1\n",
    "print(a,b)"
   ]
  },
  {
   "cell_type": "code",
   "execution_count": 8,
   "metadata": {},
   "outputs": [
    {
     "name": "stdout",
     "output_type": "stream",
     "text": [
      "[10, 20, 30, 30, 60, 90]\n"
     ]
    }
   ],
   "source": [
    "#2\n",
    "list_2 = a + b \n",
    "print(list_2)"
   ]
  },
  {
   "cell_type": "code",
   "execution_count": 16,
   "metadata": {},
   "outputs": [
    {
     "name": "stdout",
     "output_type": "stream",
     "text": [
      "[10, 20, 60, 90]\n"
     ]
    }
   ],
   "source": [
    "#3\n",
    "print((a[:2])+ (b[1:]))"
   ]
  },
  {
   "cell_type": "code",
   "execution_count": 18,
   "metadata": {},
   "outputs": [
    {
     "name": "stdout",
     "output_type": "stream",
     "text": [
      "[20, 40, 60]\n"
     ]
    }
   ],
   "source": [
    "#4\n",
    "list_3 = [i * 2 for i in a]\n",
    "print(list_3)\n"
   ]
  },
  {
   "cell_type": "markdown",
   "metadata": {},
   "source": [
    "### Exercise 2. Working with Lists\n",
    "\n",
    "Create a list that contains the sums of each of the lists in G. \n",
    "\n",
    "`G = [[13, 9, 8], [14, 6, 12], [10, 13, 11], [7, 18, 9]]`\n",
    "\n",
    "Your output should look like:\n",
    "\n",
    "- `[30, 32, 34, 34]`\n",
    "\n",
    "Hint: try computing the sum for just one list first."
   ]
  },
  {
   "cell_type": "code",
   "execution_count": 39,
   "metadata": {},
   "outputs": [
    {
     "name": "stdout",
     "output_type": "stream",
     "text": [
      "[30, 32, 34, 34]\n"
     ]
    }
   ],
   "source": [
    "G = [[13, 9, 8], [14, 6, 12], [10, 13, 11], [7, 18, 9]]\n",
    "\n",
    "\n",
    "l_1 = sum(G[0])\n",
    "l_2 = sum(G[1])\n",
    "l_3 = sum(G[2])\n",
    "l_4 = sum(G[3])\n",
    "\n",
    "\n",
    "output = []\n",
    "output = [l_1, l_2, l_3, l_4]\n",
    "print(output)"
   ]
  },
  {
   "cell_type": "markdown",
   "metadata": {},
   "source": [
    "### Exercise 3: String Manipulation\n",
    "\n",
    "Turn the string below into 'all good countrymen' using the minimum amount of code, using only the methods we've covered so far. A couple of lines of code should do the trick.  Note: this requires string and list methods."
   ]
  },
  {
   "cell_type": "code",
   "execution_count": 77,
   "metadata": {},
   "outputs": [],
   "source": [
    "s = 'Now is the time for all good men to come to the aid of their country!'"
   ]
  },
  {
   "cell_type": "code",
   "execution_count": 162,
   "metadata": {},
   "outputs": [
    {
     "data": {
      "text/plain": [
       "'all good countrymen'"
      ]
     },
     "execution_count": 162,
     "metadata": {},
     "output_type": "execute_result"
    }
   ],
   "source": [
    "#selecting part of the sentence and turning a string into a list\n",
    "part_1 = s[20:].strip('!').split()\n",
    "\n",
    "#selecting parts of the list\n",
    "part_2 = part_1[0:3]\n",
    "part_3 = part_1[-1]\n",
    "\n",
    "#joining part_2 and part_3\n",
    "part_2.insert(2, part_3)\n",
    "\n",
    "#turning a list into a string\n",
    "part_4 = str.join(' ',part_2)\n",
    "\n",
    "#\"deleting\" the space between words\n",
    "part_4[:16]+part_4[17:]"
   ]
  },
  {
   "cell_type": "markdown",
   "metadata": {},
   "source": [
    "### Exercise 4: String Manipulation and Type Conversion\n",
    "\n",
    "Define a variable `a = \"Sarah earns $96500 in a year\"`. Then maniuplate the value of `a` in order to print the following string: `Sarah earns $8041.67 monthly`\n",
    "\n",
    "Start by doing it in several steps and then combine them one step at a time until you can do it in one line."
   ]
  },
  {
   "cell_type": "code",
   "execution_count": 175,
   "metadata": {},
   "outputs": [
    {
     "data": {
      "text/plain": [
       "'Sarah earns $8041.67 monthly'"
      ]
     },
     "execution_count": 175,
     "metadata": {},
     "output_type": "execute_result"
    }
   ],
   "source": [
    "a = \"Sarah earns $96500 in a year\"\n",
    "a.replace('$96500', '$8041.67')[:20]+ \" monthly\""
   ]
  },
  {
   "cell_type": "markdown",
   "metadata": {},
   "source": [
    "### Exercise 5: Create and Query a Dictionary on State Demographics\n",
    "\n",
    "Create two dictionaries, one for California and one for New York state, based on the data in the following table:\n",
    "\n",
    "| States | Pop Density | Prop White | Prop Afr Amer | Prop Asian | Prop Other | Owners | Renters |\n",
    "| --- | ---: | ---: | ---: | ---: | ---: | ---: | ---: |\n",
    "| CA | 239.1 | 0.57  | 0.06 | 0.13 | 0.22 | 7035371 | 5542127 |\n",
    "| NY | 411.2 | 0.65  | 0.15 | 0.07 | 0.22 | 3897837 | 3419918 |\n",
    "\n",
    "Each dictionary should have the following keys and value types: `name: (string)` , `population density: (float)`, `race (dict)`, `tenure: (dict)`. \n",
    "\n",
    "1.  Create one dictionary called CA and one called NY that contain dictionaries containing name, pop_density, race as a dictionary, and tenure for California and New York.  Now combine these into a dictionary called \"states\", making it a dictionary of dictionaries, or a nested dictionary.\n",
    "\n",
    "1.  Check if Texas is in our state dictionary (we know it isn't but show us).\n",
    "\n",
    "1. Print the White population in New York as a percentage\n",
    "\n",
    "1. Assume there was a typo in the data, and update the White population fraction of NY to 0.64. Verify that it was updated by printing the percentage again.\n",
    "\n",
    "1. Print the percentage of households that are renters in California, with two decimal places"
   ]
  },
  {
   "cell_type": "code",
   "execution_count": 195,
   "metadata": {},
   "outputs": [
    {
     "name": "stdout",
     "output_type": "stream",
     "text": [
      "{'CA': {'name': 'CA', 'population density': 239.1, 'race': {'Prop White': 0.57, 'Prop Afr Amer': 0.06, 'Prop Asian': 0.13, 'Prop Other': 0.22}, 'tenure': {'Owners': 7035371, 'Renters': 5542127}}, 'NY': {'name': 'NY', 'population density': 411.2, 'race': {'Prop White': 0.65, 'Prop Afr Amer': 0.15, 'Prop Asian': 0.07, 'Prop Other': 0.22}, 'tenure': {'Owners': 3897837, 'Renters': 3419918}}}\n"
     ]
    }
   ],
   "source": [
    "#1. Creating a dictionary - creating keys and value types for race and tenure\n",
    "race_nyc = {'Prop White': 0.65, 'Prop Afr Amer': 0.15, 'Prop Asian': 0.07, 'Prop Other': 0.22}\n",
    "race_ca = {'Prop White': 0.57, 'Prop Afr Amer': 0.06, 'Prop Asian': 0.13, 'Prop Other': 0.22}\n",
    "\n",
    "tenure_nyc = {'Owners': 3897837, 'Renters': 3419918}\n",
    "tenure_ca = {'Owners': 7035371, 'Renters': 5542127}\n",
    "\n",
    "#1. Creating a dictionary - creating dictionary for each state\n",
    "keys_ny = ['name', 'population density', 'race', 'tenure']\n",
    "values_ny = ['NY', 411.2, race_nyc, tenure_nyc]\n",
    "NY = dict(zip(keys_ny, values_ny))\n",
    "\n",
    "keys_ca = ['name', 'population density', 'race', 'tenure']\n",
    "values_ca = ['CA', 239.1, race_ca, tenure_ca]\n",
    "CA = dict(zip(keys_ca, values_ca))\n",
    "\n",
    "#1. Creating a dictionary - creating \"states\"\n",
    "states = {'CA': CA, 'NY': NY}\n",
    "print(states)"
   ]
  },
  {
   "cell_type": "code",
   "execution_count": 196,
   "metadata": {},
   "outputs": [
    {
     "data": {
      "text/plain": [
       "False"
      ]
     },
     "execution_count": 196,
     "metadata": {},
     "output_type": "execute_result"
    }
   ],
   "source": [
    "#2. Checking if Texas is in our state dictionary\n",
    "'Texas' in states"
   ]
  },
  {
   "cell_type": "code",
   "execution_count": 197,
   "metadata": {},
   "outputs": [
    {
     "name": "stdout",
     "output_type": "stream",
     "text": [
      "65%\n"
     ]
    }
   ],
   "source": [
    "#3 Printing the White population in New York as a percentage\n",
    "\n",
    "b = NY['race']['Prop White']\n",
    "percentage = \"{:.0%}\".format(b)\n",
    "print(percentage)"
   ]
  },
  {
   "cell_type": "code",
   "execution_count": 198,
   "metadata": {},
   "outputs": [
    {
     "name": "stdout",
     "output_type": "stream",
     "text": [
      "64%\n"
     ]
    }
   ],
   "source": [
    "#4. Updating the White population fraction of NY to 0.64 and verifing\n",
    "\n",
    "NY['race']['Prop White'] = 0.64\n",
    "b = NY['race']['Prop White']\n",
    "percentage = \"{:.0%}\".format(b)\n",
    "print(percentage)\n"
   ]
  },
  {
   "cell_type": "code",
   "execution_count": 210,
   "metadata": {},
   "outputs": [
    {
     "data": {
      "text/plain": [
       "'44.06%'"
      ]
     },
     "execution_count": 210,
     "metadata": {},
     "output_type": "execute_result"
    }
   ],
   "source": [
    "#5. Printing the % of households that are renters in California, with two decimal places\n",
    "\n",
    "renters_ca = CA['tenure']['Renters']\n",
    "owners_ca = CA['tenure']['Owners']\n",
    "tenure_ca = renters_ca + owners_ca\n",
    "renters_ca_p = renters_ca/tenure_ca\n",
    "renters_ca_p = \"{:.2%}\".format(renters_ca_p)\n",
    "renters_ca_p"
   ]
  },
  {
   "cell_type": "markdown",
   "metadata": {
    "collapsed": true
   },
   "source": [
    "### Exercise 6: Working with Numpy Arrays\n",
    "\n",
    "1. Create and print a 4 x 4 array named `a` with value 3 everywhere.\n",
    "\n",
    "1. Create and print a 4 x 4 array named `b` with elements drawn from a uniform random distribution \n",
    "\n",
    "1. Create and print array `c` by dividing a by b\n",
    "\n",
    "1. Compute and print the min, mean, max, median, and 90th percentile values of `c`\n",
    "\n",
    "1. Compute and print the sum of the second column in `c`"
   ]
  },
  {
   "cell_type": "code",
   "execution_count": 2,
   "metadata": {},
   "outputs": [
    {
     "name": "stdout",
     "output_type": "stream",
     "text": [
      "[[3 3 3 3]\n",
      " [3 3 3 3]\n",
      " [3 3 3 3]\n",
      " [3 3 3 3]]\n"
     ]
    }
   ],
   "source": [
    "# Create and print a 4 x 4 array named a with value 3 everywhere.\n",
    "\n",
    "import numpy as np\n",
    "a = np.full((4, 4), 3)\n",
    "print(a)"
   ]
  },
  {
   "cell_type": "code",
   "execution_count": 3,
   "metadata": {},
   "outputs": [
    {
     "name": "stdout",
     "output_type": "stream",
     "text": [
      "[[0.04143232 0.72568324 0.53332934 0.39631537]\n",
      " [0.70764719 0.01653991 0.34303755 0.18218371]\n",
      " [0.88369773 0.27168578 0.09435266 0.84566727]\n",
      " [0.60749644 0.39046055 0.44172333 0.03089274]]\n"
     ]
    }
   ],
   "source": [
    "#2 Create and print a 4 x 4 array named b with elements drawn from a uniform random distribution \n",
    "\n",
    "import numpy as np\n",
    "b = np.random.random((4, 4))\n",
    "print(b)\n"
   ]
  },
  {
   "cell_type": "code",
   "execution_count": 4,
   "metadata": {},
   "outputs": [
    {
     "name": "stdout",
     "output_type": "stream",
     "text": [
      "[[ 72.40724077   4.13403513   5.62504209   7.56972909]\n",
      " [  4.23940072 181.37943101   8.74539822  16.46689505]\n",
      " [  3.39482596  11.04216784  31.79560551   3.54749451]\n",
      " [  4.93830053   7.68323454   6.79158151  97.11018855]]\n"
     ]
    }
   ],
   "source": [
    "#3 Create and print array c by dividing a by b\n",
    "\n",
    "c = a/b\n",
    "print(c)"
   ]
  },
  {
   "cell_type": "code",
   "execution_count": 5,
   "metadata": {
    "scrolled": true
   },
   "outputs": [
    {
     "name": "stdout",
     "output_type": "stream",
     "text": [
      "29.17941068840691 3.394825964257896 181.37943100968232 7.626481814383719 84.75871465858242\n"
     ]
    }
   ],
   "source": [
    "#4 Compute and print the min, mean, max, median, and 90th percentile values of c\n",
    "\n",
    "import numpy as np\n",
    "\n",
    "mean_c = np.mean(c)\n",
    "min_c = np.min(c)\n",
    "max_c = np.max(c)\n",
    "median_c = np.median(c)\n",
    "per_90_c = np.percentile(c,90)\n",
    "\n",
    "print(mean_c, min_c, max_c, median_c, per_90_c)\n"
   ]
  },
  {
   "cell_type": "code",
   "execution_count": 316,
   "metadata": {},
   "outputs": [
    {
     "data": {
      "text/plain": [
       "22.956615210894434"
      ]
     },
     "execution_count": 316,
     "metadata": {},
     "output_type": "execute_result"
    }
   ],
   "source": [
    "# Compute and print the sum of the second column in c\n",
    "column_sum = sum(c[:,1])\n",
    "column_sum"
   ]
  }
 ],
 "metadata": {
  "kernelspec": {
   "display_name": "Python 3 (ipykernel)",
   "language": "python",
   "name": "python3"
  },
  "language_info": {
   "codemirror_mode": {
    "name": "ipython",
    "version": 3
   },
   "file_extension": ".py",
   "mimetype": "text/x-python",
   "name": "python",
   "nbconvert_exporter": "python",
   "pygments_lexer": "ipython3",
   "version": "3.9.7"
  },
  "toc": {
   "base_numbering": 1,
   "nav_menu": {},
   "number_sections": true,
   "sideBar": true,
   "skip_h1_title": false,
   "title_cell": "Table of Contents",
   "title_sidebar": "Contents",
   "toc_cell": false,
   "toc_position": {},
   "toc_section_display": true,
   "toc_window_display": false
  }
 },
 "nbformat": 4,
 "nbformat_minor": 2
}
