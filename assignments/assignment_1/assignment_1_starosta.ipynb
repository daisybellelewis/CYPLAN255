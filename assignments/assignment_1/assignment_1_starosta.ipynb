{
 "cells": [
  {
   "cell_type": "markdown",
   "metadata": {},
   "source": [
    "## Assignment 1 | Data Types\n",
    "\n",
    "Add code cells as needed for your answers. "
   ]
  },
  {
   "cell_type": "markdown",
   "metadata": {},
   "source": [
    "### Exercise 1: Manipulating Lists"
   ]
  },
  {
   "cell_type": "markdown",
   "metadata": {},
   "source": [
    "Create a list containing the numbers 10, 20, and 30. Store your list as a variable named `a`. Then create a second list containing the numbers 30, 60, and 90. Call this this `b`."
   ]
  },
  {
   "cell_type": "code",
   "execution_count": 36,
   "metadata": {},
   "outputs": [
    {
     "name": "stdout",
     "output_type": "stream",
     "text": [
      "[10, 20, 30]\n",
      "[30, 60, 90]\n"
     ]
    }
   ],
   "source": [
    "a=[10, 20, 30]\n",
    "print(a)\n",
    "\n",
    "b = [30, 60, 90]\n",
    "print(b)"
   ]
  },
  {
   "cell_type": "markdown",
   "metadata": {},
   "source": [
    "In the cells below, write Python expressions to create the following four outputs by combining `a` and `b` in creative ways:\n",
    "\n",
    "1. [[10, 20, 30], [30, 60, 90]]\n",
    "\n",
    "2. [10, 20, 30, 30, 60, 90]\n",
    "\n",
    "3. [10, 20, 60, 90]\n",
    "\n",
    "4. [20, 40, 60]"
   ]
  },
  {
   "cell_type": "code",
   "execution_count": 37,
   "metadata": {},
   "outputs": [
    {
     "data": {
      "text/plain": [
       "([10, 20, 30], [30, 60, 90])"
      ]
     },
     "execution_count": 37,
     "metadata": {},
     "output_type": "execute_result"
    }
   ],
   "source": [
    "(a,b)\n"
   ]
  },
  {
   "cell_type": "code",
   "execution_count": 38,
   "metadata": {},
   "outputs": [
    {
     "name": "stdout",
     "output_type": "stream",
     "text": [
      "[10, 20, 30, 30, 60, 90]\n"
     ]
    }
   ],
   "source": [
    "print(a+b)\n"
   ]
  },
  {
   "cell_type": "code",
   "execution_count": 51,
   "metadata": {},
   "outputs": [
    {
     "name": "stdout",
     "output_type": "stream",
     "text": [
      "{10, 20, 90, 60}\n"
     ]
    },
    {
     "data": {
      "text/plain": [
       "[10, 20, 60, 90]"
      ]
     },
     "execution_count": 51,
     "metadata": {},
     "output_type": "execute_result"
    }
   ],
   "source": [
    "whole_list = [10, 20, 30, 30, 60, 90] \n",
    "list_to_remove = [30]\n",
    "\n",
    "final_list = (set(whole_list) - set(list_to_remove))\n",
    "print(final_list)\n",
    "\n",
    "#OR\n",
    "a[:2]+b[1:]"
   ]
  },
  {
   "cell_type": "code",
   "execution_count": 62,
   "metadata": {},
   "outputs": [
    {
     "name": "stdout",
     "output_type": "stream",
     "text": [
      "[20, 40, 60]\n"
     ]
    }
   ],
   "source": [
    "C = [b - a for a, b in zip(a, b)]\n",
    "print(C)"
   ]
  },
  {
   "cell_type": "markdown",
   "metadata": {},
   "source": [
    "### Exercise 2. Working with Lists\n",
    "\n",
    "Create a list that contains the sums of each of the lists in G. \n",
    "\n",
    "`G = [[13, 9, 8], [14, 6, 12], [10, 13, 11], [7, 18, 9]]`\n",
    "\n",
    "Your output should look like:\n",
    "\n",
    "- `[30, 32, 34, 34]`\n",
    "\n",
    "Hint: try computing the sum for just one list first."
   ]
  },
  {
   "cell_type": "code",
   "execution_count": 72,
   "metadata": {},
   "outputs": [
    {
     "name": "stdout",
     "output_type": "stream",
     "text": [
      "[30, 32, 34, 34]\n"
     ]
    },
    {
     "data": {
      "text/plain": [
       "130"
      ]
     },
     "execution_count": 72,
     "metadata": {},
     "output_type": "execute_result"
    }
   ],
   "source": [
    "G = [[13, 9, 8], [14, 6, 12], [10, 13, 11], [7, 18, 9]]\n",
    "\n",
    "Gsub= [sum(G[0]),sum(G[1]),sum(G[2]),sum(G[3])]\n",
    "print(Gsub)\n",
    "\n",
    "sum(Gsub)"
   ]
  },
  {
   "cell_type": "markdown",
   "metadata": {},
   "source": [
    "### Exercise 3: String Manipulation\n",
    "\n",
    "Turn the string below into 'all good countrymen' using the minimum amount of code, using only the methods we've covered so far. A couple of lines of code should do the trick.  Note: this requires string and list methods."
   ]
  },
  {
   "cell_type": "code",
   "execution_count": 77,
   "metadata": {},
   "outputs": [],
   "source": [
    "s = 'Now is the time for all good men to come to the aid of their country!'\n",
    "\n",
    "#make it say 'all good countrymen'"
   ]
  },
  {
   "cell_type": "code",
   "execution_count": 93,
   "metadata": {},
   "outputs": [
    {
     "name": "stdout",
     "output_type": "stream",
     "text": [
      "['Now', 'is', 'the', 'time', 'for', 'all', 'good', 'men', 'to', 'come', 'to', 'the', 'aid', 'of', 'their', 'country!']\n",
      "all good country!men\n",
      "all good countrymen\n"
     ]
    }
   ],
   "source": [
    "split=s.split()\n",
    "print(split)\n",
    "split2=split[5 ]+\" \"+split[6 ]+ \" \"+split[15]+split[7]\n",
    "print(split2)\n",
    "final_split = split2.replace('!','')\n",
    "print(final_split)"
   ]
  },
  {
   "cell_type": "markdown",
   "metadata": {},
   "source": [
    "### Exercise 4: String Manipulation and Type Conversion\n",
    "\n",
    "Define a variable `a = \"Sarah earns $96500 in a year\"`. Then maniuplate the value of `a` in order to print the following string: `Sarah earns $8041.67 monthly`\n",
    "\n",
    "Start by doing it in several steps and then combine them one step at a time until you can do it in one line."
   ]
  },
  {
   "cell_type": "code",
   "execution_count": null,
   "metadata": {},
   "outputs": [],
   "source": []
  },
  {
   "cell_type": "code",
   "execution_count": 141,
   "metadata": {},
   "outputs": [
    {
     "name": "stdout",
     "output_type": "stream",
     "text": [
      "Sarah earns $96500 in a year\n"
     ]
    },
    {
     "ename": "AttributeError",
     "evalue": "'list' object has no attribute 'replace'",
     "output_type": "error",
     "traceback": [
      "\u001b[0;31m---------------------------------------------------------------------------\u001b[0m",
      "\u001b[0;31mAttributeError\u001b[0m                            Traceback (most recent call last)",
      "\u001b[0;32m/var/folders/rp/xcvn8lq17xjdfchy8l93w95r0000gn/T/ipykernel_20956/1509715517.py\u001b[0m in \u001b[0;36m<module>\u001b[0;34m\u001b[0m\n\u001b[1;32m      5\u001b[0m \u001b[0;34m\u001b[0m\u001b[0m\n\u001b[1;32m      6\u001b[0m \u001b[0msalary\u001b[0m \u001b[0;34m=\u001b[0m \u001b[0msplit\u001b[0m\u001b[0;34m[\u001b[0m\u001b[0;36m2\u001b[0m\u001b[0;34m]\u001b[0m\u001b[0;34m.\u001b[0m\u001b[0mreplace\u001b[0m\u001b[0;34m(\u001b[0m\u001b[0;34m'$'\u001b[0m\u001b[0;34m,\u001b[0m\u001b[0;34m''\u001b[0m\u001b[0;34m)\u001b[0m\u001b[0;34m\u001b[0m\u001b[0;34m\u001b[0m\u001b[0m\n\u001b[0;32m----> 7\u001b[0;31m \u001b[0mtimeframe\u001b[0m\u001b[0;34m=\u001b[0m\u001b[0msplit\u001b[0m\u001b[0;34m.\u001b[0m\u001b[0mreplace\u001b[0m\u001b[0;34m(\u001b[0m\u001b[0;34m[\u001b[0m\u001b[0;34m'in'\u001b[0m\u001b[0;34m,\u001b[0m\u001b[0;34m'a'\u001b[0m\u001b[0;34m,\u001b[0m\u001b[0;34m'year'\u001b[0m\u001b[0;34m]\u001b[0m\u001b[0;34m,\u001b[0m\u001b[0;34m'monthly'\u001b[0m\u001b[0;34m,\u001b[0m \u001b[0minplace\u001b[0m\u001b[0;34m=\u001b[0m\u001b[0;32mTrue\u001b[0m\u001b[0;34m)\u001b[0m\u001b[0;34m\u001b[0m\u001b[0;34m\u001b[0m\u001b[0m\n\u001b[0m\u001b[1;32m      8\u001b[0m \u001b[0mprint\u001b[0m\u001b[0;34m(\u001b[0m\u001b[0msalary\u001b[0m\u001b[0;34m)\u001b[0m\u001b[0;34m\u001b[0m\u001b[0;34m\u001b[0m\u001b[0m\n\u001b[1;32m      9\u001b[0m \u001b[0mprint\u001b[0m\u001b[0;34m(\u001b[0m\u001b[0mtimeframe\u001b[0m\u001b[0;34m)\u001b[0m\u001b[0;34m\u001b[0m\u001b[0;34m\u001b[0m\u001b[0m\n",
      "\u001b[0;31mAttributeError\u001b[0m: 'list' object has no attribute 'replace'"
     ]
    }
   ],
   "source": [
    "a = \"Sarah earns $96500 in a year\"\n",
    "print(a)\n",
    "\n",
    "split = a.split()\n",
    "###NOT WORKING\n",
    "salary = split[2].replace('$','')\n",
    "timeframe=split.replace(['in','a','year'],'monthly', inplace=True)\n",
    "print(salary)\n",
    "print(timeframe)\n",
    "salary=int(salary)\n",
    "salary=salary/12\n",
    "print(salary)\n",
    "salary=str(salary)\n",
    "\n",
    "split=str(split[:2])\n",
    "\n",
    "split2 = split + '$' + salary + timeframe\n",
    "print(split2)\n"
   ]
  },
  {
   "cell_type": "markdown",
   "metadata": {},
   "source": [
    "### Exercise 5: Create and Query a Dictionary on State Demographics\n",
    "\n",
    "Create two dictionaries, one for California and one for New York state, based on the data in the following table:\n",
    "\n",
    "| States | Pop Density | Prop White | Prop Afr Amer | Prop Asian | Prop Other | Owners | Renters |\n",
    "| --- | ---: | ---: | ---: | ---: | ---: | ---: | ---: |\n",
    "| CA | 239.1 | 0.57  | 0.06 | 0.13 | 0.22 | 7035371 | 5542127 |\n",
    "| NY | 411.2 | 0.65  | 0.15 | 0.07 | 0.22 | 3897837 | 3419918 |\n",
    "\n",
    "Each dictionary should have the following keys and value types: `name: (string)` , `population density: (float)`, `race (dict)`, `tenure: (dict)`. \n",
    "\n",
    "1.  Create one dictionary called CA and one called NY that contain dictionaries containing name, pop_density, race as a dictionary, and tenure for California and New York.  Now combine these into a dictionary called \"states\", making it a dictionary of dictionaries, or a nested dictionary.\n",
    "\n",
    "1.  Check if Texas is in our state dictionary (we know it isn't but show us).\n",
    "\n",
    "1. Print the White population in New York as a percentage\n",
    "\n",
    "1. Assume there was a typo in the data, and update the White population fraction of NY to 0.64. Verify that it was updated by printing the percentage again.\n",
    "\n",
    "1. Print the percentage of households that are renters in California, with two decimal places"
   ]
  },
  {
   "cell_type": "code",
   "execution_count": 24,
   "metadata": {},
   "outputs": [
    {
     "name": "stdout",
     "output_type": "stream",
     "text": [
      "{'CA': {'name': 'CA', 'pop density': 239.1, 'race': {'Prop White': 0.57, 'Prop Afr Amer': 0.06, 'Prop Asian': 0.13, 'Prop Other': 0.22}, 'tenure': {'Owners': 7035371, 'Renters': 5542127}}, 'NY': {'name': 'NY', 'pop density': 411.2, 'race': {'Prop White': 0.65, 'Prop Afr Amer': 0.15, 'Prop Asian': 0.07, 'Prop Other': 0.22}, 'tenure': {'Owners': 3897837, 'Renters': 3419918}}}\n",
      "\n",
      "\n",
      "False\n",
      "\n",
      "\n",
      "65%\n",
      "\n",
      "\n",
      "\n",
      "\n",
      "64%\n",
      "\n",
      "\n",
      "55.94%\n"
     ]
    }
   ],
   "source": [
    "#Create one dictionary called CA and one called NY \n",
    "CA = {'name' : 'CA','pop density': 239.1,\n",
    "      'race':{'Prop White':0.57,'Prop Afr Amer': .06,'Prop Asian':.13,'Prop Other':.22},\n",
    "     'tenure':{'Owners':7035371,'Renters':5542127}}\n",
    "NY = {'name' : 'NY','pop density': 411.2,\n",
    "      'race':{'Prop White':0.65,'Prop Afr Amer': .15,'Prop Asian':.07,'Prop Other':.22},\n",
    "     'tenure':{'Owners':3897837,'Renters':3419918}}\n",
    "\n",
    "States={'CA':CA, 'NY':NY}\n",
    "\n",
    "print(States)\n",
    "print(\"\\n\")\n",
    "#Check if Texas is in our state dictionary#\n",
    "result = any('Texas' in States.values() for States in States.values())\n",
    "\n",
    "print(result)\n",
    "print(\"\\n\")\n",
    "#Print the White population in New York as a percentage#\n",
    "NYRace=(NY.get('race'))\n",
    "NYWhites=(NYRace.get('Prop White'))\n",
    "##now we have number, not percentage\n",
    "percentage = \"{:.0%}\".format(NYWhites)\n",
    "print(percentage)\n",
    "print(\"\\n\")\n",
    "#\n",
    "#\n",
    "#\n",
    "#update the White population fraction of NY to 0.64, print %\n",
    "CA2 = {'name' : 'CA','pop density': 239.1,\n",
    "      'race':{'Prop White':0.57,'Prop Afr Amer': .06,'Prop Asian':.13,'Prop Other':.22},\n",
    "     'tenure':{'Owners':7035371,'Renters':5542127}}\n",
    "NY2 = {'name' : 'NY','pop density': 411.2,\n",
    "      'race':{'Prop White':0.64,'Prop Afr Amer': .15,'Prop Asian':.07,'Prop Other':.22},\n",
    "     'tenure':{'Owners':3897837,'Renters':3419918}}\n",
    "\n",
    "States2={'CA2':CA2, 'NY2':NY2}\n",
    "\n",
    "print(\"\\n\")\n",
    "#Print the White population in New York as a percentage#\n",
    "NYRace2=(NY2.get('race'))\n",
    "NYWhites2=(NYRace2.get('Prop White'))\n",
    "##now we have number, not percentage\n",
    "percentage2 = \"{:.0%}\".format(NYWhites2)\n",
    "print(percentage2)\n",
    "print(\"\\n\")\n",
    "#\n",
    "#\n",
    "#\n",
    "#Print the percentage of households that are renters in California, with two decimal places\n",
    "CA_housing=(CA.get('tenure'))\n",
    "CA_owners=(CA_housing.get('Renters'))\n",
    "CA_renters=(CA_housing.get('Owners'))\n",
    "owners=int(CA_owners)\n",
    "renters= int(CA_renters)\n",
    "cahousing=owners+renters\n",
    "rent_CA=renters/cahousing\n",
    "perc_rent_CA = \"{:.2%}\".format(rent_CA)\n",
    "print(perc_rent_CA)\n",
    "#perc_2=\"{:0.2f}\".format(perc_rent_CA)\n",
    "#def printC(perc_rent_CA):\n",
    "  #  print(\"\\nYour Celsius value is {:0.2f}.\\n\".format(perc_rent_CA))\n",
    "#printC(perc_rent_CA)"
   ]
  },
  {
   "cell_type": "markdown",
   "metadata": {
    "collapsed": true
   },
   "source": [
    "### Exercise 6: Working with Numpy Arrays\n",
    "\n",
    "1. Create and print a 4 x 4 array named `a` with value 3 everywhere.\n",
    "\n",
    "1. Create and print a 4 x 4 array named `b` with elements drawn from a uniform random distribution \n",
    "\n",
    "1. Create and print array `c` by dividing a by b\n",
    "\n",
    "1. Compute and print the min, mean, max, median, and 90th percentile values of `c`\n",
    "\n",
    "1. Compute and print the sum of the second column in `c`"
   ]
  },
  {
   "cell_type": "code",
   "execution_count": 14,
   "metadata": {},
   "outputs": [
    {
     "name": "stdout",
     "output_type": "stream",
     "text": [
      "[[3 3 3 3]\n",
      " [3 3 3 3]\n",
      " [3 3 3 3]\n",
      " [3 3 3 3]]\n"
     ]
    }
   ],
   "source": [
    "import numpy as np\n",
    "\n",
    "#height, width = 4, 4\n",
    "#num = [0, 1, 2, 3, 4, 5, 6, 7, 8, 9, 10, 11, 12, 13, 14, 15]\n",
    "\n",
    "#array = np.array(num).reshape((height, width))\n",
    "#print(array)\n",
    "\n",
    "a = np.full((4, 4), 3)\n",
    "print(a)\n",
    "\n",
    "#b=np.random.uniform((4,4),0,100)\n",
    "#print(b)"
   ]
  },
  {
   "cell_type": "code",
   "execution_count": 13,
   "metadata": {},
   "outputs": [
    {
     "name": "stdout",
     "output_type": "stream",
     "text": [
      "[[0.61127799 0.31276897 0.21876677 0.24446383]\n",
      " [0.72232038 0.06225941 0.87081942 0.75033639]\n",
      " [0.0294859  0.96406554 0.38246775 0.89008662]\n",
      " [0.190082   0.32950166 0.23938881 0.37991636]]\n"
     ]
    }
   ],
   "source": [
    "b=np.random.random((4, 4))\n",
    "print(b)"
   ]
  },
  {
   "cell_type": "code",
   "execution_count": 15,
   "metadata": {},
   "outputs": [
    {
     "name": "stdout",
     "output_type": "stream",
     "text": [
      "[[  4.90775072   9.59174422  13.71323427  12.27175421]\n",
      " [  4.15328169  48.18548671   3.44503112   3.99820671]\n",
      " [101.74354013   3.11182162   7.8437986    3.3704585 ]\n",
      " [ 15.78266254   9.10465818  12.5319143    7.89647493]]\n"
     ]
    }
   ],
   "source": [
    "c=a/b\n",
    "print(c)"
   ]
  },
  {
   "cell_type": "code",
   "execution_count": 23,
   "metadata": {},
   "outputs": [
    {
     "name": "stdout",
     "output_type": "stream",
     "text": [
      "3.1118216214875676\n",
      "16.35323865304087\n",
      "101.74354013171086\n",
      "8.500566553329477\n",
      "31.984074625675028\n"
     ]
    }
   ],
   "source": [
    "#print the min, mean, max, median\n",
    "print(c.min())\n",
    "print(c.mean())\n",
    "print(c.max())\n",
    "median = np.median(c)\n",
    "print(median)\n",
    "perc90 = np.percentile(c,90)\n",
    "print(perc90)"
   ]
  },
  {
   "cell_type": "code",
   "execution_count": 26,
   "metadata": {},
   "outputs": [
    {
     "data": {
      "text/plain": [
       "69.99371072431927"
      ]
     },
     "execution_count": 26,
     "metadata": {},
     "output_type": "execute_result"
    }
   ],
   "source": [
    "#1. Compute and print the sum of the second column in `c`\n",
    "c[:, 1].sum()"
   ]
  },
  {
   "cell_type": "code",
   "execution_count": null,
   "metadata": {},
   "outputs": [],
   "source": []
  }
 ],
 "metadata": {
  "kernelspec": {
   "display_name": "Python 3 (ipykernel)",
   "language": "python",
   "name": "python3"
  },
  "language_info": {
   "codemirror_mode": {
    "name": "ipython",
    "version": 3
   },
   "file_extension": ".py",
   "mimetype": "text/x-python",
   "name": "python",
   "nbconvert_exporter": "python",
   "pygments_lexer": "ipython3",
   "version": "3.9.7"
  },
  "toc": {
   "base_numbering": 1,
   "nav_menu": {},
   "number_sections": true,
   "sideBar": true,
   "skip_h1_title": false,
   "title_cell": "Table of Contents",
   "title_sidebar": "Contents",
   "toc_cell": false,
   "toc_position": {},
   "toc_section_display": true,
   "toc_window_display": false
  }
 },
 "nbformat": 4,
 "nbformat_minor": 2
}
