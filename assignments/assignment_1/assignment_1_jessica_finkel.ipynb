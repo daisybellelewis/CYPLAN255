{
 "cells": [
  {
   "cell_type": "markdown",
   "metadata": {},
   "source": [
    "## Assignment 1 | Data Types\n",
    "\n",
    "Add code cells as needed for your answers. "
   ]
  },
  {
   "cell_type": "markdown",
   "metadata": {},
   "source": [
    "### Exercise 1: Manipulating Lists"
   ]
  },
  {
   "cell_type": "markdown",
   "metadata": {},
   "source": [
    "Create a list containing the numbers 10, 20, and 30. Store your list as a variable named `a`. Then create a second list containing the numbers 30, 60, and 90. Call this this `b`."
   ]
  },
  {
   "cell_type": "code",
   "execution_count": 171,
   "metadata": {},
   "outputs": [],
   "source": [
    "a = [10, 20, 30]\n",
    "b = [30, 60, 90]"
   ]
  },
  {
   "cell_type": "markdown",
   "metadata": {},
   "source": [
    "In the cells below, write Python expressions to create the following four outputs by combining `a` and `b` in creative ways:\n",
    "\n",
    "1. [[10, 20, 30], [30, 60, 90]]\n",
    "\n",
    "2. [10, 20, 30, 30, 60, 90]\n",
    "\n",
    "3. [10, 20, 60, 90]\n",
    "\n",
    "4. [20, 40, 60]"
   ]
  },
  {
   "cell_type": "markdown",
   "metadata": {},
   "source": [
    "**Creating [[10, 20, 30], [30, 60, 90]]**"
   ]
  },
  {
   "cell_type": "code",
   "execution_count": 172,
   "metadata": {},
   "outputs": [
    {
     "data": {
      "text/plain": [
       "[[10, 20, 30], [30, 60, 90]]"
      ]
     },
     "execution_count": 172,
     "metadata": {},
     "output_type": "execute_result"
    }
   ],
   "source": [
    "#trying it one way\n",
    "[a] + [b]"
   ]
  },
  {
   "cell_type": "code",
   "execution_count": 173,
   "metadata": {},
   "outputs": [
    {
     "name": "stdout",
     "output_type": "stream",
     "text": [
      "[[10, 20, 30], [30, 60, 90]]\n"
     ]
    }
   ],
   "source": [
    "#trying it another way\n",
    "c = [a, b]\n",
    "print(c)"
   ]
  },
  {
   "cell_type": "code",
   "execution_count": 174,
   "metadata": {},
   "outputs": [
    {
     "name": "stdout",
     "output_type": "stream",
     "text": [
      "[[10, 20, 30], [30, 60, 90]]\n"
     ]
    }
   ],
   "source": [
    "#trying it a third way\n",
    "e = [a]\n",
    "e.extend([b])\n",
    "print(e)"
   ]
  },
  {
   "cell_type": "markdown",
   "metadata": {},
   "source": [
    "**Creating [10, 20, 30, 30, 60, 90]**"
   ]
  },
  {
   "cell_type": "code",
   "execution_count": 175,
   "metadata": {},
   "outputs": [
    {
     "name": "stdout",
     "output_type": "stream",
     "text": [
      "[10, 20, 30, 30, 60, 90]\n"
     ]
    }
   ],
   "source": [
    "#This way defines variable d as a concatenation of lists a and b.\n",
    "d = a + b\n",
    "print(d)"
   ]
  },
  {
   "cell_type": "code",
   "execution_count": 176,
   "metadata": {},
   "outputs": [
    {
     "name": "stdout",
     "output_type": "stream",
     "text": [
      "[10, 20, 30, 30, 60, 90]\n"
     ]
    }
   ],
   "source": [
    "#This way says insert 30 in index 4, 60 in index 5, and 90 in index 6 of list a.\n",
    "\n",
    "a.insert(4, 30)\n",
    "a.insert(5, 60)\n",
    "a.insert(6, 90)\n",
    "print(a)"
   ]
  },
  {
   "cell_type": "markdown",
   "metadata": {},
   "source": [
    "**Creating [10, 20, 60, 90]**"
   ]
  },
  {
   "cell_type": "code",
   "execution_count": 177,
   "metadata": {},
   "outputs": [
    {
     "data": {
      "text/plain": [
       "[10, 20, 60, 90]"
      ]
     },
     "execution_count": 177,
     "metadata": {},
     "output_type": "execute_result"
    }
   ],
   "source": [
    "#delete the items at indices 2 and 3 (need to specify 2:4 because non-inclusive of upper boundary)\n",
    "del a[2:4]\n",
    "a"
   ]
  },
  {
   "cell_type": "markdown",
   "metadata": {},
   "source": [
    "**Creating [20, 40, 60]**"
   ]
  },
  {
   "cell_type": "code",
   "execution_count": 178,
   "metadata": {},
   "outputs": [
    {
     "name": "stdout",
     "output_type": "stream",
     "text": [
      "[20, 60, 90]\n",
      "[20, 60]\n",
      "[20, 40, 60]\n"
     ]
    }
   ],
   "source": [
    "#telling it to delete the items at indices 2 and 3 and then add '40' at index 1\n",
    "\n",
    "del a[0]\n",
    "print(a)\n",
    "del a[2]\n",
    "print(a)\n",
    "a.insert(1, 40)\n",
    "print(a)"
   ]
  },
  {
   "cell_type": "markdown",
   "metadata": {},
   "source": [
    "### Exercise 2. Working with Lists\n",
    "\n",
    "Create a list that contains the sums of each of the lists in G. \n",
    "\n",
    "`G = [[13, 9, 8], [14, 6, 12], [10, 13, 11], [7, 18, 9]]`\n",
    "\n",
    "Your output should look like:\n",
    "\n",
    "- `[30, 32, 34, 34]`\n",
    "\n",
    "Hint: try computing the sum for just one list first."
   ]
  },
  {
   "cell_type": "code",
   "execution_count": 179,
   "metadata": {},
   "outputs": [
    {
     "name": "stdout",
     "output_type": "stream",
     "text": [
      "(30, 32, 34, 34)\n"
     ]
    }
   ],
   "source": [
    "G = [[13, 9, 8], [14, 6, 12], [10, 13, 11], [7, 18, 9]]\n",
    "H = sum(G[0]), sum(G[1]), sum(G[2]), sum(G[3])\n",
    "print(H)"
   ]
  },
  {
   "cell_type": "markdown",
   "metadata": {},
   "source": [
    "### Exercise 3: String Manipulation\n",
    "\n",
    "Turn the string below into 'all good countrymen' using the minimum amount of code, using only the methods we've covered so far. A couple of lines of code should do the trick.  Note: this requires string and list methods."
   ]
  },
  {
   "cell_type": "code",
   "execution_count": 180,
   "metadata": {},
   "outputs": [],
   "source": [
    "s = 'Now is the time for all good men to come to the aid of their country!'"
   ]
  },
  {
   "cell_type": "code",
   "execution_count": 181,
   "metadata": {},
   "outputs": [
    {
     "data": {
      "text/plain": [
       "20"
      ]
     },
     "execution_count": 181,
     "metadata": {},
     "output_type": "execute_result"
    }
   ],
   "source": [
    "#tell me the index of the 'a' the beginning of 'all'\n",
    "s.find('a')"
   ]
  },
  {
   "cell_type": "code",
   "execution_count": 182,
   "metadata": {},
   "outputs": [
    {
     "data": {
      "text/plain": [
       "31"
      ]
     },
     "execution_count": 182,
     "metadata": {},
     "output_type": "execute_result"
    }
   ],
   "source": [
    "#tell me the index for the 'n' at the end of 'men'\n",
    "s.find('n')"
   ]
  },
  {
   "cell_type": "code",
   "execution_count": 183,
   "metadata": {},
   "outputs": [
    {
     "data": {
      "text/plain": [
       "'all good men'"
      ]
     },
     "execution_count": 183,
     "metadata": {},
     "output_type": "execute_result"
    }
   ],
   "source": [
    "#define variable t as the segment of string(s) that contains 'all good men'\n",
    "t = s[20:32]\n",
    "t"
   ]
  },
  {
   "cell_type": "code",
   "execution_count": 184,
   "metadata": {},
   "outputs": [
    {
     "data": {
      "text/plain": [
       "'all good countrymen'"
      ]
     },
     "execution_count": 184,
     "metadata": {},
     "output_type": "execute_result"
    }
   ],
   "source": [
    "#modify variable t by replacing 'men' with 'countrymen'\n",
    "t.replace('men', 'countrymen')"
   ]
  },
  {
   "cell_type": "markdown",
   "metadata": {},
   "source": [
    "### Exercise 4: String Manipulation and Type Conversion\n",
    "\n",
    "Define a variable `a = \"Sarah earns $96500 in a year\"`. Then maniuplate the value of `a` in order to print the following string: `Sarah earns $8041.67 monthly`\n",
    "\n",
    "Start by doing it in several steps and then combine them one step at a time until you can do it in one line."
   ]
  },
  {
   "cell_type": "code",
   "execution_count": 185,
   "metadata": {},
   "outputs": [
    {
     "data": {
      "text/plain": [
       "'Sarah earns $8041.67 monthly'"
      ]
     },
     "execution_count": 185,
     "metadata": {},
     "output_type": "execute_result"
    }
   ],
   "source": [
    "a = \"Sarah earns $96500 in a year\"\n",
    "b = a.replace('$96500 in a year', '$8041.67 monthly')\n",
    "b"
   ]
  },
  {
   "cell_type": "markdown",
   "metadata": {},
   "source": [
    "### Exercise 5: Create and Query a Dictionary on State Demographics\n",
    "\n",
    "Create two dictionaries, one for California and one for New York state, based on the data in the following table:\n",
    "\n",
    "| States | Pop Density | Prop White | Prop Afr Amer | Prop Asian | Prop Other | Owners | Renters |\n",
    "| --- | ---: | ---: | ---: | ---: | ---: | ---: | ---: |\n",
    "| CA | 239.1 | 0.57  | 0.06 | 0.13 | 0.22 | 7035371 | 5542127 |\n",
    "| NY | 411.2 | 0.65  | 0.15 | 0.07 | 0.22 | 3897837 | 3419918 |\n",
    "\n",
    "Each dictionary should have the following keys and value types: `name: (string)` , `population density: (float)`, `race (dict)`, `tenure: (dict)`. \n",
    "\n",
    "1.  Create one dictionary called CA and one called NY that contain dictionaries containing name, pop_density, race as a dictionary, and tenure for California and New York.  Now combine these into a dictionary called \"states\", making it a dictionary of dictionaries, or a nested dictionary.\n",
    "\n",
    "1.  Check if Texas is in our state dictionary (we know it isn't but show us).\n",
    "\n",
    "1. Print the White population in New York as a percentage\n",
    "\n",
    "1. Assume there was a typo in the data, and update the White population fraction of NY to 0.64. Verify that it was updated by printing the percentage again.\n",
    "\n",
    "1. Print the percentage of households that are renters in California, with two decimal places"
   ]
  },
  {
   "cell_type": "code",
   "execution_count": 186,
   "metadata": {},
   "outputs": [
    {
     "name": "stdout",
     "output_type": "stream",
     "text": [
      "{'California': {'name': 'California', 'pop_density': 239.1, 'race': {'prop_white': 0.57, 'prop_afr_amer': 0.06, 'prop_asian': 0.13, 'prop_other': 0.22}, 'tenure': {'owners': 7035371, 'renters': 5542127}}, 'New York': {'name': 'New York', 'pop_density': 411.2, 'race': {'prop_white': 0.65, 'prop_afr_amer': 0.15, 'prop_asian': 0.07, 'prop_other': 0.22}, 'tenure': {'owners': 3897837, 'renters': 3419918}}}\n"
     ]
    }
   ],
   "source": [
    "#create a dictionary named ca_dict with name as a string, pop_density as a float, and dictionaries for race and tenure\n",
    "#create a dictionary named ny_dict with name as a string, pop_density as a float, and dictionaries for race and tenure\n",
    "#create a dictionary named states with key-value pairs where California:ca_dict and New York:ny_dict\n",
    "\n",
    "ca_dict = {'name': 'California', 'pop_density': 239.1, 'race': {'prop_white': 0.57, 'prop_afr_amer': 0.06, 'prop_asian': 0.13, 'prop_other': 0.22}, 'tenure': {'owners': 7035371, 'renters': 5542127}}\n",
    "ny_dict = {'name': 'New York', 'pop_density': 411.2, 'race': {'prop_white': 0.65, 'prop_afr_amer': 0.15, 'prop_asian': 0.07, 'prop_other': 0.22}, 'tenure': {'owners': 3897837, 'renters': 3419918}}\n",
    "states = {'California': ca_dict, 'New York': ny_dict}\n",
    "print(states)"
   ]
  },
  {
   "cell_type": "code",
   "execution_count": 187,
   "metadata": {},
   "outputs": [
    {
     "name": "stdout",
     "output_type": "stream",
     "text": [
      "dict_keys(['California', 'New York'])\n"
     ]
    }
   ],
   "source": [
    "#does not include Texas\n",
    "print(states.keys())"
   ]
  },
  {
   "cell_type": "code",
   "execution_count": 188,
   "metadata": {},
   "outputs": [],
   "source": [
    "#Ignore this, notes to self -- old code not using nested dictionaries to practice using zip command\n",
    "#keys = ['name', 'pop_density', 'prop_white', 'prop_afr_amer', 'proper_asian', 'prop_other', 'owners', 'renters']\n",
    "#ca_values = ['CA', 239.1, 0.57, 0.06, 0.13, 0.22, 7035371, 5542127]\n",
    "#ca = dict(zip(keys, ca_values))\n",
    "#ny_values = ['NY', 411.2, 0.65, 0.15, 0.07, 0.22, 3897837, 3419918] \n",
    "#ny = dict(zip(keys, ny_values))\n",
    "#states = {'ca_dict':ca, 'ny_dict':ny}\n",
    "#print(states)"
   ]
  },
  {
   "cell_type": "code",
   "execution_count": 189,
   "metadata": {},
   "outputs": [
    {
     "name": "stdout",
     "output_type": "stream",
     "text": [
      "65.0\n"
     ]
    }
   ],
   "source": [
    "#rounding NY prop_white to a percentage\n",
    "\n",
    "for value in states[\"New York\"][\"race\"].keys():\n",
    "    states[\"New York\"]['race'][value] = round(100 * states['New York']['race'][value],2)\n",
    "\n",
    "print(states['New York']['race']['prop_white'])"
   ]
  },
  {
   "cell_type": "code",
   "execution_count": 190,
   "metadata": {},
   "outputs": [
    {
     "name": "stdout",
     "output_type": "stream",
     "text": [
      "64.0\n"
     ]
    }
   ],
   "source": [
    "#updating the White population fraction of NY to 0.64\n",
    "\n",
    "states['New York']['race']['prop_white'] = 64.0\n",
    "print(states['New York']['race']['prop_white'])"
   ]
  },
  {
   "cell_type": "code",
   "execution_count": 191,
   "metadata": {},
   "outputs": [
    {
     "name": "stdout",
     "output_type": "stream",
     "text": [
      "0.4406382732082327\n"
     ]
    },
    {
     "data": {
      "text/plain": [
       "0.44"
      ]
     },
     "execution_count": 191,
     "metadata": {},
     "output_type": "execute_result"
    }
   ],
   "source": [
    "#calculated total number of ca households and then divided to find percentage that are renters. Then rounded perc_renters to two decimal spaces.\n",
    "ca_households = states['California']['tenure']['renters'] + states['California']['tenure']['owners']\n",
    "perc_renters = states['California']['tenure']['renters']/ca_households\n",
    "print(perc_renters)\n",
    "round(perc_renters, 2)"
   ]
  },
  {
   "cell_type": "markdown",
   "metadata": {
    "collapsed": true
   },
   "source": [
    "### Exercise 6: Working with Numpy Arrays\n",
    "\n",
    "1. Create and print a 4 x 4 array named `a` with value 3 everywhere.\n",
    "\n",
    "1. Create and print a 4 x 4 array named `b` with elements drawn from a uniform random distribution \n",
    "\n",
    "1. Create and print array `c` by dividing a by b\n",
    "\n",
    "1. Compute and print the min, mean, max, median, and 90th percentile values of `c`\n",
    "\n",
    "1. Compute and print the sum of the second column in `c`"
   ]
  },
  {
   "cell_type": "code",
   "execution_count": 192,
   "metadata": {},
   "outputs": [
    {
     "name": "stdout",
     "output_type": "stream",
     "text": [
      "[[[[3 3 3 3]\n",
      "   [3 3 3 3]\n",
      "   [3 3 3 3]\n",
      "   [3 3 3 3]]]]\n"
     ]
    }
   ],
   "source": [
    "#created array a\n",
    "import numpy as np\n",
    "a = np.array([[[[3, 3, 3, 3], [3, 3, 3, 3], [3, 3, 3, 3], [3, 3, 3, 3]]]])\n",
    "print(a)"
   ]
  },
  {
   "cell_type": "code",
   "execution_count": 193,
   "metadata": {},
   "outputs": [
    {
     "name": "stdout",
     "output_type": "stream",
     "text": [
      "[[0.29999848 0.8831528  0.98119051 0.04513398]\n",
      " [0.51837543 0.24155739 0.96576368 0.57377303]\n",
      " [0.59458755 0.81247879 0.23238586 0.59211254]\n",
      " [0.95926383 0.07557972 0.31517089 0.43929965]]\n"
     ]
    }
   ],
   "source": [
    "#created array b \n",
    "b = np.random.rand(4,4)\n",
    "print(b)"
   ]
  },
  {
   "cell_type": "code",
   "execution_count": 194,
   "metadata": {},
   "outputs": [
    {
     "name": "stdout",
     "output_type": "stream",
     "text": [
      "[[[[10.0000506   3.39692069  3.05751021 66.46876302]\n",
      "   [ 5.7873113  12.41940865  3.10634998  5.22854832]\n",
      "   [ 5.04551429  3.69240407 12.9095632   5.06660444]\n",
      "   [ 3.12739821 39.69318968  9.5186457   6.82905159]]]]\n"
     ]
    }
   ],
   "source": [
    "#created array c by dividing a by b\n",
    "c = a/b\n",
    "print(c)"
   ]
  },
  {
   "cell_type": "code",
   "execution_count": 195,
   "metadata": {},
   "outputs": [
    {
     "data": {
      "text/plain": [
       "(3.057510206090252,\n",
       " 66.46876302424062,\n",
       " 12.209202122304099,\n",
       " 5.50792981091703,\n",
       " 26.30137644023428)"
      ]
     },
     "execution_count": 195,
     "metadata": {},
     "output_type": "execute_result"
    }
   ],
   "source": [
    "#calculated descriptive statistics\n",
    "np.min(c), np.max(c), np.mean(c), np.median(c), np.percentile(c, 90, axis=None, out=None, overwrite_input=False, interpolation='linear', keepdims=False,)"
   ]
  },
  {
   "cell_type": "code",
   "execution_count": 196,
   "metadata": {},
   "outputs": [
    {
     "name": "stdout",
     "output_type": "stream",
     "text": [
      "[[[[10.0000506   3.39692069  3.05751021 66.46876302]\n",
      "   [ 5.7873113  12.41940865  3.10634998  5.22854832]\n",
      "   [ 5.04551429  3.69240407 12.9095632   5.06660444]\n",
      "   [ 3.12739821 39.69318968  9.5186457   6.82905159]]]]\n"
     ]
    }
   ],
   "source": [
    "print(c)"
   ]
  },
  {
   "cell_type": "code",
   "execution_count": 197,
   "metadata": {},
   "outputs": [
    {
     "data": {
      "text/plain": [
       "195.34723395686558"
      ]
     },
     "execution_count": 197,
     "metadata": {},
     "output_type": "execute_result"
    }
   ],
   "source": [
    "np.sum(c)"
   ]
  },
  {
   "cell_type": "code",
   "execution_count": 198,
   "metadata": {},
   "outputs": [
    {
     "data": {
      "text/plain": [
       "array([[[10.0000506 ,  3.39692069,  3.05751021, 66.46876302],\n",
       "        [ 5.7873113 , 12.41940865,  3.10634998,  5.22854832],\n",
       "        [ 5.04551429,  3.69240407, 12.9095632 ,  5.06660444],\n",
       "        [ 3.12739821, 39.69318968,  9.5186457 ,  6.82905159]]])"
      ]
     },
     "execution_count": 198,
     "metadata": {},
     "output_type": "execute_result"
    }
   ],
   "source": [
    "#I'm stuck on summing the second column. This just reprinted c :(\n",
    "np.sum(c, axis=0)"
   ]
  }
 ],
 "metadata": {
  "kernelspec": {
   "display_name": "Python 3 (ipykernel)",
   "language": "python",
   "name": "python3"
  },
  "language_info": {
   "codemirror_mode": {
    "name": "ipython",
    "version": 3
   },
   "file_extension": ".py",
   "mimetype": "text/x-python",
   "name": "python",
   "nbconvert_exporter": "python",
   "pygments_lexer": "ipython3",
   "version": "3.9.7"
  },
  "toc": {
   "base_numbering": 1,
   "nav_menu": {},
   "number_sections": true,
   "sideBar": true,
   "skip_h1_title": false,
   "title_cell": "Table of Contents",
   "title_sidebar": "Contents",
   "toc_cell": false,
   "toc_position": {},
   "toc_section_display": true,
   "toc_window_display": false
  }
 },
 "nbformat": 4,
 "nbformat_minor": 2
}
