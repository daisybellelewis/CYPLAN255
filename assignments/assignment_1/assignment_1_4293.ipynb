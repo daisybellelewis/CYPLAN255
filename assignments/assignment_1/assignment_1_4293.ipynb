{
 "cells": [
  {
   "cell_type": "markdown",
   "metadata": {},
   "source": [
    "## Assignment 1 | Data Types\n",
    "\n",
    "Add code cells as needed for your answers. "
   ]
  },
  {
   "cell_type": "markdown",
   "metadata": {},
   "source": [
    "### Exercise 1: Manipulating Lists"
   ]
  },
  {
   "cell_type": "markdown",
   "metadata": {},
   "source": [
    "Create a list containing the numbers 10, 20, and 30. Store your list as a variable named `a`. Then create a second list containing the numbers 30, 60, and 90. Call this this `b`."
   ]
  },
  {
   "cell_type": "code",
   "execution_count": 1,
   "metadata": {},
   "outputs": [],
   "source": [
    "a = [10, 20, 30]\n",
    "b = [30, 60, 90]"
   ]
  },
  {
   "cell_type": "markdown",
   "metadata": {},
   "source": [
    "In the cells below, write Python expressions to create the following four outputs by combining `a` and `b` in creative ways:\n",
    "\n",
    "1. [[10, 20, 30], [30, 60, 90]]\n",
    "\n",
    "2. [10, 20, 30, 30, 60, 90]\n",
    "\n",
    "3. [10, 20, 60, 90]\n",
    "\n",
    "4. [20, 40, 60]"
   ]
  },
  {
   "cell_type": "code",
   "execution_count": 2,
   "metadata": {},
   "outputs": [
    {
     "name": "stdout",
     "output_type": "stream",
     "text": [
      "[10, 20, 30] [30, 60, 90]\n"
     ]
    }
   ],
   "source": [
    "print (a, b)"
   ]
  },
  {
   "cell_type": "code",
   "execution_count": 3,
   "metadata": {},
   "outputs": [
    {
     "name": "stdout",
     "output_type": "stream",
     "text": [
      "[10, 20, 30, 30, 60, 90]\n"
     ]
    }
   ],
   "source": [
    "a.extend(b)\n",
    "print(a)"
   ]
  },
  {
   "cell_type": "code",
   "execution_count": 4,
   "metadata": {},
   "outputs": [
    {
     "name": "stdout",
     "output_type": "stream",
     "text": [
      "[10, 20, 60, 90]\n"
     ]
    }
   ],
   "source": [
    "del a[2:4]\n",
    "print(a)"
   ]
  },
  {
   "cell_type": "code",
   "execution_count": 5,
   "metadata": {},
   "outputs": [
    {
     "name": "stdout",
     "output_type": "stream",
     "text": [
      "[20, 40, 60]\n"
     ]
    }
   ],
   "source": [
    "output = [a[0] * 2, a[0] * 4, a[0] * 6]\n",
    "print(output)\n"
   ]
  },
  {
   "cell_type": "markdown",
   "metadata": {},
   "source": [
    "### Exercise 2. Working with Lists\n",
    "\n",
    "Create a list that contains the sums of each of the lists in G. \n",
    "\n",
    "`G = [[13, 9, 8], [14, 6, 12], [10, 13, 11], [7, 18, 9]]`\n",
    "\n",
    "Your output should look like:\n",
    "\n",
    "- `[30, 32, 34, 34]`\n",
    "\n",
    "Hint: try computing the sum for just one list first."
   ]
  },
  {
   "cell_type": "code",
   "execution_count": 6,
   "metadata": {},
   "outputs": [
    {
     "name": "stdout",
     "output_type": "stream",
     "text": [
      "[30, 32, 34, 34]\n"
     ]
    }
   ],
   "source": [
    "G = [[13, 9, 8], [14, 6, 12], [10, 13, 11], [7, 18, 9]]\n",
    "sum_0 = sum(G[0])\n",
    "sum_1 = sum(G[1])\n",
    "sum_2 = sum(G[2])\n",
    "sum_3 = sum(G[3])\n",
    "\n",
    "output = [sum_0, sum_1, sum_2, sum_3]\n",
    "print(output)"
   ]
  },
  {
   "cell_type": "markdown",
   "metadata": {},
   "source": [
    "### Exercise 3: String Manipulation\n",
    "\n",
    "Turn the string below into 'all good countrymen' using the minimum amount of code, using only the methods we've covered so far. A couple of lines of code should do the trick.  Note: this requires string and list methods."
   ]
  },
  {
   "cell_type": "code",
   "execution_count": 21,
   "metadata": {},
   "outputs": [],
   "source": [
    "s = 'Now is the time for all good men to come to the aid of their country!'"
   ]
  },
  {
   "cell_type": "code",
   "execution_count": 31,
   "metadata": {},
   "outputs": [
    {
     "name": "stdout",
     "output_type": "stream",
     "text": [
      "all good countrymen \n"
     ]
    }
   ],
   "source": [
    "s.find('all good men')\n",
    "t = s[20:28]\n",
    "u = s[-9:-1]\n",
    "v = s[29:33]\n",
    "print(t + u + v)"
   ]
  },
  {
   "cell_type": "markdown",
   "metadata": {},
   "source": [
    "### Exercise 4: String Manipulation and Type Conversion\n",
    "\n",
    "Define a variable `a = \"Sarah earns $96500 in a year\"`. Then maniuplate the value of `a` in order to print the following string: `Sarah earns $8041.67 monthly`\n",
    "\n",
    "Start by doing it in several steps and then combine them one step at a time until you can do it in one line."
   ]
  },
  {
   "cell_type": "code",
   "execution_count": 44,
   "metadata": {},
   "outputs": [
    {
     "name": "stdout",
     "output_type": "stream",
     "text": [
      "Sarah earns $ 8041.67 monthly.\n"
     ]
    }
   ],
   "source": [
    "a = \"Sarah earns $96500 in a year\"\n",
    "a.find('96500')\n",
    "annual = int(a[13:18])/12\n",
    "print('Sarah earns $', round(annual, 2), 'monthly.')"
   ]
  },
  {
   "cell_type": "markdown",
   "metadata": {},
   "source": [
    "### Exercise 5: Create and Query a Dictionary on State Demographics\n",
    "\n",
    "Create two dictionaries, one for California and one for New York state, based on the data in the following table:\n",
    "\n",
    "| States | Pop Density | Prop White | Prop Afr Amer | Prop Asian | Prop Other | Owners | Renters |\n",
    "| --- | ---: | ---: | ---: | ---: | ---: | ---: | ---: |\n",
    "| CA | 239.1 | 0.57  | 0.06 | 0.13 | 0.22 | 7035371 | 5542127 |\n",
    "| NY | 411.2 | 0.65  | 0.15 | 0.07 | 0.22 | 3897837 | 3419918 |\n",
    "\n",
    "Each dictionary should have the following keys and value types: `name: (string)` , `population density: (float)`, `race (dict)`, `tenure: (dict)`. \n",
    "\n",
    "1.  Create one dictionary called CA and one called NY that contain dictionaries containing name, pop_density, race as a dictionary, and tenure for California and New York.  Now combine these into a dictionary called \"states\", making it a dictionary of dictionaries, or a nested dictionary.\n",
    "\n",
    "1.  Check if Texas is in our state dictionary (we know it isn't but show us).\n",
    "\n",
    "1. Print the White population in New York as a percentage\n",
    "\n",
    "1. Assume there was a typo in the data, and update the White population fraction of NY to 0.64. Verify that it was updated by printing the percentage again.\n",
    "\n",
    "1. Print the percentage of households that are renters in California, with two decimal places"
   ]
  },
  {
   "cell_type": "code",
   "execution_count": 77,
   "metadata": {},
   "outputs": [
    {
     "name": "stdout",
     "output_type": "stream",
     "text": [
      "{'name': 'California', 'pop_density': 239.1, 'race': {'asian', 'other', 'white', 'black'}, 'prop_asian': 0.13, 'prop_black': 0.06, 'prop_other': 0.22, 'prop_white': 0.57, 'tenure': {'own', 'rent'}, 'own': 7035371, 'rent': 5542127, 'add': {'name': 'New York', 'pop_density': 411.2, 'race': {'asian', 'other', 'white', 'black'}, 'prop_asian': 0.13, 'prop_black': 0.06, 'prop_other': 0.22, 'prop_white': 0.57, 'tenure': {'own', 'rent'}, 'own': 3897837, 'rent': 3419918}}\n"
     ]
    }
   ],
   "source": [
    "CA = {\n",
    "    'name': 'California',\n",
    "    'pop_density': 239.1,\n",
    "    'race': {'asian', 'black', 'other', 'white'},\n",
    "        'prop_asian': 0.13,\n",
    "        'prop_black': 0.06,\n",
    "        'prop_other': 0.22,\n",
    "        'prop_white': 0.57,\n",
    "        'tenure': {'own', 'rent'},\n",
    "        'own': 7035371,\n",
    "        'rent': 5542127\n",
    "}\n",
    "\n",
    "NY = {\n",
    "    'name': 'New York',\n",
    "    'pop_density': 411.2,\n",
    "    'race': {'asian', 'black', 'other', 'white'},\n",
    "        'prop_asian': 0.13,\n",
    "        'prop_black': 0.06,\n",
    "        'prop_other': 0.22,\n",
    "        'prop_white': 0.57,\n",
    "        'tenure': {'own', 'rent'},\n",
    "        'own': 3897837,\n",
    "        'rent': 3419918\n",
    "}\n",
    "\n",
    "CA['add'] = NY\n",
    "print(CA)"
   ]
  },
  {
   "cell_type": "code",
   "execution_count": 64,
   "metadata": {},
   "outputs": [
    {
     "data": {
      "text/plain": [
       "False"
      ]
     },
     "execution_count": 64,
     "metadata": {},
     "output_type": "execute_result"
    }
   ],
   "source": [
    "'Texas' in CA"
   ]
  },
  {
   "cell_type": "code",
   "execution_count": 69,
   "metadata": {},
   "outputs": [
    {
     "name": "stdout",
     "output_type": "stream",
     "text": [
      "NY white population is 57.0 %\n"
     ]
    }
   ],
   "source": [
    "print('NY white population is', round(NY['prop_white'] * 100, 0), '%')"
   ]
  },
  {
   "cell_type": "code",
   "execution_count": 75,
   "metadata": {},
   "outputs": [
    {
     "name": "stdout",
     "output_type": "stream",
     "text": [
      "{'name': 'New York', 'pop_density': 411.2, 'race': {'asian', 'other', 'white', 'black'}, 'prop_asian': 0.13, 'prop_black': 0.06, 'prop_other': 0.22, 'prop_white': 0.64, 'tenure': {'own', 'rent'}}\n",
      "NY white population is 64.0 %\n"
     ]
    }
   ],
   "source": [
    "NY.update({'prop_white': 0.64})\n",
    "print(NY)\n",
    "print('NY white population is', round(NY['prop_white'] * 100, 0), '%')"
   ]
  },
  {
   "cell_type": "code",
   "execution_count": 96,
   "metadata": {},
   "outputs": [
    {
     "name": "stdout",
     "output_type": "stream",
     "text": [
      "CA renters are 44.06 % of residents.\n"
     ]
    }
   ],
   "source": [
    "CA_residents = CA['own'] + CA['rent']\n",
    "prop_rent = (CA['rent'] / CA_residents) * 100\n",
    "print('CA renters are', round(prop_rent, 2), '% of residents.')"
   ]
  },
  {
   "cell_type": "markdown",
   "metadata": {
    "collapsed": true
   },
   "source": [
    "### Exercise 6: Working with Numpy Arrays\n",
    "\n",
    "1. Create and print a 4 x 4 array named `a` with value 3 everywhere.\n",
    "\n",
    "1. Create and print a 4 x 4 array named `b` with elements drawn from a uniform random distribution \n",
    "\n",
    "1. Create and print array `c` by dividing a by b\n",
    "\n",
    "1. Compute and print the min, mean, max, median, and 90th percentile values of `c`\n",
    "\n",
    "1. Compute and print the sum of the second column in `c`"
   ]
  },
  {
   "cell_type": "code",
   "execution_count": 103,
   "metadata": {},
   "outputs": [
    {
     "name": "stdout",
     "output_type": "stream",
     "text": [
      "[[[3 3 3 3]\n",
      "  [3 3 3 3]\n",
      "  [3 3 3 3]\n",
      "  [3 3 3 3]]]\n"
     ]
    }
   ],
   "source": [
    "import numpy as np\n",
    "a = np.array([[[3, 3, 3, 3],\n",
    "             [3, 3, 3, 3],\n",
    "             [3, 3, 3, 3],\n",
    "             [3, 3, 3, 3]]])\n",
    "print(a)"
   ]
  },
  {
   "cell_type": "code",
   "execution_count": 106,
   "metadata": {},
   "outputs": [
    {
     "name": "stdout",
     "output_type": "stream",
     "text": [
      "[[-0.13760826 -0.95224312  0.62532892  0.78014908]\n",
      " [ 0.42927604  1.74423746  0.51561741 -0.32297257]\n",
      " [-1.24459575 -0.13232485 -0.3337128  -0.1342747 ]\n",
      " [ 1.35109825  1.32113262 -0.94066004  0.65943949]]\n"
     ]
    }
   ],
   "source": [
    "from numpy import random\n",
    "b = random.normal(size = (4,4))\n",
    "print(b)"
   ]
  },
  {
   "cell_type": "code",
   "execution_count": 108,
   "metadata": {},
   "outputs": [
    {
     "name": "stdout",
     "output_type": "stream",
     "text": [
      "[[[-21.80101625  -3.15045596   4.79747526   3.84541886]\n",
      "  [  6.98851025   1.7199493    5.81826751  -9.28871448]\n",
      "  [ -2.41042121 -22.67147899  -8.98976615 -22.34225763]\n",
      "  [  2.22041586   2.27077883  -3.18924995   4.54931808]]]\n"
     ]
    }
   ],
   "source": [
    "c = a/b\n",
    "print(c)\n",
    "\n",
    "# simply a / b"
   ]
  },
  {
   "cell_type": "code",
   "execution_count": 111,
   "metadata": {},
   "outputs": [
    {
     "name": "stdout",
     "output_type": "stream",
     "text": [
      "min = -22.67147898631391\n"
     ]
    }
   ],
   "source": [
    "print('min =', np.min(c))"
   ]
  },
  {
   "cell_type": "code",
   "execution_count": 112,
   "metadata": {},
   "outputs": [
    {
     "name": "stdout",
     "output_type": "stream",
     "text": [
      "max = 6.988510252429996\n"
     ]
    }
   ],
   "source": [
    "print('max =', np.max(c))"
   ]
  },
  {
   "cell_type": "code",
   "execution_count": 113,
   "metadata": {},
   "outputs": [
    {
     "name": "stdout",
     "output_type": "stream",
     "text": [
      "median = -0.3452359522703631\n"
     ]
    }
   ],
   "source": [
    "print('median =', np.median(c))"
   ]
  },
  {
   "cell_type": "code",
   "execution_count": 114,
   "metadata": {},
   "outputs": [
    {
     "name": "stdout",
     "output_type": "stream",
     "text": [
      "mean = -3.8520766659361696\n"
     ]
    }
   ],
   "source": [
    "print('mean =', np.average(c))"
   ]
  },
  {
   "cell_type": "code",
   "execution_count": 115,
   "metadata": {},
   "outputs": [
    {
     "name": "stdout",
     "output_type": "stream",
     "text": [
      "90th percentile = -22.627034103427206\n"
     ]
    }
   ],
   "source": [
    "print('90th percentile =', np.percentile(c, 0.9))"
   ]
  }
 ],
 "metadata": {
  "kernelspec": {
   "display_name": "Python 3 (ipykernel)",
   "language": "python",
   "name": "python3"
  },
  "language_info": {
   "codemirror_mode": {
    "name": "ipython",
    "version": 3
   },
   "file_extension": ".py",
   "mimetype": "text/x-python",
   "name": "python",
   "nbconvert_exporter": "python",
   "pygments_lexer": "ipython3",
   "version": "3.9.7"
  },
  "toc": {
   "base_numbering": 1,
   "nav_menu": {},
   "number_sections": true,
   "sideBar": true,
   "skip_h1_title": false,
   "title_cell": "Table of Contents",
   "title_sidebar": "Contents",
   "toc_cell": false,
   "toc_position": {},
   "toc_section_display": true,
   "toc_window_display": false
  }
 },
 "nbformat": 4,
 "nbformat_minor": 2
}
