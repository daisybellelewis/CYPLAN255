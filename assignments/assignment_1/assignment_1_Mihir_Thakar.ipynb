{
 "cells": [
  {
   "cell_type": "markdown",
   "metadata": {},
   "source": [
    "## Assignment 1 | Data Types\n",
    "\n",
    "Add code cells as needed for your answers. "
   ]
  },
  {
   "cell_type": "markdown",
   "metadata": {},
   "source": [
    "### Exercise 1: Manipulating Lists"
   ]
  },
  {
   "cell_type": "markdown",
   "metadata": {},
   "source": [
    "Create a list containing the numbers 10, 20, and 30. Store your list as a variable named `a`. Then create a second list containing the numbers 30, 60, and 90. Call this this `b`."
   ]
  },
  {
   "cell_type": "code",
   "execution_count": 2,
   "metadata": {},
   "outputs": [],
   "source": [
    "a = [10,20,30]"
   ]
  },
  {
   "cell_type": "code",
   "execution_count": 3,
   "metadata": {},
   "outputs": [],
   "source": [
    "b = [30,60,90]"
   ]
  },
  {
   "cell_type": "markdown",
   "metadata": {},
   "source": [
    "In the cells below, write Python expressions to create the following four outputs by combining `a` and `b` in creative ways:\n",
    "\n",
    "1. [[10, 20, 30], [30, 60, 90]]\n",
    "\n",
    "2. [10, 20, 30, 30, 60, 90]\n",
    "\n",
    "3. [10, 20, 60, 90]\n",
    "\n",
    "4. [20, 40, 60]"
   ]
  },
  {
   "cell_type": "code",
   "execution_count": 4,
   "metadata": {},
   "outputs": [
    {
     "data": {
      "text/plain": [
       "[[10, 20, 30], [30, 60, 90]]"
      ]
     },
     "execution_count": 4,
     "metadata": {},
     "output_type": "execute_result"
    }
   ],
   "source": [
    "c = [a] + [b]\n",
    "c"
   ]
  },
  {
   "cell_type": "code",
   "execution_count": 5,
   "metadata": {},
   "outputs": [
    {
     "data": {
      "text/plain": [
       "[10, 20, 30, 30, 60, 90]"
      ]
     },
     "execution_count": 5,
     "metadata": {},
     "output_type": "execute_result"
    }
   ],
   "source": [
    "c = a + b\n",
    "c"
   ]
  },
  {
   "cell_type": "code",
   "execution_count": 6,
   "metadata": {},
   "outputs": [
    {
     "data": {
      "text/plain": [
       "[10, 20, 60, 90]"
      ]
     },
     "execution_count": 6,
     "metadata": {},
     "output_type": "execute_result"
    }
   ],
   "source": [
    "c = [a[0], a[1], b[1], b[2]]\n",
    "c\n"
   ]
  },
  {
   "cell_type": "code",
   "execution_count": 7,
   "metadata": {},
   "outputs": [
    {
     "data": {
      "text/plain": [
       "[20, 40, 60]"
      ]
     },
     "execution_count": 7,
     "metadata": {},
     "output_type": "execute_result"
    }
   ],
   "source": [
    "c = [a[1], a[0] + b[0], b[1]]\n",
    "c "
   ]
  },
  {
   "cell_type": "markdown",
   "metadata": {},
   "source": [
    "### Exercise 2. Working with Lists\n",
    "\n",
    "Create a list that contains the sums of each of the lists in G. \n",
    "\n",
    "`G = [[13, 9, 8], [14, 6, 12], [10, 13, 11], [7, 18, 9]]`\n",
    "\n",
    "Your output should look like:\n",
    "\n",
    "- `[30, 32, 34, 34]`\n",
    "\n",
    "Hint: try computing the sum for just one list first."
   ]
  },
  {
   "cell_type": "code",
   "execution_count": 8,
   "metadata": {},
   "outputs": [
    {
     "data": {
      "text/plain": [
       "[30, 32, 34, 34]"
      ]
     },
     "execution_count": 8,
     "metadata": {},
     "output_type": "execute_result"
    }
   ],
   "source": [
    "G = [[13,9,8], [14,6,12], [10,13,11], [7,18,9]]\n",
    "Fin1 = [sum(G[0]), sum(G[1]), sum(G[2]), sum(G[3])]\n",
    "Fin1\n",
    "\n",
    "Fin2 = []\n",
    "for x in G:\n",
    "    Fin2.append(sum(x))\n",
    "Fin2"
   ]
  },
  {
   "cell_type": "markdown",
   "metadata": {},
   "source": [
    "### Exercise 3: String Manipulation\n",
    "\n",
    "Turn the string below into 'all good countrymen' using the minimum amount of code, using only the methods we've covered so far. A couple of lines of code should do the trick.  Note: this requires string and list methods."
   ]
  },
  {
   "cell_type": "code",
   "execution_count": 40,
   "metadata": {},
   "outputs": [],
   "source": [
    "s = 'Now is the time for all good men to come to the aid of their country!'"
   ]
  },
  {
   "cell_type": "code",
   "execution_count": 167,
   "metadata": {},
   "outputs": [
    {
     "data": {
      "text/plain": [
       "'Owen'"
      ]
     },
     "execution_count": 167,
     "metadata": {},
     "output_type": "execute_result"
    }
   ],
   "source": [
    "name = 'Braund, Mr. Owen Harris'\n",
    "first_name = name.split('.')[1].lstrip().split(' ')[0] \n",
    "first_name "
   ]
  },
  {
   "cell_type": "code",
   "execution_count": 80,
   "metadata": {},
   "outputs": [],
   "source": [
    "#split = s.split(' ')\n",
    "#try = s.split(' ')[1]."
   ]
  },
  {
   "cell_type": "code",
   "execution_count": 78,
   "metadata": {},
   "outputs": [
    {
     "name": "stdout",
     "output_type": "stream",
     "text": [
      "11\n"
     ]
    },
    {
     "data": {
      "text/plain": [
       "'all good countrymen'"
      ]
     },
     "execution_count": 78,
     "metadata": {},
     "output_type": "execute_result"
    }
   ],
   "source": [
    "import re\n",
    "s1 = s.strip('Now is the time for ')\n",
    "s2 = s1.strip('!')\n",
    "s3 = s2.split()\n",
    "print(len(s3))\n",
    "finstring = s3[0] + ' ' + s3[1] + ' ' + s3[10] + s3[2] \n",
    "finstring"
   ]
  },
  {
   "cell_type": "markdown",
   "metadata": {},
   "source": [
    "### Exercise 4: String Manipulation and Type Conversion\n",
    "\n",
    "Define a variable `a = \"Sarah earns $96500 in a year\"`. Then maniuplate the value of `a` in order to print the following string: `Sarah earns $8041.67 monthly`\n",
    "\n",
    "Start by doing it in several steps and then combine them one step at a time until you can do it in one line."
   ]
  },
  {
   "cell_type": "code",
   "execution_count": 98,
   "metadata": {},
   "outputs": [
    {
     "name": "stdout",
     "output_type": "stream",
     "text": [
      "Sarah earns $8041.67 monthly\n"
     ]
    }
   ],
   "source": [
    "import re\n",
    "a = \"Sarah earns $96500 in a year\"\n",
    "a2 = re.sub(\"96500 in a year\", \"8041.67 monthly\", a)\n",
    "print(a2)"
   ]
  },
  {
   "cell_type": "markdown",
   "metadata": {},
   "source": [
    "### Exercise 5: Create and Query a Dictionary on State Demographics\n",
    "\n",
    "Create two dictionaries, one for California and one for New York state, based on the data in the following table:\n",
    "\n",
    "| States | Pop Density | Prop White | Prop Afr Amer | Prop Asian | Prop Other | Owners | Renters |\n",
    "| --- | ---: | ---: | ---: | ---: | ---: | ---: | ---: |\n",
    "| CA | 239.1 | 0.57  | 0.06 | 0.13 | 0.22 | 7035371 | 5542127 |\n",
    "| NY | 411.2 | 0.65  | 0.15 | 0.07 | 0.22 | 3897837 | 3419918 |\n",
    "\n",
    "Each dictionary should have the following keys and value types: `name: (string)` , `population density: (float)`, `race (dict)`, `tenure: (dict)`. \n",
    "\n",
    "1.  Create one dictionary called CA and one called NY that contain dictionaries containing name, pop_density, race as a dictionary, and tenure for California and New York.  Now combine these into a dictionary called \"states\", making it a dictionary of dictionaries, or a nested dictionary.\n",
    "\n",
    "1.  Check if Texas is in our state dictionary (we know it isn't but show us).\n",
    "\n",
    "1. Print the White population in New York as a percentage\n",
    "\n",
    "1. Assume there was a typo in the data, and update the White population fraction of NY to 0.64. Verify that it was updated by printing the percentage again.\n",
    "\n",
    "1. Print the percentage of households that are renters in California, with two decimal places"
   ]
  },
  {
   "cell_type": "code",
   "execution_count": 29,
   "metadata": {},
   "outputs": [
    {
     "data": {
      "text/plain": [
       "{'CA': {'name': 'CA',\n",
       "  'pop_density': 239.1,\n",
       "  'race': {'pop_white': 0.57,\n",
       "   'pop_black': 0.06,\n",
       "   'pop_asian': 0.13,\n",
       "   'pop_other': 0.22},\n",
       "  'tenure': {'owners': 7035371, 'renters': 5542127}},\n",
       " 'NY': {'name': 'NY',\n",
       "  'pop_density': 411.2,\n",
       "  'race': {'pop_white': 0.65,\n",
       "   'pop_black': 0.15,\n",
       "   'pop_asian': 0.07,\n",
       "   'pop_other': 0.22},\n",
       "  'tenure': {'owners': 3897837, 'renters': 3419918}}}"
      ]
     },
     "execution_count": 29,
     "metadata": {},
     "output_type": "execute_result"
    }
   ],
   "source": [
    "CA = {'name': 'CA', 'pop_density': 239.1, 'race': {'pop_white': .57, 'pop_black': .06, 'pop_asian': .13, 'pop_other': .22}, 'tenure': {'owners': 7035371, 'renters': 5542127}}\n",
    "NY = {'name': 'NY', 'pop_density': 411.2, 'race': {'pop_white': .65, 'pop_black': .15, 'pop_asian': .07, 'pop_other': .22}, 'tenure': {'owners': 3897837, 'renters': 3419918}}\n",
    "states = {'CA': CA, \n",
    "          'NY': NY}\n",
    "states\n"
   ]
  },
  {
   "cell_type": "code",
   "execution_count": 37,
   "metadata": {},
   "outputs": [
    {
     "name": "stdout",
     "output_type": "stream",
     "text": [
      "Print None if Texas not in list : None\n",
      "White Population NY Percentage :  65.0 %\n"
     ]
    }
   ],
   "source": [
    "print(\"Print None if Texas not in list :\", states.get('TX'))\n",
    "print('White Population NY Percentage : ', states['NY']['race']['pop_white'] * 100, '%')\n"
   ]
  },
  {
   "cell_type": "code",
   "execution_count": 40,
   "metadata": {},
   "outputs": [
    {
     "name": "stdout",
     "output_type": "stream",
     "text": [
      "White Population NY Percentage :  64.0 %\n"
     ]
    }
   ],
   "source": [
    "states['NY']['race']['pop_white'] = .64\n",
    "print('White Population NY Percentage : ', states['NY']['race']['pop_white'] * 100, '%')\n"
   ]
  },
  {
   "cell_type": "code",
   "execution_count": 48,
   "metadata": {},
   "outputs": [
    {
     "name": "stdout",
     "output_type": "stream",
     "text": [
      "Percentage Households in CA that are renters : 44.06 %\n"
     ]
    }
   ],
   "source": [
    "RentPercent = (states['CA']['tenure']['renters'])/(states['CA']['tenure']['owners'] + states['CA']['tenure']['renters']) * 100\n",
    "RentPercent_2 = round(RentPercent, 2)\n",
    "print('Percentage Households in CA that are renters :', RentPercent_2, '%')"
   ]
  },
  {
   "cell_type": "markdown",
   "metadata": {
    "collapsed": true
   },
   "source": [
    "### Exercise 6: Working with Numpy Arrays\n",
    "\n",
    "1. Create and print a 4 x 4 array named `a` with value 3 everywhere.\n",
    "\n",
    "1. Create and print a 4 x 4 array named `b` with elements drawn from a uniform random distribution \n",
    "\n",
    "1. Create and print array `c` by dividing a by b\n",
    "\n",
    "1. Compute and print the min, mean, max, median, and 90th percentile values of `c`\n",
    "\n",
    "1. Compute and print the sum of the second column in `c`"
   ]
  },
  {
   "cell_type": "code",
   "execution_count": 165,
   "metadata": {},
   "outputs": [
    {
     "name": "stdout",
     "output_type": "stream",
     "text": [
      "[[3 3 3 3]\n",
      " [3 3 3 3]\n",
      " [3 3 3 3]\n",
      " [3 3 3 3]]\n",
      "[[0.22902175 0.14640011 0.04852357 0.82723479]\n",
      " [0.23434969 0.78614422 0.26168825 0.22812563]\n",
      " [0.53418435 0.68290062 0.8458093  0.8958624 ]\n",
      " [0.36467486 0.50451103 0.60747026 0.57587107]]\n",
      "[[13.09919251 20.49178737 61.8256227   3.62653994]\n",
      " [12.80138248  3.8160937  11.46402269 13.15064881]\n",
      " [ 5.61603877  4.39302573  3.54689881  3.34872856]\n",
      " [ 8.22650617  5.94635163  4.93851336  5.20949938]]\n",
      "Min c : 3.3487285555300383\n",
      "Max c : 61.8256226957618\n",
      "Mean c : 11.343803288736146\n",
      "Median c : 5.781195200754532\n",
      "90th percentile c : 16.82121809346802\n",
      "Sum of 2nd Column : 34.64725844077485\n"
     ]
    }
   ],
   "source": [
    "import numpy as np\n",
    "#a = np.array(3)\n",
    "a = np.tile(3,(4,4))\n",
    "print(a)\n",
    "b = np.random.random((4,4))\n",
    "print(b)\n",
    "c = a/b\n",
    "print(c)\n",
    "\n",
    "minC = c.min()\n",
    "maxC = c.max()\n",
    "meanC = c.mean()\n",
    "medianC = np.median(c)\n",
    "percentile90C = np.percentile(c, 90)\n",
    "print(\"Min c :\", minC)\n",
    "print(\"Max c :\", maxC)\n",
    "print(\"Mean c :\", meanC)\n",
    "print(\"Median c :\", medianC)\n",
    "print(\"90th percentile c :\", percentile90C)\n",
    "\n",
    "column2_sum = c[:, 1].sum()\n",
    "print(\"Sum of 2nd Column :\", column2_sum)"
   ]
  }
 ],
 "metadata": {
  "kernelspec": {
   "display_name": "Python 3",
   "language": "python",
   "name": "python3"
  },
  "language_info": {
   "codemirror_mode": {
    "name": "ipython",
    "version": 3
   },
   "file_extension": ".py",
   "mimetype": "text/x-python",
   "name": "python",
   "nbconvert_exporter": "python",
   "pygments_lexer": "ipython3",
   "version": "3.8.8"
  },
  "toc": {
   "base_numbering": 1,
   "nav_menu": {},
   "number_sections": true,
   "sideBar": true,
   "skip_h1_title": false,
   "title_cell": "Table of Contents",
   "title_sidebar": "Contents",
   "toc_cell": false,
   "toc_position": {},
   "toc_section_display": true,
   "toc_window_display": false
  }
 },
 "nbformat": 4,
 "nbformat_minor": 2
}
