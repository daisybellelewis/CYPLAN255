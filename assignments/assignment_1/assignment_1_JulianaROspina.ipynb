{
 "cells": [
  {
   "cell_type": "markdown",
   "metadata": {},
   "source": [
    "## Assignment 1 | Data Types\n",
    "\n",
    "Add code cells as needed for your answers. "
   ]
  },
  {
   "cell_type": "markdown",
   "metadata": {},
   "source": [
    "### Exercise 1: Manipulating Lists"
   ]
  },
  {
   "cell_type": "markdown",
   "metadata": {},
   "source": [
    "Create a list containing the numbers 10, 20, and 30. Store your list as a variable named `a`. Then create a second list containing the numbers 30, 60, and 90. Call this this `b`."
   ]
  },
  {
   "cell_type": "code",
   "execution_count": 13,
   "metadata": {},
   "outputs": [],
   "source": [
    "a=[10,20,30]\n",
    "b=[30,60,90]"
   ]
  },
  {
   "cell_type": "markdown",
   "metadata": {},
   "source": [
    "In the cells below, write Python expressions to create the following four outputs by combining `a` and `b` in creative ways:\n",
    "\n",
    "1. [[10, 20, 30], [30, 60, 90]]\n",
    "\n",
    "2. [10, 20, 30, 30, 60, 90]\n",
    "\n",
    "3. [10, 20, 60, 90]\n",
    "\n",
    "4. [20, 40, 60]"
   ]
  },
  {
   "cell_type": "code",
   "execution_count": 14,
   "metadata": {},
   "outputs": [
    {
     "name": "stdout",
     "output_type": "stream",
     "text": [
      "[[10, 20, 30]] , [[30, 60, 90]]\n",
      "[[10, 20, 30], [30, 60, 90]]\n"
     ]
    }
   ],
   "source": [
    "#1\n",
    "print([a],',',[b])\n",
    "#OR\n",
    "print([a]+[b])"
   ]
  },
  {
   "cell_type": "code",
   "execution_count": 15,
   "metadata": {},
   "outputs": [
    {
     "name": "stdout",
     "output_type": "stream",
     "text": [
      "[10, 20, 30, 30, 60, 90]\n"
     ]
    }
   ],
   "source": [
    "#2\n",
    "print(a+b)"
   ]
  },
  {
   "cell_type": "code",
   "execution_count": 23,
   "metadata": {},
   "outputs": [
    {
     "name": "stdout",
     "output_type": "stream",
     "text": [
      "[10, 20, 60, 90]\n"
     ]
    }
   ],
   "source": [
    "#3\n",
    "c=a.copy()\n",
    "d=b.copy()\n",
    "del c[2]\n",
    "del d[0]\n",
    "print(c+d)"
   ]
  },
  {
   "cell_type": "code",
   "execution_count": 38,
   "metadata": {},
   "outputs": [
    {
     "name": "stdout",
     "output_type": "stream",
     "text": [
      "[20, 40, 60]\n",
      "[20, 40, 60]\n"
     ]
    }
   ],
   "source": [
    "#4\n",
    "e=[a[0]*2,a[1]*2,a[2]*2]\n",
    "print (e)\n",
    "\n",
    "#OR\n",
    "d=[i*2 for i in a]\n",
    "print (d)"
   ]
  },
  {
   "cell_type": "markdown",
   "metadata": {},
   "source": [
    "### Exercise 2. Working with Lists\n",
    "\n",
    "Create a list that contains the sums of each of the lists in G. \n",
    "\n",
    "`G = [[13, 9, 8], [14, 6, 12], [10, 13, 11], [7, 18, 9]]`\n",
    "\n",
    "Your output should look like:\n",
    "\n",
    "- `[30, 32, 34, 34]`\n",
    "\n",
    "Hint: try computing the sum for just one list first."
   ]
  },
  {
   "cell_type": "code",
   "execution_count": 96,
   "metadata": {
    "scrolled": true
   },
   "outputs": [
    {
     "name": "stdout",
     "output_type": "stream",
     "text": [
      "[30, 32, 34, 34]\n"
     ]
    }
   ],
   "source": [
    "G= [[13, 9, 8], [14, 6, 12], [10, 13, 11], [7, 18, 9]]\n",
    "\n",
    "H=[sum(G[0]),sum(G[1]),sum(G[2]),sum(G[3])]\n",
    "\n",
    "print(H)"
   ]
  },
  {
   "cell_type": "code",
   "execution_count": 103,
   "metadata": {},
   "outputs": [
    {
     "name": "stdout",
     "output_type": "stream",
     "text": [
      "[30, 32, 34, 34]\n"
     ]
    }
   ],
   "source": [
    "import numpy as np\n",
    "J = np.sum([[13, 9, 8], [14, 6, 12], [10, 13, 11], [7, 18, 9]],axis=1)\n",
    "listJ = J.tolist()\n",
    "print(listJ)"
   ]
  },
  {
   "cell_type": "markdown",
   "metadata": {},
   "source": [
    "### Exercise 3: String Manipulation\n",
    "\n",
    "Turn the string below into 'all good countrymen' using the minimum amount of code, using only the methods we've covered so far. A couple of lines of code should do the trick.  Note: this requires string and list methods."
   ]
  },
  {
   "cell_type": "code",
   "execution_count": 210,
   "metadata": {
    "scrolled": true
   },
   "outputs": [
    {
     "name": "stdout",
     "output_type": "stream",
     "text": [
      "all good countrymen\n"
     ]
    }
   ],
   "source": [
    "s = 'Now is the time for all good men to come to the aid of their country!'\n",
    "v=s[:-1]\n",
    "l=v.split()\n",
    "print(l[5],l[6],l[-1]+l[7])"
   ]
  },
  {
   "cell_type": "code",
   "execution_count": 328,
   "metadata": {},
   "outputs": [
    {
     "name": "stdout",
     "output_type": "stream",
     "text": [
      " all good countrymen\n"
     ]
    }
   ],
   "source": [
    "#OR\n",
    "s2='Now is the time for all good men to come to the aid of their country!'\n",
    "print(s2[19:24]+s2[24:29]+s2[61:68]+s2[29:32])"
   ]
  },
  {
   "cell_type": "markdown",
   "metadata": {},
   "source": [
    "### Exercise 4: String Manipulation and Type Conversion\n",
    "\n",
    "Define a variable `a = \"Sarah earns $96500 in a year\"`. Then maniuplate the value of `a` in order to print the following string: `Sarah earns $8041.67 monthly`\n",
    "\n",
    "Start by doing it in several steps and then combine them one step at a time until you can do it in one line."
   ]
  },
  {
   "cell_type": "code",
   "execution_count": 294,
   "metadata": {},
   "outputs": [
    {
     "name": "stdout",
     "output_type": "stream",
     "text": [
      "Sarah earns $ 8041.67 monthly\n",
      "Sarah earns $8041.67 monthly\n"
     ]
    }
   ],
   "source": [
    "a = \"Sarah earns $96500 in a year\"\n",
    "\n",
    "print(a[:13],round(float(a[13:18])/12,2),'monthly')\n",
    "#OR\n",
    "print(a[:13] + str(round(float(a[13:18])/12,2)) + \" monthly\")\n"
   ]
  },
  {
   "cell_type": "markdown",
   "metadata": {},
   "source": [
    "# Exercise 5: Create and Query a Dictionary on State Demographics\n",
    "\n",
    "Create two dictionaries, one for California and one for New York state, based on the data in the following table:\n",
    "\n",
    "| States | Pop Density | Prop White | Prop Afr Amer | Prop Asian | Prop Other | Owners | Renters |\n",
    "| --- | ---: | ---: | ---: | ---: | ---: | ---: | ---: |\n",
    "| CA | 239.1 | 0.57  | 0.06 | 0.13 | 0.22 | 7035371 | 5542127 |\n",
    "| NY | 411.2 | 0.65  | 0.15 | 0.07 | 0.22 | 3897837 | 3419918 |\n",
    "\n",
    "Each dictionary should have the following keys and value types: `name: (string)` , `population density: (float)`, `race (dict)`, `tenure: (dict)`. \n",
    "\n",
    "1.  Create one dictionary called CA and one called NY that contain dictionaries containing name, pop_density, race as a dictionary, and tenure for California and New York.  Now combine these into a dictionary called \"states\", making it a dictionary of dictionaries, or a nested dictionary.\n",
    "\n",
    "1.  Check if Texas is in our state dictionary (we know it isn't but show us).\n",
    "\n",
    "1. Print the White population in New York as a percentage\n",
    "\n",
    "1. Assume there was a typo in the data, and update the White population fraction of NY to 0.64. Verify that it was updated by printing the percentage again.\n",
    "\n",
    "1. Print the percentage of households that are renters in California, with two decimal places"
   ]
  },
  {
   "cell_type": "code",
   "execution_count": 508,
   "metadata": {},
   "outputs": [
    {
     "data": {
      "text/plain": [
       "{1: {'California': {'name': 'CA',\n",
       "   'Population Density': 239.1,\n",
       "   'race': {'white': 0.57,\n",
       "    'african american': 0.06,\n",
       "    'asian': 0.13,\n",
       "    'other': 0.22},\n",
       "   'tenure': {'owners': 7035371, 'renters': 5542127}}},\n",
       " 2: {'New York': {'name': 'NY',\n",
       "   'Population Density': 411.2,\n",
       "   'race': {'white': 0.65,\n",
       "    'african american': 0.15,\n",
       "    'asian': 0.07,\n",
       "    'other': 0.22},\n",
       "   'tenure': {'owners': 3897837, 'renters': 3419918}}}}"
      ]
     },
     "execution_count": 508,
     "metadata": {},
     "output_type": "execute_result"
    }
   ],
   "source": [
    "#1\n",
    "raceprop = {1: {'white': 0.57, 'african american': 0.06, 'asian': 0.13,'other':0.22},\n",
    "          2: {'white': 0.65, 'african american': 0.15, 'asian': 0.07,'other':0.22}}\n",
    "\n",
    "tenure={1: {'owners':7035371 , 'renters': 5542127},\n",
    "          2: {'owners':3897837 , 'renters': 3419918}}\n",
    "\n",
    "CA= {'name': 'CA', 'Population Density': 239.1, 'race': raceprop[1],'tenure':tenure[1]}\n",
    "NY={'name': 'NY', 'Population Density': 411.2, 'race': raceprop[2],'tenure':tenure[2]}\n",
    "\n",
    "states={1:{'California':CA},\n",
    "        2:{'New York':NY}}\n",
    "states"
   ]
  },
  {
   "cell_type": "code",
   "execution_count": 516,
   "metadata": {
    "scrolled": true
   },
   "outputs": [
    {
     "data": {
      "text/plain": [
       "False"
      ]
     },
     "execution_count": 516,
     "metadata": {},
     "output_type": "execute_result"
    }
   ],
   "source": [
    "#2\n",
    "'Texas' in states"
   ]
  },
  {
   "cell_type": "code",
   "execution_count": 540,
   "metadata": {},
   "outputs": [
    {
     "name": "stdout",
     "output_type": "stream",
     "text": [
      "64.0 %\n"
     ]
    }
   ],
   "source": [
    "#3\n",
    "print(NY['race']['white']*100,\"%\")\n",
    "a_number=1/3\n",
    "\n",
    "#print(states[2]['New York']['race']['white']*100,\"%\")"
   ]
  },
  {
   "cell_type": "code",
   "execution_count": 518,
   "metadata": {},
   "outputs": [
    {
     "name": "stdout",
     "output_type": "stream",
     "text": [
      "64.0 %\n"
     ]
    }
   ],
   "source": [
    "#4\n",
    "NY['race']['white']=0.64\n",
    "print(NY['race']['white']*100,\"%\")"
   ]
  },
  {
   "cell_type": "code",
   "execution_count": 537,
   "metadata": {},
   "outputs": [
    {
     "name": "stdout",
     "output_type": "stream",
     "text": [
      "44.06 % of households in California are renters\n"
     ]
    }
   ],
   "source": [
    "CArenters=CA['tenure']['renters']\n",
    "CAtotal=CArenters+CA['tenure']['owners']\n",
    "print(round(CArenters/CAtotal*100,2),\"%\",\"of households in California are renters\")\n"
   ]
  },
  {
   "cell_type": "markdown",
   "metadata": {
    "collapsed": true
   },
   "source": [
    "### Exercise 6: Working with Numpy Arrays\n",
    "\n",
    "1. Create and print a 4 x 4 array named `a` with value 3 everywhere.\n",
    "\n",
    "1. Create and print a 4 x 4 array named `b` with elements drawn from a uniform random distribution \n",
    "\n",
    "1. Create and print array `c` by dividing a by b\n",
    "\n",
    "1. Compute and print the min, mean, max, median, and 90th percentile values of `c`\n",
    "\n",
    "1. Compute and print the sum of the second column in `c`"
   ]
  },
  {
   "cell_type": "code",
   "execution_count": 417,
   "metadata": {},
   "outputs": [
    {
     "name": "stdout",
     "output_type": "stream",
     "text": [
      "[[3 3 3 3]\n",
      " [3 3 3 3]\n",
      " [3 3 3 3]\n",
      " [3 3 3 3]]\n"
     ]
    }
   ],
   "source": [
    "a=np.full((4,4),3)\n",
    "print(a)"
   ]
  },
  {
   "cell_type": "code",
   "execution_count": 362,
   "metadata": {},
   "outputs": [
    {
     "name": "stdout",
     "output_type": "stream",
     "text": [
      "[[ 0.41057604  0.73154697 -0.69157453  0.08919919]\n",
      " [ 0.27664742 -0.2786524   0.11785532 -0.92664441]\n",
      " [-0.86611093  0.03158911 -0.6998489  -0.08653096]\n",
      " [ 0.96103884  0.34895508 -0.51352382  0.42707465]]\n"
     ]
    }
   ],
   "source": [
    "b=np.random.uniform(-1,1,(4,4))\n",
    "print(b)\n",
    "#OR\n",
    "#b2=np.full((4,4),np.random.uniform(-1,1,(4,4)))\n",
    "#print(b2)"
   ]
  },
  {
   "cell_type": "code",
   "execution_count": 405,
   "metadata": {},
   "outputs": [
    {
     "name": "stdout",
     "output_type": "stream",
     "text": [
      "[[  7.30680733   4.10089865  -4.33792723  33.63259408]\n",
      " [ 10.84412793 -10.7661016   25.45493994  -3.23748783]\n",
      " [ -3.46375956  94.96943895  -4.28663958 -34.66967237]\n",
      " [  3.12162203   8.59709511  -5.84198797   7.02453307]]\n"
     ]
    }
   ],
   "source": [
    "c=a/b\n",
    "print(c)"
   ]
  },
  {
   "cell_type": "code",
   "execution_count": 406,
   "metadata": {},
   "outputs": [
    {
     "name": "stdout",
     "output_type": "stream",
     "text": [
      "The minimum value of c is -34.67\n",
      "The maximum value of c is 94.97\n",
      "The median of c is 3.61\n",
      "The 90th percentile value of c is 29.54\n"
     ]
    }
   ],
   "source": [
    "print(\"The minimum value of c is\",round(c.min(),2))\n",
    "print(\"The maximum value of c is\",round(c.max(),2))\n",
    "print(\"The median of c is\",round(np.median(c),2))\n",
    "print(\"The 90th percentile value of c is\",round(np.percentile(c,90),2))"
   ]
  },
  {
   "cell_type": "code",
   "execution_count": 416,
   "metadata": {
    "scrolled": true
   },
   "outputs": [
    {
     "name": "stdout",
     "output_type": "stream",
     "text": [
      "The sum of the 2nd column in c is 96.901\n"
     ]
    }
   ],
   "source": [
    "columsum=c[:,1].sum()\n",
    "print(\"The sum of the 2nd column in c is\",round(columsum,3))"
   ]
  }
 ],
 "metadata": {
  "kernelspec": {
   "display_name": "Python 3",
   "language": "python",
   "name": "python3"
  },
  "language_info": {
   "codemirror_mode": {
    "name": "ipython",
    "version": 3
   },
   "file_extension": ".py",
   "mimetype": "text/x-python",
   "name": "python",
   "nbconvert_exporter": "python",
   "pygments_lexer": "ipython3",
   "version": "3.8.8"
  },
  "toc": {
   "base_numbering": 1,
   "nav_menu": {},
   "number_sections": true,
   "sideBar": true,
   "skip_h1_title": false,
   "title_cell": "Table of Contents",
   "title_sidebar": "Contents",
   "toc_cell": false,
   "toc_position": {},
   "toc_section_display": true,
   "toc_window_display": false
  }
 },
 "nbformat": 4,
 "nbformat_minor": 2
}
