{
 "cells": [
  {
   "cell_type": "markdown",
   "id": "f96bdfc7",
   "metadata": {},
   "source": [
    "# Assignment 2 | Programming Logic\n",
    "\n",
    "Reminder: in all of the assignments this semester, the answer is not the only consideration, but also how you get to it. It's OK (suggested even!) to use the internet for help. But you _should_ be able to answer all of these questions using only the programming techniques you have learned in class and from the readings.\n",
    "\n",
    "A few keys for success:\n",
    "- Avoid manual data entry\n",
    "- Emphasize logic and clarity\n",
    "- Use comments, docstrings, and descriptive variable names\n",
    "- In general, less code is better. But if more lines of code makes your program easier to read or understand what its doing, then go for it."
   ]
  },
  {
   "cell_type": "markdown",
   "id": "078a9000",
   "metadata": {},
   "source": [
    "## Problem 1 \n",
    "Write a Python program to count the number of even and odd numbers from a list of numbers. Test your code by running it on a list of integers from 1 to 9. No need to make this a function unless you want to."
   ]
  },
  {
   "cell_type": "code",
   "execution_count": 1,
   "id": "8eb937c5",
   "metadata": {},
   "outputs": [],
   "source": [
    "def odd_even_count (n):\n",
    "    even_count = 0\n",
    "    odd_count = 0\n",
    "    for i in n:\n",
    "        if i % 2 == 0:\n",
    "            even_count += 1\n",
    "        else:\n",
    "            odd_count += 1\n",
    "    print(\"The list contains {0} odd numbers and {1} even numbers\".format(odd_count, even_count))"
   ]
  },
  {
   "cell_type": "code",
   "execution_count": 2,
   "id": "d79e11bc",
   "metadata": {},
   "outputs": [
    {
     "name": "stdout",
     "output_type": "stream",
     "text": [
      "The list contains 5 odd numbers and 5 even numbers\n"
     ]
    }
   ],
   "source": [
    "a = list(range(0,10))\n",
    "odd_even_count(a)"
   ]
  },
  {
   "cell_type": "markdown",
   "id": "db9df1a9",
   "metadata": {
    "collapsed": true
   },
   "source": [
    "## Problem 2\n",
    "Write a Python function that takes a list of numbers and returns a list containing only the even numbers from the original list. Test your function by running it on a list of integers from 1 to 9."
   ]
  },
  {
   "cell_type": "code",
   "execution_count": 3,
   "id": "45fcfd00",
   "metadata": {},
   "outputs": [],
   "source": [
    "def even_numbers (n):\n",
    "    \"\"\" Function takes a list of numbers and returns a list containing only the even numbers\"\"\"\n",
    "    evenlist = []\n",
    "    for i in n:\n",
    "        if i % 2 == 0:\n",
    "            evenlist.append(i)\n",
    "        else:\n",
    "            continue\n",
    "    return evenlist"
   ]
  },
  {
   "cell_type": "code",
   "execution_count": 5,
   "id": "24113ae9",
   "metadata": {},
   "outputs": [
    {
     "data": {
      "text/plain": [
       "[0, 2, 4, 6, 8]"
      ]
     },
     "execution_count": 5,
     "metadata": {},
     "output_type": "execute_result"
    }
   ],
   "source": [
    "even_numbers(list(range(0,9)))"
   ]
  },
  {
   "cell_type": "markdown",
   "id": "6a6f4ef0",
   "metadata": {},
   "source": [
    "## Problem 3\n",
    "\n",
    "1. Create a function that accepts a list of integers as an argument and returns a list of floats which equals each number as a fraction of the sum of all the items in the original list.\n",
    "\n",
    "2. Next, create a second function which is the same as the first, but limit each number in the output list to two decimals.\n",
    "\n",
    "3. Create another function which builds on the previous one by allowing a \"user\" pass in an argument that defines the number of decimal places to use in the output list.\n",
    "\n",
    "4. Test each of these functions with a list of integers"
   ]
  },
  {
   "cell_type": "code",
   "execution_count": 18,
   "id": "6856ee58",
   "metadata": {
    "scrolled": false
   },
   "outputs": [],
   "source": [
    "def to_float (n):\n",
    "    \"\"\"Function takes list of intergers and returns each element as a fraction of the sum of all the elements in the list\"\"\"\n",
    "    list_float = []\n",
    "    for i in range(0,len(n)):\n",
    "        list_float.append(float(n[i]/sum(n)))\n",
    "    return list_float"
   ]
  },
  {
   "cell_type": "code",
   "execution_count": 19,
   "id": "c0419d67",
   "metadata": {},
   "outputs": [],
   "source": [
    "def to_float2 (n):\n",
    "    \"\"\"Function takes list of intergers and returns each element as a fraction of the sum of all the elements in the list as \n",
    "        float types rounded to 2 decimals \"\"\"\n",
    "    list_float = []\n",
    "    for i in range(0,len(n)):\n",
    "        list_float.append(round(float(n[i]/sum(n)),2))\n",
    "    return list_float"
   ]
  },
  {
   "cell_type": "code",
   "execution_count": 20,
   "id": "e6a29551",
   "metadata": {},
   "outputs": [],
   "source": [
    "def to_float_dec (n, dec):\n",
    "    \"\"\"Function takes list of intergers and returns each element as a fraction of the sum of all the elements in the list as \n",
    "        float types rounded to user specified number of decimals \"\"\"\n",
    "    list_float = []\n",
    "    for i in range(0,len(n)):\n",
    "        list_float.append(round(float(n[i]/sum(n)),dec))\n",
    "    return list_float"
   ]
  },
  {
   "cell_type": "code",
   "execution_count": 23,
   "id": "0da808b8",
   "metadata": {},
   "outputs": [
    {
     "name": "stdout",
     "output_type": "stream",
     "text": [
      "[0.00684931506849315, 0.15753424657534246, 0.3082191780821918, 0.3835616438356164, 0.14383561643835616]\n",
      "[0.01, 0.16, 0.31, 0.38, 0.14]\n",
      "[0.0068, 0.1575, 0.3082, 0.3836, 0.1438]\n"
     ]
    }
   ],
   "source": [
    "a = [1,23,45,56,21]\n",
    "print(to_float(a))\n",
    "print(to_float2(a))\n",
    "print(to_float_dec(a,4))"
   ]
  },
  {
   "cell_type": "markdown",
   "id": "17e43098",
   "metadata": {},
   "source": [
    "## Problem 4\n",
    "A prime number is any whole number greater than 1 that has no positive divisors besides 1 and itself. In other words, a prime number must be:\n",
    "1. an integer\n",
    "2. greater than 1\n",
    "3. divisible only by 1 and itself.\n",
    "\n",
    "Write a function is_prime(n) that accepts an argument `n` and returns `True` (boolean) if `n` is a prime number and `False` if n is not prime. For example, `is_prime(11)` should return `True` and `is_prime(12)` should return `False`.\n"
   ]
  },
  {
   "cell_type": "code",
   "execution_count": 25,
   "id": "7b43bc6c",
   "metadata": {},
   "outputs": [],
   "source": [
    "def is_prime(n):\n",
    "    \"\"\"Function checks if a number is prime\"\"\"\n",
    "    flag = 0\n",
    "    if type(n) != 'int':\n",
    "        if n > 1:\n",
    "            for i in range(1,n+1):\n",
    "                if n%i == 0:\n",
    "                    flag += 1\n",
    "            if flag > 2:\n",
    "                return False\n",
    "            else:\n",
    "                return True        \n",
    "        else:\n",
    "            return False\n",
    "    else:\n",
    "        return False"
   ]
  },
  {
   "cell_type": "code",
   "execution_count": 26,
   "id": "b52d158e",
   "metadata": {
    "scrolled": true
   },
   "outputs": [
    {
     "name": "stdout",
     "output_type": "stream",
     "text": [
      "True\n",
      "False\n"
     ]
    }
   ],
   "source": [
    "print(is_prime(2))\n",
    "print(is_prime(14))"
   ]
  },
  {
   "cell_type": "markdown",
   "id": "e556b42f",
   "metadata": {},
   "source": [
    "## Problem 5"
   ]
  },
  {
   "cell_type": "markdown",
   "id": "fd5f4463",
   "metadata": {},
   "source": [
    "1. Create a class called `Housing`, and add the following attributes to it:\n",
    "  - type\n",
    "  - area\n",
    "  - number of bedrooms\n",
    "  - value (price)\n",
    "  - year built.\n",
    "2. Create two instances of your class and populate their attributes (make 'em up)\n",
    "3. Create a method called `rent()` that calculates the estimated monthly rent for each house (assume that monthly rent is 0.4% of the value of the house)\n",
    "4. Print the rent for both instances."
   ]
  },
  {
   "cell_type": "code",
   "execution_count": 27,
   "id": "efa713df",
   "metadata": {},
   "outputs": [],
   "source": [
    "#1 and #3\n",
    "class Housing:\n",
    "    def __init__(self, kind, area, num_bed, value, year_built):\n",
    "        self.kind = kind\n",
    "        self.area = area\n",
    "        self.num_bed = num_bed\n",
    "        self.value = value\n",
    "        self.year_built = year_built\n",
    "        \n",
    "    def rent(self):\n",
    "        return 0.004*self.value"
   ]
  },
  {
   "cell_type": "code",
   "execution_count": 28,
   "id": "fbc23453",
   "metadata": {},
   "outputs": [
    {
     "name": "stdout",
     "output_type": "stream",
     "text": [
      "466.0\n",
      "1648.0\n"
     ]
    }
   ],
   "source": [
    "#2\n",
    "town_house = Housing('town house',1000,2,116500,1990)\n",
    "condo = Housing('condo',2000,4,412000,2003)\n",
    "\n",
    "#4\n",
    "print(town_house.rent())\n",
    "print(condo.rent())"
   ]
  }
 ],
 "metadata": {
  "kernelspec": {
   "display_name": "Python 3",
   "language": "python",
   "name": "python3"
  },
  "language_info": {
   "codemirror_mode": {
    "name": "ipython",
    "version": 3
   },
   "file_extension": ".py",
   "mimetype": "text/x-python",
   "name": "python",
   "nbconvert_exporter": "python",
   "pygments_lexer": "ipython3",
   "version": "3.8.8"
  },
  "toc": {
   "base_numbering": 1,
   "nav_menu": {},
   "number_sections": false,
   "sideBar": false,
   "skip_h1_title": true,
   "title_cell": "Table of Contents",
   "title_sidebar": "Contents",
   "toc_cell": false,
   "toc_position": {},
   "toc_section_display": true,
   "toc_window_display": false
  }
 },
 "nbformat": 4,
 "nbformat_minor": 5
}
