{
 "cells": [
  {
   "cell_type": "markdown",
   "id": "f96bdfc7",
   "metadata": {},
   "source": [
    "# Assignment 2 | Programming Logic\n",
    "\n",
    "Reminder: in all of the assignments this semester, the answer is not the only consideration, but also how you get to it. It's OK (suggested even!) to use the internet for help. But you _should_ be able to answer all of these questions using only the programming techniques you have learned in class and from the readings.\n",
    "\n",
    "A few keys for success:\n",
    "- Avoid manual data entry\n",
    "- Emphasize logic and clarity\n",
    "- Use comments, docstrings, and descriptive variable names\n",
    "- In general, less code is better. But if more lines of code makes your program easier to read or understand what its doing, then go for it."
   ]
  },
  {
   "cell_type": "markdown",
   "id": "078a9000",
   "metadata": {},
   "source": [
    "## Problem 1 \n",
    "Write a Python program to count the number of even and odd numbers from a list of numbers. Test your code by running it on a list of integers from 1 to 9. No need to make this a function unless you want to."
   ]
  },
  {
   "cell_type": "code",
   "execution_count": 1,
   "id": "8eb937c5",
   "metadata": {},
   "outputs": [
    {
     "name": "stdout",
     "output_type": "stream",
     "text": [
      "Number of even numbers : 4\n",
      "Number of odd numbers : 5\n"
     ]
    }
   ],
   "source": [
    "numbers=(1,2,3,4,5,6,7,8,9)\n",
    "count_odd = 0\n",
    "count_even = 0\n",
    "for x in numbers:\n",
    "        if not x % 2:\n",
    "             count_even+=1\n",
    "        else:\n",
    "             count_odd+=1\n",
    "print(\"Number of even numbers :\",count_even)\n",
    "print(\"Number of odd numbers :\",count_odd)"
   ]
  },
  {
   "cell_type": "markdown",
   "id": "db9df1a9",
   "metadata": {
    "collapsed": true
   },
   "source": [
    "## Problem 2\n",
    "Write a Python function that takes a list of numbers and returns a list containing only the even numbers from the original list. Test your function by running it on a list of integers from 1 to 9."
   ]
  },
  {
   "cell_type": "code",
   "execution_count": 2,
   "id": "45fcfd00",
   "metadata": {},
   "outputs": [
    {
     "name": "stdout",
     "output_type": "stream",
     "text": [
      "[2, 4, 6, 8]\n"
     ]
    }
   ],
   "source": [
    "numbers=(1,2,3,4,5,6,7,8,9)\n",
    "def get_even_numbers(numbers):\n",
    "    even_numbers = []\n",
    "    for x in numbers:\n",
    "        if x % 2 == 0:\n",
    "            even_numbers.append(x)\n",
    "    return even_numbers\n",
    "print(get_even_numbers(numbers))"
   ]
  },
  {
   "cell_type": "markdown",
   "id": "6a6f4ef0",
   "metadata": {},
   "source": [
    "## Problem 3\n",
    "\n",
    "1. Create a function that accepts a list of integers as an argument and returns a list of floats which equals each number as a fraction of the sum of all the items in the original list.\n",
    "\n",
    "2. Next, create a second function which is the same as the first, but limit each number in the output list to two decimals.\n",
    "\n",
    "3. Create another function which builds on the previous one by allowing a \"user\" pass in an argument that defines the number of decimal places to use in the output list.\n",
    "\n",
    "4. Test each of these functions with a list of integers"
   ]
  },
  {
   "cell_type": "code",
   "execution_count": 5,
   "id": "6856ee58",
   "metadata": {},
   "outputs": [
    {
     "name": "stdout",
     "output_type": "stream",
     "text": [
      "how many integers you want? : 3\n",
      "Enter number of elements : 55\n",
      "Enter number of elements : 8745\n",
      "Enter number of elements : 945\n",
      "[0.005643919958953309, 0.8973832734735762, 0.0969728065674705]\n",
      "[0.01, 0.9, 0.1]\n",
      "decimal : 4\n",
      "[0.0056, 0.8974, 0.097]\n"
     ]
    }
   ],
   "source": [
    "numbers_1 = []\n",
    "m = int(input(\"how many integers you want? : \"))\n",
    "n=0\n",
    "while n<m:\n",
    "    n=n+1\n",
    "    p = int(input(\"Enter number of elements : \"))\n",
    "    numbers_1.append(p)\n",
    "q=sum(numbers_1)\n",
    "def get_fraction(numbers_1):\n",
    "    r= []\n",
    "    for x in numbers_1:\n",
    "        r.append(x/q)\n",
    "    return r\n",
    "print(get_fraction(numbers_1))\n",
    "def get_fraction_2(numbers_1):\n",
    "    round_2 = [round(x/q, 2) for x in numbers_1]\n",
    "    return round_2\n",
    "print(get_fraction_2(numbers_1))\n",
    "def get_fraction_3(numbers_1):\n",
    "    decimal = int(input(\"decimal : \"))\n",
    "    round_3 = [round(x/q, decimal) for x in numbers_1]\n",
    "    return round_3\n",
    "print(get_fraction_3(numbers_1))"
   ]
  },
  {
   "cell_type": "markdown",
   "id": "17e43098",
   "metadata": {},
   "source": [
    "## Problem 4\n",
    "A prime number is any whole number greater than 1 that has no positive divisors besides 1 and itself. In other words, a prime number must be:\n",
    "1. an integer\n",
    "2. greater than 1\n",
    "3. divisible only by 1 and itself.\n",
    "\n",
    "Write a function is_prime(n) that accepts an argument `n` and returns `True` (boolean) if `n` is a prime number and `False` if n is not prime. For example, `is_prime(11)` should return `True` and `is_prime(12)` should return `False`.\n"
   ]
  },
  {
   "cell_type": "code",
   "execution_count": 6,
   "id": "7b43bc6c",
   "metadata": {},
   "outputs": [
    {
     "name": "stdout",
     "output_type": "stream",
     "text": [
      "enter_n7\n",
      "True\n"
     ]
    }
   ],
   "source": [
    "n=int(input(\"enter_n\"))\n",
    "def is_prime(n):\n",
    "    if n < 2:\n",
    "        return False\n",
    "    else:\n",
    "        for i in range(2,n):\n",
    "            if n % i == 0:\n",
    "                return False\n",
    "            else: \n",
    "                return True\n",
    "print(is_prime(n))"
   ]
  },
  {
   "cell_type": "markdown",
   "id": "e556b42f",
   "metadata": {},
   "source": [
    "## Problem 5"
   ]
  },
  {
   "cell_type": "markdown",
   "id": "fd5f4463",
   "metadata": {},
   "source": [
    "1. Create a class called `Housing`, and add the following attributes to it:\n",
    "  - type\n",
    "  - area\n",
    "  - number of bedrooms\n",
    "  - value (price)\n",
    "  - year built.\n",
    "2. Create two instances of your class and populate their attributes (make 'em up)\n",
    "3. Create a method called `rent()` that calculates the estimated monthly rent for each house (assume that monthly rent is 0.4% of the value of the house)\n",
    "4. Print the rent for both instances."
   ]
  },
  {
   "cell_type": "code",
   "execution_count": 7,
   "id": "efa713df",
   "metadata": {},
   "outputs": [
    {
     "name": "stdout",
     "output_type": "stream",
     "text": [
      "house_1 rent is: 4000.0\n",
      "house_2 rent is: 2000.0\n"
     ]
    }
   ],
   "source": [
    "class Housing:\n",
    "    def __init__(self, house_type, house_area, house_bedroom, house_price, house_builtyear):\n",
    "        self.house_type = house_type\n",
    "        self.house_area = house_area\n",
    "        self.house_bedroom = house_bedroom\n",
    "        self.house_price = house_price\n",
    "        self.house_builtyear = house_builtyear\n",
    "    def rent(self):\n",
    "        return self.house_price*0.004\n",
    "house_1 = Housing('townhouse',100,2,1000000,\"1997\")\n",
    "house_2 = Housing('apartment', 60,1,500000,\"2020\") \n",
    "print(\"house_1 rent is:\",house_1.rent())\n",
    "print(\"house_2 rent is:\",house_2.rent())"
   ]
  },
  {
   "cell_type": "code",
   "execution_count": null,
   "id": "64dca65f",
   "metadata": {},
   "outputs": [],
   "source": []
  }
 ],
 "metadata": {
  "kernelspec": {
   "display_name": "Python 3 (ipykernel)",
   "language": "python",
   "name": "python3"
  },
  "language_info": {
   "codemirror_mode": {
    "name": "ipython",
    "version": 3
   },
   "file_extension": ".py",
   "mimetype": "text/x-python",
   "name": "python",
   "nbconvert_exporter": "python",
   "pygments_lexer": "ipython3",
   "version": "3.9.7"
  },
  "toc": {
   "base_numbering": 1,
   "nav_menu": {},
   "number_sections": false,
   "sideBar": false,
   "skip_h1_title": true,
   "title_cell": "Table of Contents",
   "title_sidebar": "Contents",
   "toc_cell": false,
   "toc_position": {},
   "toc_section_display": true,
   "toc_window_display": false
  }
 },
 "nbformat": 4,
 "nbformat_minor": 5
}
