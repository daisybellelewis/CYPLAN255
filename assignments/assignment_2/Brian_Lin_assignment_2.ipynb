{
 "cells": [
  {
   "cell_type": "markdown",
   "id": "f96bdfc7",
   "metadata": {},
   "source": [
    "# Assignment 2 | Programming Logic\n",
    "\n",
    "Reminder: in all of the assignments this semester, the answer is not the only consideration, but also how you get to it. It's OK (suggested even!) to use the internet for help. But you _should_ be able to answer all of these questions using only the programming techniques you have learned in class and from the readings.\n",
    "\n",
    "A few keys for success:\n",
    "- Avoid manual data entry\n",
    "- Emphasize logic and clarity\n",
    "- Use comments, docstrings, and descriptive variable names\n",
    "- In general, less code is better. But if more lines of code makes your program easier to read or understand what its doing, then go for it."
   ]
  },
  {
   "cell_type": "markdown",
   "id": "078a9000",
   "metadata": {},
   "source": [
    "## Problem 1 \n",
    "Write a Python program to count the number of even and odd numbers from a list of numbers. Test your code by running it on a list of integers from 1 to 9. No need to make this a function unless you want to."
   ]
  },
  {
   "cell_type": "code",
   "execution_count": 2,
   "id": "8eb937c5",
   "metadata": {},
   "outputs": [
    {
     "data": {
      "text/plain": [
       "(4, 5)"
      ]
     },
     "execution_count": 2,
     "metadata": {},
     "output_type": "execute_result"
    }
   ],
   "source": [
    "List = [1,2,3,4,5,6,7,8,9]\n",
    "\n",
    "even, odd = 0,0\n",
    "\n",
    "for num in List:\n",
    "    if num % 2 == 0: \n",
    "        even += 1\n",
    "    else:\n",
    "        odd +=1\n",
    "\n",
    "even,odd"
   ]
  },
  {
   "cell_type": "markdown",
   "id": "db9df1a9",
   "metadata": {
    "collapsed": true
   },
   "source": [
    "## Problem 2\n",
    "Write a Python function that takes a list of numbers and returns a list containing only the even numbers from the original list. Test your function by running it on a list of integers from 1 to 9."
   ]
  },
  {
   "cell_type": "code",
   "execution_count": 3,
   "id": "45fcfd00",
   "metadata": {},
   "outputs": [
    {
     "data": {
      "text/plain": [
       "[2, 4, 6, 8]"
      ]
     },
     "execution_count": 3,
     "metadata": {},
     "output_type": "execute_result"
    }
   ],
   "source": [
    "[x for x in List if x%2==0]"
   ]
  },
  {
   "cell_type": "markdown",
   "id": "6a6f4ef0",
   "metadata": {},
   "source": [
    "### Problem 3\n",
    "\n",
    "1. Create a function that accepts a list of integers as an argument and returns a list of floats which equals each number as a fraction of the sum of all the items in the original list.\n",
    "\n",
    "2. Next, create a second function which is the same as the first, but limit each number in the output list to two decimals.\n",
    "\n",
    "3. Create another function which builds on the previous one by allowing a \"user\" pass in an argument that defines the number of decimal places to use in the output list.\n",
    "\n",
    "4. Test each of these functions with a list of integers"
   ]
  },
  {
   "cell_type": "code",
   "execution_count": 2,
   "id": "6856ee58",
   "metadata": {},
   "outputs": [],
   "source": [
    "#1\n",
    "def func1(intArr):\n",
    "    retArray = []\n",
    "    for i in intArr:\n",
    "        retArray.append(i/sum(intArr))\n",
    "    return retArray"
   ]
  },
  {
   "cell_type": "code",
   "execution_count": 3,
   "id": "9055a184",
   "metadata": {},
   "outputs": [],
   "source": [
    "#2\n",
    "def func2(intArr):\n",
    "    retArray = []\n",
    "    for i in intArr:\n",
    "        retArray.append(round((i/sum(intArr)),2))\n",
    "    return retArray"
   ]
  },
  {
   "cell_type": "code",
   "execution_count": 5,
   "id": "8a391852",
   "metadata": {},
   "outputs": [],
   "source": [
    "#3//#4\n",
    "def func3(intArr,decimalPlaces):\n",
    "    retArray = []\n",
    "    for i in intArr:\n",
    "        retArray.append(round((i/sum(intArr)),decimalPlaces))\n",
    "    return retArray"
   ]
  },
  {
   "cell_type": "code",
   "execution_count": 6,
   "id": "abcad44e",
   "metadata": {},
   "outputs": [
    {
     "name": "stdout",
     "output_type": "stream",
     "text": [
      "[0.041666666666666664, 0.125, 0.2916666666666667, 0.5416666666666666]\n",
      "[0.04, 0.12, 0.29, 0.54]\n",
      "[0.0417, 0.125, 0.2917, 0.5417]\n"
     ]
    }
   ],
   "source": [
    "#4\n",
    "testCase1 = [1,3,7,13]\n",
    "print(func1(testCase1))\n",
    "print(func2(testCase1))\n",
    "print(func3(testCase1,4))"
   ]
  },
  {
   "cell_type": "markdown",
   "id": "17e43098",
   "metadata": {},
   "source": [
    "## Problem 4\n",
    "A prime number is any whole number greater than 1 that has no positive divisors besides 1 and itself. In other words, a prime number must be:\n",
    "1. an integer\n",
    "2. greater than 1\n",
    "3. divisible only by 1 and itself.\n",
    "\n",
    "Write a function is_prime(n) that accepts an argument `n` and returns `True` (boolean) if `n` is a prime number and `False` if n is not prime. For example, `is_prime(11)` should return `True` and `is_prime(12)` should return `False`.\n"
   ]
  },
  {
   "cell_type": "code",
   "execution_count": 5,
   "id": "7b43bc6c",
   "metadata": {},
   "outputs": [
    {
     "data": {
      "text/plain": [
       "False"
      ]
     },
     "execution_count": 5,
     "metadata": {},
     "output_type": "execute_result"
    }
   ],
   "source": [
    "def is_prime(n):\n",
    "    if n>1:\n",
    "        for i in range(2, int(n/2)+1):\n",
    "            if (n % i) == 0:\n",
    "                return False\n",
    "        return True\n",
    "    else:\n",
    "        return False\n",
    "                \n",
    "is_prime(15)"
   ]
  },
  {
   "cell_type": "markdown",
   "id": "e556b42f",
   "metadata": {},
   "source": [
    "## Problem 5"
   ]
  },
  {
   "cell_type": "markdown",
   "id": "fd5f4463",
   "metadata": {},
   "source": [
    "1. Create a class called `Housing`, and add the following attributes to it:\n",
    "  - type\n",
    "  - area\n",
    "  - number of bedrooms\n",
    "  - value (price)\n",
    "  - year built.\n",
    "2. Create two instances of your class and populate their attributes (make 'em up)\n",
    "3. Create a method called `rent()` that calculates the estimated monthly rent for each house (assume that monthly rent is 0.4% of the value of the house)\n",
    "4. Print the rent for both instances."
   ]
  },
  {
   "cell_type": "code",
   "execution_count": 6,
   "id": "efa713df",
   "metadata": {},
   "outputs": [],
   "source": [
    "#1/#3\n",
    "class Housing:\n",
    "    \n",
    "    def __init__(self, type, area, num_bedrooms, value_price, year_built):\n",
    "        self.type = type\n",
    "        self.area = area\n",
    "        self.num_bedrooms = num_bedrooms\n",
    "        self.value_price = value_price\n",
    "        self.year_built = year_built\n",
    "\n",
    "    def rent(self, pct_raise = 0.004):\n",
    "        return round (self.value_price*pct_raise)"
   ]
  },
  {
   "cell_type": "code",
   "execution_count": 7,
   "id": "cf0f2355",
   "metadata": {},
   "outputs": [],
   "source": [
    "#2 \n",
    "House1 = Housing('Apartment', 1000, 2, 150000, 1999)\n",
    "House2 = Housing('Single Family Homes', 2500, 3, 350000, 1995)"
   ]
  },
  {
   "cell_type": "code",
   "execution_count": 8,
   "id": "83e7bb03",
   "metadata": {},
   "outputs": [
    {
     "data": {
      "text/plain": [
       "600"
      ]
     },
     "execution_count": 8,
     "metadata": {},
     "output_type": "execute_result"
    }
   ],
   "source": [
    "#4A - Monthly rent for House 1\n",
    "House1.rent()"
   ]
  },
  {
   "cell_type": "code",
   "execution_count": 9,
   "id": "32dfe514",
   "metadata": {},
   "outputs": [
    {
     "data": {
      "text/plain": [
       "1400"
      ]
     },
     "execution_count": 9,
     "metadata": {},
     "output_type": "execute_result"
    }
   ],
   "source": [
    "#4B - Monthly rent for House 2\n",
    "House2.rent()"
   ]
  }
 ],
 "metadata": {
  "kernelspec": {
   "display_name": "Python 3",
   "language": "python",
   "name": "python3"
  },
  "language_info": {
   "codemirror_mode": {
    "name": "ipython",
    "version": 3
   },
   "file_extension": ".py",
   "mimetype": "text/x-python",
   "name": "python",
   "nbconvert_exporter": "python",
   "pygments_lexer": "ipython3",
   "version": "3.8.8"
  },
  "toc": {
   "base_numbering": 1,
   "nav_menu": {},
   "number_sections": false,
   "sideBar": false,
   "skip_h1_title": true,
   "title_cell": "Table of Contents",
   "title_sidebar": "Contents",
   "toc_cell": false,
   "toc_position": {},
   "toc_section_display": true,
   "toc_window_display": false
  }
 },
 "nbformat": 4,
 "nbformat_minor": 5
}
