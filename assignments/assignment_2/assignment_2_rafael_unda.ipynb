{
 "cells": [
  {
   "cell_type": "markdown",
   "id": "f96bdfc7",
   "metadata": {},
   "source": [
    "# Assignment 2 | Programming Logic\n",
    "\n",
    "Reminder: in all of the assignments this semester, the answer is not the only consideration, but also how you get to it. It's OK (suggested even!) to use the internet for help. But you _should_ be able to answer all of these questions using only the programming techniques you have learned in class and from the readings.\n",
    "\n",
    "A few keys for success:\n",
    "- Avoid manual data entry\n",
    "- Emphasize logic and clarity\n",
    "- Use comments, docstrings, and descriptive variable names\n",
    "- In general, less code is better. But if more lines of code makes your program easier to read or understand what its doing, then go for it."
   ]
  },
  {
   "cell_type": "markdown",
   "id": "078a9000",
   "metadata": {},
   "source": [
    "## Problem 1 \n",
    "Write a Python program to count the number of even and odd numbers from a list of numbers. Test your code by running it on a list of integers from 1 to 9. No need to make this a function unless you want to."
   ]
  },
  {
   "cell_type": "code",
   "execution_count": 479,
   "id": "8eb937c5",
   "metadata": {},
   "outputs": [
    {
     "name": "stdout",
     "output_type": "stream",
     "text": [
      "[1, 2, 3, 4, 5, 6, 7, 8, 9]\n"
     ]
    }
   ],
   "source": [
    "x = list(range(1, 10))\n",
    "print(x)"
   ]
  },
  {
   "cell_type": "code",
   "execution_count": 480,
   "id": "95b733b0",
   "metadata": {},
   "outputs": [
    {
     "name": "stdout",
     "output_type": "stream",
     "text": [
      "Count of even numbers in the list: 4\n",
      "Count of odd numbers in the list: 5\n"
     ]
    }
   ],
   "source": [
    "list_even = []\n",
    "list_odd = []\n",
    "\n",
    "for i in x:\n",
    "    if (i % 2) == 0:\n",
    "        list_even.append(i)\n",
    "    else:\n",
    "        list_odd.append(i)\n",
    " \n",
    "print(\"Count of even numbers in the list:\", len(list_even))\n",
    "print(\"Count of odd numbers in the list:\", len(list_odd))"
   ]
  },
  {
   "cell_type": "markdown",
   "id": "db9df1a9",
   "metadata": {
    "collapsed": true
   },
   "source": [
    "## Problem 2\n",
    "Write a Python function that takes a list of numbers and returns a list containing only the even numbers from the original list. Test your function by running it on a list of integers from 1 to 9."
   ]
  },
  {
   "cell_type": "code",
   "execution_count": 481,
   "id": "45fcfd00",
   "metadata": {},
   "outputs": [
    {
     "name": "stdout",
     "output_type": "stream",
     "text": [
      "[2, 4, 6, 8]\n"
     ]
    }
   ],
   "source": [
    "def get_even_n(y):\n",
    "    list_even = []\n",
    "    list_odd = []\n",
    "    for i in y:\n",
    "        if (i % 2) == 0:\n",
    "            list_even.append(i)\n",
    "        else:\n",
    "            list_odd.append(i)\n",
    "            \n",
    "    return print(list_even)\n",
    "\n",
    "get_even_n(x)"
   ]
  },
  {
   "cell_type": "markdown",
   "id": "6a6f4ef0",
   "metadata": {},
   "source": [
    "## Problem 3\n",
    "\n",
    "1. Create a function that accepts a list of integers as an argument and returns a list of floats which equals each number as a fraction of the sum of all the items in the original list.\n",
    "\n",
    "2. Next, create a second function which is the same as the first, but limit each number in the output list to two decimals.\n",
    "\n",
    "3. Create another function which builds on the previous one by allowing a \"user\" pass in an argument that defines the number of decimal places to use in the output list.\n",
    "\n",
    "4. Test each of these functions with a list of integers"
   ]
  },
  {
   "cell_type": "code",
   "execution_count": 482,
   "id": "6856ee58",
   "metadata": {
    "scrolled": true
   },
   "outputs": [
    {
     "data": {
      "text/plain": [
       "[0.022222222222222223,\n",
       " 0.044444444444444446,\n",
       " 0.06666666666666667,\n",
       " 0.08888888888888889,\n",
       " 0.1111111111111111,\n",
       " 0.13333333333333333,\n",
       " 0.15555555555555556,\n",
       " 0.17777777777777778,\n",
       " 0.2]"
      ]
     },
     "execution_count": 482,
     "metadata": {},
     "output_type": "execute_result"
    }
   ],
   "source": [
    "def get_prop(y):\n",
    "    \"\"\"Function that takes a list of integer numbers (y) and returns each number as\n",
    "    a proportion of the sum of all the original items in list y\"\"\"\n",
    "    y_prop = []\n",
    "    for i in y:\n",
    "        y_prop.append(i/(sum(y)))\n",
    "    return y_prop\n",
    "\n",
    "get_prop(x)"
   ]
  },
  {
   "cell_type": "code",
   "execution_count": 483,
   "id": "6275d2b8",
   "metadata": {},
   "outputs": [
    {
     "data": {
      "text/plain": [
       "[0.02, 0.04, 0.07, 0.09, 0.11, 0.13, 0.16, 0.18, 0.2]"
      ]
     },
     "execution_count": 483,
     "metadata": {},
     "output_type": "execute_result"
    }
   ],
   "source": [
    "def get_prop_2(y):\n",
    "    \"\"\"Function that takes a list of integer numbers (y) and returns each number as\n",
    "    a proportion of the sum of all the original items in list y, rounded to two decimal points\"\"\"\n",
    "    y_prop = []\n",
    "    for i in y:\n",
    "        y_prop.append(round(i/(sum(y)), 2))\n",
    "    return y_prop\n",
    "\n",
    "get_prop_2(x)"
   ]
  },
  {
   "cell_type": "code",
   "execution_count": 484,
   "id": "117ef542",
   "metadata": {},
   "outputs": [
    {
     "data": {
      "text/plain": [
       "[0.0222, 0.0444, 0.0667, 0.0889, 0.1111, 0.1333, 0.1556, 0.1778, 0.2]"
      ]
     },
     "execution_count": 484,
     "metadata": {},
     "output_type": "execute_result"
    }
   ],
   "source": [
    "def get_prop_n(y, d):\n",
    "    \"\"\"Function that takes a list of integer numbers (y) and a number of decimal places (d) \n",
    "    and returns each number as a proportion of the sum of all the original items in list y \n",
    "    rounded to d decimal points\"\"\"\n",
    "    y_prop = []\n",
    "    for i in y:\n",
    "        y_prop.append(round(i/(sum(y)), d))\n",
    "    return y_prop\n",
    "\n",
    "get_prop_n(x, 4)"
   ]
  },
  {
   "cell_type": "markdown",
   "id": "17e43098",
   "metadata": {},
   "source": [
    "## Problem 4\n",
    "A prime number is any whole number greater than 1 that has no positive divisors besides 1 and itself. In other words, a prime number must be:\n",
    "1. an integer\n",
    "2. greater than 1\n",
    "3. divisible only by 1 and itself.\n",
    "\n",
    "Write a function is_prime(n) that accepts an argument `n` and returns `True` (boolean) if `n` is a prime number and `False` if n is not prime. For example, `is_prime(11)` should return `True` and `is_prime(12)` should return `False`.\n"
   ]
  },
  {
   "cell_type": "code",
   "execution_count": 485,
   "id": "60b1093e",
   "metadata": {},
   "outputs": [],
   "source": [
    "def is_prime(n):\n",
    "    if n < 1:\n",
    "        answer = \"Error: This function only works with positive integers\"  \n",
    "    if n == 1:\n",
    "        answer = True\n",
    "    if n > 1:\n",
    "        list_n = list(range(2, n))\n",
    "        answer = True\n",
    "        for i in list_n:\n",
    "            if (n % i) != 0:\n",
    "                continue\n",
    "            else:\n",
    "                answer = False\n",
    "            break\n",
    "    return answer"
   ]
  },
  {
   "cell_type": "code",
   "execution_count": 486,
   "id": "6b48730f",
   "metadata": {},
   "outputs": [
    {
     "data": {
      "text/plain": [
       "True"
      ]
     },
     "execution_count": 486,
     "metadata": {},
     "output_type": "execute_result"
    }
   ],
   "source": [
    "is_prime(11)"
   ]
  },
  {
   "cell_type": "code",
   "execution_count": 487,
   "id": "408cecae",
   "metadata": {},
   "outputs": [
    {
     "data": {
      "text/plain": [
       "False"
      ]
     },
     "execution_count": 487,
     "metadata": {},
     "output_type": "execute_result"
    }
   ],
   "source": [
    "is_prime(12)"
   ]
  },
  {
   "cell_type": "code",
   "execution_count": 490,
   "id": "7fa48e69",
   "metadata": {},
   "outputs": [
    {
     "data": {
      "text/plain": [
       "['Error: This function only works with positive integers',\n",
       " True,\n",
       " True,\n",
       " True,\n",
       " False,\n",
       " True,\n",
       " False,\n",
       " True,\n",
       " False,\n",
       " False,\n",
       " False,\n",
       " True,\n",
       " False,\n",
       " True,\n",
       " False,\n",
       " False,\n",
       " False,\n",
       " True,\n",
       " False,\n",
       " True]"
      ]
     },
     "execution_count": 490,
     "metadata": {},
     "output_type": "execute_result"
    }
   ],
   "source": [
    "z = list(range(20))\n",
    "list(map(is_prime, z))"
   ]
  },
  {
   "cell_type": "markdown",
   "id": "e556b42f",
   "metadata": {},
   "source": [
    "## Problem 5"
   ]
  },
  {
   "cell_type": "markdown",
   "id": "fd5f4463",
   "metadata": {},
   "source": [
    "1. Create a class called `Housing`, and add the following attributes to it:\n",
    "  - type\n",
    "  - area\n",
    "  - number of bedrooms\n",
    "  - value (price)\n",
    "  - year built.\n",
    "2. Create two instances of your class and populate their attributes (make 'em up)\n",
    "3. Create a method called `rent()` that calculates the estimated monthly rent for each house (assume that monthly rent is 0.4% of the value of the house)\n",
    "4. Print the rent for both instances."
   ]
  },
  {
   "cell_type": "code",
   "execution_count": 456,
   "id": "efa713df",
   "metadata": {},
   "outputs": [],
   "source": [
    "class Housing:\n",
    "    \n",
    "    def __init__(self, h_type, area, num_bedrooms, value, year):\n",
    "        self.h_type = h_type\n",
    "        self.area = area\n",
    "        self.num_bedrooms = num_bedrooms\n",
    "        self.value = value\n",
    "        self.year = year\n",
    "        \n",
    "    def get_rent(self):\n",
    "        return \"${:,.0f}\".format(self.value * 0.004)"
   ]
  },
  {
   "cell_type": "code",
   "execution_count": 457,
   "id": "e2df875f",
   "metadata": {},
   "outputs": [],
   "source": [
    "house_1 = Housing('Apartment', 700, 2, 800000, 1997)\n",
    "house_2 = Housing('House', 1200, 3, 920000, 2004)"
   ]
  },
  {
   "cell_type": "code",
   "execution_count": 458,
   "id": "4267079a",
   "metadata": {},
   "outputs": [
    {
     "name": "stdout",
     "output_type": "stream",
     "text": [
      "$3,200\n"
     ]
    }
   ],
   "source": [
    "print(house_1.get_rent())"
   ]
  },
  {
   "cell_type": "code",
   "execution_count": 459,
   "id": "3aa8779f",
   "metadata": {},
   "outputs": [
    {
     "name": "stdout",
     "output_type": "stream",
     "text": [
      "$3,680\n"
     ]
    }
   ],
   "source": [
    "print(house_2.get_rent())"
   ]
  }
 ],
 "metadata": {
  "kernelspec": {
   "display_name": "Python 3",
   "language": "python",
   "name": "python3"
  },
  "language_info": {
   "codemirror_mode": {
    "name": "ipython",
    "version": 3
   },
   "file_extension": ".py",
   "mimetype": "text/x-python",
   "name": "python",
   "nbconvert_exporter": "python",
   "pygments_lexer": "ipython3",
   "version": "3.8.8"
  },
  "toc": {
   "base_numbering": 1,
   "nav_menu": {},
   "number_sections": false,
   "sideBar": false,
   "skip_h1_title": true,
   "title_cell": "Table of Contents",
   "title_sidebar": "Contents",
   "toc_cell": false,
   "toc_position": {},
   "toc_section_display": true,
   "toc_window_display": false
  }
 },
 "nbformat": 4,
 "nbformat_minor": 5
}
