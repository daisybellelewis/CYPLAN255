{
 "cells": [
  {
   "cell_type": "markdown",
   "id": "f96bdfc7",
   "metadata": {},
   "source": [
    "# Assignment 2 | Programming Logic\n",
    "\n",
    "Reminder: in all of the assignments this semester, the answer is not the only consideration, but also how you get to it. It's OK (suggested even!) to use the internet for help. But you _should_ be able to answer all of these questions using only the programming techniques you have learned in class and from the readings.\n",
    "\n",
    "A few keys for success:\n",
    "- Avoid manual data entry\n",
    "- Emphasize logic and clarity\n",
    "- Use comments, docstrings, and descriptive variable names\n",
    "- In general, less code is better. But if more lines of code makes your program easier to read or understand what its doing, then go for it."
   ]
  },
  {
   "cell_type": "markdown",
   "id": "078a9000",
   "metadata": {},
   "source": [
    "## Problem 1 \n",
    "Write a Python program to count the number of even and odd numbers from a list of numbers. Test your code by running it on a list of integers from 1 to 9. No need to make this a function unless you want to."
   ]
  },
  {
   "cell_type": "code",
   "execution_count": 8,
   "id": "8eb937c5",
   "metadata": {},
   "outputs": [],
   "source": [
    "def even_odd(ls):    \n",
    "    a = 0\n",
    "    cnt_even, cnt_odd = 0,0 #defined two counters that will help count how many even & odd\n",
    "    while a < len(ls): #loops through the list and incrase odd or even counter depending if that number is divisible by 2\n",
    "        if ls[a]%2 ==0:\n",
    "            cnt_even = cnt_even +1\n",
    "            a = a+1\n",
    "        else: \n",
    "            cnt_odd = cnt_odd +1\n",
    "            a = a+1\n",
    "    return print(\"# of even =\",cnt_even,\"# of odd=\", cnt_odd)"
   ]
  },
  {
   "cell_type": "code",
   "execution_count": 9,
   "id": "1ba87cb5",
   "metadata": {},
   "outputs": [
    {
     "name": "stdout",
     "output_type": "stream",
     "text": [
      "# of even = 4 # of odd= 5\n"
     ]
    }
   ],
   "source": [
    "list_num = [1,2,3,4,5,6,7,8,9]\n",
    "\n",
    "even_odd(list_num)"
   ]
  },
  {
   "cell_type": "markdown",
   "id": "db9df1a9",
   "metadata": {
    "collapsed": true
   },
   "source": [
    "## Problem 2\n",
    "Write a Python function that takes a list of numbers and returns a list containing only the even numbers from the original list. Test your function by running it on a list of integers from 1 to 9."
   ]
  },
  {
   "cell_type": "code",
   "execution_count": 15,
   "id": "45fcfd00",
   "metadata": {},
   "outputs": [],
   "source": [
    "def even_odd(ls):    \n",
    "    a = 0\n",
    "    ls_even,ls_odd =[],[] #similar approach to problem 1, but instead of a counter we append the value if it is even or odd\n",
    "    while a < len(ls):\n",
    "        if ls[a]%2 ==0:\n",
    "            ls_even.append(ls[a])\n",
    "            a = a+1\n",
    "        else: \n",
    "            ls_odd.append(ls[a])\n",
    "            a = a+1\n",
    "    return print(\"Even:\",ls_even,\"Odd\", ls_odd)"
   ]
  },
  {
   "cell_type": "code",
   "execution_count": 16,
   "id": "3e99e03a",
   "metadata": {},
   "outputs": [
    {
     "name": "stdout",
     "output_type": "stream",
     "text": [
      "Even: [2, 4, 6, 8] Odd [1, 3, 5, 7, 9]\n"
     ]
    }
   ],
   "source": [
    "even_odd(list_num)"
   ]
  },
  {
   "cell_type": "markdown",
   "id": "6a6f4ef0",
   "metadata": {},
   "source": [
    "## Problem 3\n",
    "\n",
    "1. Create a function that accepts a list of integers as an argument and returns a list of floats which equals each number as a fraction of the sum of all the items in the original list.\n",
    "\n",
    "2. Next, create a second function which is the same as the first, but limit each number in the output list to two decimals.\n",
    "\n",
    "3. Create another function which builds on the previous one by allowing a \"user\" pass in an argument that defines the number of decimal places to use in the output list.\n",
    "\n",
    "4. Test each of these functions with a list of integers"
   ]
  },
  {
   "cell_type": "code",
   "execution_count": 17,
   "id": "6856ee58",
   "metadata": {},
   "outputs": [],
   "source": [
    "def frac_sum(ls):    \n",
    "    a = 0\n",
    "    ls_frac =[]\n",
    "    sum_ls =sum(ls)\n",
    "    while a < len(ls):\n",
    "        ls_frac.append(ls[a]/sum_ls)\n",
    "        a = a+1\n",
    "    return print(\"Fraction of sum\",ls_frac)"
   ]
  },
  {
   "cell_type": "code",
   "execution_count": 18,
   "id": "c565f149",
   "metadata": {},
   "outputs": [
    {
     "name": "stdout",
     "output_type": "stream",
     "text": [
      "Fraction of sum [0.022222222222222223, 0.044444444444444446, 0.06666666666666667, 0.08888888888888889, 0.1111111111111111, 0.13333333333333333, 0.15555555555555556, 0.17777777777777778, 0.2]\n"
     ]
    }
   ],
   "source": [
    "frac_sum(list_num)"
   ]
  },
  {
   "cell_type": "code",
   "execution_count": 21,
   "id": "c4f35ca2",
   "metadata": {},
   "outputs": [],
   "source": [
    "def frac_sum_round(ls):    \n",
    "    a = 0\n",
    "    ls_frac =[]\n",
    "    sum_ls =sum(ls)\n",
    "    while a < len(ls):\n",
    "        ls_frac.append(round(ls[a]/sum_ls, 2))\n",
    "        a = a+1\n",
    "    return print(\"Fraction of sum\",ls_frac)"
   ]
  },
  {
   "cell_type": "code",
   "execution_count": 22,
   "id": "205ad2ae",
   "metadata": {},
   "outputs": [
    {
     "name": "stdout",
     "output_type": "stream",
     "text": [
      "Fraction of sum [0.02, 0.04, 0.07, 0.09, 0.11, 0.13, 0.16, 0.18, 0.2]\n"
     ]
    }
   ],
   "source": [
    "frac_sum_round(list_num)"
   ]
  },
  {
   "cell_type": "code",
   "execution_count": 23,
   "id": "6f46c0d8",
   "metadata": {},
   "outputs": [],
   "source": [
    "def frac_sum_inp(ls,n):    \n",
    "    a = 0\n",
    "    ls_frac =[]\n",
    "    sum_ls =sum(ls)\n",
    "    while a < len(ls):\n",
    "        ls_frac.append(round(ls[a]/sum_ls, n))\n",
    "        a = a+1\n",
    "    return print(\"Fraction of sum\",ls_frac)"
   ]
  },
  {
   "cell_type": "code",
   "execution_count": 25,
   "id": "e3fefb9a",
   "metadata": {},
   "outputs": [
    {
     "name": "stdout",
     "output_type": "stream",
     "text": [
      "Fraction of sum [0.022, 0.044, 0.067, 0.089, 0.111, 0.133, 0.156, 0.178, 0.2]\n"
     ]
    }
   ],
   "source": [
    "frac_sum_inp(list_num,3)"
   ]
  },
  {
   "cell_type": "markdown",
   "id": "17e43098",
   "metadata": {},
   "source": [
    "## Problem 4\n",
    "A prime number is any whole number greater than 1 that has no positive divisors besides 1 and itself. In other words, a prime number must be:\n",
    "1. an integer\n",
    "2. greater than 1\n",
    "3. divisible only by 1 and itself.\n",
    "\n",
    "Write a function is_prime(n) that accepts an argument `n` and returns `True` (boolean) if `n` is a prime number and `False` if n is not prime. For example, `is_prime(11)` should return `True` and `is_prime(12)` should return `False`.\n"
   ]
  },
  {
   "cell_type": "code",
   "execution_count": 18,
   "id": "7b43bc6c",
   "metadata": {},
   "outputs": [],
   "source": [
    "def is_prime(n):\n",
    "    prime_ls =[2,3,5,7,11,13]\n",
    "    if isinstance(n,int) and n > 1: \n",
    "        if n in prime_ls:\n",
    "            return True\n",
    "        else:\n",
    "            x = 0\n",
    "            while x < len(prime_ls):\n",
    "                if n % prime_ls[x] == 0:\n",
    "                    return False\n",
    "                else: x = x+1\n",
    "            return True\n",
    "    else: \n",
    "        return False"
   ]
  },
  {
   "cell_type": "code",
   "execution_count": 19,
   "id": "44935f93",
   "metadata": {},
   "outputs": [
    {
     "data": {
      "text/plain": [
       "False"
      ]
     },
     "execution_count": 19,
     "metadata": {},
     "output_type": "execute_result"
    }
   ],
   "source": [
    "is_prime(11.5)"
   ]
  },
  {
   "cell_type": "markdown",
   "id": "e556b42f",
   "metadata": {},
   "source": [
    "## Problem 5"
   ]
  },
  {
   "cell_type": "markdown",
   "id": "fd5f4463",
   "metadata": {},
   "source": [
    "1. Create a class called `Housing`, and add the following attributes to it:\n",
    "  - type\n",
    "  - area\n",
    "  - number of bedrooms\n",
    "  - value (price)\n",
    "  - year built.\n",
    "2. Create two instances of your class and populate their attributes (make 'em up)\n",
    "3. Create a method called `rent()` that calculates the estimated monthly rent for each house (assume that monthly rent is 0.4% of the value of the house)\n",
    "4. Print the rent for both instances."
   ]
  },
  {
   "cell_type": "code",
   "execution_count": 26,
   "id": "efa713df",
   "metadata": {},
   "outputs": [],
   "source": [
    "class Housing:\n",
    "    def __init__(self,type_house,area,num_bed,value,year):\n",
    "        self.type_house = type_house\n",
    "        self.area = area\n",
    "        self.num_bed = num_bed\n",
    "        self.value = value\n",
    "        self.year = year\n",
    "    \n",
    "    def monthly_rent(self):\n",
    "        month_rent = self.value *0.004\n",
    "        return month_rent"
   ]
  },
  {
   "cell_type": "code",
   "execution_count": 27,
   "id": "ac284b41",
   "metadata": {},
   "outputs": [],
   "source": [
    "house_1 = Housing('Apartment','Berkeley',2,500000,1980)\n",
    "house_2 = Housing('House','Oakland',2,800000,1940)"
   ]
  },
  {
   "cell_type": "code",
   "execution_count": 30,
   "id": "376adc2e",
   "metadata": {},
   "outputs": [
    {
     "name": "stdout",
     "output_type": "stream",
     "text": [
      "House 1 rent: 2000.0\n",
      "House 2 rent: 3200.0\n"
     ]
    }
   ],
   "source": [
    "print(\"House 1 rent:\",house_1.monthly_rent())\n",
    "print(\"House 2 rent:\",house_2.monthly_rent())"
   ]
  }
 ],
 "metadata": {
  "kernelspec": {
   "display_name": "Python 3",
   "language": "python",
   "name": "python3"
  },
  "language_info": {
   "codemirror_mode": {
    "name": "ipython",
    "version": 3
   },
   "file_extension": ".py",
   "mimetype": "text/x-python",
   "name": "python",
   "nbconvert_exporter": "python",
   "pygments_lexer": "ipython3",
   "version": "3.8.8"
  },
  "toc": {
   "base_numbering": 1,
   "nav_menu": {},
   "number_sections": false,
   "sideBar": false,
   "skip_h1_title": true,
   "title_cell": "Table of Contents",
   "title_sidebar": "Contents",
   "toc_cell": false,
   "toc_position": {},
   "toc_section_display": true,
   "toc_window_display": false
  }
 },
 "nbformat": 4,
 "nbformat_minor": 5
}
