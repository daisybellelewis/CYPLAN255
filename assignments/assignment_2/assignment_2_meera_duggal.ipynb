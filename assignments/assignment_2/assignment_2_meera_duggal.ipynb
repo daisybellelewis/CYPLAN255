{
 "cells": [
  {
   "cell_type": "markdown",
   "id": "f96bdfc7",
   "metadata": {},
   "source": [
    "# Assignment 2 | Programming Logic\n",
    "\n",
    "Reminder: in all of the assignments this semester, the answer is not the only consideration, but also how you get to it. It's OK (suggested even!) to use the internet for help. But you _should_ be able to answer all of these questions using only the programming techniques you have learned in class and from the readings.\n",
    "\n",
    "A few keys for success:\n",
    "- Avoid manual data entry\n",
    "- Emphasize logic and clarity\n",
    "- Use comments, docstrings, and descriptive variable names\n",
    "- In general, less code is better. But if more lines of code makes your program easier to read or understand what its doing, then go for it."
   ]
  },
  {
   "cell_type": "markdown",
   "id": "078a9000",
   "metadata": {},
   "source": [
    "## Problem 1 \n",
    "Write a Python program to count the number of even and odd numbers from a list of numbers. Test your code by running it on a list of integers from 1 to 9. No need to make this a function unless you want to."
   ]
  },
  {
   "cell_type": "code",
   "execution_count": 74,
   "id": "8eb937c5",
   "metadata": {},
   "outputs": [
    {
     "name": "stdout",
     "output_type": "stream",
     "text": [
      "The number of even is 4\n",
      "The number of odd is 5\n"
     ]
    }
   ],
   "source": [
    "import numpy as np \n",
    "\n",
    "def count_values_even_odd(list_item):\n",
    "    \"\"\"\n",
    "    This is a functino that will return the number of even and odd\n",
    "    numbers that it find. \n",
    "    \"\"\"\n",
    "    \n",
    "    even = 0\n",
    "    odd = 0\n",
    "    for i in range(len(list_item)):\n",
    "        if list_item[i] % 2 == 0:\n",
    "            even = even + 1\n",
    "            \n",
    "        if list_item[i] % 2 == 1:\n",
    "            odd = odd + 1 \n",
    "    print(\"The number of even is\", even) \n",
    "    print(\"The number of odd is\", odd)\n",
    "\n",
    "#Here we aren defining a list to put through the function \n",
    "\n",
    "ls = list(range(10))\n",
    "vectoring = ls[1:]\n",
    "\n",
    "count_values_even_odd(vectoring)"
   ]
  },
  {
   "cell_type": "markdown",
   "id": "db9df1a9",
   "metadata": {
    "collapsed": true
   },
   "source": [
    "## Problem 2\n",
    "Write a Python function that takes a list of numbers and returns a list containing only the even numbers from the original list. Test your function by running it on a list of integers from 1 to 9."
   ]
  },
  {
   "cell_type": "code",
   "execution_count": 62,
   "id": "45fcfd00",
   "metadata": {},
   "outputs": [
    {
     "data": {
      "text/plain": [
       "[2, 4, 6, 8]"
      ]
     },
     "execution_count": 62,
     "metadata": {},
     "output_type": "execute_result"
    }
   ],
   "source": [
    "def returning_evens(some_list):\n",
    "    even_list = []\n",
    "    \n",
    "    for i in range(len(some_list)):\n",
    "        if some_list[i] % 2 == 0:\n",
    "            even_list.append(some_list[i])\n",
    "            \n",
    "    return even_list\n",
    "            \n",
    "#testing out with values \n",
    "ls = list(range(10))\n",
    "vectoring = ls[1:]\n",
    "\n",
    "returning_evens(vectoring)"
   ]
  },
  {
   "cell_type": "markdown",
   "id": "6a6f4ef0",
   "metadata": {},
   "source": [
    "## Problem 3\n",
    "\n",
    "1. Create a function that accepts a list of integers as an argument and returns a list of floats which equals each number as a fraction of the sum of all the items in the original list.\n",
    "\n",
    "2. Next, create a second function which is the same as the first, but limit each number in the output list to two decimals.\n",
    "\n",
    "3. Create another function which builds on the previous one by allowing a \"user\" pass in an argument that defines the number of decimal places to use in the output list.\n",
    "\n",
    "4. Test each of these functions with a list of integers"
   ]
  },
  {
   "cell_type": "code",
   "execution_count": 69,
   "id": "6856ee58",
   "metadata": {},
   "outputs": [
    {
     "name": "stdout",
     "output_type": "stream",
     "text": [
      "Number one answer [0.022222222222222223, 0.044444444444444446, 0.06666666666666667, 0.08888888888888889, 0.1111111111111111, 0.13333333333333333, 0.15555555555555556, 0.17777777777777778, 0.2] \n",
      "\n",
      "Number two answer ['0.02', '0.04', '0.07', '0.09', '0.11', '0.13', '0.16', '0.18', '0.20'] \n",
      "\n",
      "Number three answer ['0.022', '0.044', '0.067', '0.089', '0.111', '0.133', '0.156', '0.178', '0.200']\n"
     ]
    }
   ],
   "source": [
    "#Number 1 ... :) \n",
    "def returning_floats(int_list):\n",
    "    float_list = []\n",
    "    sum_of_list = sum(int_list)\n",
    "    \n",
    "    for i in range(len(int_list)):\n",
    "        float_list.append(int_list[i]/sum_of_list)\n",
    "    \n",
    "    return float_list \n",
    "\n",
    "\n",
    "\n",
    "#Number 2 .... \n",
    "def returning_floats_rounded(int_list):\n",
    "    float_list = []\n",
    "    sum_of_list = sum(int_list)\n",
    "    \n",
    "    for i in range(len(int_list)):\n",
    "        float_list.append(\"%.2f\" % (int_list[i]/sum_of_list))\n",
    "    \n",
    "    return float_list\n",
    "\n",
    "\n",
    "\n",
    "#Number 3...\n",
    "def returning_floats_choose(int_list, decimal_places):\n",
    "    float_list = []\n",
    "    sum_of_list = sum(int_list)\n",
    "    temp = \"%.\" + str(decimal_places) + \"f\"\n",
    "    \n",
    "    for i in range(len(int_list)):\n",
    "        float_list.append(temp  % (int_list[i]/sum_of_list))\n",
    "    \n",
    "    return float_list\n",
    "\n",
    "\n",
    "\n",
    "#Number 4 .... \n",
    "\n",
    "\n",
    "#testing out with values \n",
    "ls = list(range(10))\n",
    "vectoring = ls[1:]\n",
    "\n",
    "\n",
    "\n",
    "print(\"Number one answer\", returning_floats(vectoring), \"\\n\")\n",
    "\n",
    "print(\"Number two answer\", returning_floats_rounded(vectoring), \"\\n\")\n",
    "\n",
    "print(\"Number three answer\", returning_floats_choose(vectoring, 3))\n"
   ]
  },
  {
   "cell_type": "markdown",
   "id": "17e43098",
   "metadata": {},
   "source": [
    "## Problem 4\n",
    "A prime number is any whole number greater than 1 that has no positive divisors besides 1 and itself. In other words, a prime number must be:\n",
    "1. an integer\n",
    "2. greater than 1\n",
    "3. divisible only by 1 and itself.\n",
    "\n",
    "Write a function is_prime(n) that accepts an argument `n` and returns `True` (boolean) if `n` is a prime number and `False` if n is not prime. For example, `is_prime(11)` should return `True` and `is_prime(12)` should return `False`.\n"
   ]
  },
  {
   "cell_type": "code",
   "execution_count": 91,
   "id": "7b43bc6c",
   "metadata": {},
   "outputs": [
    {
     "name": "stdout",
     "output_type": "stream",
     "text": [
      "False\n"
     ]
    },
    {
     "data": {
      "text/plain": [
       "True"
      ]
     },
     "execution_count": 91,
     "metadata": {},
     "output_type": "execute_result"
    }
   ],
   "source": [
    "def is_prime(n):\n",
    "    \"\"\"\n",
    "    This function will check if the number that you input is a prime number \n",
    "    \"\"\"\n",
    "    #this is checking to see if theres a \n",
    "    is_int = isinstance(n, int)\n",
    "    numbers = range(20)[2:]\n",
    "    \n",
    "    divis = 0\n",
    "    \n",
    "    #making a loop to check if divisible by these numbers \n",
    "    for i in numbers:    \n",
    "        \n",
    "        if(n % i == 0):\n",
    "            divis = divis + 1 \n",
    "    \n",
    "    if n > 1 and is_int == True and divis == 1:\n",
    "        boolin = True \n",
    "\n",
    "    else:\n",
    "        boolin = False \n",
    "        \n",
    "    return boolin\n",
    "\n",
    "\n",
    "print(is_prime(10))\n",
    "is_prime(13)\n",
    "\n",
    "\n",
    "# :) "
   ]
  },
  {
   "cell_type": "markdown",
   "id": "e556b42f",
   "metadata": {},
   "source": [
    "## Problem 5"
   ]
  },
  {
   "cell_type": "markdown",
   "id": "fd5f4463",
   "metadata": {},
   "source": [
    "1. Create a class called `Housing`, and add the following attributes to it:\n",
    "  - type\n",
    "  - area\n",
    "  - number of bedrooms\n",
    "  - value (price)\n",
    "  - year built.\n",
    "2. Create two instances of your class and populate their attributes (make 'em up)\n",
    "3. Create a method called `rent()` that calculates the estimated monthly rent for each house (assume that monthly rent is 0.4% of the value of the house)\n",
    "4. Print the rent for both instances."
   ]
  },
  {
   "cell_type": "code",
   "execution_count": 109,
   "id": "efa713df",
   "metadata": {},
   "outputs": [],
   "source": [
    "#Just creating a class called housing \n",
    "#Below is 1-5 combined together \n",
    "\n",
    "#Changed the montly rent to .04% because the number were more reasonable ... :) \n",
    "\n",
    "class Housing:\n",
    "    def __init__(self, type_thing, area, bedrooms, value, year):\n",
    "        self.type_thing = type_thing \n",
    "        self.area = area\n",
    "        self.bedrooms = bedrooms \n",
    "        self.value = value \n",
    "        self.year = year \n",
    "        \n",
    "    def rent(self):\n",
    "        rent_price = self.value * .004 \n",
    "        print(\"This rent is\", rent_price)\n",
    "    \n",
    "    "
   ]
  },
  {
   "cell_type": "code",
   "execution_count": 110,
   "id": "a2026d77",
   "metadata": {},
   "outputs": [
    {
     "name": "stdout",
     "output_type": "stream",
     "text": [
      "This rent is 12000.0\n",
      "This rent is 800.0\n"
     ]
    }
   ],
   "source": [
    "#creating two types of that class \n",
    "\n",
    "\n",
    "big_house = Housing(\"mansion\", 8000, 5, 3000000, 2005)\n",
    "\n",
    "nice_apartment = Housing(\"apartment\", 800, 1, 200000, 2010)\n",
    "\n",
    "big_house.rent()\n",
    "nice_apartment.rent()"
   ]
  }
 ],
 "metadata": {
  "kernelspec": {
   "display_name": "Python 3",
   "language": "python",
   "name": "python3"
  },
  "language_info": {
   "codemirror_mode": {
    "name": "ipython",
    "version": 3
   },
   "file_extension": ".py",
   "mimetype": "text/x-python",
   "name": "python",
   "nbconvert_exporter": "python",
   "pygments_lexer": "ipython3",
   "version": "3.8.8"
  },
  "toc": {
   "base_numbering": 1,
   "nav_menu": {},
   "number_sections": false,
   "sideBar": false,
   "skip_h1_title": true,
   "title_cell": "Table of Contents",
   "title_sidebar": "Contents",
   "toc_cell": false,
   "toc_position": {},
   "toc_section_display": true,
   "toc_window_display": false
  }
 },
 "nbformat": 4,
 "nbformat_minor": 5
}
