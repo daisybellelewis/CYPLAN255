{
 "cells": [
  {
   "cell_type": "markdown",
   "id": "f96bdfc7",
   "metadata": {},
   "source": [
    "# Assignment 2 | Programming Logic\n",
    "\n",
    "Reminder: in all of the assignments this semester, the answer is not the only consideration, but also how you get to it. It's OK (suggested even!) to use the internet for help. But you _should_ be able to answer all of these questions using only the programming techniques you have learned in class and from the readings.\n",
    "\n",
    "A few keys for success:\n",
    "- Avoid manual data entry\n",
    "- Emphasize logic and clarity\n",
    "- Use comments, docstrings, and descriptive variable names\n",
    "- In general, less code is better. But if more lines of code makes your program easier to read or understand what its doing, then go for it."
   ]
  },
  {
   "cell_type": "markdown",
   "id": "078a9000",
   "metadata": {},
   "source": [
    "## Problem 1 \n",
    "Write a Python program to count the number of even and odd numbers from a list of numbers. Test your code by running it on a list of integers from 1 to 9. No need to make this a function unless you want to."
   ]
  },
  {
   "cell_type": "code",
   "execution_count": 1,
   "id": "341da84e",
   "metadata": {},
   "outputs": [],
   "source": [
    "#writing program\n",
    "#for each item in a, if the item is divisible by 2, add 1 to even_count. \n",
    "#if the item is not divisible by 2, add 1 to odd_count.\n",
    "\n",
    "a = []             \n",
    "even_count = 0     \n",
    "odd_count = 0       \n",
    "\n",
    "for item in a:                           \n",
    "    if item % 2 == 0:                       \n",
    "        even_count = even_count + 1\n",
    "    else:                                 \n",
    "        odd_count = odd_count + 1"
   ]
  },
  {
   "cell_type": "code",
   "execution_count": 2,
   "id": "15a33c63",
   "metadata": {},
   "outputs": [
    {
     "name": "stdout",
     "output_type": "stream",
     "text": [
      "4\n",
      "5\n"
     ]
    }
   ],
   "source": [
    "#testing program\n",
    "#a is a list of numbers starting at 1 and ending at 9 (needed 10 here because noninclusive)\n",
    "\n",
    "a = list(range(1, 10))                   \n",
    "even_count = 0\n",
    "odd_count = 0\n",
    "\n",
    "for item in a:\n",
    "    if item % 2 == 0:\n",
    "        even_count = even_count + 1\n",
    "    else:\n",
    "        odd_count = odd_count + 1\n",
    "\n",
    "print(even_count)\n",
    "print(odd_count)    \n",
    "      "
   ]
  },
  {
   "cell_type": "code",
   "execution_count": 3,
   "id": "d49905a0",
   "metadata": {},
   "outputs": [
    {
     "name": "stdout",
     "output_type": "stream",
     "text": [
      "There are 4 even numbers in the list.\n",
      "There are 5 odd numbers in the list.\n"
     ]
    }
   ],
   "source": [
    "#practicing :)\n",
    "\n",
    "print('There are ' + str(even_count) + ' even numbers in the list.')\n",
    "print('There are ' + str(odd_count) + ' odd numbers in the list.')"
   ]
  },
  {
   "cell_type": "markdown",
   "id": "db9df1a9",
   "metadata": {
    "collapsed": true
   },
   "source": [
    "## Problem 2\n",
    "Write a Python function that takes a list of numbers and returns a list containing only the even numbers from the original list. Test your function by running it on a list of integers from 1 to 9."
   ]
  },
  {
   "cell_type": "code",
   "execution_count": 4,
   "id": "fcb304fe",
   "metadata": {},
   "outputs": [
    {
     "data": {
      "text/plain": [
       "[2, 4, 6, 8]"
      ]
     },
     "execution_count": 4,
     "metadata": {},
     "output_type": "execute_result"
    }
   ],
   "source": [
    "#defining function\n",
    "\n",
    "def get_evens(value):\n",
    "    \"\"\"Take a list of numbers and return a list containing only the even numbers from the original list\"\"\"\n",
    "    evens_list = []\n",
    "    for item in (value):\n",
    "        if item % 2 == 0:\n",
    "            evens_list.append(item)\n",
    "    return evens_list\n",
    "\n",
    "#testing function using a = list(range(1, 10)) as assigned in problem 1\n",
    "get_evens(a)  "
   ]
  },
  {
   "cell_type": "markdown",
   "id": "6a6f4ef0",
   "metadata": {},
   "source": [
    "## Problem 3\n",
    "\n",
    "1. Create a function that accepts a list of integers as an argument and returns a list of floats which equals each number as a fraction of the sum of all the items in the original list.\n",
    "\n",
    "2. Next, create a second function which is the same as the first, but limit each number in the output list to two decimals.\n",
    "\n",
    "3. Create another function which builds on the previous one by allowing a \"user\" pass in an argument that defines the number of decimal places to use in the output list.\n",
    "\n",
    "4. Test each of these functions with a list of integers"
   ]
  },
  {
   "cell_type": "markdown",
   "id": "a341363c",
   "metadata": {},
   "source": [
    "**Problem 3, Q1**"
   ]
  },
  {
   "cell_type": "code",
   "execution_count": 5,
   "id": "0aeed2c1",
   "metadata": {},
   "outputs": [
    {
     "data": {
      "text/plain": [
       "[0.022222222222222223,\n",
       " 0.044444444444444446,\n",
       " 0.06666666666666667,\n",
       " 0.08888888888888889,\n",
       " 0.1111111111111111,\n",
       " 0.13333333333333333,\n",
       " 0.15555555555555556,\n",
       " 0.17777777777777778,\n",
       " 0.2]"
      ]
     },
     "execution_count": 5,
     "metadata": {},
     "output_type": "execute_result"
    }
   ],
   "source": [
    "#defining function\n",
    "#found math.fsum() by searching through list of functions available in the math library\n",
    "\n",
    "def float_perc(value):\n",
    "    import math\n",
    "    perc_list = []\n",
    "    for n in (value):\n",
    "        perc_list.append((n / (math.fsum(value))))       \n",
    "    return perc_list\n",
    "\n",
    "#testing function using a = list(range(1, 10)) as assigned in problem 1\n",
    "float_perc(a)"
   ]
  },
  {
   "cell_type": "markdown",
   "id": "98be2fb1",
   "metadata": {},
   "source": [
    "**Problem 3, Q2**"
   ]
  },
  {
   "cell_type": "code",
   "execution_count": 6,
   "id": "b6658567",
   "metadata": {},
   "outputs": [
    {
     "data": {
      "text/plain": [
       "[0.02, 0.04, 0.07, 0.09, 0.11, 0.13, 0.16, 0.18, 0.2]"
      ]
     },
     "execution_count": 6,
     "metadata": {},
     "output_type": "execute_result"
    }
   ],
   "source": [
    "#defining function but modified to round output list to 2 decimals\n",
    "\n",
    "def float_perc2(value):\n",
    "    import math\n",
    "    perc_list = []\n",
    "    for n in (value):\n",
    "        perc_list.append(round((n / (math.fsum(value))), 2))\n",
    "    return perc_list\n",
    "\n",
    "#testing function using a = list(range(1, 10)) as assigned in problem 1\n",
    "float_perc2(a)"
   ]
  },
  {
   "cell_type": "markdown",
   "id": "fdf3c84a",
   "metadata": {},
   "source": [
    "**Problem 3, Q3**"
   ]
  },
  {
   "cell_type": "code",
   "execution_count": 7,
   "id": "7a9a6ce3",
   "metadata": {},
   "outputs": [
    {
     "name": "stdout",
     "output_type": "stream",
     "text": [
      "How many decimal places would you like in output list? 3\n"
     ]
    },
    {
     "data": {
      "text/plain": [
       "[0.022, 0.044, 0.067, 0.089, 0.111, 0.133, 0.156, 0.178, 0.2]"
      ]
     },
     "execution_count": 7,
     "metadata": {},
     "output_type": "execute_result"
    }
   ],
   "source": [
    "#defining function \n",
    "#prompts the user to specify how many decimal places to use in the output list\n",
    "\n",
    "def float_perc3(value):\n",
    "    import math\n",
    "    prompt = \"How many decimal places would you like in output list? \"\n",
    "    perc_list = []\n",
    "    user = int(input(prompt))\n",
    "    for n in (value):\n",
    "        perc_list.append(round((n / (math.fsum(value))), user))\n",
    "    return perc_list\n",
    "\n",
    "\n",
    "\n",
    "#testing function using a = list(range(1, 10)) as assigned in problem 1\n",
    "float_perc3(a)"
   ]
  },
  {
   "cell_type": "markdown",
   "id": "17e43098",
   "metadata": {},
   "source": [
    "## Problem 4\n",
    "A prime number is any whole number greater than 1 that has no positive divisors besides 1 and itself. In other words, a prime number must be:\n",
    "1. an integer\n",
    "2. greater than 1\n",
    "3. divisible only by 1 and itself.\n",
    "\n",
    "Write a function is_prime(n) that accepts an argument `n` and returns `True` (boolean) if `n` is a prime number and `False` if n is not prime. For example, `is_prime(11)` should return `True` and `is_prime(12)` should return `False`.\n"
   ]
  },
  {
   "cell_type": "code",
   "execution_count": 8,
   "id": "64532615",
   "metadata": {},
   "outputs": [],
   "source": [
    "#defining function\n",
    "#if clause says \"if n is less than or equal to 1, then return false\" bc can't be not prime \n",
    "#for clause says \"if the integer is a divisor of n (i.e., has no remainder), then return false\" bc can't be prime. \n",
    "#else clause says \"since we've ruled out the conditions that tell us it's not prime, print true.\"\n",
    "\n",
    "def is_prime(n):\n",
    "    if n <= 1:                \n",
    "        return False        \n",
    "    for i in range(2, n):    \n",
    "        if (n % i) == 0:     \n",
    "            return False\n",
    "    else:                    \n",
    "        return True\n",
    "             "
   ]
  },
  {
   "cell_type": "code",
   "execution_count": 9,
   "id": "6b23b577",
   "metadata": {},
   "outputs": [
    {
     "data": {
      "text/plain": [
       "True"
      ]
     },
     "execution_count": 9,
     "metadata": {},
     "output_type": "execute_result"
    }
   ],
   "source": [
    "#testing\n",
    "\n",
    "is_prime(11)"
   ]
  },
  {
   "cell_type": "code",
   "execution_count": 10,
   "id": "3b42afaf",
   "metadata": {},
   "outputs": [
    {
     "data": {
      "text/plain": [
       "False"
      ]
     },
     "execution_count": 10,
     "metadata": {},
     "output_type": "execute_result"
    }
   ],
   "source": [
    "#testing\n",
    "\n",
    "is_prime(12)"
   ]
  },
  {
   "cell_type": "code",
   "execution_count": 11,
   "id": "9843efbd",
   "metadata": {},
   "outputs": [
    {
     "data": {
      "text/plain": [
       "False"
      ]
     },
     "execution_count": 11,
     "metadata": {},
     "output_type": "execute_result"
    }
   ],
   "source": [
    "#testing\n",
    "\n",
    "is_prime(-1)"
   ]
  },
  {
   "cell_type": "code",
   "execution_count": 12,
   "id": "ec5f2fe5",
   "metadata": {},
   "outputs": [
    {
     "data": {
      "text/plain": [
       "False"
      ]
     },
     "execution_count": 12,
     "metadata": {},
     "output_type": "execute_result"
    }
   ],
   "source": [
    "#testing\n",
    "\n",
    "is_prime(1)"
   ]
  },
  {
   "cell_type": "markdown",
   "id": "e556b42f",
   "metadata": {},
   "source": [
    "## Problem 5"
   ]
  },
  {
   "cell_type": "markdown",
   "id": "fd5f4463",
   "metadata": {},
   "source": [
    "1. Create a class called `Housing`, and add the following attributes to it:\n",
    "  - type\n",
    "  - area\n",
    "  - number of bedrooms\n",
    "  - value (price)\n",
    "  - year built.\n",
    "2. Create two instances of your class and populate their attributes (make 'em up)\n",
    "3. Create a method called `rent()` that calculates the estimated monthly rent for each house (assume that monthly rent is 0.4% of the value of the house)\n",
    "4. Print the rent for both instances."
   ]
  },
  {
   "cell_type": "code",
   "execution_count": 17,
   "id": "5e5bd42d",
   "metadata": {},
   "outputs": [],
   "source": [
    "#creating class \n",
    "#defining class method to get attribute info\n",
    "#defining class method to calculate monthly rent\n",
    "\n",
    "class Housing:\n",
    "    \n",
    "    def __init__(self, type, area, bdrms, value, yr):\n",
    "        self.type = type\n",
    "        self.area = area\n",
    "        self.bdrms = bdrms\n",
    "        self.value = value\n",
    "        self.yr = yr\n",
    "        \n",
    "    def get_details(self):\n",
    "        return '{0}, {1}, {2}, {3}, {4}'.format(self.type, self.area, self.bdrms, self.value, self.yr)\n",
    "        \n",
    "    def get_rent(self):\n",
    "        return(self.value * 0.004)"
   ]
  },
  {
   "cell_type": "code",
   "execution_count": 18,
   "id": "5294fb27",
   "metadata": {},
   "outputs": [],
   "source": [
    "home_1 = Housing('apt', '750 sqft', 1, 250000, 1980)\n",
    "home_2 = Housing('condo', '1000 sqft', 2, 400000, 1999)"
   ]
  },
  {
   "cell_type": "code",
   "execution_count": 19,
   "id": "5e244fc1",
   "metadata": {},
   "outputs": [
    {
     "name": "stdout",
     "output_type": "stream",
     "text": [
      "apt, 750 sqft, 1, 250000, 1980\n",
      "condo, 1000 sqft, 2, 400000, 1999\n"
     ]
    }
   ],
   "source": [
    "print(home_1.get_details())\n",
    "print(home_2.get_details())"
   ]
  },
  {
   "cell_type": "code",
   "execution_count": 20,
   "id": "37bf5087",
   "metadata": {},
   "outputs": [
    {
     "name": "stdout",
     "output_type": "stream",
     "text": [
      "1000.0\n",
      "1600.0\n"
     ]
    }
   ],
   "source": [
    "print(home_1.get_rent())\n",
    "print(home_2.get_rent())"
   ]
  },
  {
   "cell_type": "code",
   "execution_count": null,
   "id": "c7763aa7",
   "metadata": {},
   "outputs": [],
   "source": []
  }
 ],
 "metadata": {
  "kernelspec": {
   "display_name": "Python 3 (ipykernel)",
   "language": "python",
   "name": "python3"
  },
  "language_info": {
   "codemirror_mode": {
    "name": "ipython",
    "version": 3
   },
   "file_extension": ".py",
   "mimetype": "text/x-python",
   "name": "python",
   "nbconvert_exporter": "python",
   "pygments_lexer": "ipython3",
   "version": "3.9.7"
  },
  "toc": {
   "base_numbering": 1,
   "nav_menu": {},
   "number_sections": false,
   "sideBar": false,
   "skip_h1_title": true,
   "title_cell": "Table of Contents",
   "title_sidebar": "Contents",
   "toc_cell": false,
   "toc_position": {},
   "toc_section_display": true,
   "toc_window_display": false
  }
 },
 "nbformat": 4,
 "nbformat_minor": 5
}
