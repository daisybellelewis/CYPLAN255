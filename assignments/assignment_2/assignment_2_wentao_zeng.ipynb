{
 "cells": [
  {
   "cell_type": "markdown",
   "id": "f96bdfc7",
   "metadata": {},
   "source": [
    "# Assignment 2 | Programming Logic\n",
    "\n",
    "Reminder: in all of the assignments this semester, the answer is not the only consideration, but also how you get to it. It's OK (suggested even!) to use the internet for help. But you _should_ be able to answer all of these questions using only the programming techniques you have learned in class and from the readings.\n",
    "\n",
    "A few keys for success:\n",
    "- Avoid manual data entry\n",
    "- Emphasize logic and clarity\n",
    "- Use comments, docstrings, and descriptive variable names\n",
    "- In general, less code is better. But if more lines of code makes your program easier to read or understand what its doing, then go for it."
   ]
  },
  {
   "cell_type": "markdown",
   "id": "078a9000",
   "metadata": {},
   "source": [
    "## Problem 1 \n",
    "Write a Python program to count the number of even and odd numbers from a list of numbers. Test your code by running it on a list of integers from 1 to 9. No need to make this a function unless you want to."
   ]
  },
  {
   "cell_type": "code",
   "execution_count": 2,
   "id": "8eb937c5",
   "metadata": {},
   "outputs": [
    {
     "name": "stdout",
     "output_type": "stream",
     "text": [
      "even number: 4\n",
      "odd number: 5\n"
     ]
    }
   ],
   "source": [
    "list=range(1,10)\n",
    "even_number=0\n",
    "odd_number=0\n",
    "for x in list:\n",
    "    if x%2==0:\n",
    "        even_number=even_number+1\n",
    "    else:\n",
    "        odd_number=odd_number+1 \n",
    "print(\"even number:\", even_number)\n",
    "print(\"odd number:\",odd_number)"
   ]
  },
  {
   "cell_type": "markdown",
   "id": "db9df1a9",
   "metadata": {
    "collapsed": true
   },
   "source": [
    "## Problem 2\n",
    "Write a Python function that takes a list of numbers and returns a list containing only the even numbers from the original list. Test your function by running it on a list of integers from 1 to 9."
   ]
  },
  {
   "cell_type": "code",
   "execution_count": 13,
   "id": "45fcfd00",
   "metadata": {},
   "outputs": [
    {
     "name": "stdout",
     "output_type": "stream",
     "text": [
      "[2, 4, 6, 8]\n"
     ]
    }
   ],
   "source": [
    "def even_number(n):\n",
    "    even_list = []\n",
    "    for x in n:\n",
    "        if x%2==0:\n",
    "            even_list.append(x)\n",
    "    return even_list\n",
    "print(even_number([1,2,3,4,5,6,7,8,9]))"
   ]
  },
  {
   "cell_type": "markdown",
   "id": "6a6f4ef0",
   "metadata": {},
   "source": [
    "## Problem 3\n",
    "\n",
    "1. Create a function that accepts a list of integers as an argument and returns a list of floats which equals each number as a fraction of the sum of all the items in the original list.\n",
    "\n",
    "2. Next, create a second function which is the same as the first, but limit each number in the output list to two decimals.\n",
    "\n",
    "3. Create another function which builds on the previous one by allowing a \"user\" pass in an argument that defines the number of decimal places to use in the output list.\n",
    "\n",
    "4. Test each of these functions with a list of integers"
   ]
  },
  {
   "cell_type": "code",
   "execution_count": 5,
   "id": "6856ee58",
   "metadata": {},
   "outputs": [
    {
     "name": "stdout",
     "output_type": "stream",
     "text": [
      "[0.01818181818181818, 0.03636363636363636, 0.05454545454545454, 0.07272727272727272, 0.09090909090909091, 0.10909090909090909, 0.12727272727272726, 0.14545454545454545, 0.16363636363636364, 0.18181818181818182]\n",
      "[0.02, 0.04, 0.05, 0.07, 0.09, 0.11, 0.13, 0.15, 0.16, 0.18]\n",
      "[0.018, 0.036, 0.055, 0.073, 0.091, 0.109, 0.127, 0.145, 0.164, 0.182]\n"
     ]
    }
   ],
   "source": [
    "#1\n",
    "def fraction_number(integers_list):\n",
    "    floats_list=[]\n",
    "    for integer in integers_list:\n",
    "        fraction=integer/sum(integers_list)\n",
    "        floats_list.append(fraction)\n",
    "    return floats_list\n",
    "print(fraction_number([1,2,3,4,5,6,7,8,9,10]))\n",
    "\n",
    "#2\n",
    "def fraction_number(integers_list):\n",
    "    floats_list=[]\n",
    "    for integer in integers_list:\n",
    "        fraction=integer/sum(integers_list)\n",
    "        floats_list.append(round(fraction,2))\n",
    "    return floats_list\n",
    "print(fraction_number([1,2,3,4,5,6,7,8,9,10]))\n",
    "\n",
    "#3\n",
    "def fraction_number(integers_list):\n",
    "    floats_list=[]\n",
    "    for integer in integers_list:\n",
    "        fraction=integer/sum(integers_list)\n",
    "        floats_list.append(fraction)\n",
    "    return floats_list\n",
    "floats_number=fraction_number(list(range(1,11)))\n",
    "#defines the number of decimal\n",
    "defines_number=3\n",
    "defines_decimal=[round(x,defines_number) for x in floats_number]\n",
    "print(defines_decimal)\n"
   ]
  },
  {
   "cell_type": "markdown",
   "id": "17e43098",
   "metadata": {},
   "source": [
    "## Problem 4\n",
    "A prime number is any whole number greater than 1 that has no positive divisors besides 1 and itself. In other words, a prime number must be:\n",
    "1. an integer\n",
    "2. greater than 1\n",
    "3. divisible only by 1 and itself.\n",
    "\n",
    "Write a function is_prime(n) that accepts an argument `n` and returns `True` (boolean) if `n` is a prime number and `False` if n is not prime. For example, `is_prime(11)` should return `True` and `is_prime(12)` should return `False`.\n"
   ]
  },
  {
   "cell_type": "code",
   "execution_count": 1,
   "id": "7b43bc6c",
   "metadata": {},
   "outputs": [
    {
     "name": "stdout",
     "output_type": "stream",
     "text": [
      "True\n",
      "False\n"
     ]
    }
   ],
   "source": [
    "def is_prime(n):\n",
    "    if n<=1:\n",
    "        return False\n",
    "    x=2\n",
    "    while x*x<=n:\n",
    "        if n % x ==0:\n",
    "         return False\n",
    "        x=x+1\n",
    "    return True\n",
    "print(is_prime(11))\n",
    "print(is_prime(12))"
   ]
  },
  {
   "cell_type": "markdown",
   "id": "e556b42f",
   "metadata": {},
   "source": [
    "## Problem 5"
   ]
  },
  {
   "cell_type": "markdown",
   "id": "fd5f4463",
   "metadata": {},
   "source": [
    "1. Create a class called `Housing`, and add the following attributes to it:\n",
    "  - type\n",
    "  - area\n",
    "  - number of bedrooms\n",
    "  - value (price)\n",
    "  - year built.\n",
    "2. Create two instances of your class and populate their attributes (make 'em up)\n",
    "3. Create a method called `rent()` that calculates the estimated monthly rent for each house (assume that monthly rent is 0.4% of the value of the house)\n",
    "4. Print the rent for both instances."
   ]
  },
  {
   "cell_type": "code",
   "execution_count": 1,
   "id": "efa713df",
   "metadata": {},
   "outputs": [
    {
     "name": "stdout",
     "output_type": "stream",
     "text": [
      "3000\n",
      "2000\n"
     ]
    }
   ],
   "source": [
    "class House:\n",
    "    def __init__(self,type,area,number_of_bedrooms,value,year_built):\n",
    "        self.type = type\n",
    "        self.area = area\n",
    "        self.number_of_bedrooms = number_of_bedrooms\n",
    "        self.value = value\n",
    "        self.year_built = year_built\n",
    "        \n",
    "    def rent(self, rate_rent=0.004):\n",
    "        return round(self.value * rate_rent)\n",
    " \n",
    "house_1=House('2b2b','40m',2,750000,2010)   \n",
    "house_2=House('studio','30m',2,500000,2015)  \n",
    "\n",
    "print(house_1.rent())\n",
    "print(house_2.rent())"
   ]
  }
 ],
 "metadata": {
  "kernelspec": {
   "display_name": "Python 3 (ipykernel)",
   "language": "python",
   "name": "python3"
  },
  "language_info": {
   "codemirror_mode": {
    "name": "ipython",
    "version": 3
   },
   "file_extension": ".py",
   "mimetype": "text/x-python",
   "name": "python",
   "nbconvert_exporter": "python",
   "pygments_lexer": "ipython3",
   "version": "3.9.10"
  },
  "toc": {
   "base_numbering": 1,
   "nav_menu": {},
   "number_sections": false,
   "sideBar": false,
   "skip_h1_title": true,
   "title_cell": "Table of Contents",
   "title_sidebar": "Contents",
   "toc_cell": false,
   "toc_position": {},
   "toc_section_display": true,
   "toc_window_display": false
  }
 },
 "nbformat": 4,
 "nbformat_minor": 5
}
