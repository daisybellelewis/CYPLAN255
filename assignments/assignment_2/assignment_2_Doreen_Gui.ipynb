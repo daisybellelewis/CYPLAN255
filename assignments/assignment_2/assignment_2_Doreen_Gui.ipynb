{
 "cells": [
  {
   "cell_type": "markdown",
   "metadata": {},
   "source": [
    "# Assignment 2 | Programming Logic\n",
    "\n",
    "Reminder: in all of the assignments this semester, the answer is not the only consideration, but also how you get to it. It's OK (suggested even!) to use the internet for help. But you _should_ be able to answer all of these questions using only the programming techniques you have learned in class and from the readings.\n",
    "\n",
    "A few keys for success:\n",
    "- Avoid manual data entry\n",
    "- Emphasize logic and clarity\n",
    "- Use comments, docstrings, and descriptive variable names\n",
    "- In general, less code is better. But if more lines of code makes your program easier to read or understand what its doing, then go for it."
   ]
  },
  {
   "cell_type": "markdown",
   "metadata": {},
   "source": [
    "## Problem 1 \n",
    "Write a Python program to count the number of even and odd numbers from a list of numbers. Test your code by running it on a list of integers from 1 to 9. No need to make this a function unless you want to."
   ]
  },
  {
   "cell_type": "code",
   "execution_count": 39,
   "metadata": {},
   "outputs": [
    {
     "name": "stdout",
     "output_type": "stream",
     "text": [
      "Number of even numbers: 4\n",
      "Number of odd numbers: 5\n"
     ]
    }
   ],
   "source": [
    "l = [1,2,3,4,5,6,7,8,9]\n",
    "num_even = 0\n",
    "num_odd = 0\n",
    "\n",
    "# count even and odd numbers\n",
    "for i in l:\n",
    "    # check if even\n",
    "    if i%2 == 0:\n",
    "        num_even += 1\n",
    "    if i%2 == 1:\n",
    "        num_odd += 1\n",
    "\n",
    "print('Number of even numbers: '+str(num_even))\n",
    "print('Number of odd numbers: '+str(num_odd))"
   ]
  },
  {
   "cell_type": "markdown",
   "metadata": {
    "collapsed": true
   },
   "source": [
    "## Problem 2\n",
    "Write a Python function that takes a list of numbers and returns a list containing only the even numbers from the original list. Test your function by running it on a list of integers from 1 to 9."
   ]
  },
  {
   "cell_type": "code",
   "execution_count": 40,
   "metadata": {},
   "outputs": [
    {
     "data": {
      "text/plain": [
       "[2, 4, 6, 8]"
      ]
     },
     "execution_count": 40,
     "metadata": {},
     "output_type": "execute_result"
    }
   ],
   "source": [
    "l = [1,2,3,4,5,6,7,8,9]\n",
    "\n",
    "def return_even(l):\n",
    "    \"\"\"\n",
    "    Return: a list conatining only even numbers of the input list l\n",
    "    l: list of numbers\n",
    "    \"\"\"\n",
    "    result = []\n",
    "    for i in l:\n",
    "        if i%2 == 0:\n",
    "            result.append(i)\n",
    "    return result\n",
    "\n",
    "return_even(l)"
   ]
  },
  {
   "cell_type": "markdown",
   "metadata": {},
   "source": [
    "## Problem 3\n",
    "\n",
    "1. Create a function that accepts a list of integers as an argument and returns a list of floats which equals each number as a fraction of the sum of all the items in the original list.\n",
    "\n",
    "2. Next, create a second function which is the same as the first, but limit each number in the output list to two decimals.\n",
    "\n",
    "3. Create another function which builds on the previous one by allowing a \"user\" pass in an argument that defines the number of decimal places to use in the output list.\n",
    "\n",
    "4. Test each of these functions with a list of integers"
   ]
  },
  {
   "cell_type": "code",
   "execution_count": 41,
   "metadata": {},
   "outputs": [
    {
     "name": "stdout",
     "output_type": "stream",
     "text": [
      "Function 1:\n",
      "[0.022222222222222223, 0.044444444444444446, 0.06666666666666667, 0.08888888888888889, 0.1111111111111111, 0.13333333333333333, 0.15555555555555556, 0.17777777777777778, 0.2]\n",
      "\n",
      "Function 2: \n",
      "[0.02, 0.04, 0.07, 0.09, 0.11, 0.13, 0.16, 0.18, 0.2]\n",
      "\n",
      "Function 3: \n",
      "Please enter the desired decimal places: 3\n",
      "[0.022, 0.044, 0.067, 0.089, 0.111, 0.133, 0.156, 0.178, 0.2]\n"
     ]
    }
   ],
   "source": [
    "# Part 1\n",
    "def find_fraction1(l):\n",
    "    \"\"\"\n",
    "    Returns: a list in which each element represents the number in the input list divided by the sum\n",
    "    l: list of integers\n",
    "    \"\"\"\n",
    "    denom = sum(l)\n",
    "    return [i/denom for i in l]\n",
    "\n",
    "\n",
    "# Part 2\n",
    "def find_fraction2(l):\n",
    "    \"\"\"\n",
    "    Returns: a list in which each element represents the number in the input list divided by the sum\n",
    "    Each element in the result is rounded to 2 decimal places\n",
    "    l: list of integers\n",
    "    \"\"\"\n",
    "    denom = sum(l)\n",
    "    return [round(i/denom,2) for i in l]\n",
    "\n",
    "\n",
    "# Part 3\n",
    "def find_fraction3(l):\n",
    "    \"\"\"\n",
    "    Returns: a list in which each element represents the number in the input list divided by the sum\n",
    "    Each element is rounded according to user's input\n",
    "    l: list of integers\n",
    "    \"\"\"\n",
    "    numDec = int(input(\"Please enter the desired decimal places: \"))\n",
    "    denom = sum(l)\n",
    "    return [round(i/denom, numDec) for i in l]\n",
    "\n",
    "# Part 4\n",
    "l = [1,2,3,4,5,6,7,8,9]\n",
    "print('Function 1:')\n",
    "print(find_fraction1(l))\n",
    "print('\\nFunction 2: ')\n",
    "print(find_fraction2(l))\n",
    "print('\\nFunction 3: ')\n",
    "print(find_fraction3(l))\n",
    "    "
   ]
  },
  {
   "cell_type": "markdown",
   "metadata": {},
   "source": [
    "## Problem 4\n",
    "A prime number is any whole number greater than 1 that has no positive divisors besides 1 and itself. In other words, a prime number must be:\n",
    "1. an integer\n",
    "2. greater than 1\n",
    "3. divisible only by 1 and itself.\n",
    "\n",
    "Write a function is_prime(n) that accepts an argument `n` and returns `True` (boolean) if `n` is a prime number and `False` if n is not prime. For example, `is_prime(11)` should return `True` and `is_prime(12)` should return `False`.\n"
   ]
  },
  {
   "cell_type": "code",
   "execution_count": 42,
   "metadata": {},
   "outputs": [
    {
     "name": "stdout",
     "output_type": "stream",
     "text": [
      "check if 11 is a prime number: True\n",
      "check if 12 is a prime number: False\n"
     ]
    }
   ],
   "source": [
    "def is_prime(n):\n",
    "    \"\"\"\n",
    "    Returns: True if the number is a prime number, False otherwise\n",
    "    n: number\n",
    "    \"\"\"\n",
    "    # check integer\n",
    "    if not isinstance(n, int):\n",
    "        return False\n",
    "    # check greater than 1\n",
    "    if n < 1:\n",
    "        return False\n",
    "    divider = 2\n",
    "    while n > divider:\n",
    "        if n%divider == 0:\n",
    "            return False\n",
    "        divider += 1\n",
    "    return True\n",
    "\n",
    "print(\"check if 11 is a prime number: \"+str(is_prime(11)))\n",
    "print(\"check if 12 is a prime number: \"+str(is_prime(12)))"
   ]
  },
  {
   "cell_type": "markdown",
   "metadata": {},
   "source": [
    "## Problem 5"
   ]
  },
  {
   "cell_type": "markdown",
   "metadata": {},
   "source": [
    "1. Create a class called `Housing`, and add the following attributes to it:\n",
    "  - type\n",
    "  - area\n",
    "  - number of bedrooms\n",
    "  - value (price)\n",
    "  - year built.\n",
    "2. Create two instances of your class and populate their attributes (make 'em up)\n",
    "3. Create a method called `rent()` that calculates the estimated monthly rent for each house (assume that monthly rent is 0.4% of the value of the house)\n",
    "4. Print the rent for both instances."
   ]
  },
  {
   "cell_type": "code",
   "execution_count": 43,
   "metadata": {},
   "outputs": [
    {
     "name": "stdout",
     "output_type": "stream",
     "text": [
      "Rent of house 1: 1600.0\n",
      "Rent of house 2: 2400.0\n"
     ]
    }
   ],
   "source": [
    "# 1. create class\n",
    "class Housing:\n",
    "    def __init__(self, house_type, area, num_bedroom, value, year):\n",
    "        self.house_type = house_type\n",
    "        self.area = area\n",
    "        self.num_bedroom = num_bedroom\n",
    "        self.value = value\n",
    "        self.year = year\n",
    "        \n",
    "    # 3. find rent\n",
    "    def rent(self):\n",
    "        return 0.4*self.value/100\n",
    "        \n",
    "        \n",
    "# 2. create two instances\n",
    "house1 = Housing('apartment', 200, 1, 400000, 2017)\n",
    "house2 = Housing('house', 1100, 3, 600000, 1999)\n",
    "\n",
    "# 4. print out rent\n",
    "print(\"Rent of house 1: \"+str(house1.rent()))\n",
    "print(\"Rent of house 2: \"+str(house2.rent()))"
   ]
  },
  {
   "cell_type": "code",
   "execution_count": null,
   "metadata": {},
   "outputs": [],
   "source": []
  }
 ],
 "metadata": {
  "kernelspec": {
   "display_name": "Python 3",
   "language": "python",
   "name": "python3"
  },
  "language_info": {
   "codemirror_mode": {
    "name": "ipython",
    "version": 3
   },
   "file_extension": ".py",
   "mimetype": "text/x-python",
   "name": "python",
   "nbconvert_exporter": "python",
   "pygments_lexer": "ipython3",
   "version": "3.7.6"
  },
  "toc": {
   "base_numbering": 1,
   "nav_menu": {},
   "number_sections": false,
   "sideBar": false,
   "skip_h1_title": true,
   "title_cell": "Table of Contents",
   "title_sidebar": "Contents",
   "toc_cell": false,
   "toc_position": {},
   "toc_section_display": true,
   "toc_window_display": false
  }
 },
 "nbformat": 4,
 "nbformat_minor": 5
}
