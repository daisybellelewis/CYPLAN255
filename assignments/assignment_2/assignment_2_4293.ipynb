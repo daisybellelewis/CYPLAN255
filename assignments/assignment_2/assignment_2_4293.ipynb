{
 "cells": [
  {
   "cell_type": "markdown",
   "id": "f96bdfc7",
   "metadata": {},
   "source": [
    "# Assignment 2 | Programming Logic\n",
    "\n",
    "Reminder: in all of the assignments this semester, the answer is not the only consideration, but also how you get to it. It's OK (suggested even!) to use the internet for help. But you _should_ be able to answer all of these questions using only the programming techniques you have learned in class and from the readings.\n",
    "\n",
    "A few keys for success:\n",
    "- Avoid manual data entry\n",
    "- Emphasize logic and clarity\n",
    "- Use comments, docstrings, and descriptive variable names\n",
    "- In general, less code is better. But if more lines of code makes your program easier to read or understand what its doing, then go for it."
   ]
  },
  {
   "cell_type": "markdown",
   "id": "078a9000",
   "metadata": {},
   "source": [
    "## Problem 1 \n",
    "Write a Python program to count the number of even and odd numbers from a list of numbers. Test your code by running it on a list of integers from 1 to 9. No need to make this a function unless you want to."
   ]
  },
  {
   "cell_type": "code",
   "execution_count": 1,
   "id": "8eb937c5",
   "metadata": {},
   "outputs": [
    {
     "name": "stdout",
     "output_type": "stream",
     "text": [
      "25\n",
      "25\n"
     ]
    }
   ],
   "source": [
    "foo = list(range(50))\n",
    "evens = 0\n",
    "odds = 0\n",
    "\n",
    "for x in foo:\n",
    "    if x % 2 == 0:\n",
    "        evens += 1\n",
    "    elif x % 2 == 1:\n",
    "        odds += 1\n",
    "print(evens)\n",
    "print(odds)\n",
    "\n",
    "# Can also use numpy to generate a list of range (x, y, n) \n",
    "# Can also define a list [1,2,3,...] or import data"
   ]
  },
  {
   "cell_type": "markdown",
   "id": "db9df1a9",
   "metadata": {
    "collapsed": true
   },
   "source": [
    "## Problem 2\n",
    "Write a Python function that takes a list of numbers and returns a list containing only the even numbers from the original list. Test your function by running it on a list of integers from 1 to 9."
   ]
  },
  {
   "cell_type": "code",
   "execution_count": 2,
   "id": "45fcfd00",
   "metadata": {},
   "outputs": [
    {
     "name": "stdout",
     "output_type": "stream",
     "text": [
      "0\n",
      "2\n",
      "4\n",
      "6\n",
      "8\n",
      "10\n",
      "12\n",
      "14\n",
      "16\n",
      "18\n"
     ]
    }
   ],
   "source": [
    "foop = list(range(20))\n",
    "for p in foop:\n",
    "    if p % 2 == 0:\n",
    "        print(p)\n",
    "    else:\n",
    "        pass"
   ]
  },
  {
   "cell_type": "markdown",
   "id": "6a6f4ef0",
   "metadata": {},
   "source": [
    "## Problem 3\n",
    "\n",
    "1. Create a function that accepts a list of integers as an argument and returns a list of floats which equals each number as a fraction of the sum of all the items in the original list.\n",
    "\n",
    "2. Next, create a second function which is the same as the first, but limit each number in the output list to two decimals.\n",
    "\n",
    "3. Create another function which builds on the previous one by allowing a \"user\" pass in an argument that defines the number of decimal places to use in the output list.\n",
    "\n",
    "4. Test each of these functions with a list of integers"
   ]
  },
  {
   "cell_type": "code",
   "execution_count": 3,
   "id": "6856ee58",
   "metadata": {},
   "outputs": [
    {
     "name": "stdout",
     "output_type": "stream",
     "text": [
      "0.16666666666666666\n",
      "0.3333333333333333\n",
      "0.5\n"
     ]
    }
   ],
   "source": [
    "# Create a function that accepts a list of integers as an argument and returns a list of floats which equals \n",
    "# each number as a fraction of the sum of all the items in the original list.\n",
    "\n",
    "n = [1,2,3]\n",
    "for x in n:\n",
    "    prop = x/sum(n)\n",
    "    print(prop)"
   ]
  },
  {
   "cell_type": "code",
   "execution_count": 4,
   "id": "759ff4bf",
   "metadata": {},
   "outputs": [
    {
     "name": "stdout",
     "output_type": "stream",
     "text": [
      "0.17\n",
      "0.33\n",
      "0.5\n"
     ]
    }
   ],
   "source": [
    "# Next, create a second function which is the same as the first, but limit each number in \n",
    "# the output list to two decimals.\n",
    "\n",
    "n = [1,2,3]\n",
    "for x in n:\n",
    "    prop = x/sum(n)\n",
    "    print(round(prop, 2))"
   ]
  },
  {
   "cell_type": "code",
   "execution_count": 121,
   "id": "b1effaf3",
   "metadata": {},
   "outputs": [
    {
     "name": "stdout",
     "output_type": "stream",
     "text": [
      "Round to how many places? 4\n",
      "0.0476\n",
      "0.0952\n",
      "0.1429\n",
      "0.1905\n",
      "0.2381\n",
      "0.2857\n"
     ]
    }
   ],
   "source": [
    "# 3. Create another function which builds on the previous one by allowing a \n",
    "# user to pass in an argument that defines the number of decimal places to \n",
    "# use in the output list.\n",
    "\n",
    "\n",
    "n = [1,2,3,4,5,6]\n",
    "place_val = input(\"Round to how many places? \")\n",
    "\n",
    "for x in n:\n",
    "    prop = x/sum(n)\n",
    "    print(round(prop, int(place_val)))\n",
    " \n",
    "# had to remove place_val from namespace for loop to function properly (return multiple outputs)"
   ]
  },
  {
   "cell_type": "code",
   "execution_count": null,
   "id": "761627bc",
   "metadata": {},
   "outputs": [],
   "source": [
    "# 4. Test each of these functions with a list of integers"
   ]
  },
  {
   "cell_type": "markdown",
   "id": "17e43098",
   "metadata": {},
   "source": [
    "## Problem 4\n",
    "A prime number is any whole number greater than 1 that has no positive divisors besides 1 and itself. In other words, a prime number must be:\n",
    "1. an integer\n",
    "2. greater than 1\n",
    "3. divisible only by 1 and itself.\n",
    "\n",
    "Write a function is_prime(n) that accepts an argument `n` and returns `True` (boolean) if `n` is a prime number and `False` if n is not prime. For example, `is_prime(11)` should return `True` and `is_prime(12)` should return `False`.\n"
   ]
  },
  {
   "cell_type": "code",
   "execution_count": 170,
   "id": "7b43bc6c",
   "metadata": {},
   "outputs": [
    {
     "name": "stdout",
     "output_type": "stream",
     "text": [
      "True\n",
      "True\n",
      "True\n",
      "True\n",
      "True\n"
     ]
    }
   ],
   "source": [
    "def is_prime(n):\n",
    "    \n",
    "    for i in range(2,n):    # will return for integers > 1, but returns nothing for 1\n",
    "        if n % i == 0:\n",
    "            print(False)\n",
    "            break\n",
    "        else:\n",
    "            print(True)\n",
    "is_prime(7)\n",
    "\n",
    "# unsure how to make function print one output, as opposed to a range"
   ]
  },
  {
   "cell_type": "code",
   "execution_count": 139,
   "id": "13872072",
   "metadata": {},
   "outputs": [],
   "source": [
    "def is_prime(n):\n",
    "    for num in range(2,n):\n",
    "        if n < 0.0:\n",
    "            print(False)\n",
    "        else:\n",
    "            print(True)    \n",
    "        if n % 2.0 == 0:\n",
    "            print(False)\n",
    "        else:\n",
    "            print(True)\n",
    "    return\n",
    "is_prime(1)"
   ]
  },
  {
   "cell_type": "markdown",
   "id": "e556b42f",
   "metadata": {},
   "source": [
    "## Problem 5"
   ]
  },
  {
   "cell_type": "markdown",
   "id": "fd5f4463",
   "metadata": {},
   "source": [
    "1. Create a class called `Housing`, and add the following attributes to it:\n",
    "  - type\n",
    "  - area\n",
    "  - number of bedrooms\n",
    "  - value (price)\n",
    "  - year built.\n",
    "2. Create two instances of your class and populate their attributes (make 'em up)\n",
    "3. Create a method called `rent()` that calculates the estimated monthly rent for each house (assume that monthly rent is 0.4% of the value of the house)\n",
    "4. Print the rent for both instances."
   ]
  },
  {
   "cell_type": "code",
   "execution_count": 98,
   "id": "11cab3b9",
   "metadata": {},
   "outputs": [],
   "source": [
    "class Housing:\n",
    "\n",
    "    def __init__(self, residence, area, beds, value, year):\n",
    "        self.type = residence\n",
    "        self.area = area\n",
    "        self.beds = beds\n",
    "        self.value = value\n",
    "        self.year = year\n",
    "    \n",
    "    def rent(self):\n",
    "        return format('rent is', self.value * 0.004)\n",
    "\n",
    "# The self parameter is a reference to the current instance of the class, and is used \n",
    "# to access variables that belongs to the class. SELF must be initialized as the first \n",
    "# parameter of any function in the class "
   ]
  },
  {
   "cell_type": "code",
   "execution_count": 99,
   "id": "96e1bc31",
   "metadata": {},
   "outputs": [],
   "source": [
    "house_1 = Housing('apartment', 500, 1, 50000, 2020)  \n",
    "house_2 = Housing('townhouse', 1500, 3, 100000, 2010)"
   ]
  },
  {
   "cell_type": "code",
   "execution_count": 100,
   "id": "884b1511",
   "metadata": {},
   "outputs": [
    {
     "name": "stdout",
     "output_type": "stream",
     "text": [
      "50000\n"
     ]
    },
    {
     "data": {
      "text/plain": [
       "int"
      ]
     },
     "execution_count": 100,
     "metadata": {},
     "output_type": "execute_result"
    }
   ],
   "source": [
    "print(house_1.value)\n",
    "type(house_1.value)"
   ]
  },
  {
   "cell_type": "code",
   "execution_count": 120,
   "id": "3a3d82c6",
   "metadata": {},
   "outputs": [
    {
     "data": {
      "text/plain": [
       "400.0"
      ]
     },
     "execution_count": 120,
     "metadata": {},
     "output_type": "execute_result"
    }
   ],
   "source": [
    "house_2.rent()\n",
    "\n",
    "# .rent method will fail to run without PARENTHESES -->  id.rent()"
   ]
  },
  {
   "cell_type": "code",
   "execution_count": 119,
   "id": "1fe9b1cd",
   "metadata": {},
   "outputs": [
    {
     "data": {
      "text/plain": [
       "<bound method Housing.rent of <__main__.Housing object at 0x110e7b400>>"
      ]
     },
     "execution_count": 119,
     "metadata": {},
     "output_type": "execute_result"
    }
   ],
   "source": [
    "house_2.rent()\n",
    "house_2.rent\n",
    "\n",
    "#  message without parentheses syntax ()"
   ]
  }
 ],
 "metadata": {
  "kernelspec": {
   "display_name": "Python 3 (ipykernel)",
   "language": "python",
   "name": "python3"
  },
  "language_info": {
   "codemirror_mode": {
    "name": "ipython",
    "version": 3
   },
   "file_extension": ".py",
   "mimetype": "text/x-python",
   "name": "python",
   "nbconvert_exporter": "python",
   "pygments_lexer": "ipython3",
   "version": "3.9.7"
  },
  "toc": {
   "base_numbering": 1,
   "nav_menu": {},
   "number_sections": false,
   "sideBar": false,
   "skip_h1_title": true,
   "title_cell": "Table of Contents",
   "title_sidebar": "Contents",
   "toc_cell": false,
   "toc_position": {},
   "toc_section_display": true,
   "toc_window_display": false
  }
 },
 "nbformat": 4,
 "nbformat_minor": 5
}
