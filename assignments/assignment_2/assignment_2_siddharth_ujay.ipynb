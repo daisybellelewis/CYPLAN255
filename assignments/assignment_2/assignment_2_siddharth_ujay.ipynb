{
 "cells": [
  {
   "cell_type": "markdown",
   "id": "f96bdfc7",
   "metadata": {},
   "source": [
    "# Assignment 2 | Programming Logic\n",
    "\n",
    "Reminder: in all of the assignments this semester, the answer is not the only consideration, but also how you get to it. It's OK (suggested even!) to use the internet for help. But you _should_ be able to answer all of these questions using only the programming techniques you have learned in class and from the readings.\n",
    "\n",
    "A few keys for success:\n",
    "- Avoid manual data entry\n",
    "- Emphasize logic and clarity\n",
    "- Use comments, docstrings, and descriptive variable names\n",
    "- In general, less code is better. But if more lines of code makes your program easier to read or understand what its doing, then go for it."
   ]
  },
  {
   "cell_type": "markdown",
   "id": "078a9000",
   "metadata": {},
   "source": [
    "## Problem 1 \n",
    "Write a Python program to count the number of even and odd numbers from a list of numbers. Test your code by running it on a list of integers from 1 to 9. No need to make this a function unless you want to."
   ]
  },
  {
   "cell_type": "code",
   "execution_count": 64,
   "id": "8eb937c5",
   "metadata": {},
   "outputs": [],
   "source": [
    "x = range(1, 10, 1)\n",
    "def even_odd(x):\n",
    "    for i in x:\n",
    "        if i % 2 == 0:    \n",
    "            print(str(i) + ' is even')\n",
    "        elif i % 2 == 1:\n",
    "            print(str(i) + ' is odd')"
   ]
  },
  {
   "cell_type": "code",
   "execution_count": 65,
   "id": "ec6112b2",
   "metadata": {},
   "outputs": [
    {
     "name": "stdout",
     "output_type": "stream",
     "text": [
      "1 is odd\n",
      "2 is even\n",
      "3 is odd\n",
      "4 is even\n",
      "5 is odd\n",
      "6 is even\n",
      "7 is odd\n",
      "8 is even\n",
      "9 is odd\n"
     ]
    }
   ],
   "source": [
    "even_odd(x)"
   ]
  },
  {
   "cell_type": "markdown",
   "id": "db9df1a9",
   "metadata": {
    "collapsed": true
   },
   "source": [
    "## Problem 2\n",
    "Write a Python function that takes a list of numbers and returns a list containing only the even numbers from the original list. Test your function by running it on a list of integers from 1 to 9."
   ]
  },
  {
   "cell_type": "code",
   "execution_count": 67,
   "id": "45fcfd00",
   "metadata": {},
   "outputs": [],
   "source": [
    "x = range(1, 10, 1)\n",
    "def even(x): \n",
    "    for i in x:\n",
    "        if i % 2 == 1: \n",
    "            continue\n",
    "        print(i)"
   ]
  },
  {
   "cell_type": "code",
   "execution_count": 68,
   "id": "7f617f3d",
   "metadata": {},
   "outputs": [
    {
     "name": "stdout",
     "output_type": "stream",
     "text": [
      "2\n",
      "4\n",
      "6\n",
      "8\n"
     ]
    }
   ],
   "source": [
    "even(x)"
   ]
  },
  {
   "cell_type": "markdown",
   "id": "6a6f4ef0",
   "metadata": {},
   "source": [
    "## Problem 3\n",
    "\n",
    "1. Create a function that accepts a list of integers as an argument and returns a list of floats which equals each number as a fraction of the sum of all the items in the original list.\n",
    "\n",
    "2. Next, create a second function which is the same as the first, but limit each number in the output list to two decimals.\n",
    "\n",
    "3. Create another function which builds on the previous one by allowing a \"user\" pass in an argument that defines the number of decimal places to use in the output list.\n",
    "\n",
    "4. Test each of these functions with a list of integers"
   ]
  },
  {
   "cell_type": "code",
   "execution_count": 72,
   "id": "63e90e03",
   "metadata": {},
   "outputs": [
    {
     "data": {
      "text/plain": [
       "[0.25, 0.35, 0.4]"
      ]
     },
     "execution_count": 72,
     "metadata": {},
     "output_type": "execute_result"
    }
   ],
   "source": [
    "# 1., 4.\n",
    "x = [5, 7, 8]\n",
    "def frac_list(x):\n",
    "    new_list = []\n",
    "    for i in x:\n",
    "        new_list.append(i / sum(x))\n",
    "    return new_list\n",
    "\n",
    "frac_list(x)                  "
   ]
  },
  {
   "cell_type": "code",
   "execution_count": 73,
   "id": "01d9f965",
   "metadata": {},
   "outputs": [
    {
     "data": {
      "text/plain": [
       "[0.32, 0.58, 0.11]"
      ]
     },
     "execution_count": 73,
     "metadata": {},
     "output_type": "execute_result"
    }
   ],
   "source": [
    "# 2., 4.\n",
    "x = [6, 11, 2]\n",
    "def frac_list_2d(x):\n",
    "    new_list = []\n",
    "    for i in x:\n",
    "        new_list.append(round((i / sum(x)), 2))\n",
    "    return new_list\n",
    "\n",
    "frac_list_2d(x)"
   ]
  },
  {
   "cell_type": "code",
   "execution_count": 74,
   "id": "6856ee58",
   "metadata": {},
   "outputs": [
    {
     "data": {
      "text/plain": [
       "[0.32, 0.27, 0.41]"
      ]
     },
     "execution_count": 74,
     "metadata": {},
     "output_type": "execute_result"
    }
   ],
   "source": [
    "# 3.\n",
    "x = [0.7765, 0.6543, 0.987]\n",
    "def frac_list_userf(x, y):\n",
    "    new_list = []\n",
    "    for i in x:\n",
    "        new_list.append(round((i / sum(x)), y))\n",
    "    return new_list\n",
    "    \n",
    "frac_list_userf(x, 2)"
   ]
  },
  {
   "cell_type": "code",
   "execution_count": 75,
   "id": "3148bbed",
   "metadata": {},
   "outputs": [
    {
     "data": {
      "text/plain": [
       "[0.41, 0.12, 0.47]"
      ]
     },
     "execution_count": 75,
     "metadata": {},
     "output_type": "execute_result"
    }
   ],
   "source": [
    "# 3., 4.\n",
    "x = [7, 2, 8]\n",
    "    \n",
    "frac_list_userf(x, 2)"
   ]
  },
  {
   "cell_type": "markdown",
   "id": "17e43098",
   "metadata": {},
   "source": [
    "## Problem 4\n",
    "A prime number is any whole number greater than 1 that has no positive divisors besides 1 and itself. In other words, a prime number must be:\n",
    "1. an integer\n",
    "2. greater than 1\n",
    "3. divisible only by 1 and itself.\n",
    "\n",
    "Write a function is_prime(n) that accepts an argument `n` and returns `True` (boolean) if `n` is a prime number and `False` if n is not prime. For example, `is_prime(11)` should return `True` and `is_prime(12)` should return `False`.\n"
   ]
  },
  {
   "cell_type": "code",
   "execution_count": 57,
   "id": "7b43bc6c",
   "metadata": {},
   "outputs": [],
   "source": [
    "def is_prime(n):\n",
    "    if type(n) is int and n > 1:\n",
    "        for i in range(2, int(n/2)):\n",
    "            if (n % i) == 0:\n",
    "                return False\n",
    "        else:\n",
    "            return True\n",
    "    elif n == 1:\n",
    "        print('function only accepts integers greater than 1')\n",
    "    else:\n",
    "        print('function only accepts integers')"
   ]
  },
  {
   "cell_type": "code",
   "execution_count": 58,
   "id": "d39eebe2",
   "metadata": {},
   "outputs": [
    {
     "data": {
      "text/plain": [
       "True"
      ]
     },
     "execution_count": 58,
     "metadata": {},
     "output_type": "execute_result"
    }
   ],
   "source": [
    "is_prime(11)"
   ]
  },
  {
   "cell_type": "code",
   "execution_count": 41,
   "id": "81d5f28f",
   "metadata": {},
   "outputs": [
    {
     "data": {
      "text/plain": [
       "False"
      ]
     },
     "execution_count": 41,
     "metadata": {},
     "output_type": "execute_result"
    }
   ],
   "source": [
    "is_prime(12)"
   ]
  },
  {
   "cell_type": "markdown",
   "id": "e556b42f",
   "metadata": {},
   "source": [
    "## Problem 5"
   ]
  },
  {
   "cell_type": "markdown",
   "id": "fd5f4463",
   "metadata": {},
   "source": [
    "1. Create a class called `Housing`, and add the following attributes to it:\n",
    "  - type\n",
    "  - area\n",
    "  - number of bedrooms\n",
    "  - value (price)\n",
    "  - year built.\n",
    "2. Create two instances of your class and populate their attributes (make 'em up)\n",
    "3. Create a method called `rent()` that calculates the estimated monthly rent for each house (assume that monthly rent is 0.4% of the value of the house)\n",
    "4. Print the rent for both instances."
   ]
  },
  {
   "cell_type": "code",
   "execution_count": 43,
   "id": "efa713df",
   "metadata": {},
   "outputs": [],
   "source": [
    "# 1., 3.\n",
    "class Housing:\n",
    "    def __init__(self, htype, areasqft, bedrooms, value, yearbuilt):\n",
    "        self.htype = htype\n",
    "        self.areasqft = areasqft\n",
    "        self.bedrooms = bedrooms\n",
    "        self.value = value\n",
    "        self.yearbuilt = yearbuilt\n",
    "    \n",
    "    def get_monthly_rent(self):\n",
    "        return (self.value * 0.004)"
   ]
  },
  {
   "cell_type": "code",
   "execution_count": 44,
   "id": "bcfd9322",
   "metadata": {},
   "outputs": [],
   "source": [
    "# 2.\n",
    "housing_1 = Housing('apartment', 800, 2, 798000, 2016)\n",
    "housing_2 = Housing('single-family home', 1200, 3, 1000000, 2013)"
   ]
  },
  {
   "cell_type": "code",
   "execution_count": 45,
   "id": "1ce8da36",
   "metadata": {},
   "outputs": [
    {
     "name": "stdout",
     "output_type": "stream",
     "text": [
      "3192.0\n",
      "4000.0\n"
     ]
    }
   ],
   "source": [
    "# 4.\n",
    "print(housing_1.get_monthly_rent())\n",
    "print(housing_2.get_monthly_rent())"
   ]
  }
 ],
 "metadata": {
  "kernelspec": {
   "display_name": "Python 3",
   "language": "python",
   "name": "python3"
  },
  "language_info": {
   "codemirror_mode": {
    "name": "ipython",
    "version": 3
   },
   "file_extension": ".py",
   "mimetype": "text/x-python",
   "name": "python",
   "nbconvert_exporter": "python",
   "pygments_lexer": "ipython3",
   "version": "3.8.8"
  },
  "toc": {
   "base_numbering": 1,
   "nav_menu": {},
   "number_sections": false,
   "sideBar": false,
   "skip_h1_title": true,
   "title_cell": "Table of Contents",
   "title_sidebar": "Contents",
   "toc_cell": false,
   "toc_position": {},
   "toc_section_display": true,
   "toc_window_display": false
  }
 },
 "nbformat": 4,
 "nbformat_minor": 5
}
