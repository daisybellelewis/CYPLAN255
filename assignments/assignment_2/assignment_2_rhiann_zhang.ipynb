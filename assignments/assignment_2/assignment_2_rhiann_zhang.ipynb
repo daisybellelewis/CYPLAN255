{
 "cells": [
  {
   "cell_type": "markdown",
   "id": "f96bdfc7",
   "metadata": {},
   "source": [
    "# Assignment 2 | Programming Logic\n",
    "\n",
    "Reminder: in all of the assignments this semester, the answer is not the only consideration, but also how you get to it. It's OK (suggested even!) to use the internet for help. But you _should_ be able to answer all of these questions using only the programming techniques you have learned in class and from the readings.\n",
    "\n",
    "A few keys for success:\n",
    "- Avoid manual data entry\n",
    "- Emphasize logic and clarity\n",
    "- Use comments, docstrings, and descriptive variable names\n",
    "- In general, less code is better. But if more lines of code makes your program easier to read or understand what its doing, then go for it."
   ]
  },
  {
   "cell_type": "markdown",
   "id": "078a9000",
   "metadata": {},
   "source": [
    "## Problem 1 \n",
    "Write a Python program to count the number of even and odd numbers from a list of numbers. Test your code by running it on a list of integers from 1 to 9. No need to make this a function unless you want to."
   ]
  },
  {
   "cell_type": "code",
   "execution_count": 25,
   "id": "71863ce6",
   "metadata": {},
   "outputs": [
    {
     "name": "stdout",
     "output_type": "stream",
     "text": [
      "There are 4 even numbers and 5 odd numbers in this list.\n"
     ]
    }
   ],
   "source": [
    "def count_even_odd(num_list): \n",
    "    even_count = 0 \n",
    "    odd_count = 0\n",
    "    for i in num_list:\n",
    "        if i % 2 == 0: \n",
    "            even_count = even_count + 1 \n",
    "        if i % 2 == 1: \n",
    "            odd_count = odd_count + 1 \n",
    "    print('There are', even_count, \"even numbers and\", odd_count, \n",
    "          \"odd numbers in this list.\")\n",
    "\n",
    "count_even_odd(list(range(1, 10)))"
   ]
  },
  {
   "cell_type": "markdown",
   "id": "db9df1a9",
   "metadata": {
    "collapsed": true
   },
   "source": [
    "## Problem 2\n",
    "Write a Python function that takes a list of numbers and returns a list containing only the even numbers from the original list. Test your function by running it on a list of integers from 1 to 9."
   ]
  },
  {
   "cell_type": "code",
   "execution_count": 26,
   "id": "45fcfd00",
   "metadata": {},
   "outputs": [
    {
     "data": {
      "text/plain": [
       "[2, 4, 6, 8]"
      ]
     },
     "execution_count": 26,
     "metadata": {},
     "output_type": "execute_result"
    }
   ],
   "source": [
    "def get_even_numbers(num_list): \n",
    "    even_list = []\n",
    "    for i in num_list: \n",
    "        if i % 2 == 0: \n",
    "            even_list.append(i) \n",
    "    return even_list \n",
    "\n",
    "get_even_numbers(list(range(1, 10)))"
   ]
  },
  {
   "cell_type": "markdown",
   "id": "6a6f4ef0",
   "metadata": {},
   "source": [
    "## Problem 3\n",
    "\n",
    "1. Create a function that accepts a list of integers as an argument and returns a list of floats which equals each number as a fraction of the sum of all the items in the original list.\n",
    "\n",
    "2. Next, create a second function which is the same as the first, but limit each number in the output list to two decimals.\n",
    "\n",
    "3. Create another function which builds on the previous one by allowing a \"user\" pass in an argument that defines the number of decimal places to use in the output list.\n",
    "\n",
    "4. Test each of these functions with a list of integers"
   ]
  },
  {
   "cell_type": "code",
   "execution_count": 27,
   "id": "6856ee58",
   "metadata": {},
   "outputs": [],
   "source": [
    "def get_float_list(int_list): \n",
    "    \"\"\"Accepts a list of integers as an argument and returns\n",
    "     a list of floats which equals each number as a fraction\n",
    "     of the sum of all the items in the original list\"\"\"\n",
    "    list_sum = sum(int_list)\n",
    "\n",
    "    float_list = []\n",
    "\n",
    "    for i in int_list:\n",
    "        float_list.append(i/list_sum)\n",
    "\n",
    "    return float_list"
   ]
  },
  {
   "cell_type": "code",
   "execution_count": 28,
   "id": "d1ea5121",
   "metadata": {},
   "outputs": [],
   "source": [
    "def get_2_dec_places(int_list): \n",
    "    \"\"\"This function is the same as the first, but it limits\n",
    "    each number in the output list to two decimals\"\"\"\n",
    "    list_sum = sum(int_list)\n",
    "\n",
    "    float_list = []\n",
    "\n",
    "    for i in int_list:\n",
    "        float_2places = round(i/list_sum, 2)\n",
    "        float_list.append(float_2places)\n",
    "    \n",
    "    return float_list"
   ]
  },
  {
   "cell_type": "code",
   "execution_count": 29,
   "id": "0e0330dc",
   "metadata": {},
   "outputs": [],
   "source": [
    "def get_rounded_floats(int_list, places): \n",
    "    \"\"\"This function builds on the previous one by allowing a \n",
    "    \"user\" pass in an argument that defines the number of \n",
    "    decimal places to use in the output list\"\"\"\n",
    "    list_sum = sum(int_list)\n",
    "\n",
    "    float_list = []\n",
    "\n",
    "    for i in int_list:\n",
    "        float_2places = round(i/list_sum, places)\n",
    "        float_list.append(float_2places)\n",
    "    \n",
    "    return float_list"
   ]
  },
  {
   "cell_type": "code",
   "execution_count": 31,
   "id": "e6972be7",
   "metadata": {},
   "outputs": [
    {
     "name": "stdout",
     "output_type": "stream",
     "text": [
      "[0.022222222222222223, 0.044444444444444446, 0.06666666666666667, 0.08888888888888889, 0.1111111111111111, 0.13333333333333333, 0.15555555555555556, 0.17777777777777778, 0.2]\n",
      "[0.02, 0.04, 0.07, 0.09, 0.11, 0.13, 0.16, 0.18, 0.2]\n",
      "[0.02222, 0.04444, 0.06667, 0.08889, 0.11111, 0.13333, 0.15556, 0.17778, 0.2]\n"
     ]
    }
   ],
   "source": [
    "# Test each of these functions with a list of integers\n",
    "int_list = list(range(1, 10))\n",
    "print(get_float_list(int_list))\n",
    "print(get_2_dec_places(int_list))\n",
    "print(get_rounded_floats(int_list, 5))"
   ]
  },
  {
   "cell_type": "markdown",
   "id": "17e43098",
   "metadata": {},
   "source": [
    "## Problem 4\n",
    "A prime number is any whole number greater than 1 that has no positive divisors besides 1 and itself. In other words, a prime number must be:\n",
    "1. an integer\n",
    "2. greater than 1\n",
    "3. divisible only by 1 and itself.\n",
    "\n",
    "Write a function is_prime(n) that accepts an argument `n` and returns `True` (boolean) if `n` is a prime number and `False` if n is not prime. For example, `is_prime(11)` should return `True` and `is_prime(12)` should return `False`.\n"
   ]
  },
  {
   "cell_type": "code",
   "execution_count": 32,
   "id": "7b43bc6c",
   "metadata": {},
   "outputs": [
    {
     "name": "stdout",
     "output_type": "stream",
     "text": [
      "True\n",
      "False\n",
      "True\n",
      "False\n",
      "False\n",
      "False\n"
     ]
    }
   ],
   "source": [
    "def is_prime(n): \n",
    "    import math \n",
    "    # First check if the number passed in is less than 1 or if it is not an integer \n",
    "    if (n < 1 or not(isinstance(n, int))):  \n",
    "        prime = False \n",
    "        return prime\n",
    "    \n",
    "    # Check if a number is divisible by integers starting from 2 and ending at the  \n",
    "    # integer value of the floor of the square root of the number \n",
    "    for i in range(2, int(math.sqrt(n)) + 1): \n",
    "        prime = True \n",
    "        if (n % i == 0): \n",
    "            prime = False \n",
    "            break \n",
    "    return prime \n",
    "\n",
    "print(is_prime(11))\n",
    "print(is_prime(12))\n",
    "print(is_prime(149))\n",
    "print(is_prime(-23))\n",
    "print(is_prime(31.1))\n",
    "print(is_prime(-31.1))"
   ]
  },
  {
   "cell_type": "markdown",
   "id": "e556b42f",
   "metadata": {},
   "source": [
    "## Problem 5"
   ]
  },
  {
   "cell_type": "markdown",
   "id": "fd5f4463",
   "metadata": {},
   "source": [
    "1. Create a class called `Housing`, and add the following attributes to it:\n",
    "  - type\n",
    "  - area\n",
    "  - number of bedrooms\n",
    "  - value (price)\n",
    "  - year built.\n",
    "2. Create two instances of your class and populate their attributes (make 'em up)\n",
    "3. Create a method called `rent()` that calculates the estimated monthly rent for each house (assume that monthly rent is 0.4% of the value of the house)\n",
    "4. Print the rent for both instances."
   ]
  },
  {
   "cell_type": "code",
   "execution_count": 21,
   "id": "efa713df",
   "metadata": {},
   "outputs": [],
   "source": [
    "class Housing:\n",
    "    def __init__(self, housing_type, area, num_of_bedrooms, value, year_built):\n",
    "        self.housing_type = housing_type\n",
    "        self.area = area\n",
    "        self.num_of_bedrooms = num_of_bedrooms \n",
    "        self.value = value \n",
    "        self.year_built = year_built \n",
    "        \n",
    "    def rent(self, rent_pct=0.004):\n",
    "        return round(self.value * (rent_pct))"
   ]
  },
  {
   "cell_type": "code",
   "execution_count": 22,
   "id": "12323244",
   "metadata": {},
   "outputs": [
    {
     "name": "stdout",
     "output_type": "stream",
     "text": [
      "12000\n",
      "3600\n"
     ]
    }
   ],
   "source": [
    "housing_1 = Housing('Apartment', 500, 2, 3000000, 1990)\n",
    "housing_2 = Housing('House', 1000, 4, 900000, 1970)\n",
    "\n",
    "print(housing_1.rent()) \n",
    "print(housing_2.rent()) "
   ]
  }
 ],
 "metadata": {
  "kernelspec": {
   "display_name": "Python 3 (ipykernel)",
   "language": "python",
   "name": "python3"
  },
  "language_info": {
   "codemirror_mode": {
    "name": "ipython",
    "version": 3
   },
   "file_extension": ".py",
   "mimetype": "text/x-python",
   "name": "python",
   "nbconvert_exporter": "python",
   "pygments_lexer": "ipython3",
   "version": "3.9.10"
  },
  "toc": {
   "base_numbering": 1,
   "nav_menu": {},
   "number_sections": false,
   "sideBar": false,
   "skip_h1_title": true,
   "title_cell": "Table of Contents",
   "title_sidebar": "Contents",
   "toc_cell": false,
   "toc_position": {},
   "toc_section_display": true,
   "toc_window_display": false
  }
 },
 "nbformat": 4,
 "nbformat_minor": 5
}
