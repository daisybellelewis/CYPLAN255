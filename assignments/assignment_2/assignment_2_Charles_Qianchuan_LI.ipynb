{
 "cells": [
  {
   "cell_type": "markdown",
   "id": "f96bdfc7",
   "metadata": {},
   "source": [
    "# Assignment 2 | Programming Logic\n",
    "\n",
    "Reminder: in all of the assignments this semester, the answer is not the only consideration, but also how you get to it. It's OK (suggested even!) to use the internet for help. But you _should_ be able to answer all of these questions using only the programming techniques you have learned in class and from the readings.\n",
    "\n",
    "A few keys for success:\n",
    "- Avoid manual data entry\n",
    "- Emphasize logic and clarity\n",
    "- Use comments, docstrings, and descriptive variable names\n",
    "- In general, less code is better. But if more lines of code makes your program easier to read or understand what its doing, then go for it."
   ]
  },
  {
   "cell_type": "markdown",
   "id": "078a9000",
   "metadata": {},
   "source": [
    "## Problem 1 \n",
    "Write a Python program to count the number of even and odd numbers from a list of numbers. Test your code by running it on a list of integers from 1 to 9. No need to make this a function unless you want to."
   ]
  },
  {
   "cell_type": "code",
   "execution_count": 3,
   "id": "8eb937c5",
   "metadata": {},
   "outputs": [
    {
     "name": "stdout",
     "output_type": "stream",
     "text": [
      "4\n",
      "5\n"
     ]
    }
   ],
   "source": [
    "n=1\n",
    "count_even=0\n",
    "count_odd=0\n",
    "while n<10:\n",
    "    if n%2==0:\n",
    "        count_even=count_even+1\n",
    "    else: count_odd=count_odd+1\n",
    "    n=n+1\n",
    "\n",
    "print(count_even)\n",
    "print(count_odd)"
   ]
  },
  {
   "cell_type": "markdown",
   "id": "db9df1a9",
   "metadata": {
    "collapsed": true
   },
   "source": [
    "## Problem 2\n",
    "Write a Python function that takes a list of numbers and returns a list containing only the even numbers from the original list. Test your function by running it on a list of integers from 1 to 9."
   ]
  },
  {
   "cell_type": "code",
   "execution_count": 23,
   "id": "45fcfd00",
   "metadata": {},
   "outputs": [
    {
     "data": {
      "text/plain": [
       "[2, 4, 6, 8]"
      ]
     },
     "execution_count": 23,
     "metadata": {},
     "output_type": "execute_result"
    }
   ],
   "source": [
    "even_list=[]\n",
    "def even_numbers(list_a):\n",
    "    #takes a list of numbers and returns a list containing only the even numbers from the original list\n",
    "    for number in list_a:\n",
    "        if number%2==0:\n",
    "            even_list.append(number)\n",
    "    return even_list\n",
    "            \n",
    "even_numbers(list(range(1,10)))"
   ]
  },
  {
   "cell_type": "markdown",
   "id": "6a6f4ef0",
   "metadata": {},
   "source": [
    "## Problem 3\n",
    "\n",
    "1. Create a function that accepts a list of integers as an argument and returns a list of floats which equals each number as a fraction of the sum of all the items in the original list.\n",
    "\n",
    "2. Next, create a second function which is the same as the first, but limit each number in the output list to two decimals.\n",
    "\n",
    "3. Create another function which builds on the previous one by allowing a \"user\" pass in an argument that defines the number of decimal places to use in the output list.\n",
    "\n",
    "4. Test each of these functions with a list of integers"
   ]
  },
  {
   "cell_type": "code",
   "execution_count": 33,
   "id": "6856ee58",
   "metadata": {},
   "outputs": [
    {
     "name": "stdout",
     "output_type": "stream",
     "text": [
      "[0.0, 0.022222222222222223, 0.044444444444444446, 0.06666666666666667, 0.08888888888888889, 0.1111111111111111, 0.13333333333333333, 0.15555555555555556, 0.17777777777777778, 0.2]\n",
      "[0.0, 0.02, 0.04, 0.07, 0.09, 0.11, 0.13, 0.16, 0.18, 0.2]\n",
      "[0.0, 0.02222, 0.04444, 0.06667, 0.08889, 0.11111, 0.13333, 0.15556, 0.17778, 0.2]\n"
     ]
    }
   ],
   "source": [
    "def number_fraction(list_integer):\n",
    "    #Take a list of integers as an argument and returns a list of floats which equals each number as a fraction of the sum\n",
    "    list_floats=[]\n",
    "    for integer in list_integer:\n",
    "        fraction=integer/sum(list_integer)\n",
    "        list_floats.append(fraction)\n",
    "    return list_floats\n",
    "\n",
    "print(number_fraction(list(range(10))))\n",
    "\n",
    "def number_fraction_2(list_integer):\n",
    "    #Same function as number_fraction but with a limit to two decimals\n",
    "    list_floats_2=[]\n",
    "    for integer in list_integer:\n",
    "        fraction=round(integer/sum(list_integer),2)\n",
    "        list_floats_2.append(fraction)\n",
    "    return list_floats_2\n",
    "\n",
    "print(number_fraction_2(list(range(10))))\n",
    "\n",
    "def number_fraction_3(list_integer,decimal_places):\n",
    "    #Similar function with number_fraction_2 but allow a \"user\" pass in an argument to define the decimal places\n",
    "    list_floats_3=[]\n",
    "    for integer in list_integer:\n",
    "        fraction=round(integer/sum(list_integer),decimal_places)\n",
    "        list_floats_3.append(fraction)\n",
    "    return list_floats_3\n",
    "\n",
    "print(number_fraction_3(list(range(10)),5))"
   ]
  },
  {
   "cell_type": "markdown",
   "id": "17e43098",
   "metadata": {},
   "source": [
    "## Problem 4\n",
    "A prime number is any whole number greater than 1 that has no positive divisors besides 1 and itself. In other words, a prime number must be:\n",
    "1. an integer\n",
    "2. greater than 1\n",
    "3. divisible only by 1 and itself.\n",
    "\n",
    "Write a function is_prime(n) that accepts an argument `n` and returns `True` (boolean) if `n` is a prime number and `False` if n is not prime. For example, `is_prime(11)` should return `True` and `is_prime(12)` should return `False`.\n"
   ]
  },
  {
   "cell_type": "code",
   "execution_count": 50,
   "id": "7b43bc6c",
   "metadata": {},
   "outputs": [
    {
     "name": "stdout",
     "output_type": "stream",
     "text": [
      "False\n",
      "True\n",
      "False\n",
      "False\n"
     ]
    }
   ],
   "source": [
    "def is_prime(n):\n",
    "    if n>1 and type(n)==int:\n",
    "        p_number=[]\n",
    "        for number in list(range(2,n)):\n",
    "            p_number.append(n%number)\n",
    "        if 0 in p_number:\n",
    "            return False\n",
    "        else:\n",
    "            return True\n",
    "    else:\n",
    "        return False\n",
    "\n",
    "print(is_prime(49))\n",
    "print(is_prime(11))\n",
    "print(is_prime(12))\n",
    "print(is_prime(5.5))"
   ]
  },
  {
   "cell_type": "markdown",
   "id": "e556b42f",
   "metadata": {},
   "source": [
    "## Problem 5"
   ]
  },
  {
   "cell_type": "markdown",
   "id": "fd5f4463",
   "metadata": {},
   "source": [
    "1. Create a class called `Housing`, and add the following attributes to it:\n",
    "  - type\n",
    "  - area\n",
    "  - number of bedrooms\n",
    "  - value (price)\n",
    "  - year built.\n",
    "2. Create two instances of your class and populate their attributes (make 'em up)\n",
    "3. Create a method called `rent()` that calculates the estimated monthly rent for each house (assume that monthly rent is 0.4% of the value of the house)\n",
    "4. Print the rent for both instances."
   ]
  },
  {
   "cell_type": "code",
   "execution_count": 55,
   "id": "efa713df",
   "metadata": {},
   "outputs": [
    {
     "name": "stdout",
     "output_type": "stream",
     "text": [
      "480.0\n",
      "720.0\n"
     ]
    }
   ],
   "source": [
    "class Housing:\n",
    "    \n",
    "    def __init__(self,Type,Area,Number_of_rooms,Value,Year_built):\n",
    "        self.Type=Type\n",
    "        self.Area=Area\n",
    "        self.Number_of_rooms=Number_of_rooms\n",
    "        self.Value=Value\n",
    "        self.Year_built=Year_built\n",
    "        \n",
    "    def rent(self):\n",
    "        return self.Value*0.004\n",
    "\n",
    "house_1=Housing(\"single_family\",\"500_square_feet\",3,120000,2010)\n",
    "house_2=Housing(\"single_family\",\"800_square_feet\",5,180000,2001)\n",
    "\n",
    "print(house_1.rent())\n",
    "print(house_2.rent())"
   ]
  }
 ],
 "metadata": {
  "kernelspec": {
   "display_name": "Python 3 (ipykernel)",
   "language": "python",
   "name": "python3"
  },
  "language_info": {
   "codemirror_mode": {
    "name": "ipython",
    "version": 3
   },
   "file_extension": ".py",
   "mimetype": "text/x-python",
   "name": "python",
   "nbconvert_exporter": "python",
   "pygments_lexer": "ipython3",
   "version": "3.9.7"
  },
  "toc": {
   "base_numbering": 1,
   "nav_menu": {},
   "number_sections": false,
   "sideBar": false,
   "skip_h1_title": true,
   "title_cell": "Table of Contents",
   "title_sidebar": "Contents",
   "toc_cell": false,
   "toc_position": {},
   "toc_section_display": true,
   "toc_window_display": false
  }
 },
 "nbformat": 4,
 "nbformat_minor": 5
}
