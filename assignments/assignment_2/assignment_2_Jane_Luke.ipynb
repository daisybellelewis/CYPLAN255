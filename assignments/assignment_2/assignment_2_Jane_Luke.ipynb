{
 "cells": [
  {
   "cell_type": "markdown",
   "id": "f96bdfc7",
   "metadata": {},
   "source": [
    "# Assignment 2 | Programming Logic\n",
    "\n",
    "Reminder: in all of the assignments this semester, the answer is not the only consideration, but also how you get to it. It's OK (suggested even!) to use the internet for help. But you _should_ be able to answer all of these questions using only the programming techniques you have learned in class and from the readings.\n",
    "\n",
    "A few keys for success:\n",
    "- Avoid manual data entry\n",
    "- Emphasize logic and clarity\n",
    "- Use comments, docstrings, and descriptive variable names\n",
    "- In general, less code is better. But if more lines of code makes your program easier to read or understand what its doing, then go for it."
   ]
  },
  {
   "cell_type": "markdown",
   "id": "078a9000",
   "metadata": {},
   "source": [
    "## Problem 1 \n",
    "Write a Python program to count the number of even and odd numbers from a list of numbers. Test your code by running it on a list of integers from 1 to 9. No need to make this a function unless you want to."
   ]
  },
  {
   "cell_type": "code",
   "execution_count": 1,
   "id": "1f62d470",
   "metadata": {},
   "outputs": [
    {
     "name": "stdout",
     "output_type": "stream",
     "text": [
      "Even numbers in the list:  4\n",
      "Odd numbers in the list:  5\n"
     ]
    }
   ],
   "source": [
    "ls = list(range(1, 10))\n",
    "ls\n",
    "\n",
    "odd_count = len(list(filter(lambda x: (x%2 != 0) , ls)))\n",
    "  \n",
    "even_count = len(list(filter(lambda x: (x%2 == 0) , ls)))\n",
    "  \n",
    "print(\"Even numbers in the list: \", even_count)\n",
    "print(\"Odd numbers in the list: \", odd_count)"
   ]
  },
  {
   "cell_type": "markdown",
   "id": "db9df1a9",
   "metadata": {
    "collapsed": true
   },
   "source": [
    "## Problem 2\n",
    "Write a Python function that takes a list of numbers and returns a list containing only the even numbers from the original list. Test your function by running it on a list of integers from 1 to 9."
   ]
  },
  {
   "cell_type": "code",
   "execution_count": 2,
   "id": "cf395aeb",
   "metadata": {},
   "outputs": [
    {
     "name": "stdout",
     "output_type": "stream",
     "text": [
      "2 4 6 8 "
     ]
    }
   ],
   "source": [
    "ls = list(range(1, 10))\n",
    "ls\n",
    "for num in ls:\n",
    "    if num % 2 == 0:\n",
    "        print(num, end=\" \")"
   ]
  },
  {
   "cell_type": "markdown",
   "id": "6a6f4ef0",
   "metadata": {},
   "source": [
    "## Problem 3\n",
    "\n",
    "1. Create a function that accepts a list of integers as an argument and returns a list of floats which equals each number as a fraction of the sum of all the items in the original list.\n",
    "\n",
    "2. Next, create a second function which is the same as the first, but limit each number in the output list to two decimals.\n",
    "\n",
    "3. Create another function which builds on the previous one by allowing a \"user\" pass in an argument that defines the number of decimal places to use in the output list.\n",
    "\n",
    "4. Test each of these functions with a list of integers"
   ]
  },
  {
   "cell_type": "code",
   "execution_count": 3,
   "id": "6856ee58",
   "metadata": {},
   "outputs": [
    {
     "name": "stdout",
     "output_type": "stream",
     "text": [
      "[0.005263157894736842, 0.010526315789473684, 0.015789473684210527, 0.021052631578947368, 0.02631578947368421, 0.031578947368421054, 0.03684210526315789, 0.042105263157894736, 0.04736842105263158, 0.05263157894736842, 0.05789473684210526, 0.06315789473684211, 0.06842105263157895, 0.07368421052631578, 0.07894736842105263, 0.08421052631578947, 0.08947368421052632, 0.09473684210526316, 0.1]\n"
     ]
    }
   ],
   "source": [
    "def Integer(num):\n",
    "    return [n/sum(num) for n in num]\n",
    "\n",
    "print(Integer(range(1,20)))"
   ]
  },
  {
   "cell_type": "code",
   "execution_count": 4,
   "id": "dd699fc5",
   "metadata": {},
   "outputs": [
    {
     "name": "stdout",
     "output_type": "stream",
     "text": [
      "[0.01, 0.01, 0.02, 0.02, 0.03, 0.03, 0.04, 0.04, 0.05, 0.05, 0.06, 0.06, 0.07, 0.07, 0.08, 0.08, 0.09, 0.09, 0.1]\n"
     ]
    }
   ],
   "source": [
    "def Integers(num):\n",
    "    return [round(n/sum(num),2) for n in num]\n",
    "\n",
    "print(Integers(range(1,20)))"
   ]
  },
  {
   "cell_type": "code",
   "execution_count": 5,
   "id": "a5093b80",
   "metadata": {},
   "outputs": [
    {
     "name": "stdout",
     "output_type": "stream",
     "text": [
      "[0.005, 0.011, 0.016, 0.021, 0.026, 0.032, 0.037, 0.042, 0.047, 0.053, 0.058, 0.063, 0.068, 0.074, 0.079, 0.084, 0.089, 0.095, 0.1]\n"
     ]
    }
   ],
   "source": [
    "def Integer_User(num,user):\n",
    "    return [round(n/sum(num),user) for n in num]\n",
    "\n",
    "print(Integer_User(range(1,20),user=3))"
   ]
  },
  {
   "cell_type": "markdown",
   "id": "17e43098",
   "metadata": {},
   "source": [
    "## Problem 4\n",
    "A prime number is any whole number greater than 1 that has no positive divisors besides 1 and itself. In other words, a prime number must be:\n",
    "1. an integer\n",
    "2. greater than 1\n",
    "3. divisible only by 1 and itself.\n",
    "\n",
    "Write a function is_prime(n) that accepts an argument `n` and returns `True` (boolean) if `n` is a prime number and `False` if n is not prime. For example, `is_prime(11)` should return `True` and `is_prime(12)` should return `False`.\n"
   ]
  },
  {
   "cell_type": "code",
   "execution_count": 6,
   "id": "7b43bc6c",
   "metadata": {},
   "outputs": [
    {
     "name": "stdout",
     "output_type": "stream",
     "text": [
      "True\n",
      "False\n"
     ]
    }
   ],
   "source": [
    "def is_prime(n):\n",
    "    if n >1:\n",
    "        if len([num for num in range(1,n) if n % num == 0])==1:\n",
    "            return True\n",
    "        else:\n",
    "            return False\n",
    "\n",
    "print(is_prime(11))\n",
    "print(is_prime(12))"
   ]
  },
  {
   "cell_type": "markdown",
   "id": "e556b42f",
   "metadata": {},
   "source": [
    "## Problem 5"
   ]
  },
  {
   "cell_type": "markdown",
   "id": "fd5f4463",
   "metadata": {},
   "source": [
    "1. Create a class called `Housing`, and add the following attributes to it:\n",
    "  - type\n",
    "  - area\n",
    "  - number of bedrooms\n",
    "  - value (price)\n",
    "  - year built.\n",
    "2. Create two instances of your class and populate their attributes (make 'em up)\n",
    "3. Create a method called `rent()` that calculates the estimated monthly rent for each house (assume that monthly rent is 0.4% of the value of the house)\n",
    "4. Print the rent for both instances."
   ]
  },
  {
   "cell_type": "code",
   "execution_count": 7,
   "id": "ac62e830",
   "metadata": {},
   "outputs": [],
   "source": [
    "class Housing:\n",
    "    \n",
    "    def __init__(self, _type, area, number_of_bedrooms, price, year_built):\n",
    "        self._type = _type\n",
    "        self.area= area\n",
    "        self.number_of_bedrooms= number_of_bedrooms\n",
    "        self.price= price\n",
    "        self.year_built= year_built\n",
    "        \n",
    "    def rent(self, p_rent=0.04):\n",
    "        return round(self.price * (p_rent))"
   ]
  },
  {
   "cell_type": "code",
   "execution_count": 8,
   "id": "6a6bdf1f",
   "metadata": {},
   "outputs": [],
   "source": [
    "house_1 = Housing('Bungalow', 'Berkeley', '3', 200000, '2000')\n",
    "house_2 = Housing('Two Story', 'San Francisco', '6', 500000, '2010')"
   ]
  },
  {
   "cell_type": "code",
   "execution_count": 9,
   "id": "d29887e0",
   "metadata": {},
   "outputs": [
    {
     "name": "stdout",
     "output_type": "stream",
     "text": [
      "8000\n",
      "20000\n"
     ]
    }
   ],
   "source": [
    "print(Housing.rent(house_1))\n",
    "print(Housing.rent(house_2))"
   ]
  }
 ],
 "metadata": {
  "kernelspec": {
   "display_name": "Python 3 (ipykernel)",
   "language": "python",
   "name": "python3"
  },
  "language_info": {
   "codemirror_mode": {
    "name": "ipython",
    "version": 3
   },
   "file_extension": ".py",
   "mimetype": "text/x-python",
   "name": "python",
   "nbconvert_exporter": "python",
   "pygments_lexer": "ipython3",
   "version": "3.9.7"
  },
  "toc": {
   "base_numbering": 1,
   "nav_menu": {},
   "number_sections": false,
   "sideBar": false,
   "skip_h1_title": true,
   "title_cell": "Table of Contents",
   "title_sidebar": "Contents",
   "toc_cell": false,
   "toc_position": {},
   "toc_section_display": true,
   "toc_window_display": false
  }
 },
 "nbformat": 4,
 "nbformat_minor": 5
}
