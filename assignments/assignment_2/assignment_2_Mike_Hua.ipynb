{
 "cells": [
  {
   "cell_type": "markdown",
   "id": "f96bdfc7",
   "metadata": {},
   "source": [
    "# Assignment 2 | Programming Logic\n",
    "\n",
    "Reminder: in all of the assignments this semester, the answer is not the only consideration, but also how you get to it. It's OK (suggested even!) to use the internet for help. But you _should_ be able to answer all of these questions using only the programming techniques you have learned in class and from the readings.\n",
    "\n",
    "A few keys for success:\n",
    "- Avoid manual data entry\n",
    "- Emphasize logic and clarity\n",
    "- Use comments, docstrings, and descriptive variable names\n",
    "- In general, less code is better. But if more lines of code makes your program easier to read or understand what its doing, then go for it."
   ]
  },
  {
   "cell_type": "markdown",
   "id": "078a9000",
   "metadata": {},
   "source": [
    "## Problem 1 \n",
    "Write a Python program to count the number of even and odd numbers from a list of numbers. Test your code by running it on a list of integers from 1 to 9. No need to make this a function unless you want to."
   ]
  },
  {
   "cell_type": "code",
   "execution_count": 7,
   "id": "8eb937c5",
   "metadata": {
    "collapsed": true
   },
   "outputs": [
    {
     "name": "stdout",
     "output_type": "stream",
     "text": [
      "[1, 2, 3, 4, 5, 6, 7, 8, 9]\n"
     ]
    },
    {
     "data": {
      "text/plain": [
       "(4, 5)"
      ]
     },
     "execution_count": 7,
     "metadata": {},
     "output_type": "execute_result"
    }
   ],
   "source": [
    "list_int = list(range(1,10,1))\n",
    "print(list_int)\n",
    "\n",
    "def even_odd(ls):\n",
    "    ''' Counts number of evens and odds in a list of integers. Return a tuple (even, odd) with the num of evens first, then num of odds. \n",
    "    Only intended to work with lists of integers, not floats.'''\n",
    "    \n",
    "    odd = sum(list(map(lambda x: x % 2, ls))) # sum modulo 2 of list to get count of odds\n",
    "    even = len(ls) - odd # any integer in the list that isn't an odd is an even\n",
    "    return even, odd # return a tuple (even, odd)\n",
    "\n",
    "even_odd(list_int)"
   ]
  },
  {
   "cell_type": "markdown",
   "id": "db9df1a9",
   "metadata": {
    "collapsed": true
   },
   "source": [
    "## Problem 2\n",
    "Write a Python function that takes a list of numbers and returns a list containing only the even numbers from the original list. Test your function by running it on a list of integers from 1 to 9."
   ]
  },
  {
   "cell_type": "code",
   "execution_count": 11,
   "id": "45fcfd00",
   "metadata": {},
   "outputs": [
    {
     "data": {
      "text/plain": [
       "[2, 4, 6, 8]"
      ]
     },
     "execution_count": 11,
     "metadata": {},
     "output_type": "execute_result"
    }
   ],
   "source": [
    "list_int = list(range(1,10,1))\n",
    "\n",
    "def only_even(ls):\n",
    "    ''' Takes a list of numbers and returns a list containing only the even numbers \n",
    "    Only intended to work with lists of integers, not floats.'''\n",
    "    \n",
    "    return [num for num in ls if num % 2 == 0]\n",
    "\n",
    "only_even(list_int)"
   ]
  },
  {
   "cell_type": "markdown",
   "id": "6a6f4ef0",
   "metadata": {},
   "source": [
    "## Problem 3\n",
    "\n",
    "1. Create a function that accepts a list of integers as an argument and returns a list of floats which equals each number as a fraction of the sum of all the items in the original list.\n",
    "\n",
    "2. Next, create a second function which is the same as the first, but limit each number in the output list to two decimals.\n",
    "\n",
    "3. Create another function which builds on the previous one by allowing a \"user\" pass in an argument that defines the number of decimal places to use in the output list.\n",
    "\n",
    "4. Test each of these functions with a list of integers"
   ]
  },
  {
   "cell_type": "code",
   "execution_count": 31,
   "id": "6856ee58",
   "metadata": {
    "collapsed": true
   },
   "outputs": [
    {
     "data": {
      "text/plain": [
       "[0.022222222222222223,\n",
       " 0.044444444444444446,\n",
       " 0.06666666666666667,\n",
       " 0.08888888888888889,\n",
       " 0.1111111111111111,\n",
       " 0.13333333333333333,\n",
       " 0.15555555555555556,\n",
       " 0.17777777777777778,\n",
       " 0.2]"
      ]
     },
     "execution_count": 31,
     "metadata": {},
     "output_type": "execute_result"
    }
   ],
   "source": [
    "# 1\n",
    "def proportion(ls):\n",
    "    '''accepts a list of integers as an argument and returns a list of floats which equals \n",
    "    each number as a fraction of the sum of all the items in the original list'''\n",
    "    return list(map(lambda x: x / sum(ls), ls))\n",
    "\n",
    "proportion(list_int)\n"
   ]
  },
  {
   "cell_type": "code",
   "execution_count": 32,
   "id": "3caa3dac",
   "metadata": {},
   "outputs": [
    {
     "data": {
      "text/plain": [
       "[0.02, 0.04, 0.07, 0.09, 0.11, 0.13, 0.16, 0.18, 0.2]"
      ]
     },
     "execution_count": 32,
     "metadata": {},
     "output_type": "execute_result"
    }
   ],
   "source": [
    "# 2\n",
    "def proportion_2(ls):\n",
    "    '''accepts a list of integers as an argument and returns a list of floats with two decimals which equals \n",
    "    each number as a fraction of the sum of all the items in the original list'''\n",
    "    return list(map(lambda x: round(x / sum(ls),2), ls))\n",
    "\n",
    "proportion_2(list_int)\n"
   ]
  },
  {
   "cell_type": "code",
   "execution_count": 33,
   "id": "4233f399",
   "metadata": {},
   "outputs": [
    {
     "data": {
      "text/plain": [
       "[0.022, 0.044, 0.067, 0.089, 0.111, 0.133, 0.156, 0.178, 0.2]"
      ]
     },
     "execution_count": 33,
     "metadata": {},
     "output_type": "execute_result"
    }
   ],
   "source": [
    "# 3\n",
    "def proportion_d(ls,dec):\n",
    "    '''accepts a list of integers as an argument and returns a list of floats with two decimals which equals \n",
    "    each number as a fraction of the sum of all the items in the original list'''\n",
    "    return list(map(lambda x: round(x / sum(ls),dec), ls))\n",
    "\n",
    "proportion_d(list_int,3)"
   ]
  },
  {
   "cell_type": "markdown",
   "id": "17e43098",
   "metadata": {},
   "source": [
    "## Problem 4\n",
    "A prime number is any whole number greater than 1 that has no positive divisors besides 1 and itself. In other words, a prime number must be:\n",
    "1. an integer\n",
    "2. greater than 1\n",
    "3. divisible only by 1 and itself.\n",
    "\n",
    "Write a function is_prime(n) that accepts an argument `n` and returns `True` (boolean) if `n` is a prime number and `False` if n is not prime. For example, `is_prime(11)` should return `True` and `is_prime(12)` should return `False`.\n"
   ]
  },
  {
   "cell_type": "code",
   "execution_count": 69,
   "id": "7b43bc6c",
   "metadata": {
    "collapsed": true
   },
   "outputs": [
    {
     "name": "stdout",
     "output_type": "stream",
     "text": [
      "True\n",
      "False\n"
     ]
    }
   ],
   "source": [
    "def is_prime(n):\n",
    "    '''Returns True if the argument is a prime number.'''\n",
    "    # test the 3 rules of primes\n",
    "    # test if the argument is only divisible by 1 and itself by testing if all the modulos of the argument are not equal to 0\n",
    "    return isinstance(n, int) and (n > 1) and all(list(map(lambda x: (n % x) != 0, list(range(2,n,1))))) \n",
    "\n",
    "print(is_prime(11))\n",
    "print(is_prime(12))"
   ]
  },
  {
   "cell_type": "markdown",
   "id": "e556b42f",
   "metadata": {},
   "source": [
    "## Problem 5"
   ]
  },
  {
   "cell_type": "markdown",
   "id": "fd5f4463",
   "metadata": {},
   "source": [
    "1. Create a class called `Housing`, and add the following attributes to it:\n",
    "  - type\n",
    "  - area\n",
    "  - number of bedrooms\n",
    "  - value (price)\n",
    "  - year built.\n",
    "2. Create two instances of your class and populate their attributes (make 'em up)\n",
    "3. Create a method called `rent()` that calculates the estimated monthly rent for each house (assume that monthly rent is 0.4% of the value of the house)\n",
    "4. Print the rent for both instances."
   ]
  },
  {
   "cell_type": "code",
   "execution_count": 67,
   "id": "efa713df",
   "metadata": {
    "collapsed": true
   },
   "outputs": [
    {
     "name": "stdout",
     "output_type": "stream",
     "text": [
      "2800.0\n",
      "2200.0\n"
     ]
    }
   ],
   "source": [
    "class Housing:\n",
    "    def __init__(self, type, area, beds, price, year):\n",
    "        self.type = type\n",
    "        self.area = area\n",
    "        self.beds = beds\n",
    "        self.price = price\n",
    "        self.year = year\n",
    "        \n",
    "    def rent(self):\n",
    "        '''Return the monthly rent of the housing (assuming rent is 0.4% of price)'''\n",
    "        return self.price * 0.004\n",
    "\n",
    "apt_1 = Housing('apt', 1000, 2, 700000, 1998)\n",
    "apt_2 = Housing('apt', 800, 1, 550000, 2006)\n",
    "\n",
    "print(apt_1.rent())\n",
    "print(apt_2.rent())"
   ]
  },
  {
   "cell_type": "code",
   "execution_count": null,
   "id": "918390e4",
   "metadata": {},
   "outputs": [],
   "source": []
  }
 ],
 "metadata": {
  "interpreter": {
   "hash": "40d3a090f54c6569ab1632332b64b2c03c39dcf918b08424e98f38b5ae0af88f"
  },
  "kernelspec": {
   "display_name": "Python [conda env:cp255] *",
   "language": "python",
   "name": "python3"
  },
  "language_info": {
   "codemirror_mode": {
    "name": "ipython",
    "version": 3
   },
   "file_extension": ".py",
   "mimetype": "text/x-python",
   "name": "python",
   "nbconvert_exporter": "python",
   "pygments_lexer": "ipython3",
   "version": "3.9.7"
  },
  "toc": {
   "base_numbering": 1,
   "nav_menu": {},
   "number_sections": false,
   "sideBar": false,
   "skip_h1_title": true,
   "title_cell": "Table of Contents",
   "title_sidebar": "Contents",
   "toc_cell": false,
   "toc_position": {},
   "toc_section_display": true,
   "toc_window_display": false
  }
 },
 "nbformat": 4,
 "nbformat_minor": 5
}
