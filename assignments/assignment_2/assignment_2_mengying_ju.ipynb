{
 "cells": [
  {
   "cell_type": "markdown",
   "id": "f96bdfc7",
   "metadata": {},
   "source": [
    "# Assignment 2 | Programming Logic\n",
    "\n",
    "Reminder: in all of the assignments this semester, the answer is not the only consideration, but also how you get to it. It's OK (suggested even!) to use the internet for help. But you _should_ be able to answer all of these questions using only the programming techniques you have learned in class and from the readings.\n",
    "\n",
    "A few keys for success:\n",
    "- Avoid manual data entry\n",
    "- Emphasize logic and clarity\n",
    "- Use comments, docstrings, and descriptive variable names\n",
    "- In general, less code is better. But if more lines of code makes your program easier to read or understand what its doing, then go for it."
   ]
  },
  {
   "cell_type": "markdown",
   "id": "078a9000",
   "metadata": {},
   "source": [
    "## Problem 1 \n",
    "Write a Python program to count the number of even and odd numbers from a list of numbers. Test your code by running it on a list of integers from 1 to 9. No need to make this a function unless you want to."
   ]
  },
  {
   "cell_type": "code",
   "execution_count": 3,
   "id": "8eb937c5",
   "metadata": {
    "tags": []
   },
   "outputs": [
    {
     "name": "stdout",
     "output_type": "stream",
     "text": [
      "Even numbes:\t4\n",
      "Odd numbers:\t5\n"
     ]
    }
   ],
   "source": [
    "'''Create a list of numbers from 1 to 9'''\n",
    "nums = range(1, 10)\n",
    "\n",
    "'''Count the even numbers'''\n",
    "evens = sum([1 if num % 2 == 0 else 0 for num in nums])\n",
    "odds = len(nums) - evens\n",
    "\n",
    "'''Print the results'''\n",
    "print('Even numbes:\\t{}\\nOdd numbers:\\t{}'.format(evens, odds))"
   ]
  },
  {
   "cell_type": "markdown",
   "id": "db9df1a9",
   "metadata": {},
   "source": [
    "## Problem 2\n",
    "Write a Python function that takes a list of numbers and returns a list containing only the even numbers from the original list. Test your function by running it on a list of integers from 1 to 9."
   ]
  },
  {
   "cell_type": "code",
   "execution_count": 7,
   "id": "45fcfd00",
   "metadata": {},
   "outputs": [
    {
     "data": {
      "text/plain": [
       "[2, 4, 6, 8]"
      ]
     },
     "execution_count": 7,
     "metadata": {},
     "output_type": "execute_result"
    }
   ],
   "source": [
    "'''Define the function'''\n",
    "def find_evens(lst):\n",
    "    '''\n",
    "    takes a list of numbers and \n",
    "    returns a list containing only the \n",
    "    even numbers from the original list\n",
    "    '''\n",
    "    return [num for num in lst if num % 2 == 0]\n",
    "\n",
    "'''Test the function'''\n",
    "find_evens(nums)"
   ]
  },
  {
   "cell_type": "markdown",
   "id": "6a6f4ef0",
   "metadata": {},
   "source": [
    "## Problem 3\n",
    "\n",
    "1. Create a function that accepts a list of integers as an argument and returns a list of floats which equals each number as a fraction of the sum of all the items in the original list.\n",
    "\n",
    "2. Next, create a second function which is the same as the first, but limit each number in the output list to two decimals.\n",
    "\n",
    "3. Create another function which builds on the previous one by allowing a \"user\" pass in an argument that defines the number of decimal places to use in the output list.\n",
    "\n",
    "4. Test each of these functions with a list of integers"
   ]
  },
  {
   "cell_type": "code",
   "execution_count": 27,
   "id": "6856ee58",
   "metadata": {
    "tags": []
   },
   "outputs": [],
   "source": [
    "'''Define the function'''\n",
    "def extract_floats(lst):\n",
    "    '''\n",
    "    Accepts a list of integers as an argument \n",
    "    and returns a list of floats which equals \n",
    "    each number as a fraction of the sum of \n",
    "    all the items in the original list.\n",
    "    '''\n",
    "    # Get the total numbers\n",
    "    counts = len(lst)\n",
    "    return [num / counts for num in lst]\n",
    "\n",
    "    "
   ]
  },
  {
   "cell_type": "code",
   "execution_count": 28,
   "id": "3622286e-79bb-44cc-8715-ca5495aba768",
   "metadata": {},
   "outputs": [],
   "source": [
    "'''Define another function'''\n",
    "def extract_floats_2(lst):\n",
    "    '''\n",
    "    Same as the first, but limit each number \n",
    "    in the output list to two decimals\n",
    "    '''\n",
    "    # Get the total numbers\n",
    "    counts = len(lst)\n",
    "    return [round(num / counts, 2)  for num in lst]\n"
   ]
  },
  {
   "cell_type": "code",
   "execution_count": 29,
   "id": "6cf6ab74-1e8d-4a1b-98dc-2addc0fe4b22",
   "metadata": {},
   "outputs": [],
   "source": [
    "'''Define the third function'''\n",
    "def extract_floats_3(lst, num_decimals):\n",
    "    '''\n",
    "    Allowing a \"user\" pass in an argument \n",
    "    that defines the number of decimal places to use in the output list.\n",
    "    '''\n",
    "    # Get the total numbers\n",
    "    counts = len(lst)\n",
    "    return [round(num / counts, num_decimals) for num in lst]\n"
   ]
  },
  {
   "cell_type": "code",
   "execution_count": 30,
   "id": "c838dcc8-0eb8-45c0-8930-b83863da3e12",
   "metadata": {},
   "outputs": [
    {
     "name": "stdout",
     "output_type": "stream",
     "text": [
      "[0.1111111111111111, 0.2222222222222222, 0.3333333333333333, 0.4444444444444444, 0.5555555555555556, 0.6666666666666666, 0.7777777777777778, 0.8888888888888888, 1.0]\n",
      "[0.11, 0.22, 0.33, 0.44, 0.56, 0.67, 0.78, 0.89, 1.0]\n",
      "[0.11111, 0.22222, 0.33333, 0.44444, 0.55556, 0.66667, 0.77778, 0.88889, 1.0]\n"
     ]
    }
   ],
   "source": [
    "'''Testing with a list of integers from 1 to 9'''\n",
    "# extract_floats\n",
    "print(extract_floats(nums))\n",
    "# extract_floats_2\n",
    "print(extract_floats_2(nums))\n",
    "# extract_floats_3\n",
    "print(extract_floats_3(nums, 5))"
   ]
  },
  {
   "cell_type": "markdown",
   "id": "17e43098",
   "metadata": {},
   "source": [
    "## Problem 4\n",
    "A prime number is any whole number greater than 1 that has no positive divisors besides 1 and itself. In other words, a prime number must be:\n",
    "1. an integer\n",
    "2. greater than 1\n",
    "3. divisible only by 1 and itself.\n",
    "\n",
    "Write a function is_prime(n) that accepts an argument `n` and returns `True` (boolean) if `n` is a prime number and `False` if n is not prime. For example, `is_prime(11)` should return `True` and `is_prime(12)` should return `False`.\n"
   ]
  },
  {
   "cell_type": "code",
   "execution_count": 36,
   "id": "7b43bc6c",
   "metadata": {
    "tags": []
   },
   "outputs": [],
   "source": [
    "'''Define the is_prime function'''\n",
    "def is_prime(n):\n",
    "    '''\n",
    "    Accepts an argument n and returns True (boolean) \n",
    "    if n is a prime number and False if n is not prime\n",
    "    '''\n",
    "    if type(n) != int or n <= 1:\n",
    "        return False\n",
    "    for i in range(2, n):\n",
    "        if n % i == 0:\n",
    "            return False\n",
    "    return True"
   ]
  },
  {
   "cell_type": "code",
   "execution_count": 39,
   "id": "09562871-8877-4031-9087-3850531b35af",
   "metadata": {},
   "outputs": [
    {
     "name": "stdout",
     "output_type": "stream",
     "text": [
      "-1 False\n",
      "1 False\n",
      "2 True\n",
      "2.0 False\n",
      "3 True\n",
      "4 False\n",
      "5 True\n",
      "6 False\n",
      "7 True\n",
      "8 False\n",
      "9 False\n",
      "11 True\n",
      "12 False\n",
      "23 True\n"
     ]
    }
   ],
   "source": [
    "'''Testing'''\n",
    "print(\"-1\", is_prime(-1))\n",
    "print(\"1\", is_prime(1))\n",
    "print(\"2\", is_prime(2))\n",
    "print(\"2.0\", is_prime(2.0))\n",
    "print(\"3\", is_prime(3))\n",
    "print(\"4\", is_prime(4))\n",
    "print(\"5\", is_prime(5))\n",
    "print(\"6\", is_prime(6))\n",
    "print(\"7\", is_prime(7))\n",
    "print(\"8\", is_prime(8))\n",
    "print(\"9\", is_prime(9))\n",
    "print(\"11\", is_prime(11))\n",
    "print(\"12\", is_prime(12))\n",
    "print(\"23\", is_prime(23))"
   ]
  },
  {
   "cell_type": "markdown",
   "id": "e556b42f",
   "metadata": {},
   "source": [
    "## Problem 5"
   ]
  },
  {
   "cell_type": "markdown",
   "id": "fd5f4463",
   "metadata": {},
   "source": [
    "1. Create a class called `Housing`, and add the following attributes to it:\n",
    "  - type\n",
    "  - area\n",
    "  - number of bedrooms\n",
    "  - value (price)\n",
    "  - year built.\n",
    "2. Create two instances of your class and populate their attributes (make 'em up)\n",
    "3. Create a method called `rent()` that calculates the estimated monthly rent for each house (assume that monthly rent is 0.4% of the value of the house)\n",
    "4. Print the rent for both instances."
   ]
  },
  {
   "cell_type": "code",
   "execution_count": 40,
   "id": "efa713df",
   "metadata": {
    "tags": []
   },
   "outputs": [],
   "source": [
    "'''Create the class'''\n",
    "class Housing:\n",
    "    def __init__(self, _type, area, n_beds, value, year):\n",
    "        self._type = _type\n",
    "        self.area = area\n",
    "        self.n_beds = n_beds\n",
    "        self.value = value\n",
    "        self.year = year\n",
    "        \n",
    "    def rent(self):\n",
    "        return self.value * 0.004"
   ]
  },
  {
   "cell_type": "code",
   "execution_count": 41,
   "id": "ea00c300-39f4-42b4-bf16-92593c8c54af",
   "metadata": {},
   "outputs": [],
   "source": [
    "'''Create two instances'''\n",
    "house1 = Housing('townhome', 'south', 2, 380000, 2005)\n",
    "house2 = Housing('condo', 'east', 4, 493000, 2018)"
   ]
  },
  {
   "cell_type": "code",
   "execution_count": 42,
   "id": "e3602081-c4ea-4dbc-bf26-2806d4014164",
   "metadata": {},
   "outputs": [
    {
     "name": "stdout",
     "output_type": "stream",
     "text": [
      "Rent of house 1: 1520.0\n",
      "Rent of house 2: 1972.0\n"
     ]
    }
   ],
   "source": [
    "'''Print the rent'''\n",
    "print(\"Rent of house 1:\", house1.rent())\n",
    "print(\"Rent of house 2:\", house2.rent())"
   ]
  }
 ],
 "metadata": {
  "kernelspec": {
   "display_name": "Python 3",
   "language": "python",
   "name": "python3"
  },
  "language_info": {
   "codemirror_mode": {
    "name": "ipython",
    "version": 3
   },
   "file_extension": ".py",
   "mimetype": "text/x-python",
   "name": "python",
   "nbconvert_exporter": "python",
   "pygments_lexer": "ipython3",
   "version": "3.8.5"
  },
  "toc": {
   "base_numbering": 1,
   "nav_menu": {},
   "number_sections": false,
   "sideBar": false,
   "skip_h1_title": true,
   "title_cell": "Table of Contents",
   "title_sidebar": "Contents",
   "toc_cell": false,
   "toc_position": {},
   "toc_section_display": true,
   "toc_window_display": false
  }
 },
 "nbformat": 4,
 "nbformat_minor": 5
}
