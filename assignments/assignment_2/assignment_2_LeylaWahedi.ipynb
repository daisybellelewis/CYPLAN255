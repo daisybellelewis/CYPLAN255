{
 "cells": [
  {
   "cell_type": "markdown",
   "id": "f96bdfc7",
   "metadata": {},
   "source": [
    "# Assignment 2 | Programming Logic\n",
    "\n",
    "Reminder: in all of the assignments this semester, the answer is not the only consideration, but also how you get to it. It's OK (suggested even!) to use the internet for help. But you _should_ be able to answer all of these questions using only the programming techniques you have learned in class and from the readings.\n",
    "\n",
    "A few keys for success:\n",
    "- Avoid manual data entry\n",
    "- Emphasize logic and clarity\n",
    "- Use comments, docstrings, and descriptive variable names\n",
    "- In general, less code is better. But if more lines of code makes your program easier to read or understand what its doing, then go for it."
   ]
  },
  {
   "cell_type": "markdown",
   "id": "078a9000",
   "metadata": {},
   "source": [
    "## Problem 1 \n",
    "Write a Python program to count the number of even and odd numbers from a list of numbers. Test your code by running it on a list of integers from 1 to 9. No need to make this a function unless you want to."
   ]
  },
  {
   "cell_type": "code",
   "execution_count": 33,
   "id": "8eb937c5",
   "metadata": {},
   "outputs": [
    {
     "name": "stdout",
     "output_type": "stream",
     "text": [
      "[1, 2, 3, 4, 5, 6, 7, 8, 9]\n"
     ]
    }
   ],
   "source": [
    "#1\n",
    "list = [i for i in range (1,10)]\n",
    "\n",
    "print(list)"
   ]
  },
  {
   "cell_type": "code",
   "execution_count": 34,
   "id": "6acdb0b7",
   "metadata": {},
   "outputs": [
    {
     "name": "stdout",
     "output_type": "stream",
     "text": [
      "Even numbers in the list:  4\n",
      "Odd numbers in the list:  5\n"
     ]
    }
   ],
   "source": [
    "even_count, odd_count = 0, 0\n",
    "  \n",
    "for num in list:\n",
    "      \n",
    "\n",
    "    if num % 2 == 0:\n",
    "        even_count += 1\n",
    "  \n",
    "    else:\n",
    "        odd_count += 1\n",
    "print(\"Even numbers in the list: \", even_count)\n",
    "print(\"Odd numbers in the list: \", odd_count)"
   ]
  },
  {
   "cell_type": "markdown",
   "id": "db9df1a9",
   "metadata": {
    "collapsed": true
   },
   "source": [
    "## Problem 2\n",
    "Write a Python function that takes a list of numbers and returns a list containing only the even numbers from the original list. Test your function by running it on a list of integers from 1 to 9."
   ]
  },
  {
   "cell_type": "code",
   "execution_count": 37,
   "id": "45fcfd00",
   "metadata": {},
   "outputs": [
    {
     "name": "stdout",
     "output_type": "stream",
     "text": [
      "[1, 2, 3, 4, 5, 6, 7, 8, 9]\n",
      "[2, 4, 6, 8]\n"
     ]
    }
   ],
   "source": [
    "#2\n",
    "print(list)\n",
    "\n",
    "\n",
    "even = [num for num in list if num %2 ==0]\n",
    "\n",
    "print(even)"
   ]
  },
  {
   "cell_type": "markdown",
   "id": "6a6f4ef0",
   "metadata": {},
   "source": [
    "## Problem 3\n",
    "\n",
    "1. Create a function that accepts a list of integers as an argument and returns a list of floats which equals each number as a fraction of the sum of all the items in the original list.\n",
    "\n",
    "2. Next, create a second function which is the same as the first, but limit each number in the output list to two decimals.\n",
    "\n",
    "3. Create another function which builds on the previous one by allowing a \"user\" pass in an argument that defines the number of decimal places to use in the output list.\n",
    "\n",
    "4. Test each of these functions with a list of integers"
   ]
  },
  {
   "cell_type": "code",
   "execution_count": 194,
   "id": "6856ee58",
   "metadata": {},
   "outputs": [
    {
     "name": "stdout",
     "output_type": "stream",
     "text": [
      "[1, 2, 3, 4, 5]\n",
      "[1.0, 2.0, 3.0, 4.0, 5.0]\n",
      "[0.06666666666666667, 0.13333333333333333, 0.2, 0.26666666666666666, 0.3333333333333333]\n",
      "6666666666666667/100000000000000000\n",
      "13333333333333333/100000000000000000\n",
      "1/5\n",
      "13333333333333333/50000000000000000\n",
      "3333333333333333/10000000000000000\n"
     ]
    }
   ],
   "source": [
    "#3.1\n",
    "from fractions import Fraction\n",
    "import numpy as np\n",
    "import math \n",
    "\n",
    "list3 = [1, 2, 3, 4, 5]\n",
    "print(list3)\n",
    "\n",
    "flt_list3 = []\n",
    "\n",
    "print([float(flt_list3) for flt_list3 in list3])\n",
    "\n",
    "for number in list3:\n",
    "    flt_list3.append(number / sum(range(1,6)))\n",
    "\n",
    "print(flt_list3)\n",
    "\n",
    "for fractions in flt_list3:\n",
    "    print(Fraction(str(fractions)))"
   ]
  },
  {
   "cell_type": "code",
   "execution_count": 195,
   "id": "4b9d91bf",
   "metadata": {},
   "outputs": [
    {
     "name": "stdout",
     "output_type": "stream",
     "text": [
      "[1, 2, 3, 4, 5]\n",
      "[1.0, 2.0, 3.0, 4.0, 5.0]\n",
      "['0.07', '0.13', '0.20', '0.27', '0.33']\n",
      "7/100\n",
      "13/100\n",
      "1/5\n",
      "27/100\n",
      "33/100\n"
     ]
    }
   ],
   "source": [
    "#3.2\n",
    "\n",
    "list3 = [1, 2, 3, 4, 5]\n",
    "print(list3)\n",
    "\n",
    "flt_list3 = []\n",
    "\n",
    "print([float(flt_list3) for flt_list3 in list3])\n",
    "\n",
    "for number in list3:\n",
    "    flt_list3.append(number / sum(range(1,6)))\n",
    "\n",
    "formatted_list3 = [ '%.2f' % elem for elem in flt_list3 ]\n",
    "\n",
    "print(formatted_list3)\n",
    "\n",
    "for fractions in formatted_list3:\n",
    "    print(Fraction(str(fractions)))"
   ]
  },
  {
   "cell_type": "code",
   "execution_count": 247,
   "id": "c128d384",
   "metadata": {},
   "outputs": [],
   "source": [
    "#3.3\n",
    "\n",
    "flt_list3 = [0.06666666666666667, 0.13333333333333333, 0.2, 0.26666666666666666, 0.3333333333333333]\n",
    "\n",
    "for number in list3:\n",
    "    flt_list3.append(number / sum(range(1,6)))\n",
    "\n",
    "round_choice = []\n",
    "\n",
    "def decimal_choice(n):\n",
    "    if n >=1:\n",
    "        round_choice = [round(number, n) for number in flt_list3]\n"
   ]
  },
  {
   "cell_type": "code",
   "execution_count": 248,
   "id": "dcc363bc",
   "metadata": {},
   "outputs": [
    {
     "ename": "TypeError",
     "evalue": "'list' object is not callable",
     "output_type": "error",
     "traceback": [
      "\u001b[1;31m---------------------------------------------------------------------------\u001b[0m",
      "\u001b[1;31mTypeError\u001b[0m                                 Traceback (most recent call last)",
      "\u001b[1;32m~\\AppData\\Local\\Temp/ipykernel_7040/2607945829.py\u001b[0m in \u001b[0;36m<module>\u001b[1;34m\u001b[0m\n\u001b[1;32m----> 1\u001b[1;33m \u001b[0mprint\u001b[0m\u001b[1;33m(\u001b[0m\u001b[0mround_choice\u001b[0m\u001b[1;33m(\u001b[0m\u001b[1;36m3\u001b[0m\u001b[1;33m)\u001b[0m\u001b[1;33m)\u001b[0m\u001b[1;33m\u001b[0m\u001b[1;33m\u001b[0m\u001b[0m\n\u001b[0m",
      "\u001b[1;31mTypeError\u001b[0m: 'list' object is not callable"
     ]
    }
   ],
   "source": [
    "print(round_choice(3))"
   ]
  },
  {
   "cell_type": "markdown",
   "id": "17e43098",
   "metadata": {},
   "source": [
    "## Problem 4\n",
    "A prime number is any whole number greater than 1 that has no positive divisors besides 1 and itself. In other words, a prime number must be:\n",
    "1. an integer\n",
    "2. greater than 1\n",
    "3. divisible only by 1 and itself.\n",
    "\n",
    "Write a function is_prime(n) that accepts an argument `n` and returns `True` (boolean) if `n` is a prime number and `False` if n is not prime. For example, `is_prime(11)` should return `True` and `is_prime(12)` should return `False`.\n"
   ]
  },
  {
   "cell_type": "code",
   "execution_count": 147,
   "id": "7b43bc6c",
   "metadata": {},
   "outputs": [],
   "source": [
    "#4\n",
    "def isprime(n):\n",
    "    if (n==1):\n",
    "        print(\"False\")\n",
    "    elif (n==2):\n",
    "        print(\"True\");\n",
    "    else:\n",
    "        for x in range(2,n):\n",
    "            if(n % x==0):\n",
    "                print(\"False\")\n",
    "        print(\"True\")             "
   ]
  },
  {
   "cell_type": "code",
   "execution_count": 161,
   "id": "5f4aa6f5",
   "metadata": {},
   "outputs": [
    {
     "data": {
      "text/plain": [
       "True"
      ]
     },
     "execution_count": 161,
     "metadata": {},
     "output_type": "execute_result"
    }
   ],
   "source": [
    "isprime(11)"
   ]
  },
  {
   "cell_type": "markdown",
   "id": "e556b42f",
   "metadata": {},
   "source": [
    "## Problem 5"
   ]
  },
  {
   "cell_type": "markdown",
   "id": "fd5f4463",
   "metadata": {},
   "source": [
    "1. Create a class called `Housing`, and add the following attributes to it:\n",
    "  - type\n",
    "  - area\n",
    "  - number of bedrooms\n",
    "  - value (price)\n",
    "  - year built.\n",
    "2. Create two instances of your class and populate their attributes (make 'em up)\n",
    "3. Create a method called `rent()` that calculates the estimated monthly rent for each house (assume that monthly rent is 0.4% of the value of the house)\n",
    "4. Print the rent for both instances."
   ]
  },
  {
   "cell_type": "code",
   "execution_count": 168,
   "id": "efa713df",
   "metadata": {},
   "outputs": [],
   "source": [
    "#5\n",
    "class Housing:\n",
    "    pass"
   ]
  },
  {
   "cell_type": "code",
   "execution_count": 169,
   "id": "6258d951",
   "metadata": {},
   "outputs": [],
   "source": [
    "house_1 = Housing ()\n",
    "house_2 = Housing ()"
   ]
  },
  {
   "cell_type": "code",
   "execution_count": 170,
   "id": "baf58d38",
   "metadata": {},
   "outputs": [],
   "source": [
    "house_1.type = 'apartment'\n",
    "house_1.area = 600\n",
    "house_1.bedrooms = 1\n",
    "house_1.value = 500000\n",
    "house_1.year = 2013\n",
    "\n",
    "house_2.type = 'house'\n",
    "house_2.area = 3000\n",
    "house_2.bedrooms = 3\n",
    "house_2.value = 1000000\n",
    "house_2.year = 2007"
   ]
  },
  {
   "cell_type": "code",
   "execution_count": 171,
   "id": "bc4fbecc",
   "metadata": {},
   "outputs": [],
   "source": [
    "class Housing:\n",
    "    def rent(self, monthly_rent=0.04):\n",
    "        return round(self.value * monthly_rent)"
   ]
  },
  {
   "cell_type": "code",
   "execution_count": 174,
   "id": "fb36436a",
   "metadata": {},
   "outputs": [
    {
     "name": "stdout",
     "output_type": "stream",
     "text": [
      "20000\n"
     ]
    }
   ],
   "source": [
    "print(Housing.rent(house_1))\n"
   ]
  },
  {
   "cell_type": "code",
   "execution_count": 175,
   "id": "ed7da702",
   "metadata": {},
   "outputs": [
    {
     "name": "stdout",
     "output_type": "stream",
     "text": [
      "40000\n"
     ]
    }
   ],
   "source": [
    "print(Housing.rent(house_2))\n"
   ]
  },
  {
   "cell_type": "code",
   "execution_count": null,
   "id": "6edc75ba",
   "metadata": {},
   "outputs": [],
   "source": []
  }
 ],
 "metadata": {
  "kernelspec": {
   "display_name": "Python 3 (ipykernel)",
   "language": "python",
   "name": "python3"
  },
  "language_info": {
   "codemirror_mode": {
    "name": "ipython",
    "version": 3
   },
   "file_extension": ".py",
   "mimetype": "text/x-python",
   "name": "python",
   "nbconvert_exporter": "python",
   "pygments_lexer": "ipython3",
   "version": "3.9.7"
  },
  "toc": {
   "base_numbering": 1,
   "nav_menu": {},
   "number_sections": false,
   "sideBar": false,
   "skip_h1_title": true,
   "title_cell": "Table of Contents",
   "title_sidebar": "Contents",
   "toc_cell": false,
   "toc_position": {},
   "toc_section_display": true,
   "toc_window_display": false
  }
 },
 "nbformat": 4,
 "nbformat_minor": 5
}
