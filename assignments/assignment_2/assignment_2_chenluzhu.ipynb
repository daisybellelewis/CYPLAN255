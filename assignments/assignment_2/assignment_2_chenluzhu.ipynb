{
 "cells": [
  {
   "cell_type": "markdown",
   "id": "f96bdfc7",
   "metadata": {},
   "source": [
    "# Assignment 2 | Programming Logic\n",
    "\n",
    "Reminder: in all of the assignments this semester, the answer is not the only consideration, but also how you get to it. It's OK (suggested even!) to use the internet for help. But you _should_ be able to answer all of these questions using only the programming techniques you have learned in class and from the readings.\n",
    "\n",
    "A few keys for success:\n",
    "- Avoid manual data entry\n",
    "- Emphasize logic and clarity\n",
    "- Use comments, docstrings, and descriptive variable names\n",
    "- In general, less code is better. But if more lines of code makes your program easier to read or understand what its doing, then go for it."
   ]
  },
  {
   "cell_type": "markdown",
   "id": "078a9000",
   "metadata": {},
   "source": [
    "## Problem 1 \n",
    "Write a Python program to count the number of even and odd numbers from a list of numbers. Test your code by running it on a list of integers from 1 to 9. No need to make this a function unless you want to."
   ]
  },
  {
   "cell_type": "code",
   "execution_count": 1,
   "id": "8eb937c5",
   "metadata": {},
   "outputs": [
    {
     "name": "stdout",
     "output_type": "stream",
     "text": [
      "5\n",
      "3\n"
     ]
    }
   ],
   "source": [
    "integers = (1,2,3,4,5,6,7,9)\n",
    "odd_numbers = 0 \n",
    "even_numbers = 0 \n",
    "for n in integers:\n",
    "    if not n % 2:\n",
    "        even_numbers+=1 \n",
    "    else:\n",
    "        odd_numbers+=1\n",
    "print(odd_numbers)\n",
    "print(even_numbers)"
   ]
  },
  {
   "cell_type": "markdown",
   "id": "db9df1a9",
   "metadata": {
    "collapsed": true
   },
   "source": [
    "## Problem 2\n",
    "Write a Python function that takes a list of numbers and returns a list containing only the even numbers from the original list. Test your function by running it on a list of integers from 1 to 9."
   ]
  },
  {
   "cell_type": "code",
   "execution_count": 2,
   "id": "45fcfd00",
   "metadata": {},
   "outputs": [
    {
     "name": "stdout",
     "output_type": "stream",
     "text": [
      "[2, 4, 6]\n"
     ]
    }
   ],
   "source": [
    "def even_num(lst):\n",
    "    evennum = []\n",
    "    for n in lst:\n",
    "        if n % 2 == 0:\n",
    "            evennum.append(n)\n",
    "    return evennum\n",
    "print(even_num(integers))"
   ]
  },
  {
   "cell_type": "markdown",
   "id": "6a6f4ef0",
   "metadata": {},
   "source": [
    "## Problem 3\n",
    "\n",
    "1. Create a function that accepts a list of integers as an argument and returns a list of floats which equals each number as a fraction of the sum of all the items in the original list.\n",
    "\n",
    "2. Next, create a second function which is the same as the first, but limit each number in the output list to two decimals.\n",
    "\n",
    "3. Create another function which builds on the previous one by allowing a \"user\" pass in an argument that defines the number of decimal places to use in the output list.\n",
    "\n",
    "4. Test each of these functions with a list of integers"
   ]
  },
  {
   "cell_type": "code",
   "execution_count": 3,
   "id": "6856ee58",
   "metadata": {},
   "outputs": [
    {
     "name": "stdout",
     "output_type": "stream",
     "text": [
      "[0.02702702702702703, 0.05405405405405406, 0.08108108108108109, 0.10810810810810811, 0.13513513513513514, 0.16216216216216217, 0.1891891891891892, 0.24324324324324326]\n"
     ]
    }
   ],
   "source": [
    "def fraction_sum(lst):\n",
    "    x =[]\n",
    "    s =sum(lst)\n",
    "    for n in lst:\n",
    "        j = n/s\n",
    "        x.append(j)\n",
    "    return x\n",
    "print(fraction_sum(integers))"
   ]
  },
  {
   "cell_type": "code",
   "execution_count": 4,
   "id": "4275c6f9",
   "metadata": {},
   "outputs": [
    {
     "name": "stdout",
     "output_type": "stream",
     "text": [
      "[0.03, 0.05, 0.08, 0.11, 0.14, 0.16, 0.19, 0.24]\n"
     ]
    }
   ],
   "source": [
    "def fraction_sum_two(lst):\n",
    "    x =[]\n",
    "    s =sum(lst)\n",
    "    for n in lst:\n",
    "        j = n/s\n",
    "        x.append(j)\n",
    "        x = [round(j,2) for j in x]\n",
    "    return x\n",
    "print(fraction_sum_two(integers))"
   ]
  },
  {
   "cell_type": "code",
   "execution_count": 5,
   "id": "430ff725",
   "metadata": {},
   "outputs": [
    {
     "name": "stdout",
     "output_type": "stream",
     "text": [
      "[0.027, 0.054, 0.081, 0.108, 0.135, 0.162, 0.189, 0.243]\n"
     ]
    }
   ],
   "source": [
    "def fraction_sum_user(lst,user):\n",
    "    x =[]\n",
    "    s =sum(lst)\n",
    "    for n in lst:\n",
    "        j = n/s\n",
    "        x.append(j)\n",
    "        x = [round(j,user) for j in x]\n",
    "    return x\n",
    "print(fraction_sum_user(integers,3))"
   ]
  },
  {
   "cell_type": "markdown",
   "id": "17e43098",
   "metadata": {},
   "source": [
    "## Problem 4\n",
    "A prime number is any whole number greater than 1 that has no positive divisors besides 1 and itself. In other words, a prime number must be:\n",
    "1. an integer\n",
    "2. greater than 1\n",
    "3. divisible only by 1 and itself.\n",
    "\n",
    "Write a function is_prime(n) that accepts an argument `n` and returns `True` (boolean) if `n` is a prime number and `False` if n is not prime. For example, `is_prime(11)` should return `True` and `is_prime(12)` should return `False`.\n"
   ]
  },
  {
   "cell_type": "code",
   "execution_count": 6,
   "id": "7b43bc6c",
   "metadata": {},
   "outputs": [
    {
     "name": "stdout",
     "output_type": "stream",
     "text": [
      "False\n"
     ]
    }
   ],
   "source": [
    "def is_prime(x):\n",
    "    if x < 2:\n",
    "        return False \n",
    "    else:\n",
    "        for n in range(2,x):\n",
    "            if x % n == 0:\n",
    "                return False \n",
    "        return True \n",
    "print(is_prime(16))"
   ]
  },
  {
   "cell_type": "markdown",
   "id": "e556b42f",
   "metadata": {},
   "source": [
    "## Problem 5"
   ]
  },
  {
   "cell_type": "markdown",
   "id": "fd5f4463",
   "metadata": {},
   "source": [
    "1. Create a class called `Housing`, and add the following attributes to it:\n",
    "  - type\n",
    "  - area\n",
    "  - number of bedrooms\n",
    "  - value (price)\n",
    "  - year built.\n",
    "2. Create two instances of your class and populate their attributes (make 'em up)\n",
    "3. Create a method called `rent()` that calculates the estimated monthly rent for each house (assume that monthly rent is 0.4% of the value of the house)\n",
    "4. Print the rent for both instances."
   ]
  },
  {
   "cell_type": "code",
   "execution_count": 11,
   "id": "efa713df",
   "metadata": {},
   "outputs": [
    {
     "name": "stdout",
     "output_type": "stream",
     "text": [
      "apartment downtown 200 250000 2010\n",
      "villa suburb 50 650000 2020\n"
     ]
    }
   ],
   "source": [
    "class Housing:\n",
    "    def __init__(self, types, area, bedrooms, value, year):\n",
    "        self.types = types\n",
    "        self.area = area\n",
    "        self.bedrooms = bedrooms\n",
    "        self.value = value\n",
    "        self.year = year \n",
    "    def description(self):\n",
    "        print(self.types,self.area, self.bedrooms,self.value,self.year)\n",
    "        \n",
    "house1 = Housing('apartment','downtown',200,250000,2010)\n",
    "house2 = Housing('villa','suburb',50,650000,2020)\n",
    "house1.description()\n",
    "house2.description()"
   ]
  },
  {
   "cell_type": "code",
   "execution_count": 13,
   "id": "6cd372fd",
   "metadata": {},
   "outputs": [
    {
     "name": "stdout",
     "output_type": "stream",
     "text": [
      "1000.0\n",
      "2600.0\n"
     ]
    }
   ],
   "source": [
    "class Housing:\n",
    "    def __init__(self, types, area, bedrooms, value, year):\n",
    "        self.types = types\n",
    "        self.area = area\n",
    "        self.bedrooms = bedrooms\n",
    "        self.value = value\n",
    "        self.year = year \n",
    "    def rent(self):\n",
    "        return self.value * 0.004\n",
    "    def description(self):\n",
    "        print(self.types,self.area, self.bedrooms,self.value,self.year)\n",
    "house1 = Housing('apartment','downtown',200,250000,2010)\n",
    "house2 = Housing('villa','suburb',50,650000,2020)\n",
    "print(house1.rent())  \n",
    "print(house2.rent())"
   ]
  },
  {
   "cell_type": "code",
   "execution_count": null,
   "id": "029112d5",
   "metadata": {},
   "outputs": [],
   "source": []
  }
 ],
 "metadata": {
  "kernelspec": {
   "display_name": "Python 3 (ipykernel)",
   "language": "python",
   "name": "python3"
  },
  "language_info": {
   "codemirror_mode": {
    "name": "ipython",
    "version": 3
   },
   "file_extension": ".py",
   "mimetype": "text/x-python",
   "name": "python",
   "nbconvert_exporter": "python",
   "pygments_lexer": "ipython3",
   "version": "3.9.7"
  },
  "toc": {
   "base_numbering": 1,
   "nav_menu": {},
   "number_sections": false,
   "sideBar": false,
   "skip_h1_title": true,
   "title_cell": "Table of Contents",
   "title_sidebar": "Contents",
   "toc_cell": false,
   "toc_position": {},
   "toc_section_display": true,
   "toc_window_display": false
  }
 },
 "nbformat": 4,
 "nbformat_minor": 5
}
