{
 "cells": [
  {
   "cell_type": "markdown",
   "id": "f96bdfc7",
   "metadata": {},
   "source": [
    "# Assignment 2 | Programming Logic\n",
    "\n",
    "Reminder: in all of the assignments this semester, the answer is not the only consideration, but also how you get to it. It's OK (suggested even!) to use the internet for help. But you _should_ be able to answer all of these questions using only the programming techniques you have learned in class and from the readings.\n",
    "\n",
    "A few keys for success:\n",
    "- Avoid manual data entry\n",
    "- Emphasize logic and clarity\n",
    "- Use comments, docstrings, and descriptive variable names\n",
    "- In general, less code is better. But if more lines of code makes your program easier to read or understand what its doing, then go for it."
   ]
  },
  {
   "cell_type": "markdown",
   "id": "078a9000",
   "metadata": {},
   "source": [
    "## Problem 1 \n",
    "Write a Python program to count the number of even and odd numbers from a list of numbers. Test your code by running it on a list of integers from 1 to 9. No need to make this a function unless you want to."
   ]
  },
  {
   "cell_type": "code",
   "execution_count": 16,
   "id": "8eb937c5",
   "metadata": {},
   "outputs": [
    {
     "name": "stdout",
     "output_type": "stream",
     "text": [
      "EVENS: 4\n",
      "ODDS: 5\n"
     ]
    }
   ],
   "source": [
    "n= 10\n",
    "\n",
    "list_1 = list(range(1, n, 1)) #creating a list starting at 1 going to n, counting by 1\n",
    "\n",
    "only_odd = [num for num in list_1 if num % 2 == 1] #creating a list of only odd numbers\n",
    "odd_count = len(only_odd) #counting number of items in only_odd using the len function\n",
    "n = 10\n",
    "print('EVENS:', len(list_1) - odd_count) #evens = number of items in list using the len function - odd_count (number of odds)\n",
    "print('ODDS:', odd_count) #odds = odd_count (number of odds)"
   ]
  },
  {
   "cell_type": "markdown",
   "id": "db9df1a9",
   "metadata": {
    "collapsed": true
   },
   "source": [
    "## Problem 2\n",
    "Write a Python function that takes a list of numbers and returns a list containing only the even numbers from the original list. Test your function by running it on a list of integers from 1 to 9."
   ]
  },
  {
   "cell_type": "code",
   "execution_count": 17,
   "id": "45fcfd00",
   "metadata": {},
   "outputs": [
    {
     "name": "stdout",
     "output_type": "stream",
     "text": [
      "[2, 4, 6, 8]\n"
     ]
    }
   ],
   "source": [
    "list_2 = list(range(1, n, 1))\n",
    "\n",
    "only_even = [num for num in list_1 if num % 2 == 0] #creating a list of only even numbers\n",
    "print(only_even)"
   ]
  },
  {
   "cell_type": "markdown",
   "id": "6a6f4ef0",
   "metadata": {},
   "source": [
    "## Problem 3\n",
    "\n",
    "1. Create a function that accepts a list of integers as an argument and returns a list of floats which equals each number as a fraction of the sum of all the items in the original list.\n",
    "\n",
    "2. Next, create a second function which is the same as the first, but limit each number in the output list to two decimals.\n",
    "\n",
    "3. Create another function which builds on the previous one by allowing a \"user\" pass in an argument that defines the number of decimal places to use in the output list.\n",
    "\n",
    "4. Test each of these functions with a list of integers"
   ]
  },
  {
   "cell_type": "code",
   "execution_count": 18,
   "id": "8618e82b",
   "metadata": {},
   "outputs": [
    {
     "name": "stdout",
     "output_type": "stream",
     "text": [
      "[0.16666666666666666, 0.2222222222222222, 0.2777777777777778, 0.3333333333333333]\n"
     ]
    }
   ],
   "source": [
    "def sumfrac(x):\n",
    "    ls = [int(y) for y in x]\n",
    "    tot = sum(ls)\n",
    "    result = [y/tot for y in ls]\n",
    "    print (result)\n",
    "\n",
    "foo = [3,4,5,6]\n",
    "sumfrac(foo)"
   ]
  },
  {
   "cell_type": "code",
   "execution_count": 19,
   "id": "d4d7a029",
   "metadata": {},
   "outputs": [
    {
     "name": "stdout",
     "output_type": "stream",
     "text": [
      "[0.05, 0.07, 0.09, 0.15, 0.22, 0.27, 0.15]\n"
     ]
    }
   ],
   "source": [
    "def sumfrac_float2(x):\n",
    "    ls = [int(y) for y in x]\n",
    "    tot = sum(ls)\n",
    "    result = [round(y/tot,2) for y in ls]\n",
    "    print (result)\n",
    "\n",
    "foo = [3,4,5,8,12, 15, 8]\n",
    "sumfrac_float2(foo)"
   ]
  },
  {
   "cell_type": "code",
   "execution_count": 20,
   "id": "74fe8472",
   "metadata": {},
   "outputs": [
    {
     "name": "stdout",
     "output_type": "stream",
     "text": [
      "[0.0545, 0.0727, 0.0909, 0.1455, 0.2182, 0.2727, 0.1455]\n"
     ]
    }
   ],
   "source": [
    "def sumfrac_round(x, z):\n",
    "    ls = [int(y) for y in x]\n",
    "    tot = sum(ls)\n",
    "    result = [round(y/tot,z) for y in ls]\n",
    "    print (result)\n",
    "\n",
    "foo = [3,4,5,8,12,15,8]\n",
    "sumfrac_round(foo, 4)"
   ]
  },
  {
   "cell_type": "code",
   "execution_count": 62,
   "id": "a7287722",
   "metadata": {},
   "outputs": [
    {
     "name": "stdout",
     "output_type": "stream",
     "text": [
      "[0.05454545454545454, 0.07272727272727272, 0.09090909090909091, 0.14545454545454545, 0.21818181818181817, 0.2727272727272727, 0.14545454545454545]\n",
      "[0.05, 0.07, 0.09, 0.15, 0.22, 0.27, 0.15]\n",
      "[0.0545455, 0.0727273, 0.0909091, 0.1454545, 0.2181818, 0.2727273, 0.1454545]\n"
     ]
    }
   ],
   "source": [
    "foo = [3,4,5,8,12,15,8]\n",
    "sumfrac(foo)\n",
    "sumfrac_float2(foo)\n",
    "sumfrac_round(foo, 7)"
   ]
  },
  {
   "cell_type": "markdown",
   "id": "17e43098",
   "metadata": {},
   "source": [
    "## Problem 4\n",
    "A prime number is any whole number greater than 1 that has no positive divisors besides 1 and itself. In other words, a prime number must be:\n",
    "1. an integer\n",
    "2. greater than 1\n",
    "3. divisible only by 1 and itself.\n",
    "\n",
    "Write a function is_prime(n) that accepts an argument `n` and returns `True` (boolean) if `n` is a prime number and `False` if n is not prime. For example, `is_prime(11)` should return `True` and `is_prime(12)` should return `False`.\n"
   ]
  },
  {
   "cell_type": "code",
   "execution_count": 30,
   "id": "7b43bc6c",
   "metadata": {},
   "outputs": [
    {
     "data": {
      "text/plain": [
       "True"
      ]
     },
     "execution_count": 30,
     "metadata": {},
     "output_type": "execute_result"
    }
   ],
   "source": [
    "def is_prime(n):\n",
    "    if int(n)!= n:\n",
    "        print('FLOAT')\n",
    "    elif n == 2 or n==3:\n",
    "        return True\n",
    "    else:\n",
    "        for i in range(3, int((n/2)+1)):\n",
    "            if n % i == 0:\n",
    "                return False\n",
    "        return True\n",
    "\n",
    "is_prime(19)\n",
    "        "
   ]
  },
  {
   "cell_type": "markdown",
   "id": "e556b42f",
   "metadata": {},
   "source": [
    "## Problem 5"
   ]
  },
  {
   "cell_type": "markdown",
   "id": "fd5f4463",
   "metadata": {},
   "source": [
    "1. Create a class called `Housing`, and add the following attributes to it:\n",
    "  - type\n",
    "  - area\n",
    "  - number of bedrooms\n",
    "  - value (price)\n",
    "  - year built.\n",
    "2. Create two instances of your class and populate their attributes (make 'em up)\n",
    "3. Create a method called `rent()` that calculates the estimated monthly rent for each house (assume that monthly rent is 0.4% of the value of the house)\n",
    "4. Print the rent for both instances."
   ]
  },
  {
   "cell_type": "code",
   "execution_count": 51,
   "id": "efa713df",
   "metadata": {},
   "outputs": [],
   "source": [
    "class Housing:\n",
    "    def __init__(self, type_, area, number_of_bedrooms, value, year_built):\n",
    "        self.type = type_\n",
    "        self.area = area\n",
    "        self.number_of_bedrooms = number_of_bedrooms\n",
    "        self.value = value\n",
    "        self.year_built = year_built\n",
    "        \n",
    "    def get_rent(self, pct_raise = .04):\n",
    "        return round(self.value * (1+ pct_raise))\n",
    "\n",
    "house_1 = Housing('single_fam', 'suburb', 3, 200000, 1990)\n",
    "house_2 = Housing('apartment', 'urban', 2, 300000, 2000)"
   ]
  },
  {
   "cell_type": "code",
   "execution_count": 57,
   "id": "8eb4b190",
   "metadata": {},
   "outputs": [
    {
     "name": "stdout",
     "output_type": "stream",
     "text": [
      "208000\n",
      "312000\n"
     ]
    }
   ],
   "source": [
    "print(house_1.get_rent(.04))\n",
    "print(house_2.get_rent(.04))"
   ]
  }
 ],
 "metadata": {
  "kernelspec": {
   "display_name": "Python 3",
   "language": "python",
   "name": "python3"
  },
  "language_info": {
   "codemirror_mode": {
    "name": "ipython",
    "version": 3
   },
   "file_extension": ".py",
   "mimetype": "text/x-python",
   "name": "python",
   "nbconvert_exporter": "python",
   "pygments_lexer": "ipython3",
   "version": "3.8.8"
  },
  "toc": {
   "base_numbering": 1,
   "nav_menu": {},
   "number_sections": false,
   "sideBar": false,
   "skip_h1_title": true,
   "title_cell": "Table of Contents",
   "title_sidebar": "Contents",
   "toc_cell": false,
   "toc_position": {},
   "toc_section_display": true,
   "toc_window_display": false
  }
 },
 "nbformat": 4,
 "nbformat_minor": 5
}
