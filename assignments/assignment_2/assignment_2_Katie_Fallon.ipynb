{
 "cells": [
  {
   "cell_type": "markdown",
   "id": "f96bdfc7",
   "metadata": {},
   "source": [
    "# Assignment 2 | Programming Logic\n",
    "\n",
    "Reminder: in all of the assignments this semester, the answer is not the only consideration, but also how you get to it. It's OK (suggested even!) to use the internet for help. But you _should_ be able to answer all of these questions using only the programming techniques you have learned in class and from the readings.\n",
    "\n",
    "A few keys for success:\n",
    "- Avoid manual data entry\n",
    "- Emphasize logic and clarity\n",
    "- Use comments, docstrings, and descriptive variable names\n",
    "- In general, less code is better. But if more lines of code makes your program easier to read or understand what its doing, then go for it."
   ]
  },
  {
   "cell_type": "markdown",
   "id": "078a9000",
   "metadata": {},
   "source": [
    "## Problem 1 \n",
    "Write a Python program to count the number of even and odd numbers from a list of numbers. Test your code by running it on a list of integers from 1 to 9. No need to make this a function unless you want to."
   ]
  },
  {
   "cell_type": "code",
   "execution_count": 1,
   "id": "8eb937c5",
   "metadata": {},
   "outputs": [
    {
     "name": "stdout",
     "output_type": "stream",
     "text": [
      "Even:  4\n",
      "Odd:  5\n"
     ]
    }
   ],
   "source": [
    "list1 = [1, 2, 3, 4, 5, 6, 7, 8, 9]\n",
    "even, odd = 0, 0\n",
    "for number in list1:\n",
    "    if number % 2 == 0: \n",
    "        even += 1\n",
    "    else:\n",
    "        odd += 1\n",
    "print(\"Even: \", even)\n",
    "print(\"Odd: \", odd)"
   ]
  },
  {
   "cell_type": "markdown",
   "id": "db9df1a9",
   "metadata": {
    "collapsed": true
   },
   "source": [
    "## Problem 2\n",
    "Write a Python function that takes a list of numbers and returns a list containing only the even numbers from the original list. Test your function by running it on a list of integers from 1 to 9."
   ]
  },
  {
   "cell_type": "code",
   "execution_count": 2,
   "id": "42440f1b",
   "metadata": {},
   "outputs": [
    {
     "name": "stdout",
     "output_type": "stream",
     "text": [
      "2 4 6 8 "
     ]
    }
   ],
   "source": [
    "def get_even(n):\n",
    "    a = 1\n",
    "    while a < n:\n",
    "        a = a + 1\n",
    "        if a % 2 == 0:\n",
    "            print (a, end=\" \")\n",
    "        else:\n",
    "            continue\n",
    "            \n",
    "get_even(9)"
   ]
  },
  {
   "cell_type": "markdown",
   "id": "6a6f4ef0",
   "metadata": {},
   "source": [
    "## Problem 3\n",
    "\n",
    "1. Create a function that accepts a list of integers as an argument and returns a list of floats which equals each number as a fraction of the sum of all the items in the original list.\n",
    "\n",
    "2. Next, create a second function which is the same as the first, but limit each number in the output list to two decimals.\n",
    "\n",
    "3. Create another function which builds on the previous one by allowing a \"user\" pass in an argument that defines the number of decimal places to use in the output list.\n",
    "\n",
    "4. Test each of these functions with a list of integers"
   ]
  },
  {
   "cell_type": "code",
   "execution_count": 3,
   "id": "e406cd27",
   "metadata": {},
   "outputs": [],
   "source": [
    "def int_to_float(n):\n",
    "    a = [1, 2, 3, 4, 5, 6, 7, 8, 9]\n",
    "    result = []\n",
    "    for item in a:\n",
    "        result.append(float(item)/sum(a))  \n",
    "    return result"
   ]
  },
  {
   "cell_type": "code",
   "execution_count": 4,
   "id": "e095d4de",
   "metadata": {
    "scrolled": true
   },
   "outputs": [
    {
     "data": {
      "text/plain": [
       "[0.022222222222222223,\n",
       " 0.044444444444444446,\n",
       " 0.06666666666666667,\n",
       " 0.08888888888888889,\n",
       " 0.1111111111111111,\n",
       " 0.13333333333333333,\n",
       " 0.15555555555555556,\n",
       " 0.17777777777777778,\n",
       " 0.2]"
      ]
     },
     "execution_count": 4,
     "metadata": {},
     "output_type": "execute_result"
    }
   ],
   "source": [
    "int_to_float(9)"
   ]
  },
  {
   "cell_type": "code",
   "execution_count": 5,
   "id": "73096e38",
   "metadata": {},
   "outputs": [],
   "source": [
    "def int_to_float2(n):\n",
    "    a = [1, 2, 3, 4, 5, 6, 7, 8, 9]\n",
    "    result = []\n",
    "    for item in a:\n",
    "        result.append(round(float(item)/sum(a),2)) \n",
    "    return result"
   ]
  },
  {
   "cell_type": "code",
   "execution_count": 6,
   "id": "48942911",
   "metadata": {},
   "outputs": [
    {
     "data": {
      "text/plain": [
       "[0.02, 0.04, 0.07, 0.09, 0.11, 0.13, 0.16, 0.18, 0.2]"
      ]
     },
     "execution_count": 6,
     "metadata": {},
     "output_type": "execute_result"
    }
   ],
   "source": [
    "int_to_float2(9)"
   ]
  },
  {
   "cell_type": "code",
   "execution_count": 7,
   "id": "862d9373",
   "metadata": {},
   "outputs": [],
   "source": [
    "def int_to_floatx(n, x): #n equals the number of instances, x equals the number of decimal places\n",
    "    a = [1, 2, 3, 4, 5, 6, 7, 8, 9]\n",
    "    result = []\n",
    "    for item in a:\n",
    "        result.append(round(float(item)/sum(a), x)) \n",
    "    return result"
   ]
  },
  {
   "cell_type": "code",
   "execution_count": 8,
   "id": "03ad42da",
   "metadata": {
    "scrolled": true
   },
   "outputs": [
    {
     "data": {
      "text/plain": [
       "[0.02222, 0.04444, 0.06667, 0.08889, 0.11111, 0.13333, 0.15556, 0.17778, 0.2]"
      ]
     },
     "execution_count": 8,
     "metadata": {},
     "output_type": "execute_result"
    }
   ],
   "source": [
    "int_to_floatx(9,5)"
   ]
  },
  {
   "cell_type": "markdown",
   "id": "17e43098",
   "metadata": {},
   "source": [
    "## Problem 4\n",
    "A prime number is any whole number greater than 1 that has no positive divisors besides 1 and itself. In other words, a prime number must be:\n",
    "1. an integer\n",
    "2. greater than 1\n",
    "3. divisible only by 1 and itself.\n",
    "\n",
    "Write a function is_prime(n) that accepts an argument `n` and returns `True` (boolean) if `n` is a prime number and `False` if n is not prime. For example, `is_prime(11)` should return `True` and `is_prime(12)` should return `False`.\n"
   ]
  },
  {
   "cell_type": "code",
   "execution_count": 9,
   "id": "1c570403",
   "metadata": {},
   "outputs": [],
   "source": [
    "def is_prime(n):\n",
    "    if n > 1: \n",
    "        for a in range(2, int(n/2)+1): # If n is divisible by any number between 2 and n/2 +1, return false\n",
    "            if (n % a) == 0:\n",
    "                return False\n",
    "        else: #otherwise return true\n",
    "            return True"
   ]
  },
  {
   "cell_type": "code",
   "execution_count": 10,
   "id": "b8d757ae",
   "metadata": {},
   "outputs": [
    {
     "name": "stdout",
     "output_type": "stream",
     "text": [
      "True\n",
      "False\n"
     ]
    }
   ],
   "source": [
    "print(is_prime(11))\n",
    "print(is_prime(12))"
   ]
  },
  {
   "cell_type": "markdown",
   "id": "e556b42f",
   "metadata": {},
   "source": [
    "## Problem 5"
   ]
  },
  {
   "cell_type": "markdown",
   "id": "fd5f4463",
   "metadata": {},
   "source": [
    "1. Create a class called `Housing`, and add the following attributes to it:\n",
    "  - type\n",
    "  - area\n",
    "  - number of bedrooms\n",
    "  - value (price)\n",
    "  - year built.\n",
    "2. Create two instances of your class and populate their attributes (make 'em up)\n",
    "3. Create a method called `rent()` that calculates the estimated monthly rent for each house (assume that monthly rent is 0.4% of the value of the house)\n",
    "4. Print the rent for both instances."
   ]
  },
  {
   "cell_type": "code",
   "execution_count": 11,
   "id": "efa713df",
   "metadata": {},
   "outputs": [],
   "source": [
    "class Housing:     \n",
    "    def __init__(self, type, area, bedrooms, value, year):\n",
    "        self.type = type\n",
    "        self.area = area\n",
    "        self.bedrooms = bedrooms\n",
    "        self.value = value\n",
    "        self.year = year\n",
    "        \n",
    "    def get_rent(self):\n",
    "        return '{}'.format(self.value * .04)"
   ]
  },
  {
   "cell_type": "code",
   "execution_count": 12,
   "id": "dc37c5b1",
   "metadata": {},
   "outputs": [],
   "source": [
    "home_1 = Housing('bungalow', 850, 1, 97621, 1997)\n",
    "home_2 = Housing('mansion', 10000, 8, 1439869, 1903)"
   ]
  },
  {
   "cell_type": "code",
   "execution_count": 13,
   "id": "76bc6e4b",
   "metadata": {},
   "outputs": [
    {
     "name": "stdout",
     "output_type": "stream",
     "text": [
      "3904.84\n",
      "57594.76\n"
     ]
    }
   ],
   "source": [
    "print(home_1.get_rent())\n",
    "print(home_2.get_rent())"
   ]
  }
 ],
 "metadata": {
  "kernelspec": {
   "display_name": "Python 3 (ipykernel)",
   "language": "python",
   "name": "python3"
  },
  "language_info": {
   "codemirror_mode": {
    "name": "ipython",
    "version": 3
   },
   "file_extension": ".py",
   "mimetype": "text/x-python",
   "name": "python",
   "nbconvert_exporter": "python",
   "pygments_lexer": "ipython3",
   "version": "3.9.7"
  },
  "toc": {
   "base_numbering": 1,
   "nav_menu": {},
   "number_sections": false,
   "sideBar": false,
   "skip_h1_title": true,
   "title_cell": "Table of Contents",
   "title_sidebar": "Contents",
   "toc_cell": false,
   "toc_position": {},
   "toc_section_display": true,
   "toc_window_display": false
  }
 },
 "nbformat": 4,
 "nbformat_minor": 5
}
