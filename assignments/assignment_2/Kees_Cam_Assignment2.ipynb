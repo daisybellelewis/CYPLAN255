{
 "cells": [
  {
   "cell_type": "markdown",
   "id": "f96bdfc7",
   "metadata": {},
   "source": [
    "# Assignment 2 | Programming Logic\n",
    "\n",
    "Reminder: in all of the assignments this semester, the answer is not the only consideration, but also how you get to it. It's OK (suggested even!) to use the internet for help. But you _should_ be able to answer all of these questions using only the programming techniques you have learned in class and from the readings.\n",
    "\n",
    "A few keys for success:\n",
    "- Avoid manual data entry\n",
    "- Emphasize logic and clarity\n",
    "- Use comments, docstrings, and descriptive variable names\n",
    "- In general, less code is better. But if more lines of code makes your program easier to read or understand what its doing, then go for it."
   ]
  },
  {
   "cell_type": "markdown",
   "id": "078a9000",
   "metadata": {},
   "source": [
    "## Problem 1 \n",
    "Write a Python program to count the number of even and odd numbers from a list of numbers. Test your code by running it on a list of integers from 1 to 9. No need to make this a function unless you want to."
   ]
  },
  {
   "cell_type": "code",
   "execution_count": 5,
   "id": "8eb937c5",
   "metadata": {
    "scrolled": true
   },
   "outputs": [
    {
     "name": "stdout",
     "output_type": "stream",
     "text": [
      "Amount of even numbers in list a : 4\n",
      "Amount of odd numbers in list a : 5\n"
     ]
    }
   ],
   "source": [
    "a = list(range(1,10))\n",
    "count_odd = 0\n",
    "count_even = 0\n",
    "for x in a:\n",
    "        if not x % 2:\n",
    "             count_even+=1\n",
    "        else:\n",
    "             count_odd+=1\n",
    "print(\"Amount of even numbers in list a :\",count_even)\n",
    "print(\"Amount of odd numbers in list a :\",count_odd)"
   ]
  },
  {
   "cell_type": "markdown",
   "id": "db9df1a9",
   "metadata": {
    "collapsed": true
   },
   "source": [
    "## Problem 2\n",
    "Write a Python function that takes a list of numbers and returns a list containing only the even numbers from the original list. Test your function by running it on a list of integers from 1 to 9."
   ]
  },
  {
   "cell_type": "code",
   "execution_count": 103,
   "id": "4ea8d521",
   "metadata": {},
   "outputs": [
    {
     "data": {
      "text/plain": [
       "[2, 4, 6, 8]"
      ]
     },
     "execution_count": 103,
     "metadata": {},
     "output_type": "execute_result"
    }
   ],
   "source": [
    "def even_function(ls):\n",
    "    even_list = []\n",
    "    for x in ls:\n",
    "        if x % 2 == 0:\n",
    "            even_list.append(x)\n",
    "    return even_list\n",
    "even_function(a)"
   ]
  },
  {
   "cell_type": "markdown",
   "id": "6a6f4ef0",
   "metadata": {},
   "source": [
    "## Problem 3\n",
    "\n",
    "1. Create a function that accepts a list of integers as an argument and returns a list of floats which equals each number as a fraction of the sum of all the items in the original list.\n",
    "\n",
    "2. Next, create a second function which is the same as the first, but limit each number in the output list to two decimals.\n",
    "\n",
    "3. Create another function which builds on the previous one by allowing a \"user\" pass in an argument that defines the number of decimal places to use in the output list.\n",
    "\n",
    "4. Test each of these functions with a list of integers"
   ]
  },
  {
   "cell_type": "code",
   "execution_count": 110,
   "id": "6856ee58",
   "metadata": {},
   "outputs": [
    {
     "data": {
      "text/plain": [
       "[0.022222222222222223,\n",
       " 0.044444444444444446,\n",
       " 0.06666666666666667,\n",
       " 0.08888888888888889,\n",
       " 0.1111111111111111,\n",
       " 0.13333333333333333,\n",
       " 0.15555555555555556,\n",
       " 0.17777777777777778,\n",
       " 0.2]"
      ]
     },
     "execution_count": 110,
     "metadata": {},
     "output_type": "execute_result"
    }
   ],
   "source": [
    "def fraction1(ls):\n",
    "    fraction1 = []\n",
    "    for x in ls:\n",
    "        fraction1.append(x/sum(a))\n",
    "    return fraction1\n",
    "fraction1(a)"
   ]
  },
  {
   "cell_type": "code",
   "execution_count": 111,
   "id": "fc0b9c8c",
   "metadata": {},
   "outputs": [
    {
     "data": {
      "text/plain": [
       "[0.02, 0.04, 0.07, 0.09, 0.11, 0.13, 0.16, 0.18, 0.2]"
      ]
     },
     "execution_count": 111,
     "metadata": {},
     "output_type": "execute_result"
    }
   ],
   "source": [
    "def fraction2(ls):\n",
    "    fraction2 = []\n",
    "    for x in ls:\n",
    "        fraction2.append(round(x/sum(ls),2))\n",
    "    return fraction2\n",
    "fraction2(a)"
   ]
  },
  {
   "cell_type": "code",
   "execution_count": 114,
   "id": "268d6f64",
   "metadata": {},
   "outputs": [
    {
     "data": {
      "text/plain": [
       "[0.0222, 0.0444, 0.0667, 0.0889, 0.1111, 0.1333, 0.1556, 0.1778, 0.2]"
      ]
     },
     "execution_count": 114,
     "metadata": {},
     "output_type": "execute_result"
    }
   ],
   "source": [
    "def fraction3(ls,b):\n",
    "    fraction3 = []\n",
    "    for x in ls:\n",
    "        fraction3.append(round(x/sum(ls),b))\n",
    "    return fraction3\n",
    "fraction3(a,4)"
   ]
  },
  {
   "cell_type": "markdown",
   "id": "17e43098",
   "metadata": {},
   "source": [
    "## Problem 4\n",
    "A prime number is any whole number greater than 1 that has no positive divisors besides 1 and itself. In other words, a prime number must be:\n",
    "1. an integer\n",
    "2. greater than 1\n",
    "3. divisible only by 1 and itself.\n",
    "\n",
    "Write a function is_prime(n) that accepts an argument `n` and returns `True` (boolean) if `n` is a prime number and `False` if n is not prime. For example, `is_prime(11)` should return `True` and `is_prime(12)` should return `False`.\n"
   ]
  },
  {
   "cell_type": "code",
   "execution_count": 32,
   "id": "7b43bc6c",
   "metadata": {},
   "outputs": [
    {
     "data": {
      "text/plain": [
       "True"
      ]
     },
     "execution_count": 32,
     "metadata": {},
     "output_type": "execute_result"
    }
   ],
   "source": [
    "def is_prime(n):\n",
    "    if n < 2:\n",
    "        return False\n",
    "    else:\n",
    "        for x in range(2,n):\n",
    "            if n % x == 0:\n",
    "                return False\n",
    "        return True\n",
    "is_prime(11)"
   ]
  },
  {
   "cell_type": "markdown",
   "id": "e556b42f",
   "metadata": {},
   "source": [
    "## Problem 5"
   ]
  },
  {
   "cell_type": "markdown",
   "id": "fd5f4463",
   "metadata": {},
   "source": [
    "1. Create a class called `Housing`, and add the following attributes to it:\n",
    "  - type\n",
    "  - area\n",
    "  - number of bedrooms\n",
    "  - value (price)\n",
    "  - year built.\n",
    "2. Create two instances of your class and populate their attributes (make 'em up)\n",
    "3. Create a method called `rent()` that calculates the estimated monthly rent for each house (assume that monthly rent is 0.4% of the value of the house)\n",
    "4. Print the rent for both instances."
   ]
  },
  {
   "cell_type": "code",
   "execution_count": 33,
   "id": "efa713df",
   "metadata": {},
   "outputs": [],
   "source": [
    "class Housing:\n",
    "    def __init__(self, type, area, numbedrooms, value, yearbuilt):\n",
    "        self.type = type\n",
    "        self.area = area\n",
    "        self.numbedrooms = numbedrooms\n",
    "        self.value = value\n",
    "        self.yearbuilt = yearbuilt"
   ]
  },
  {
   "cell_type": "code",
   "execution_count": 36,
   "id": "62d3f70f",
   "metadata": {},
   "outputs": [],
   "source": [
    "house_1 = Housing('Apartment', 3000, 3, 500000, 2000)\n",
    "house_2 = Housing('Condo', 4500, 2, 650000, 1990)"
   ]
  },
  {
   "cell_type": "code",
   "execution_count": 87,
   "id": "415898b2",
   "metadata": {},
   "outputs": [],
   "source": [
    "class Housing:\n",
    "    def __init__(self, type, area, numbedrooms, value, yearbuilt):\n",
    "        self.type = type\n",
    "        self.area = area\n",
    "        self.numbedrooms = numbedrooms\n",
    "        self.value = value\n",
    "        self.yearbuilt = yearbuilt\n",
    "    def rent(self):\n",
    "        return round(self.value*0.004)"
   ]
  },
  {
   "cell_type": "code",
   "execution_count": 88,
   "id": "a3a0c9d8",
   "metadata": {},
   "outputs": [
    {
     "name": "stdout",
     "output_type": "stream",
     "text": [
      "House 1 monthly rent = $ 2000\n",
      "House 2 monthly rent = $ 2600\n"
     ]
    }
   ],
   "source": [
    "print('House 1 monthly rent = $', house_1.rent())\n",
    "print('House 2 monthly rent = $', house_2.rent())"
   ]
  },
  {
   "cell_type": "code",
   "execution_count": null,
   "id": "e64dff1d",
   "metadata": {},
   "outputs": [],
   "source": []
  }
 ],
 "metadata": {
  "kernelspec": {
   "display_name": "Python 3 (ipykernel)",
   "language": "python",
   "name": "python3"
  },
  "language_info": {
   "codemirror_mode": {
    "name": "ipython",
    "version": 3
   },
   "file_extension": ".py",
   "mimetype": "text/x-python",
   "name": "python",
   "nbconvert_exporter": "python",
   "pygments_lexer": "ipython3",
   "version": "3.9.7"
  },
  "toc": {
   "base_numbering": 1,
   "nav_menu": {},
   "number_sections": false,
   "sideBar": false,
   "skip_h1_title": true,
   "title_cell": "Table of Contents",
   "title_sidebar": "Contents",
   "toc_cell": false,
   "toc_position": {},
   "toc_section_display": true,
   "toc_window_display": false
  }
 },
 "nbformat": 4,
 "nbformat_minor": 5
}
