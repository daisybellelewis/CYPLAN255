{
 "cells": [
  {
   "cell_type": "markdown",
   "id": "f96bdfc7",
   "metadata": {},
   "source": [
    "# Assignment 2 | Programming Logic\n",
    "\n",
    "Reminder: in all of the assignments this semester, the answer is not the only consideration, but also how you get to it. It's OK (suggested even!) to use the internet for help. But you _should_ be able to answer all of these questions using only the programming techniques you have learned in class and from the readings.\n",
    "\n",
    "A few keys for success:\n",
    "- Avoid manual data entry\n",
    "- Emphasize logic and clarity\n",
    "- Use comments, docstrings, and descriptive variable names\n",
    "- In general, less code is better. But if more lines of code makes your program easier to read or understand what its doing, then go for it."
   ]
  },
  {
   "cell_type": "markdown",
   "id": "078a9000",
   "metadata": {},
   "source": [
    "## Problem 1 \n",
    "Write a Python program to count the number of even and odd numbers from a list of numbers. Test your code by running it on a list of integers from 1 to 9. No need to make this a function unless you want to."
   ]
  },
  {
   "cell_type": "code",
   "execution_count": 12,
   "id": "a836d255",
   "metadata": {},
   "outputs": [],
   "source": [
    "def count_even_and_odd(list):\n",
    "    number_even, number_odd= 0,0\n",
    "    for x in list:\n",
    "        if x%2 == 0:\n",
    "            number_even += 1\n",
    "        else:\n",
    "            number_odd +=1\n",
    "    print (\"evens\", number_even, \"odds\", number_odd)"
   ]
  },
  {
   "cell_type": "code",
   "execution_count": 28,
   "id": "9bbae5bf",
   "metadata": {},
   "outputs": [
    {
     "name": "stdout",
     "output_type": "stream",
     "text": [
      "evens 4 odds 5\n"
     ]
    }
   ],
   "source": [
    "my_list = [1,2,3,4,5,6,7,8,9]\n",
    "count_even_and_odd(my_list)"
   ]
  },
  {
   "cell_type": "markdown",
   "id": "db9df1a9",
   "metadata": {
    "collapsed": true
   },
   "source": [
    "## Problem 2\n",
    "Write a Python function that takes a list of numbers and returns a list containing only the even numbers from the original list. Test your function by running it on a list of integers from 1 to 9."
   ]
  },
  {
   "cell_type": "code",
   "execution_count": 40,
   "id": "45fcfd00",
   "metadata": {},
   "outputs": [],
   "source": [
    "def only_returns_evens(list):\n",
    "    list_of_evens = []\n",
    "    for x in list:\n",
    "        if x%2 == 0:\n",
    "            list_of_evens.append(x)\n",
    "        else:\n",
    "            pass\n",
    "    print(list_of_evens)\n",
    "    "
   ]
  },
  {
   "cell_type": "code",
   "execution_count": 41,
   "id": "25b26f81",
   "metadata": {},
   "outputs": [
    {
     "name": "stdout",
     "output_type": "stream",
     "text": [
      "[2, 4, 6, 8]\n"
     ]
    }
   ],
   "source": [
    "only_returns_evens(my_list)"
   ]
  },
  {
   "cell_type": "markdown",
   "id": "6a6f4ef0",
   "metadata": {},
   "source": [
    "## Problem 3\n",
    "\n",
    "1. Create a function that accepts a list of integers as an argument and returns a list of floats which equals each number as a fraction of the sum of all the items in the original list.\n",
    "\n",
    "2. Next, create a second function which is the same as the first, but limit each number in the output list to two decimals.\n",
    "\n",
    "3. Create another function which builds on the previous one by allowing a \"user\" pass in an argument that defines the number of decimal places to use in the output list.\n",
    "\n",
    "4. Test each of these functions with a list of integers"
   ]
  },
  {
   "cell_type": "code",
   "execution_count": 57,
   "id": "6856ee58",
   "metadata": {},
   "outputs": [],
   "source": [
    "#Number 1\n",
    "def floats_as_fraction_of_list_sum(list):\n",
    "    print([x/sum(my_list) for x in my_list])\n",
    "        \n",
    "    \n",
    "    "
   ]
  },
  {
   "cell_type": "code",
   "execution_count": 59,
   "id": "327d0c8d",
   "metadata": {},
   "outputs": [
    {
     "name": "stdout",
     "output_type": "stream",
     "text": [
      "[0.022222222222222223, 0.044444444444444446, 0.06666666666666667, 0.08888888888888889, 0.1111111111111111, 0.13333333333333333, 0.15555555555555556, 0.17777777777777778, 0.2]\n"
     ]
    }
   ],
   "source": [
    "floats_as_fraction_of_list_sum(my_list)"
   ]
  },
  {
   "cell_type": "code",
   "execution_count": 68,
   "id": "4885e055",
   "metadata": {},
   "outputs": [],
   "source": [
    "#Number 2\n",
    "def floats_as_fraction_of_list_sum_2_points(list):\n",
    "    new_list = ([x/sum(my_list) for x in my_list])\n",
    "    new_list = [round(x, 2) for x in new_list]\n",
    "    print(new_list)\n",
    "    "
   ]
  },
  {
   "cell_type": "code",
   "execution_count": 69,
   "id": "53b3b710",
   "metadata": {},
   "outputs": [
    {
     "name": "stdout",
     "output_type": "stream",
     "text": [
      "[0.02, 0.04, 0.07, 0.09, 0.11, 0.13, 0.16, 0.18, 0.2]\n"
     ]
    }
   ],
   "source": [
    "floats_as_fraction_of_list_sum_2_points(my_list)"
   ]
  },
  {
   "cell_type": "code",
   "execution_count": 70,
   "id": "fda5db1e",
   "metadata": {},
   "outputs": [],
   "source": [
    "#Number 3\n",
    "def floats_as_fraction_of_list_sum_b_points(list,b):\n",
    "    new_list = ([x/sum(my_list) for x in my_list])\n",
    "    new_list = [round(x, b) for x in new_list]\n",
    "    print(new_list)"
   ]
  },
  {
   "cell_type": "code",
   "execution_count": 72,
   "id": "15942810",
   "metadata": {},
   "outputs": [
    {
     "name": "stdout",
     "output_type": "stream",
     "text": [
      "[0.02, 0.04, 0.07, 0.09, 0.11, 0.13, 0.16, 0.18, 0.2]\n"
     ]
    }
   ],
   "source": [
    "floats_as_fraction_of_list_sum_b_points(my_list,2)"
   ]
  },
  {
   "cell_type": "markdown",
   "id": "17e43098",
   "metadata": {},
   "source": [
    "## Problem 4\n",
    "A prime number is any whole number greater than 1 that has no positive divisors besides 1 and itself. In other words, a prime number must be:\n",
    "1. an integer\n",
    "2. greater than 1\n",
    "3. divisible only by 1 and itself.\n",
    "\n",
    "Write a function is_prime(n) that accepts an argument `n` and returns `True` (boolean) if `n` is a prime number and `False` if n is not prime. For example, `is_prime(11)` should return `True` and `is_prime(12)` should return `False`.\n"
   ]
  },
  {
   "cell_type": "code",
   "execution_count": 88,
   "id": "7b43bc6c",
   "metadata": {},
   "outputs": [],
   "source": [
    "def is_prime(n): \n",
    "    if n > 1:\n",
    "        for x in range(2,n):   ##ensures its an int, and dividing numbers above 1\n",
    "            if (x % n) == 0:\n",
    "                return False\n",
    "        return True\n",
    "    else:\n",
    "        return False\n",
    "        "
   ]
  },
  {
   "cell_type": "code",
   "execution_count": 89,
   "id": "6a64b34c",
   "metadata": {},
   "outputs": [
    {
     "data": {
      "text/plain": [
       "True"
      ]
     },
     "execution_count": 89,
     "metadata": {},
     "output_type": "execute_result"
    }
   ],
   "source": [
    "is_prime(5)"
   ]
  },
  {
   "cell_type": "markdown",
   "id": "e556b42f",
   "metadata": {},
   "source": [
    "## Problem 5"
   ]
  },
  {
   "cell_type": "markdown",
   "id": "fd5f4463",
   "metadata": {},
   "source": [
    "1. Create a class called `Housing`, and add the following attributes to it:\n",
    "  - type\n",
    "  - area\n",
    "  - number of bedrooms\n",
    "  - value (price)\n",
    "  - year built.\n",
    "2. Create two instances of your class and populate their attributes (make 'em up)\n",
    "3. Create a method called `rent()` that calculates the estimated monthly rent for each house (assume that monthly rent is 0.4% of the value of the house)\n",
    "4. Print the rent for both instances."
   ]
  },
  {
   "cell_type": "code",
   "execution_count": 91,
   "id": "efa713df",
   "metadata": {},
   "outputs": [],
   "source": [
    "class Housing:\n",
    "    pass"
   ]
  },
  {
   "cell_type": "code",
   "execution_count": 95,
   "id": "0cc1da6e",
   "metadata": {},
   "outputs": [],
   "source": [
    "house_1 = Housing()\n",
    "house_2 = Housing()"
   ]
  },
  {
   "cell_type": "code",
   "execution_count": 158,
   "id": "e79f5a2f",
   "metadata": {},
   "outputs": [],
   "source": [
    "class Housing:\n",
    "    def __init__(self, type, area, number_of_bedrooms, value, year_built):\n",
    "        self.type = type\n",
    "        self.area = area\n",
    "        self.number_of_bedrooms = number_of_bedrooms\n",
    "        self.value = value\n",
    "        self.value = year_built\n",
    "    def rent(self):\n",
    "        return self.value * .04"
   ]
  },
  {
   "cell_type": "code",
   "execution_count": 167,
   "id": "ad6546a8",
   "metadata": {},
   "outputs": [],
   "source": [
    "house_1 = Housing(\"big\", \"3000 sq ft\", 5, 150000, 1954)\n",
    "house_2 = Housing(\"small\", \"1000 sq ft\", 1, 500000, 2000)"
   ]
  },
  {
   "cell_type": "code",
   "execution_count": 164,
   "id": "f5dcb21a",
   "metadata": {},
   "outputs": [],
   "source": [
    "\"\"\"house_1.type = \"big\"\n",
    "house_1.area = \"3000 sq ft\"\n",
    "house_1.number_of_bedrooms = 5\n",
    "house_1.value = 1500000\n",
    "house_1.year_built = 1954\n",
    "\n",
    "house_2.type = \"small\"\n",
    "house_2.area = \"1000 sq ft\"\n",
    "house_2.number_of_bedrooms = 1\n",
    "house_2.value = 500000\n",
    "house_2.year_built = 2000\n",
    "\"\"\"\n"
   ]
  },
  {
   "cell_type": "code",
   "execution_count": 165,
   "id": "88e7e930",
   "metadata": {},
   "outputs": [
    {
     "data": {
      "text/plain": [
       "'class Housing:\\n    def __init__(self, type, area, number_of_bedrooms, value, year_built):\\n        self.type = type\\n        self.area = area\\n        self.number_of_bedrooms = number_of_bedrooms\\n        self.value = value\\n        self.value = year_built\\n    def rent(self):\\n        return self.value * .04'"
      ]
     },
     "execution_count": 165,
     "metadata": {},
     "output_type": "execute_result"
    }
   ],
   "source": [
    "\"\"\"class Housing:\n",
    "    def __init__(self, type, area, number_of_bedrooms, value, year_built):\n",
    "        self.type = type\n",
    "        self.area = area\n",
    "        self.number_of_bedrooms = number_of_bedrooms\n",
    "        self.value = value\n",
    "        self.value = year_built\n",
    "    def rent(self):\n",
    "        return self.value * .04\"\"\""
   ]
  },
  {
   "cell_type": "code",
   "execution_count": 168,
   "id": "73864f9c",
   "metadata": {},
   "outputs": [
    {
     "data": {
      "text/plain": [
       "78.16"
      ]
     },
     "execution_count": 168,
     "metadata": {},
     "output_type": "execute_result"
    }
   ],
   "source": [
    "house_1.rent()"
   ]
  },
  {
   "cell_type": "code",
   "execution_count": null,
   "id": "94ebdb4f",
   "metadata": {},
   "outputs": [],
   "source": []
  }
 ],
 "metadata": {
  "kernelspec": {
   "display_name": "Python 3",
   "language": "python",
   "name": "python3"
  },
  "language_info": {
   "codemirror_mode": {
    "name": "ipython",
    "version": 3
   },
   "file_extension": ".py",
   "mimetype": "text/x-python",
   "name": "python",
   "nbconvert_exporter": "python",
   "pygments_lexer": "ipython3",
   "version": "3.8.8"
  },
  "toc": {
   "base_numbering": 1,
   "nav_menu": {},
   "number_sections": false,
   "sideBar": false,
   "skip_h1_title": true,
   "title_cell": "Table of Contents",
   "title_sidebar": "Contents",
   "toc_cell": false,
   "toc_position": {},
   "toc_section_display": true,
   "toc_window_display": false
  }
 },
 "nbformat": 4,
 "nbformat_minor": 5
}
