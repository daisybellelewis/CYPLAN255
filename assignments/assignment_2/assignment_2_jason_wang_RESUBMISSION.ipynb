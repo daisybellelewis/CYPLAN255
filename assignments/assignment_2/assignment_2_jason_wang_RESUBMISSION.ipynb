{
 "cells": [
  {
   "cell_type": "markdown",
   "id": "f96bdfc7",
   "metadata": {},
   "source": [
    "# Assignment 2 | Programming Logic\n",
    "\n",
    "Reminder: in all of the assignments this semester, the answer is not the only consideration, but also how you get to it. It's OK (suggested even!) to use the internet for help. But you _should_ be able to answer all of these questions using only the programming techniques you have learned in class and from the readings.\n",
    "\n",
    "A few keys for success:\n",
    "- Avoid manual data entry\n",
    "- Emphasize logic and clarity\n",
    "- Use comments, docstrings, and descriptive variable names\n",
    "- In general, less code is better. But if more lines of code makes your program easier to read or understand what its doing, then go for it."
   ]
  },
  {
   "cell_type": "markdown",
   "id": "1b896cc6-c6d2-4c82-8c47-94eecb0f863f",
   "metadata": {},
   "source": [
    "Jason Wang <br>\n",
    "11/13/22 <br>\n",
    "**hi Max~!**"
   ]
  },
  {
   "cell_type": "markdown",
   "id": "078a9000",
   "metadata": {},
   "source": [
    "## Problem 1 \n",
    "Write a Python program to count the number of even and odd numbers from a list of numbers. Test your code by running it on a list of integers from 1 to 9. No need to make this a function unless you want to."
   ]
  },
  {
   "cell_type": "code",
   "execution_count": 6,
   "id": "8eb937c5",
   "metadata": {
    "tags": []
   },
   "outputs": [],
   "source": [
    "def EvenOddCounter(listylist):\n",
    "    \"\"\"\n",
    "    input: list of numbers (list)\n",
    "    output: number of even and odd numbers (int)\n",
    "    \"\"\"\n",
    "    even = 0\n",
    "    odd = 0\n",
    "    for i in listylist:\n",
    "        if i%2 == 0:\n",
    "            even += 1\n",
    "        else:\n",
    "            odd += 1\n",
    "    print('even numbers:',even)\n",
    "    print('odd numbers:',odd)\n",
    "    "
   ]
  },
  {
   "cell_type": "code",
   "execution_count": 13,
   "id": "b65ba7ac-f859-4aa7-bd97-32b5969948a2",
   "metadata": {},
   "outputs": [
    {
     "name": "stdout",
     "output_type": "stream",
     "text": [
      "even numbers: 5\n",
      "odd numbers: 5\n"
     ]
    }
   ],
   "source": [
    "numberlist = [0, 1, 2, 3, 4, 5, 6, 7, 8, 9]\n",
    "EvenOddCounter(numberlist)"
   ]
  },
  {
   "cell_type": "markdown",
   "id": "db9df1a9",
   "metadata": {},
   "source": [
    "## Problem 2\n",
    "Write a Python function that takes a list of numbers and returns a list containing only the even numbers from the original list. Test your function by running it on a list of integers from 1 to 9."
   ]
  },
  {
   "cell_type": "code",
   "execution_count": 14,
   "id": "45fcfd00",
   "metadata": {},
   "outputs": [],
   "source": [
    "def OddSerialKiller(listylist):\n",
    "    \"\"\"\n",
    "    MURDERS ODD NUMBERS\n",
    "    \"\"\"\n",
    "    alive = []\n",
    "    for i in listylist:\n",
    "        if i%2 == 0:\n",
    "            alive.append(i)\n",
    "    return alive"
   ]
  },
  {
   "cell_type": "code",
   "execution_count": 18,
   "id": "c0c537b0-ebbf-4ed6-9d3f-219bbbd8ed47",
   "metadata": {},
   "outputs": [
    {
     "data": {
      "text/plain": [
       "[0, 2, 4, 6, 8]"
      ]
     },
     "execution_count": 18,
     "metadata": {},
     "output_type": "execute_result"
    }
   ],
   "source": [
    "numberlist = [0, 1, 2, 3, 4, 5, 6, 7, 8, 9]\n",
    "OddSerialKiller(numberlist)"
   ]
  },
  {
   "cell_type": "markdown",
   "id": "6a6f4ef0",
   "metadata": {},
   "source": [
    "## Problem 3\n",
    "\n",
    "1. Create a function that accepts a list of integers as an argument and returns a list of floats which equals each number as a fraction of the sum of all the items in the original list.\n",
    "\n",
    "2. Next, create a second function which is the same as the first, but limit each number in the output list to two decimals.\n",
    "\n",
    "3. Create another function which builds on the previous one by allowing a \"user\" pass in an argument that defines the number of decimal places to use in the output list.\n",
    "\n",
    "4. Test each of these functions with a list of integers"
   ]
  },
  {
   "cell_type": "code",
   "execution_count": 26,
   "id": "6856ee58",
   "metadata": {
    "tags": []
   },
   "outputs": [],
   "source": [
    "def DivideFloat(listylist):\n",
    "    \"\"\"\n",
    "    input: list of numbers (list)\n",
    "    output: list divided my sum of shit in float (list)\n",
    "    \"\"\"\n",
    "    total = sum(listylist)\n",
    "    listerlist = [float(i/total) for i in listylist]\n",
    "    return listerlist"
   ]
  },
  {
   "cell_type": "code",
   "execution_count": 27,
   "id": "8ff4816a-6a7f-4e41-a9c7-433c744e4cb9",
   "metadata": {},
   "outputs": [
    {
     "data": {
      "text/plain": [
       "[0.0,\n",
       " 0.022222222222222223,\n",
       " 0.044444444444444446,\n",
       " 0.06666666666666667,\n",
       " 0.08888888888888889,\n",
       " 0.1111111111111111,\n",
       " 0.13333333333333333,\n",
       " 0.15555555555555556,\n",
       " 0.17777777777777778,\n",
       " 0.2]"
      ]
     },
     "execution_count": 27,
     "metadata": {},
     "output_type": "execute_result"
    }
   ],
   "source": [
    "numberlist = [0, 1, 2, 3, 4, 5, 6, 7, 8, 9]\n",
    "DivideFloat(numberlist)"
   ]
  },
  {
   "cell_type": "code",
   "execution_count": 28,
   "id": "d483ffeb-7182-4603-b086-bdebed326c0c",
   "metadata": {},
   "outputs": [],
   "source": [
    "def DivideFloatAgain(listylist):\n",
    "    \"\"\"\n",
    "    input: list of numbers (list)\n",
    "    output: list divided my sum of shit in float (list)\n",
    "    \"\"\"\n",
    "    total = sum(listylist)\n",
    "    listerlist = [round(float(i/total),2) for i in listylist]\n",
    "    return listerlist"
   ]
  },
  {
   "cell_type": "code",
   "execution_count": 29,
   "id": "8dee1ece-17bc-4bbf-8118-020821a0155d",
   "metadata": {},
   "outputs": [
    {
     "data": {
      "text/plain": [
       "[0.0, 0.02, 0.04, 0.07, 0.09, 0.11, 0.13, 0.16, 0.18, 0.2]"
      ]
     },
     "execution_count": 29,
     "metadata": {},
     "output_type": "execute_result"
    }
   ],
   "source": [
    "numberlist = [0, 1, 2, 3, 4, 5, 6, 7, 8, 9]\n",
    "DivideFloatAgain(numberlist)"
   ]
  },
  {
   "cell_type": "code",
   "execution_count": 30,
   "id": "d976185e-9b14-45f9-af74-bd3ad8e600be",
   "metadata": {},
   "outputs": [],
   "source": [
    "def DivideFloatAgainAgain(listylist, spaces):\n",
    "    \"\"\"\n",
    "    input: list of numbers (list)\n",
    "    output: list divided my sum of shit in float (list)\n",
    "    \"\"\"\n",
    "    total = sum(listylist)\n",
    "    listerlist = [round(float(i/total),spaces) for i in listylist]\n",
    "    return listerlist"
   ]
  },
  {
   "cell_type": "code",
   "execution_count": 31,
   "id": "a663e9d6-1418-46e3-96ba-d02bc368a80a",
   "metadata": {},
   "outputs": [
    {
     "data": {
      "text/plain": [
       "[0.0, 0.022, 0.044, 0.067, 0.089, 0.111, 0.133, 0.156, 0.178, 0.2]"
      ]
     },
     "execution_count": 31,
     "metadata": {},
     "output_type": "execute_result"
    }
   ],
   "source": [
    "numberlist = [0, 1, 2, 3, 4, 5, 6, 7, 8, 9]\n",
    "DivideFloatAgainAgain(numberlist,3)"
   ]
  },
  {
   "cell_type": "markdown",
   "id": "17e43098",
   "metadata": {},
   "source": [
    "## Problem 4\n",
    "A prime number is any whole number greater than 1 that has no positive divisors besides 1 and itself. In other words, a prime number must be:\n",
    "1. an integer\n",
    "2. greater than 1\n",
    "3. divisible only by 1 and itself.\n",
    "\n",
    "Write a function is_prime(n) that accepts an argument `n` and returns `True` (boolean) if `n` is a prime number and `False` if n is not prime. For example, `is_prime(11)` should return `True` and `is_prime(12)` should return `False`.\n"
   ]
  },
  {
   "cell_type": "code",
   "execution_count": 66,
   "id": "7b43bc6c",
   "metadata": {
    "tags": []
   },
   "outputs": [],
   "source": [
    "def is_prime(n):\n",
    "    \"\"\"\n",
    "    input: int\n",
    "    return: bool of if it's a prime number\n",
    "    \"\"\"\n",
    "    falseflag = 0\n",
    "    for i in range(2,n):\n",
    "        if n%i == 0:\n",
    "            falseflag += 1\n",
    "    if falseflag > 0:\n",
    "        return False\n",
    "    else:\n",
    "        return True"
   ]
  },
  {
   "cell_type": "code",
   "execution_count": 70,
   "id": "9d197010-ca1b-4563-a312-d801d8715daa",
   "metadata": {},
   "outputs": [
    {
     "name": "stdout",
     "output_type": "stream",
     "text": [
      "11: True\n",
      "12: False\n",
      "21577: True\n"
     ]
    }
   ],
   "source": [
    "print('11:',is_prime(11))\n",
    "print('12:',is_prime(12))\n",
    "print('21577:',is_prime(21577))"
   ]
  },
  {
   "cell_type": "markdown",
   "id": "e556b42f",
   "metadata": {},
   "source": [
    "## Problem 5"
   ]
  },
  {
   "cell_type": "markdown",
   "id": "fd5f4463",
   "metadata": {},
   "source": [
    "1. Create a class called `Housing`, and add the following attributes to it:\n",
    "  - type\n",
    "  - area\n",
    "  - number of bedrooms\n",
    "  - value (price)\n",
    "  - year built.\n",
    "2. Create two instances of your class and populate their attributes (make 'em up)\n",
    "3. Create a method called `rent()` that calculates the estimated monthly rent for each house (assume that monthly rent is 0.4% of the value of the house)\n",
    "4. Print the rent for both instances."
   ]
  },
  {
   "cell_type": "code",
   "execution_count": 84,
   "id": "efa713df",
   "metadata": {
    "tags": []
   },
   "outputs": [],
   "source": [
    "class Housing:\n",
    "    def __init__(self, type0, area, numberbedrooms, value, yearbuilt):\n",
    "        self.type = type0\n",
    "        self.area = area\n",
    "        self.numberbedrooms = numberbedrooms\n",
    "        self.value = value\n",
    "        self.yearbuilt = yearbuilt\n",
    "    \n",
    "    def rent(self):\n",
    "        return self.value*0.004"
   ]
  },
  {
   "cell_type": "code",
   "execution_count": 85,
   "id": "b29592e0-279b-44b3-a1f9-03763eb4f007",
   "metadata": {},
   "outputs": [],
   "source": [
    "trumphotel = Housing('hotel', 'alot of square feet', 300, 500000000, 2010)\n",
    "JasonsWoodenShack = Housing('Sad', 10, -1, 50, 2022)"
   ]
  },
  {
   "cell_type": "code",
   "execution_count": 86,
   "id": "38ce4ff9-7d72-4887-9199-0f79b1c24b13",
   "metadata": {},
   "outputs": [
    {
     "name": "stdout",
     "output_type": "stream",
     "text": [
      "trumphotel rent: 2000000.0\n",
      "Jason's Wooden Shack rent: 0.2\n"
     ]
    }
   ],
   "source": [
    "print('trumphotel rent:', trumphotel.rent())\n",
    "print('Jason\\'s Wooden Shack rent:', JasonsWoodenShack.rent())"
   ]
  }
 ],
 "metadata": {
  "kernelspec": {
   "display_name": "Python 3",
   "language": "python",
   "name": "python3"
  },
  "language_info": {
   "codemirror_mode": {
    "name": "ipython",
    "version": 3
   },
   "file_extension": ".py",
   "mimetype": "text/x-python",
   "name": "python",
   "nbconvert_exporter": "python",
   "pygments_lexer": "ipython3",
   "version": "3.7.6"
  },
  "toc": {
   "base_numbering": 1,
   "nav_menu": {},
   "number_sections": false,
   "sideBar": false,
   "skip_h1_title": true,
   "title_cell": "Table of Contents",
   "title_sidebar": "Contents",
   "toc_cell": false,
   "toc_position": {},
   "toc_section_display": true,
   "toc_window_display": false
  }
 },
 "nbformat": 4,
 "nbformat_minor": 5
}
